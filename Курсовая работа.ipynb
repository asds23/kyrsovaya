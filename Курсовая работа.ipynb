{
 "cells": [
  {
   "cell_type": "code",
   "execution_count": 242,
   "id": "8faa982a",
   "metadata": {},
   "outputs": [],
   "source": [
    "import pandas as pd\n",
    "\n",
    "\n",
    "\n",
    "import plotly.express as px"
   ]
  },
  {
   "cell_type": "code",
   "execution_count": 243,
   "id": "a8907586",
   "metadata": {},
   "outputs": [],
   "source": [
    "df = pd.read_csv('C:\\\\Users\\\\nikly\\\\OneDrive\\\\Документы\\kurs\\\\Global_YouTube_Statistics.csv', encoding=\"latin-1\") "
   ]
  },
  {
   "cell_type": "code",
   "execution_count": 244,
   "id": "0ed9fd1f",
   "metadata": {},
   "outputs": [
    {
     "data": {
      "text/html": [
       "<div>\n",
       "<style scoped>\n",
       "    .dataframe tbody tr th:only-of-type {\n",
       "        vertical-align: middle;\n",
       "    }\n",
       "\n",
       "    .dataframe tbody tr th {\n",
       "        vertical-align: top;\n",
       "    }\n",
       "\n",
       "    .dataframe thead th {\n",
       "        text-align: right;\n",
       "    }\n",
       "</style>\n",
       "<table border=\"1\" class=\"dataframe\">\n",
       "  <thead>\n",
       "    <tr style=\"text-align: right;\">\n",
       "      <th></th>\n",
       "      <th>rank</th>\n",
       "      <th>Youtuber</th>\n",
       "      <th>subscribers</th>\n",
       "      <th>video views</th>\n",
       "      <th>category</th>\n",
       "      <th>Title</th>\n",
       "      <th>uploads</th>\n",
       "      <th>Country</th>\n",
       "      <th>Abbreviation</th>\n",
       "      <th>channel_type</th>\n",
       "      <th>...</th>\n",
       "      <th>subscribers_for_last_30_days</th>\n",
       "      <th>created_year</th>\n",
       "      <th>created_month</th>\n",
       "      <th>created_date</th>\n",
       "      <th>Gross tertiary education enrollment (%)</th>\n",
       "      <th>Population</th>\n",
       "      <th>Unemployment rate</th>\n",
       "      <th>Urban_population</th>\n",
       "      <th>Latitude</th>\n",
       "      <th>Longitude</th>\n",
       "    </tr>\n",
       "  </thead>\n",
       "  <tbody>\n",
       "    <tr>\n",
       "      <th>0</th>\n",
       "      <td>1</td>\n",
       "      <td>T-Series</td>\n",
       "      <td>245000000</td>\n",
       "      <td>2.280000e+11</td>\n",
       "      <td>Music</td>\n",
       "      <td>T-Series</td>\n",
       "      <td>20082</td>\n",
       "      <td>India</td>\n",
       "      <td>IN</td>\n",
       "      <td>Music</td>\n",
       "      <td>...</td>\n",
       "      <td>2000000.0</td>\n",
       "      <td>2006.0</td>\n",
       "      <td>Mar</td>\n",
       "      <td>13.0</td>\n",
       "      <td>28.1</td>\n",
       "      <td>1.366418e+09</td>\n",
       "      <td>5.36</td>\n",
       "      <td>471031528.0</td>\n",
       "      <td>20.593684</td>\n",
       "      <td>78.962880</td>\n",
       "    </tr>\n",
       "    <tr>\n",
       "      <th>1</th>\n",
       "      <td>2</td>\n",
       "      <td>YouTube Movies</td>\n",
       "      <td>170000000</td>\n",
       "      <td>0.000000e+00</td>\n",
       "      <td>Film &amp; Animation</td>\n",
       "      <td>youtubemovies</td>\n",
       "      <td>1</td>\n",
       "      <td>United States</td>\n",
       "      <td>US</td>\n",
       "      <td>Games</td>\n",
       "      <td>...</td>\n",
       "      <td>NaN</td>\n",
       "      <td>2006.0</td>\n",
       "      <td>Mar</td>\n",
       "      <td>5.0</td>\n",
       "      <td>88.2</td>\n",
       "      <td>3.282395e+08</td>\n",
       "      <td>14.70</td>\n",
       "      <td>270663028.0</td>\n",
       "      <td>37.090240</td>\n",
       "      <td>-95.712891</td>\n",
       "    </tr>\n",
       "    <tr>\n",
       "      <th>2</th>\n",
       "      <td>3</td>\n",
       "      <td>MrBeast</td>\n",
       "      <td>166000000</td>\n",
       "      <td>2.836884e+10</td>\n",
       "      <td>Entertainment</td>\n",
       "      <td>MrBeast</td>\n",
       "      <td>741</td>\n",
       "      <td>United States</td>\n",
       "      <td>US</td>\n",
       "      <td>Entertainment</td>\n",
       "      <td>...</td>\n",
       "      <td>8000000.0</td>\n",
       "      <td>2012.0</td>\n",
       "      <td>Feb</td>\n",
       "      <td>20.0</td>\n",
       "      <td>88.2</td>\n",
       "      <td>3.282395e+08</td>\n",
       "      <td>14.70</td>\n",
       "      <td>270663028.0</td>\n",
       "      <td>37.090240</td>\n",
       "      <td>-95.712891</td>\n",
       "    </tr>\n",
       "    <tr>\n",
       "      <th>3</th>\n",
       "      <td>4</td>\n",
       "      <td>Cocomelon - Nursery Rhymes</td>\n",
       "      <td>162000000</td>\n",
       "      <td>1.640000e+11</td>\n",
       "      <td>Education</td>\n",
       "      <td>Cocomelon - Nursery Rhymes</td>\n",
       "      <td>966</td>\n",
       "      <td>United States</td>\n",
       "      <td>US</td>\n",
       "      <td>Education</td>\n",
       "      <td>...</td>\n",
       "      <td>1000000.0</td>\n",
       "      <td>2006.0</td>\n",
       "      <td>Sep</td>\n",
       "      <td>1.0</td>\n",
       "      <td>88.2</td>\n",
       "      <td>3.282395e+08</td>\n",
       "      <td>14.70</td>\n",
       "      <td>270663028.0</td>\n",
       "      <td>37.090240</td>\n",
       "      <td>-95.712891</td>\n",
       "    </tr>\n",
       "    <tr>\n",
       "      <th>4</th>\n",
       "      <td>5</td>\n",
       "      <td>SET India</td>\n",
       "      <td>159000000</td>\n",
       "      <td>1.480000e+11</td>\n",
       "      <td>Shows</td>\n",
       "      <td>SET India</td>\n",
       "      <td>116536</td>\n",
       "      <td>India</td>\n",
       "      <td>IN</td>\n",
       "      <td>Entertainment</td>\n",
       "      <td>...</td>\n",
       "      <td>1000000.0</td>\n",
       "      <td>2006.0</td>\n",
       "      <td>Sep</td>\n",
       "      <td>20.0</td>\n",
       "      <td>28.1</td>\n",
       "      <td>1.366418e+09</td>\n",
       "      <td>5.36</td>\n",
       "      <td>471031528.0</td>\n",
       "      <td>20.593684</td>\n",
       "      <td>78.962880</td>\n",
       "    </tr>\n",
       "    <tr>\n",
       "      <th>...</th>\n",
       "      <td>...</td>\n",
       "      <td>...</td>\n",
       "      <td>...</td>\n",
       "      <td>...</td>\n",
       "      <td>...</td>\n",
       "      <td>...</td>\n",
       "      <td>...</td>\n",
       "      <td>...</td>\n",
       "      <td>...</td>\n",
       "      <td>...</td>\n",
       "      <td>...</td>\n",
       "      <td>...</td>\n",
       "      <td>...</td>\n",
       "      <td>...</td>\n",
       "      <td>...</td>\n",
       "      <td>...</td>\n",
       "      <td>...</td>\n",
       "      <td>...</td>\n",
       "      <td>...</td>\n",
       "      <td>...</td>\n",
       "      <td>...</td>\n",
       "    </tr>\n",
       "    <tr>\n",
       "      <th>990</th>\n",
       "      <td>991</td>\n",
       "      <td>Natan por Aï¿</td>\n",
       "      <td>12300000</td>\n",
       "      <td>9.029610e+09</td>\n",
       "      <td>Sports</td>\n",
       "      <td>Natan por Aï¿</td>\n",
       "      <td>1200</td>\n",
       "      <td>Brazil</td>\n",
       "      <td>BR</td>\n",
       "      <td>Entertainment</td>\n",
       "      <td>...</td>\n",
       "      <td>700000.0</td>\n",
       "      <td>2017.0</td>\n",
       "      <td>Feb</td>\n",
       "      <td>12.0</td>\n",
       "      <td>51.3</td>\n",
       "      <td>2.125594e+08</td>\n",
       "      <td>12.08</td>\n",
       "      <td>183241641.0</td>\n",
       "      <td>-14.235004</td>\n",
       "      <td>-51.925280</td>\n",
       "    </tr>\n",
       "    <tr>\n",
       "      <th>991</th>\n",
       "      <td>992</td>\n",
       "      <td>Free Fire India Official</td>\n",
       "      <td>12300000</td>\n",
       "      <td>1.674410e+09</td>\n",
       "      <td>People &amp; Blogs</td>\n",
       "      <td>Free Fire India Official</td>\n",
       "      <td>1500</td>\n",
       "      <td>India</td>\n",
       "      <td>IN</td>\n",
       "      <td>Games</td>\n",
       "      <td>...</td>\n",
       "      <td>300000.0</td>\n",
       "      <td>2018.0</td>\n",
       "      <td>Sep</td>\n",
       "      <td>14.0</td>\n",
       "      <td>28.1</td>\n",
       "      <td>1.366418e+09</td>\n",
       "      <td>5.36</td>\n",
       "      <td>471031528.0</td>\n",
       "      <td>20.593684</td>\n",
       "      <td>78.962880</td>\n",
       "    </tr>\n",
       "    <tr>\n",
       "      <th>992</th>\n",
       "      <td>993</td>\n",
       "      <td>Panda</td>\n",
       "      <td>12300000</td>\n",
       "      <td>2.214684e+09</td>\n",
       "      <td>NaN</td>\n",
       "      <td>HybridPanda</td>\n",
       "      <td>2452</td>\n",
       "      <td>United Kingdom</td>\n",
       "      <td>GB</td>\n",
       "      <td>Games</td>\n",
       "      <td>...</td>\n",
       "      <td>1000.0</td>\n",
       "      <td>2006.0</td>\n",
       "      <td>Sep</td>\n",
       "      <td>11.0</td>\n",
       "      <td>60.0</td>\n",
       "      <td>6.683440e+07</td>\n",
       "      <td>3.85</td>\n",
       "      <td>55908316.0</td>\n",
       "      <td>55.378051</td>\n",
       "      <td>-3.435973</td>\n",
       "    </tr>\n",
       "    <tr>\n",
       "      <th>993</th>\n",
       "      <td>994</td>\n",
       "      <td>RobTopGames</td>\n",
       "      <td>12300000</td>\n",
       "      <td>3.741235e+08</td>\n",
       "      <td>Gaming</td>\n",
       "      <td>RobTopGames</td>\n",
       "      <td>39</td>\n",
       "      <td>Sweden</td>\n",
       "      <td>SE</td>\n",
       "      <td>Games</td>\n",
       "      <td>...</td>\n",
       "      <td>100000.0</td>\n",
       "      <td>2012.0</td>\n",
       "      <td>May</td>\n",
       "      <td>9.0</td>\n",
       "      <td>67.0</td>\n",
       "      <td>1.028545e+07</td>\n",
       "      <td>6.48</td>\n",
       "      <td>9021165.0</td>\n",
       "      <td>60.128161</td>\n",
       "      <td>18.643501</td>\n",
       "    </tr>\n",
       "    <tr>\n",
       "      <th>994</th>\n",
       "      <td>995</td>\n",
       "      <td>Make Joke Of</td>\n",
       "      <td>12300000</td>\n",
       "      <td>2.129774e+09</td>\n",
       "      <td>Comedy</td>\n",
       "      <td>Make Joke Of</td>\n",
       "      <td>62</td>\n",
       "      <td>India</td>\n",
       "      <td>IN</td>\n",
       "      <td>Comedy</td>\n",
       "      <td>...</td>\n",
       "      <td>100000.0</td>\n",
       "      <td>2017.0</td>\n",
       "      <td>Aug</td>\n",
       "      <td>1.0</td>\n",
       "      <td>28.1</td>\n",
       "      <td>1.366418e+09</td>\n",
       "      <td>5.36</td>\n",
       "      <td>471031528.0</td>\n",
       "      <td>20.593684</td>\n",
       "      <td>78.962880</td>\n",
       "    </tr>\n",
       "  </tbody>\n",
       "</table>\n",
       "<p>995 rows × 28 columns</p>\n",
       "</div>"
      ],
      "text/plain": [
       "     rank                    Youtuber  subscribers   video views  \\\n",
       "0       1                    T-Series    245000000  2.280000e+11   \n",
       "1       2              YouTube Movies    170000000  0.000000e+00   \n",
       "2       3                     MrBeast    166000000  2.836884e+10   \n",
       "3       4  Cocomelon - Nursery Rhymes    162000000  1.640000e+11   \n",
       "4       5                   SET India    159000000  1.480000e+11   \n",
       "..    ...                         ...          ...           ...   \n",
       "990   991               Natan por Aï¿     12300000  9.029610e+09   \n",
       "991   992    Free Fire India Official     12300000  1.674410e+09   \n",
       "992   993                       Panda     12300000  2.214684e+09   \n",
       "993   994                 RobTopGames     12300000  3.741235e+08   \n",
       "994   995                Make Joke Of     12300000  2.129774e+09   \n",
       "\n",
       "             category                       Title  uploads         Country  \\\n",
       "0               Music                    T-Series    20082           India   \n",
       "1    Film & Animation               youtubemovies        1   United States   \n",
       "2       Entertainment                     MrBeast      741   United States   \n",
       "3           Education  Cocomelon - Nursery Rhymes      966   United States   \n",
       "4               Shows                   SET India   116536           India   \n",
       "..                ...                         ...      ...             ...   \n",
       "990            Sports               Natan por Aï¿     1200          Brazil   \n",
       "991    People & Blogs    Free Fire India Official     1500           India   \n",
       "992               NaN                 HybridPanda     2452  United Kingdom   \n",
       "993            Gaming                 RobTopGames       39          Sweden   \n",
       "994            Comedy                Make Joke Of       62           India   \n",
       "\n",
       "    Abbreviation   channel_type  ...  subscribers_for_last_30_days  \\\n",
       "0             IN          Music  ...                     2000000.0   \n",
       "1             US          Games  ...                           NaN   \n",
       "2             US  Entertainment  ...                     8000000.0   \n",
       "3             US      Education  ...                     1000000.0   \n",
       "4             IN  Entertainment  ...                     1000000.0   \n",
       "..           ...            ...  ...                           ...   \n",
       "990           BR  Entertainment  ...                      700000.0   \n",
       "991           IN          Games  ...                      300000.0   \n",
       "992           GB          Games  ...                        1000.0   \n",
       "993           SE          Games  ...                      100000.0   \n",
       "994           IN         Comedy  ...                      100000.0   \n",
       "\n",
       "     created_year  created_month  created_date  \\\n",
       "0          2006.0            Mar          13.0   \n",
       "1          2006.0            Mar           5.0   \n",
       "2          2012.0            Feb          20.0   \n",
       "3          2006.0            Sep           1.0   \n",
       "4          2006.0            Sep          20.0   \n",
       "..            ...            ...           ...   \n",
       "990        2017.0            Feb          12.0   \n",
       "991        2018.0            Sep          14.0   \n",
       "992        2006.0            Sep          11.0   \n",
       "993        2012.0            May           9.0   \n",
       "994        2017.0            Aug           1.0   \n",
       "\n",
       "     Gross tertiary education enrollment (%)    Population  Unemployment rate  \\\n",
       "0                                       28.1  1.366418e+09               5.36   \n",
       "1                                       88.2  3.282395e+08              14.70   \n",
       "2                                       88.2  3.282395e+08              14.70   \n",
       "3                                       88.2  3.282395e+08              14.70   \n",
       "4                                       28.1  1.366418e+09               5.36   \n",
       "..                                       ...           ...                ...   \n",
       "990                                     51.3  2.125594e+08              12.08   \n",
       "991                                     28.1  1.366418e+09               5.36   \n",
       "992                                     60.0  6.683440e+07               3.85   \n",
       "993                                     67.0  1.028545e+07               6.48   \n",
       "994                                     28.1  1.366418e+09               5.36   \n",
       "\n",
       "     Urban_population   Latitude  Longitude  \n",
       "0         471031528.0  20.593684  78.962880  \n",
       "1         270663028.0  37.090240 -95.712891  \n",
       "2         270663028.0  37.090240 -95.712891  \n",
       "3         270663028.0  37.090240 -95.712891  \n",
       "4         471031528.0  20.593684  78.962880  \n",
       "..                ...        ...        ...  \n",
       "990       183241641.0 -14.235004 -51.925280  \n",
       "991       471031528.0  20.593684  78.962880  \n",
       "992        55908316.0  55.378051  -3.435973  \n",
       "993         9021165.0  60.128161  18.643501  \n",
       "994       471031528.0  20.593684  78.962880  \n",
       "\n",
       "[995 rows x 28 columns]"
      ]
     },
     "execution_count": 244,
     "metadata": {},
     "output_type": "execute_result"
    }
   ],
   "source": [
    "df"
   ]
  },
  {
   "cell_type": "code",
   "execution_count": 245,
   "id": "6750c55b",
   "metadata": {},
   "outputs": [
    {
     "data": {
      "text/plain": [
       "rank                                         0\n",
       "Youtuber                                     0\n",
       "subscribers                                  0\n",
       "video views                                  0\n",
       "category                                    46\n",
       "Title                                        0\n",
       "uploads                                      0\n",
       "Country                                    122\n",
       "Abbreviation                               122\n",
       "channel_type                                30\n",
       "video_views_rank                             1\n",
       "country_rank                               116\n",
       "channel_type_rank                           33\n",
       "video_views_for_the_last_30_days            56\n",
       "lowest_monthly_earnings                      0\n",
       "highest_monthly_earnings                     0\n",
       "lowest_yearly_earnings                       0\n",
       "highest_yearly_earnings                      0\n",
       "subscribers_for_last_30_days               337\n",
       "created_year                                 5\n",
       "created_month                                5\n",
       "created_date                                 5\n",
       "Gross tertiary education enrollment (%)    123\n",
       "Population                                 123\n",
       "Unemployment rate                          123\n",
       "Urban_population                           123\n",
       "Latitude                                   123\n",
       "Longitude                                  123\n",
       "dtype: int64"
      ]
     },
     "execution_count": 245,
     "metadata": {},
     "output_type": "execute_result"
    }
   ],
   "source": [
    "df.isnull().sum()"
   ]
  },
  {
   "cell_type": "markdown",
   "id": "09092196",
   "metadata": {},
   "source": [
    "Видими, что наш датасет имеет null значения "
   ]
  },
  {
   "cell_type": "code",
   "execution_count": 246,
   "id": "5bfa697d",
   "metadata": {},
   "outputs": [],
   "source": [
    "df = df.dropna()"
   ]
  },
  {
   "cell_type": "code",
   "execution_count": 247,
   "id": "8ddb7058",
   "metadata": {},
   "outputs": [
    {
     "data": {
      "text/plain": [
       "rank                                       0\n",
       "Youtuber                                   0\n",
       "subscribers                                0\n",
       "video views                                0\n",
       "category                                   0\n",
       "Title                                      0\n",
       "uploads                                    0\n",
       "Country                                    0\n",
       "Abbreviation                               0\n",
       "channel_type                               0\n",
       "video_views_rank                           0\n",
       "country_rank                               0\n",
       "channel_type_rank                          0\n",
       "video_views_for_the_last_30_days           0\n",
       "lowest_monthly_earnings                    0\n",
       "highest_monthly_earnings                   0\n",
       "lowest_yearly_earnings                     0\n",
       "highest_yearly_earnings                    0\n",
       "subscribers_for_last_30_days               0\n",
       "created_year                               0\n",
       "created_month                              0\n",
       "created_date                               0\n",
       "Gross tertiary education enrollment (%)    0\n",
       "Population                                 0\n",
       "Unemployment rate                          0\n",
       "Urban_population                           0\n",
       "Latitude                                   0\n",
       "Longitude                                  0\n",
       "dtype: int64"
      ]
     },
     "execution_count": 247,
     "metadata": {},
     "output_type": "execute_result"
    }
   ],
   "source": [
    "df.isnull().sum()"
   ]
  },
  {
   "cell_type": "markdown",
   "id": "a1af98bc",
   "metadata": {},
   "source": [
    "Очистили наши данные от нулл значений"
   ]
  },
  {
   "cell_type": "code",
   "execution_count": 248,
   "id": "b1ff6c57",
   "metadata": {},
   "outputs": [
    {
     "data": {
      "text/html": [
       "<div>\n",
       "<style scoped>\n",
       "    .dataframe tbody tr th:only-of-type {\n",
       "        vertical-align: middle;\n",
       "    }\n",
       "\n",
       "    .dataframe tbody tr th {\n",
       "        vertical-align: top;\n",
       "    }\n",
       "\n",
       "    .dataframe thead th {\n",
       "        text-align: right;\n",
       "    }\n",
       "</style>\n",
       "<table border=\"1\" class=\"dataframe\">\n",
       "  <thead>\n",
       "    <tr style=\"text-align: right;\">\n",
       "      <th></th>\n",
       "      <th>rank</th>\n",
       "      <th>Youtuber</th>\n",
       "      <th>subscribers</th>\n",
       "      <th>video views</th>\n",
       "      <th>category</th>\n",
       "      <th>Title</th>\n",
       "      <th>uploads</th>\n",
       "      <th>Country</th>\n",
       "      <th>Abbreviation</th>\n",
       "      <th>channel_type</th>\n",
       "      <th>...</th>\n",
       "      <th>subscribers_for_last_30_days</th>\n",
       "      <th>created_year</th>\n",
       "      <th>created_month</th>\n",
       "      <th>created_date</th>\n",
       "      <th>Gross tertiary education enrollment (%)</th>\n",
       "      <th>Population</th>\n",
       "      <th>Unemployment rate</th>\n",
       "      <th>Urban_population</th>\n",
       "      <th>Latitude</th>\n",
       "      <th>Longitude</th>\n",
       "    </tr>\n",
       "  </thead>\n",
       "  <tbody>\n",
       "    <tr>\n",
       "      <th>101</th>\n",
       "      <td>102</td>\n",
       "      <td>YouTube</td>\n",
       "      <td>36300000</td>\n",
       "      <td>3.010785e+09</td>\n",
       "      <td>News &amp; Politics</td>\n",
       "      <td>YouTube</td>\n",
       "      <td>744</td>\n",
       "      <td>United States</td>\n",
       "      <td>US</td>\n",
       "      <td>Entertainment</td>\n",
       "      <td>...</td>\n",
       "      <td>300000.0</td>\n",
       "      <td>1970.0</td>\n",
       "      <td>Jan</td>\n",
       "      <td>1.0</td>\n",
       "      <td>88.2</td>\n",
       "      <td>328239523.0</td>\n",
       "      <td>14.7</td>\n",
       "      <td>270663028.0</td>\n",
       "      <td>37.09024</td>\n",
       "      <td>-95.712891</td>\n",
       "    </tr>\n",
       "  </tbody>\n",
       "</table>\n",
       "<p>1 rows × 28 columns</p>\n",
       "</div>"
      ],
      "text/plain": [
       "     rank Youtuber  subscribers   video views         category    Title  \\\n",
       "101   102  YouTube     36300000  3.010785e+09  News & Politics  YouTube   \n",
       "\n",
       "     uploads        Country Abbreviation   channel_type  ...  \\\n",
       "101      744  United States           US  Entertainment  ...   \n",
       "\n",
       "     subscribers_for_last_30_days  created_year  created_month  created_date  \\\n",
       "101                      300000.0        1970.0            Jan           1.0   \n",
       "\n",
       "     Gross tertiary education enrollment (%)   Population  Unemployment rate  \\\n",
       "101                                     88.2  328239523.0               14.7   \n",
       "\n",
       "     Urban_population  Latitude  Longitude  \n",
       "101       270663028.0  37.09024 -95.712891  \n",
       "\n",
       "[1 rows x 28 columns]"
      ]
     },
     "execution_count": 248,
     "metadata": {},
     "output_type": "execute_result"
    }
   ],
   "source": [
    "df[df['created_year'] == 1970] # Пробегая по данным я увидел что у нас есть аномалия\n",
    "# так как ютуб был создан в 2005 году, избавимся от этого столбца"
   ]
  },
  {
   "cell_type": "code",
   "execution_count": 249,
   "id": "ce660a19",
   "metadata": {},
   "outputs": [
    {
     "name": "stderr",
     "output_type": "stream",
     "text": [
      "C:\\Users\\nikly\\AppData\\Local\\Temp\\ipykernel_15616\\1790011001.py:1: SettingWithCopyWarning:\n",
      "\n",
      "\n",
      "A value is trying to be set on a copy of a slice from a DataFrame\n",
      "\n",
      "See the caveats in the documentation: https://pandas.pydata.org/pandas-docs/stable/user_guide/indexing.html#returning-a-view-versus-a-copy\n",
      "\n"
     ]
    }
   ],
   "source": [
    "df.drop(df.loc[df['created_year'] == 1970].index, inplace=True)"
   ]
  },
  {
   "cell_type": "code",
   "execution_count": 250,
   "id": "85c7b69f",
   "metadata": {},
   "outputs": [
    {
     "data": {
      "text/html": [
       "<div>\n",
       "<style scoped>\n",
       "    .dataframe tbody tr th:only-of-type {\n",
       "        vertical-align: middle;\n",
       "    }\n",
       "\n",
       "    .dataframe tbody tr th {\n",
       "        vertical-align: top;\n",
       "    }\n",
       "\n",
       "    .dataframe thead th {\n",
       "        text-align: right;\n",
       "    }\n",
       "</style>\n",
       "<table border=\"1\" class=\"dataframe\">\n",
       "  <thead>\n",
       "    <tr style=\"text-align: right;\">\n",
       "      <th></th>\n",
       "      <th>rank</th>\n",
       "      <th>Youtuber</th>\n",
       "      <th>subscribers</th>\n",
       "      <th>video views</th>\n",
       "      <th>category</th>\n",
       "      <th>Title</th>\n",
       "      <th>uploads</th>\n",
       "      <th>Country</th>\n",
       "      <th>Abbreviation</th>\n",
       "      <th>channel_type</th>\n",
       "      <th>...</th>\n",
       "      <th>subscribers_for_last_30_days</th>\n",
       "      <th>created_year</th>\n",
       "      <th>created_month</th>\n",
       "      <th>created_date</th>\n",
       "      <th>Gross tertiary education enrollment (%)</th>\n",
       "      <th>Population</th>\n",
       "      <th>Unemployment rate</th>\n",
       "      <th>Urban_population</th>\n",
       "      <th>Latitude</th>\n",
       "      <th>Longitude</th>\n",
       "    </tr>\n",
       "  </thead>\n",
       "  <tbody>\n",
       "  </tbody>\n",
       "</table>\n",
       "<p>0 rows × 28 columns</p>\n",
       "</div>"
      ],
      "text/plain": [
       "Empty DataFrame\n",
       "Columns: [rank, Youtuber, subscribers, video views, category, Title, uploads, Country, Abbreviation, channel_type, video_views_rank, country_rank, channel_type_rank, video_views_for_the_last_30_days, lowest_monthly_earnings, highest_monthly_earnings, lowest_yearly_earnings, highest_yearly_earnings, subscribers_for_last_30_days, created_year, created_month, created_date, Gross tertiary education enrollment (%), Population, Unemployment rate, Urban_population, Latitude, Longitude]\n",
       "Index: []\n",
       "\n",
       "[0 rows x 28 columns]"
      ]
     },
     "execution_count": 250,
     "metadata": {},
     "output_type": "execute_result"
    }
   ],
   "source": [
    "df[df['created_year'] == 1970] # избавились от аномалии"
   ]
  },
  {
   "cell_type": "markdown",
   "id": "96685bf8",
   "metadata": {},
   "source": [
    "# Графики"
   ]
  },
  {
   "cell_type": "markdown",
   "id": "21f7c90a",
   "metadata": {},
   "source": [
    "## Первый график"
   ]
  },
  {
   "cell_type": "code",
   "execution_count": 251,
   "id": "866be01a",
   "metadata": {},
   "outputs": [
    {
     "data": {
      "application/vnd.plotly.v1+json": {
       "config": {
        "plotlyServerURL": "https://plot.ly"
       },
       "data": [
        {
         "hovertemplate": "subscribers=%{marker.color}<br>video views=%{y}<extra></extra>",
         "legendgroup": "",
         "marker": {
          "color": [
           245000000,
           166000000,
           162000000,
           159000000,
           106000000,
           98900000,
           96700000,
           96000000,
           89800000,
           83000000,
           75600000,
           71600000,
           71300000,
           70500000,
           68200000,
           65900000,
           65600000,
           64600000,
           59500000,
           59500000,
           59300000,
           58400000,
           58000000,
           57600000,
           57200000,
           56900000,
           56400000,
           54600000,
           53500000,
           53300000,
           52900000,
           52700000,
           52200000,
           48100000,
           47900000,
           47500000,
           47400000,
           46600000,
           46300000,
           46100000,
           45500000,
           45200000,
           44700000,
           44600000,
           44200000,
           44200000,
           43500000,
           43200000,
           43200000,
           42500000,
           42400000,
           41900000,
           41400000,
           41300000,
           40900000,
           39700000,
           39200000,
           39200000,
           39200000,
           39100000,
           39000000,
           38900000,
           38600000,
           38400000,
           38300000,
           38200000,
           38200000,
           38000000,
           37600000,
           37500000,
           37200000,
           37000000,
           37000000,
           36700000,
           36600000,
           35700000,
           35500000,
           35500000,
           35400000,
           35200000,
           35200000,
           34900000,
           34300000,
           34100000,
           34000000,
           34000000,
           33800000,
           33700000,
           33600000,
           33500000,
           33500000,
           33500000,
           33400000,
           33300000,
           32800000,
           32700000,
           32700000,
           32600000,
           32100000,
           32100000,
           32000000,
           31900000,
           31700000,
           31700000,
           31700000,
           31700000,
           31600000,
           31400000,
           31200000,
           31200000,
           31200000,
           30700000,
           30700000,
           30500000,
           30500000,
           30200000,
           30200000,
           30100000,
           29800000,
           29200000,
           29200000,
           28900000,
           28400000,
           28300000,
           28300000,
           28200000,
           28200000,
           27700000,
           27500000,
           27400000,
           27400000,
           27400000,
           27300000,
           27300000,
           27100000,
           27000000,
           26900000,
           26700000,
           26700000,
           26500000,
           26400000,
           26400000,
           26400000,
           26200000,
           26100000,
           25900000,
           25700000,
           25700000,
           25600000,
           25500000,
           25400000,
           25400000,
           25300000,
           25200000,
           25200000,
           25000000,
           25000000,
           24800000,
           24800000,
           24700000,
           24600000,
           24600000,
           24400000,
           24300000,
           24200000,
           24100000,
           24100000,
           24000000,
           24000000,
           23900000,
           23900000,
           23800000,
           23800000,
           23700000,
           23600000,
           23600000,
           23600000,
           23400000,
           23300000,
           23200000,
           23200000,
           23100000,
           23100000,
           23100000,
           23100000,
           23000000,
           23000000,
           23000000,
           22900000,
           22900000,
           22900000,
           22700000,
           22600000,
           22600000,
           22600000,
           22600000,
           22600000,
           22500000,
           22500000,
           22300000,
           22300000,
           22200000,
           22000000,
           22000000,
           21900000,
           21900000,
           21900000,
           21800000,
           21800000,
           21800000,
           21600000,
           21600000,
           21500000,
           21500000,
           21400000,
           21300000,
           21300000,
           21300000,
           21300000,
           21300000,
           21300000,
           21200000,
           21100000,
           21000000,
           21000000,
           20900000,
           20900000,
           20900000,
           20900000,
           20800000,
           20700000,
           20700000,
           20600000,
           20600000,
           20500000,
           20500000,
           20400000,
           20400000,
           20400000,
           20400000,
           20300000,
           20300000,
           20200000,
           20200000,
           20200000,
           20200000,
           20200000,
           20200000,
           20100000,
           20100000,
           20100000,
           20100000,
           20100000,
           20000000,
           20000000,
           19900000,
           19800000,
           19700000,
           19600000,
           19600000,
           19600000,
           19500000,
           19400000,
           19400000,
           19400000,
           19400000,
           19200000,
           19000000,
           19000000,
           19000000,
           19000000,
           19000000,
           18800000,
           18800000,
           18800000,
           18800000,
           18800000,
           18700000,
           18600000,
           18600000,
           18600000,
           18500000,
           18500000,
           18500000,
           18500000,
           18400000,
           18300000,
           18300000,
           18100000,
           18100000,
           18100000,
           18000000,
           18000000,
           18000000,
           17900000,
           17900000,
           17900000,
           17900000,
           17900000,
           17900000,
           17800000,
           17800000,
           17700000,
           17700000,
           17700000,
           17700000,
           17700000,
           17600000,
           17600000,
           17600000,
           17500000,
           17500000,
           17400000,
           17400000,
           17300000,
           17300000,
           17200000,
           17200000,
           17100000,
           17100000,
           17000000,
           17000000,
           16900000,
           16900000,
           16900000,
           16900000,
           16800000,
           16800000,
           16700000,
           16700000,
           16600000,
           16600000,
           16600000,
           16600000,
           16600000,
           16500000,
           16500000,
           16500000,
           16400000,
           16400000,
           16400000,
           16300000,
           16300000,
           16300000,
           16200000,
           16200000,
           16200000,
           16200000,
           16200000,
           16200000,
           16100000,
           16100000,
           16100000,
           16000000,
           15900000,
           15900000,
           15900000,
           15900000,
           15800000,
           15800000,
           15800000,
           15800000,
           15700000,
           15700000,
           15700000,
           15600000,
           15600000,
           15500000,
           15500000,
           15500000,
           15500000,
           15500000,
           15500000,
           15400000,
           15400000,
           15400000,
           15400000,
           15400000,
           15400000,
           15300000,
           15300000,
           15300000,
           15200000,
           15200000,
           15200000,
           15200000,
           15200000,
           15200000,
           15200000,
           15100000,
           15100000,
           15100000,
           15100000,
           15100000,
           15100000,
           15100000,
           15100000,
           15000000,
           15000000,
           15000000,
           15000000,
           15000000,
           15000000,
           15000000,
           15000000,
           15000000,
           15000000,
           15000000,
           14900000,
           14900000,
           14900000,
           14900000,
           14900000,
           14900000,
           14900000,
           14800000,
           14700000,
           14700000,
           14700000,
           14700000,
           14700000,
           14700000,
           14700000,
           14600000,
           14600000,
           14600000,
           14600000,
           14600000,
           14600000,
           14500000,
           14500000,
           14500000,
           14500000,
           14400000,
           14400000,
           14400000,
           14400000,
           14400000,
           14400000,
           14300000,
           14200000,
           14200000,
           14200000,
           14200000,
           14200000,
           14200000,
           14100000,
           14100000,
           14100000,
           14100000,
           14100000,
           14100000,
           14000000,
           14000000,
           14000000,
           14000000,
           14000000,
           14000000,
           13900000,
           13900000,
           13900000,
           13900000,
           13900000,
           13800000,
           13800000,
           13800000,
           13800000,
           13800000,
           13800000,
           13800000,
           13700000,
           13700000,
           13700000,
           13700000,
           13700000,
           13600000,
           13600000,
           13600000,
           13600000,
           13600000,
           13500000,
           13500000,
           13500000,
           13500000,
           13500000,
           13500000,
           13500000,
           13400000,
           13400000,
           13400000,
           13400000,
           13300000,
           13300000,
           13300000,
           13300000,
           13300000,
           13300000,
           13300000,
           13300000,
           13200000,
           13200000,
           13200000,
           13200000,
           13200000,
           13200000,
           13100000,
           13100000,
           13100000,
           13100000,
           13100000,
           13100000,
           13100000,
           13000000,
           13000000,
           13000000,
           13000000,
           13000000,
           12900000,
           12900000,
           12900000,
           12900000,
           12900000,
           12900000,
           12900000,
           12800000,
           12800000,
           12800000,
           12700000,
           12700000,
           12700000,
           12700000,
           12700000,
           12600000,
           12600000,
           12600000,
           12500000,
           12500000,
           12500000,
           12500000,
           12500000,
           12500000,
           12500000,
           12400000,
           12400000,
           12400000,
           12400000,
           12400000,
           12400000,
           12400000,
           12300000,
           12300000,
           12300000,
           12300000
          ],
          "coloraxis": "coloraxis",
          "symbol": "circle"
         },
         "mode": "markers",
         "name": "",
         "orientation": "v",
         "showlegend": false,
         "type": "scatter",
         "x": [
          245000000,
          166000000,
          162000000,
          159000000,
          106000000,
          98900000,
          96700000,
          96000000,
          89800000,
          83000000,
          75600000,
          71600000,
          71300000,
          70500000,
          68200000,
          65900000,
          65600000,
          64600000,
          59500000,
          59500000,
          59300000,
          58400000,
          58000000,
          57600000,
          57200000,
          56900000,
          56400000,
          54600000,
          53500000,
          53300000,
          52900000,
          52700000,
          52200000,
          48100000,
          47900000,
          47500000,
          47400000,
          46600000,
          46300000,
          46100000,
          45500000,
          45200000,
          44700000,
          44600000,
          44200000,
          44200000,
          43500000,
          43200000,
          43200000,
          42500000,
          42400000,
          41900000,
          41400000,
          41300000,
          40900000,
          39700000,
          39200000,
          39200000,
          39200000,
          39100000,
          39000000,
          38900000,
          38600000,
          38400000,
          38300000,
          38200000,
          38200000,
          38000000,
          37600000,
          37500000,
          37200000,
          37000000,
          37000000,
          36700000,
          36600000,
          35700000,
          35500000,
          35500000,
          35400000,
          35200000,
          35200000,
          34900000,
          34300000,
          34100000,
          34000000,
          34000000,
          33800000,
          33700000,
          33600000,
          33500000,
          33500000,
          33500000,
          33400000,
          33300000,
          32800000,
          32700000,
          32700000,
          32600000,
          32100000,
          32100000,
          32000000,
          31900000,
          31700000,
          31700000,
          31700000,
          31700000,
          31600000,
          31400000,
          31200000,
          31200000,
          31200000,
          30700000,
          30700000,
          30500000,
          30500000,
          30200000,
          30200000,
          30100000,
          29800000,
          29200000,
          29200000,
          28900000,
          28400000,
          28300000,
          28300000,
          28200000,
          28200000,
          27700000,
          27500000,
          27400000,
          27400000,
          27400000,
          27300000,
          27300000,
          27100000,
          27000000,
          26900000,
          26700000,
          26700000,
          26500000,
          26400000,
          26400000,
          26400000,
          26200000,
          26100000,
          25900000,
          25700000,
          25700000,
          25600000,
          25500000,
          25400000,
          25400000,
          25300000,
          25200000,
          25200000,
          25000000,
          25000000,
          24800000,
          24800000,
          24700000,
          24600000,
          24600000,
          24400000,
          24300000,
          24200000,
          24100000,
          24100000,
          24000000,
          24000000,
          23900000,
          23900000,
          23800000,
          23800000,
          23700000,
          23600000,
          23600000,
          23600000,
          23400000,
          23300000,
          23200000,
          23200000,
          23100000,
          23100000,
          23100000,
          23100000,
          23000000,
          23000000,
          23000000,
          22900000,
          22900000,
          22900000,
          22700000,
          22600000,
          22600000,
          22600000,
          22600000,
          22600000,
          22500000,
          22500000,
          22300000,
          22300000,
          22200000,
          22000000,
          22000000,
          21900000,
          21900000,
          21900000,
          21800000,
          21800000,
          21800000,
          21600000,
          21600000,
          21500000,
          21500000,
          21400000,
          21300000,
          21300000,
          21300000,
          21300000,
          21300000,
          21300000,
          21200000,
          21100000,
          21000000,
          21000000,
          20900000,
          20900000,
          20900000,
          20900000,
          20800000,
          20700000,
          20700000,
          20600000,
          20600000,
          20500000,
          20500000,
          20400000,
          20400000,
          20400000,
          20400000,
          20300000,
          20300000,
          20200000,
          20200000,
          20200000,
          20200000,
          20200000,
          20200000,
          20100000,
          20100000,
          20100000,
          20100000,
          20100000,
          20000000,
          20000000,
          19900000,
          19800000,
          19700000,
          19600000,
          19600000,
          19600000,
          19500000,
          19400000,
          19400000,
          19400000,
          19400000,
          19200000,
          19000000,
          19000000,
          19000000,
          19000000,
          19000000,
          18800000,
          18800000,
          18800000,
          18800000,
          18800000,
          18700000,
          18600000,
          18600000,
          18600000,
          18500000,
          18500000,
          18500000,
          18500000,
          18400000,
          18300000,
          18300000,
          18100000,
          18100000,
          18100000,
          18000000,
          18000000,
          18000000,
          17900000,
          17900000,
          17900000,
          17900000,
          17900000,
          17900000,
          17800000,
          17800000,
          17700000,
          17700000,
          17700000,
          17700000,
          17700000,
          17600000,
          17600000,
          17600000,
          17500000,
          17500000,
          17400000,
          17400000,
          17300000,
          17300000,
          17200000,
          17200000,
          17100000,
          17100000,
          17000000,
          17000000,
          16900000,
          16900000,
          16900000,
          16900000,
          16800000,
          16800000,
          16700000,
          16700000,
          16600000,
          16600000,
          16600000,
          16600000,
          16600000,
          16500000,
          16500000,
          16500000,
          16400000,
          16400000,
          16400000,
          16300000,
          16300000,
          16300000,
          16200000,
          16200000,
          16200000,
          16200000,
          16200000,
          16200000,
          16100000,
          16100000,
          16100000,
          16000000,
          15900000,
          15900000,
          15900000,
          15900000,
          15800000,
          15800000,
          15800000,
          15800000,
          15700000,
          15700000,
          15700000,
          15600000,
          15600000,
          15500000,
          15500000,
          15500000,
          15500000,
          15500000,
          15500000,
          15400000,
          15400000,
          15400000,
          15400000,
          15400000,
          15400000,
          15300000,
          15300000,
          15300000,
          15200000,
          15200000,
          15200000,
          15200000,
          15200000,
          15200000,
          15200000,
          15100000,
          15100000,
          15100000,
          15100000,
          15100000,
          15100000,
          15100000,
          15100000,
          15000000,
          15000000,
          15000000,
          15000000,
          15000000,
          15000000,
          15000000,
          15000000,
          15000000,
          15000000,
          15000000,
          14900000,
          14900000,
          14900000,
          14900000,
          14900000,
          14900000,
          14900000,
          14800000,
          14700000,
          14700000,
          14700000,
          14700000,
          14700000,
          14700000,
          14700000,
          14600000,
          14600000,
          14600000,
          14600000,
          14600000,
          14600000,
          14500000,
          14500000,
          14500000,
          14500000,
          14400000,
          14400000,
          14400000,
          14400000,
          14400000,
          14400000,
          14300000,
          14200000,
          14200000,
          14200000,
          14200000,
          14200000,
          14200000,
          14100000,
          14100000,
          14100000,
          14100000,
          14100000,
          14100000,
          14000000,
          14000000,
          14000000,
          14000000,
          14000000,
          14000000,
          13900000,
          13900000,
          13900000,
          13900000,
          13900000,
          13800000,
          13800000,
          13800000,
          13800000,
          13800000,
          13800000,
          13800000,
          13700000,
          13700000,
          13700000,
          13700000,
          13700000,
          13600000,
          13600000,
          13600000,
          13600000,
          13600000,
          13500000,
          13500000,
          13500000,
          13500000,
          13500000,
          13500000,
          13500000,
          13400000,
          13400000,
          13400000,
          13400000,
          13300000,
          13300000,
          13300000,
          13300000,
          13300000,
          13300000,
          13300000,
          13300000,
          13200000,
          13200000,
          13200000,
          13200000,
          13200000,
          13200000,
          13100000,
          13100000,
          13100000,
          13100000,
          13100000,
          13100000,
          13100000,
          13000000,
          13000000,
          13000000,
          13000000,
          13000000,
          12900000,
          12900000,
          12900000,
          12900000,
          12900000,
          12900000,
          12900000,
          12800000,
          12800000,
          12800000,
          12700000,
          12700000,
          12700000,
          12700000,
          12700000,
          12600000,
          12600000,
          12600000,
          12500000,
          12500000,
          12500000,
          12500000,
          12500000,
          12500000,
          12500000,
          12400000,
          12400000,
          12400000,
          12400000,
          12400000,
          12400000,
          12400000,
          12300000,
          12300000,
          12300000,
          12300000
         ],
         "xaxis": "x",
         "y": [
          228000000000,
          28368841870,
          164000000000,
          148000000000,
          90479060027,
          77180169894,
          57856289381,
          77428473662,
          32144597566,
          101000000000,
          20826993957,
          30608119724,
          28634566938,
          73139054467,
          38843229963,
          45757850229,
          28648024439,
          61510906457,
          16241549158,
          59316472754,
          33431802698,
          57271630846,
          40602020243,
          25307753534,
          28837144516,
          27073872856,
          14696003229,
          35302243691,
          30367676736,
          30516172739,
          29884657286,
          24004842608,
          9877365274,
          14631710289,
          13626331061,
          30788679536,
          22519705183,
          27286058807,
          22936630813,
          10323391593,
          21388725229,
          16602198273,
          7828610828,
          41139050371,
          25458952022,
          50292540392,
          27568757295,
          36458726976,
          37939780685,
          26820902622,
          24519022988,
          22477745835,
          17608931161,
          5603111948,
          39450824833,
          23884824160,
          3294013141,
          10507474316,
          44900897958,
          16118181673,
          36131228583,
          25154232306,
          7339333120,
          21528116909,
          16718192386,
          13598903820,
          28519339489,
          22731415608,
          18208196857,
          27262462114,
          16402066717,
          13102611515,
          24188861917,
          19378155425,
          15653786446,
          27118354077,
          15657673422,
          16105023749,
          22637783517,
          20297931219,
          55299840198,
          25607397308,
          12746535822,
          23005313609,
          3963007415,
          11351015824,
          27274550757,
          23492684419,
          13013567335,
          14864294792,
          29611914495,
          11405809704,
          20269857567,
          5994136760,
          26355088167,
          17853798780,
          28516250629,
          23379969006,
          18699145555,
          10602236110,
          26800674545,
          19428308461,
          5711208484,
          16476978876,
          21031745531,
          2930015381,
          11615848291,
          22919271731,
          9673649438,
          17111726160,
          6187804950,
          16793072362,
          3145161634,
          16709857823,
          4521573939,
          14199108016,
          27684955537,
          19607009165,
          4457913639,
          14727238483,
          11627437847,
          17930570614,
          10062770060,
          14814192034,
          23844936965,
          7600740993,
          14412474625,
          15777682516,
          13379395501,
          19883150017,
          10336420490,
          19417887510,
          22440611155,
          7705492350,
          17318452893,
          6570935979,
          7938616641,
          4388047013,
          7173668905,
          15065753455,
          8595760553,
          27006526665,
          17211600007,
          16097531087,
          10435474336,
          11372071889,
          17793809548,
          10242981063,
          25592378292,
          14401218086,
          6430853035,
          34300482066,
          17331663193,
          11081602368,
          10409352249,
          14169516119,
          14827085149,
          17387583720,
          3699352704,
          20531704527,
          23755792542,
          3647987299,
          12385924995,
          6608773195,
          2700914170,
          10999000479,
          56106087508,
          13943030228,
          8279004442,
          4067878931,
          7213499085,
          10414479943,
          17688774915,
          20289689389,
          2135644776,
          6766461070,
          7920637200,
          9465863821,
          22471357411,
          2634,
          15751661213,
          12889240875,
          2551113422,
          9299371231,
          13151870846,
          31494513067,
          6041264489,
          10939966484,
          5320485069,
          16298342829,
          13206471140,
          10115316784,
          20847038152,
          9223534599,
          14231943358,
          17507060680,
          27084848152,
          2431154438,
          13835173331,
          8663830163,
          24059336857,
          11136266461,
          9924807127,
          18347969186,
          4454917643,
          5918314128,
          15552070846,
          4469711607,
          5614621131,
          11288359365,
          9597894786,
          5863377051,
          5890180734,
          8409641722,
          6264261757,
          6269945014,
          10644857969,
          12761253839,
          5141834668,
          10047736580,
          12895427184,
          11364908616,
          4526271677,
          7762905663,
          10631638628,
          1693149479,
          3828000587,
          4927879069,
          11058049885,
          2378448129,
          17963202261,
          8658941531,
          4956090094,
          7657171980,
          15038593883,
          11009148579,
          1796227417,
          7311322368,
          29406206620,
          3579555124,
          2441288701,
          11819051552,
          2951914200,
          2764127969,
          7274150246,
          20919403720,
          19694265358,
          6098644584,
          23353115850,
          11317309935,
          14816075927,
          6119294270,
          5634695322,
          3875172235,
          9715291883,
          13917423958,
          5759442450,
          11323617496,
          13930021471,
          8779729549,
          7906181776,
          5234251168,
          2255542592,
          1577859332,
          23038014291,
          5529131886,
          7590582024,
          4924054368,
          7229175322,
          8281724393,
          13824277846,
          16014044618,
          3654621568,
          5257834105,
          9573641299,
          9594188708,
          3276891538,
          12295637162,
          6047584292,
          20196704276,
          8761255550,
          2908120896,
          3457618361,
          8147575884,
          4051072188,
          11544297793,
          7760819588,
          1556003039,
          13378360425,
          9983065083,
          14857290259,
          3980991248,
          9601137077,
          17921124985,
          7176572299,
          3841205465,
          5168721499,
          9867515979,
          9887116267,
          16174530046,
          11057945183,
          8588704539,
          7912733203,
          3647267655,
          8396875537,
          9059696049,
          17247584185,
          2274007523,
          2977741577,
          6306204566,
          7263619576,
          7612385622,
          17763586483,
          13043561912,
          1026425106,
          11371738047,
          3606912471,
          11445492404,
          4448334716,
          9710962528,
          10847948832,
          1001465469,
          8684010451,
          4609753237,
          9544277833,
          3523578665,
          7195314800,
          3693798804,
          7102965621,
          8826138204,
          7435180827,
          9439857193,
          11946217860,
          15278668857,
          5819508534,
          2440934034,
          3037260680,
          7043235131,
          7135820721,
          9463244435,
          12844432341,
          6613422635,
          7141825267,
          1656452554,
          2990185467,
          4076692623,
          9763592867,
          14563841315,
          20522339099,
          14784781923,
          6872702790,
          7126210721,
          15812009296,
          5997599089,
          6534326412,
          9198986881,
          9052367553,
          6802382479,
          1349288771,
          3392918989,
          4122634467,
          13116313599,
          5914071870,
          5558051295,
          8696631898,
          7172386509,
          3869457097,
          8984089026,
          6386271870,
          7776706184,
          8265129639,
          12714141740,
          4499826716,
          1781226000,
          11513738907,
          1543608082,
          3736069980,
          14564170905,
          4909687948,
          2656528205,
          9938811455,
          16545966132,
          857725714,
          4503880875,
          6391679636,
          7151683497,
          7564652648,
          14198154095,
          6624168155,
          2143140898,
          3060202847,
          5324913850,
          6668507856,
          9477021288,
          10489367372,
          13897932103,
          12413869881,
          4352427049,
          9924103188,
          4008801873,
          4741434420,
          6889304306,
          8658553456,
          9978734160,
          10239836582,
          11827310821,
          13562853889,
          8932038210,
          10069000444,
          8074260978,
          4395184343,
          4977284539,
          5549770244,
          5956193599,
          8615618825,
          272678287,
          1506796393,
          4029253667,
          6751985988,
          8882319696,
          12362331529,
          12961669452,
          4684983333,
          2613197447,
          3603556207,
          5766647017,
          11182302317,
          2750902766,
          5525773746,
          4598387043,
          6290721701,
          9383692066,
          10303519926,
          600154268,
          2224121890,
          4035738731,
          4156427797,
          8011977288,
          18515587421,
          4776507159,
          6973932553,
          2084791147,
          3920559552,
          6554000320,
          10238593147,
          11428794827,
          2131548711,
          5129529846,
          5405563355,
          6036496916,
          6884215292,
          4627069704,
          4674164601,
          7719743112,
          8623705301,
          18917687143,
          13542939513,
          5094050461,
          5673347763,
          9106781518,
          5217553897,
          12513842343,
          2165885634,
          2224911030,
          1820559912,
          2480957682,
          5019136690,
          5727888539,
          6646953396,
          11039343563,
          1967930734,
          1973638757,
          9596430464,
          2939201386,
          5178142148,
          2122062016,
          1948925559,
          3764608356,
          5141201173,
          9685060624,
          5380132790,
          5545936485,
          8265920659,
          3912334359,
          11717217293,
          7958771872,
          1900272833,
          11789678655,
          9569814790,
          10022557589,
          4306212515,
          2262690743,
          4177184071,
          6482687220,
          9088562002,
          7773543609,
          7406628736,
          4129249415,
          6412313570,
          9884886099,
          1148422000,
          5224764969,
          5263540904,
          9378175604,
          1138262456,
          2182651464,
          4712624489,
          2555801802,
          4214172991,
          4399833602,
          2879263916,
          6637820731,
          2683297849,
          10664585,
          1698279553,
          8739174649,
          6270909026,
          2112274210,
          2509752944,
          3643698504,
          6300933122,
          7520379951,
          15446707595,
          5585085130,
          6662288136,
          9502983550,
          7876740921,
          4266957149,
          9927699419,
          13174393401,
          4733873025,
          1714955279,
          3303595310,
          3152402405,
          3485373675,
          2983799729,
          4935793409,
          7489455451,
          10384848759,
          11552190002,
          11691081301,
          16690788752,
          7597013023,
          2840137980,
          6933660906,
          7683670251,
          2315226648,
          4779139505,
          6993406259,
          9029609749,
          1674409945,
          374123483,
          2129773714
         ],
         "yaxis": "y"
        }
       ],
       "layout": {
        "coloraxis": {
         "colorbar": {
          "title": {
           "text": "subscribers"
          }
         },
         "colorscale": [
          [
           0,
           "#0d0887"
          ],
          [
           0.1111111111111111,
           "#46039f"
          ],
          [
           0.2222222222222222,
           "#7201a8"
          ],
          [
           0.3333333333333333,
           "#9c179e"
          ],
          [
           0.4444444444444444,
           "#bd3786"
          ],
          [
           0.5555555555555556,
           "#d8576b"
          ],
          [
           0.6666666666666666,
           "#ed7953"
          ],
          [
           0.7777777777777778,
           "#fb9f3a"
          ],
          [
           0.8888888888888888,
           "#fdca26"
          ],
          [
           1,
           "#f0f921"
          ]
         ]
        },
        "legend": {
         "tracegroupgap": 0
        },
        "template": {
         "data": {
          "bar": [
           {
            "error_x": {
             "color": "#f2f5fa"
            },
            "error_y": {
             "color": "#f2f5fa"
            },
            "marker": {
             "line": {
              "color": "rgb(17,17,17)",
              "width": 0.5
             },
             "pattern": {
              "fillmode": "overlay",
              "size": 10,
              "solidity": 0.2
             }
            },
            "type": "bar"
           }
          ],
          "barpolar": [
           {
            "marker": {
             "line": {
              "color": "rgb(17,17,17)",
              "width": 0.5
             },
             "pattern": {
              "fillmode": "overlay",
              "size": 10,
              "solidity": 0.2
             }
            },
            "type": "barpolar"
           }
          ],
          "carpet": [
           {
            "aaxis": {
             "endlinecolor": "#A2B1C6",
             "gridcolor": "#506784",
             "linecolor": "#506784",
             "minorgridcolor": "#506784",
             "startlinecolor": "#A2B1C6"
            },
            "baxis": {
             "endlinecolor": "#A2B1C6",
             "gridcolor": "#506784",
             "linecolor": "#506784",
             "minorgridcolor": "#506784",
             "startlinecolor": "#A2B1C6"
            },
            "type": "carpet"
           }
          ],
          "choropleth": [
           {
            "colorbar": {
             "outlinewidth": 0,
             "ticks": ""
            },
            "type": "choropleth"
           }
          ],
          "contour": [
           {
            "colorbar": {
             "outlinewidth": 0,
             "ticks": ""
            },
            "colorscale": [
             [
              0,
              "#0d0887"
             ],
             [
              0.1111111111111111,
              "#46039f"
             ],
             [
              0.2222222222222222,
              "#7201a8"
             ],
             [
              0.3333333333333333,
              "#9c179e"
             ],
             [
              0.4444444444444444,
              "#bd3786"
             ],
             [
              0.5555555555555556,
              "#d8576b"
             ],
             [
              0.6666666666666666,
              "#ed7953"
             ],
             [
              0.7777777777777778,
              "#fb9f3a"
             ],
             [
              0.8888888888888888,
              "#fdca26"
             ],
             [
              1,
              "#f0f921"
             ]
            ],
            "type": "contour"
           }
          ],
          "contourcarpet": [
           {
            "colorbar": {
             "outlinewidth": 0,
             "ticks": ""
            },
            "type": "contourcarpet"
           }
          ],
          "heatmap": [
           {
            "colorbar": {
             "outlinewidth": 0,
             "ticks": ""
            },
            "colorscale": [
             [
              0,
              "#0d0887"
             ],
             [
              0.1111111111111111,
              "#46039f"
             ],
             [
              0.2222222222222222,
              "#7201a8"
             ],
             [
              0.3333333333333333,
              "#9c179e"
             ],
             [
              0.4444444444444444,
              "#bd3786"
             ],
             [
              0.5555555555555556,
              "#d8576b"
             ],
             [
              0.6666666666666666,
              "#ed7953"
             ],
             [
              0.7777777777777778,
              "#fb9f3a"
             ],
             [
              0.8888888888888888,
              "#fdca26"
             ],
             [
              1,
              "#f0f921"
             ]
            ],
            "type": "heatmap"
           }
          ],
          "heatmapgl": [
           {
            "colorbar": {
             "outlinewidth": 0,
             "ticks": ""
            },
            "colorscale": [
             [
              0,
              "#0d0887"
             ],
             [
              0.1111111111111111,
              "#46039f"
             ],
             [
              0.2222222222222222,
              "#7201a8"
             ],
             [
              0.3333333333333333,
              "#9c179e"
             ],
             [
              0.4444444444444444,
              "#bd3786"
             ],
             [
              0.5555555555555556,
              "#d8576b"
             ],
             [
              0.6666666666666666,
              "#ed7953"
             ],
             [
              0.7777777777777778,
              "#fb9f3a"
             ],
             [
              0.8888888888888888,
              "#fdca26"
             ],
             [
              1,
              "#f0f921"
             ]
            ],
            "type": "heatmapgl"
           }
          ],
          "histogram": [
           {
            "marker": {
             "pattern": {
              "fillmode": "overlay",
              "size": 10,
              "solidity": 0.2
             }
            },
            "type": "histogram"
           }
          ],
          "histogram2d": [
           {
            "colorbar": {
             "outlinewidth": 0,
             "ticks": ""
            },
            "colorscale": [
             [
              0,
              "#0d0887"
             ],
             [
              0.1111111111111111,
              "#46039f"
             ],
             [
              0.2222222222222222,
              "#7201a8"
             ],
             [
              0.3333333333333333,
              "#9c179e"
             ],
             [
              0.4444444444444444,
              "#bd3786"
             ],
             [
              0.5555555555555556,
              "#d8576b"
             ],
             [
              0.6666666666666666,
              "#ed7953"
             ],
             [
              0.7777777777777778,
              "#fb9f3a"
             ],
             [
              0.8888888888888888,
              "#fdca26"
             ],
             [
              1,
              "#f0f921"
             ]
            ],
            "type": "histogram2d"
           }
          ],
          "histogram2dcontour": [
           {
            "colorbar": {
             "outlinewidth": 0,
             "ticks": ""
            },
            "colorscale": [
             [
              0,
              "#0d0887"
             ],
             [
              0.1111111111111111,
              "#46039f"
             ],
             [
              0.2222222222222222,
              "#7201a8"
             ],
             [
              0.3333333333333333,
              "#9c179e"
             ],
             [
              0.4444444444444444,
              "#bd3786"
             ],
             [
              0.5555555555555556,
              "#d8576b"
             ],
             [
              0.6666666666666666,
              "#ed7953"
             ],
             [
              0.7777777777777778,
              "#fb9f3a"
             ],
             [
              0.8888888888888888,
              "#fdca26"
             ],
             [
              1,
              "#f0f921"
             ]
            ],
            "type": "histogram2dcontour"
           }
          ],
          "mesh3d": [
           {
            "colorbar": {
             "outlinewidth": 0,
             "ticks": ""
            },
            "type": "mesh3d"
           }
          ],
          "parcoords": [
           {
            "line": {
             "colorbar": {
              "outlinewidth": 0,
              "ticks": ""
             }
            },
            "type": "parcoords"
           }
          ],
          "pie": [
           {
            "automargin": true,
            "type": "pie"
           }
          ],
          "scatter": [
           {
            "marker": {
             "line": {
              "color": "#283442"
             }
            },
            "type": "scatter"
           }
          ],
          "scatter3d": [
           {
            "line": {
             "colorbar": {
              "outlinewidth": 0,
              "ticks": ""
             }
            },
            "marker": {
             "colorbar": {
              "outlinewidth": 0,
              "ticks": ""
             }
            },
            "type": "scatter3d"
           }
          ],
          "scattercarpet": [
           {
            "marker": {
             "colorbar": {
              "outlinewidth": 0,
              "ticks": ""
             }
            },
            "type": "scattercarpet"
           }
          ],
          "scattergeo": [
           {
            "marker": {
             "colorbar": {
              "outlinewidth": 0,
              "ticks": ""
             }
            },
            "type": "scattergeo"
           }
          ],
          "scattergl": [
           {
            "marker": {
             "line": {
              "color": "#283442"
             }
            },
            "type": "scattergl"
           }
          ],
          "scattermapbox": [
           {
            "marker": {
             "colorbar": {
              "outlinewidth": 0,
              "ticks": ""
             }
            },
            "type": "scattermapbox"
           }
          ],
          "scatterpolar": [
           {
            "marker": {
             "colorbar": {
              "outlinewidth": 0,
              "ticks": ""
             }
            },
            "type": "scatterpolar"
           }
          ],
          "scatterpolargl": [
           {
            "marker": {
             "colorbar": {
              "outlinewidth": 0,
              "ticks": ""
             }
            },
            "type": "scatterpolargl"
           }
          ],
          "scatterternary": [
           {
            "marker": {
             "colorbar": {
              "outlinewidth": 0,
              "ticks": ""
             }
            },
            "type": "scatterternary"
           }
          ],
          "surface": [
           {
            "colorbar": {
             "outlinewidth": 0,
             "ticks": ""
            },
            "colorscale": [
             [
              0,
              "#0d0887"
             ],
             [
              0.1111111111111111,
              "#46039f"
             ],
             [
              0.2222222222222222,
              "#7201a8"
             ],
             [
              0.3333333333333333,
              "#9c179e"
             ],
             [
              0.4444444444444444,
              "#bd3786"
             ],
             [
              0.5555555555555556,
              "#d8576b"
             ],
             [
              0.6666666666666666,
              "#ed7953"
             ],
             [
              0.7777777777777778,
              "#fb9f3a"
             ],
             [
              0.8888888888888888,
              "#fdca26"
             ],
             [
              1,
              "#f0f921"
             ]
            ],
            "type": "surface"
           }
          ],
          "table": [
           {
            "cells": {
             "fill": {
              "color": "#506784"
             },
             "line": {
              "color": "rgb(17,17,17)"
             }
            },
            "header": {
             "fill": {
              "color": "#2a3f5f"
             },
             "line": {
              "color": "rgb(17,17,17)"
             }
            },
            "type": "table"
           }
          ]
         },
         "layout": {
          "annotationdefaults": {
           "arrowcolor": "#f2f5fa",
           "arrowhead": 0,
           "arrowwidth": 1
          },
          "autotypenumbers": "strict",
          "coloraxis": {
           "colorbar": {
            "outlinewidth": 0,
            "ticks": ""
           }
          },
          "colorscale": {
           "diverging": [
            [
             0,
             "#8e0152"
            ],
            [
             0.1,
             "#c51b7d"
            ],
            [
             0.2,
             "#de77ae"
            ],
            [
             0.3,
             "#f1b6da"
            ],
            [
             0.4,
             "#fde0ef"
            ],
            [
             0.5,
             "#f7f7f7"
            ],
            [
             0.6,
             "#e6f5d0"
            ],
            [
             0.7,
             "#b8e186"
            ],
            [
             0.8,
             "#7fbc41"
            ],
            [
             0.9,
             "#4d9221"
            ],
            [
             1,
             "#276419"
            ]
           ],
           "sequential": [
            [
             0,
             "#0d0887"
            ],
            [
             0.1111111111111111,
             "#46039f"
            ],
            [
             0.2222222222222222,
             "#7201a8"
            ],
            [
             0.3333333333333333,
             "#9c179e"
            ],
            [
             0.4444444444444444,
             "#bd3786"
            ],
            [
             0.5555555555555556,
             "#d8576b"
            ],
            [
             0.6666666666666666,
             "#ed7953"
            ],
            [
             0.7777777777777778,
             "#fb9f3a"
            ],
            [
             0.8888888888888888,
             "#fdca26"
            ],
            [
             1,
             "#f0f921"
            ]
           ],
           "sequentialminus": [
            [
             0,
             "#0d0887"
            ],
            [
             0.1111111111111111,
             "#46039f"
            ],
            [
             0.2222222222222222,
             "#7201a8"
            ],
            [
             0.3333333333333333,
             "#9c179e"
            ],
            [
             0.4444444444444444,
             "#bd3786"
            ],
            [
             0.5555555555555556,
             "#d8576b"
            ],
            [
             0.6666666666666666,
             "#ed7953"
            ],
            [
             0.7777777777777778,
             "#fb9f3a"
            ],
            [
             0.8888888888888888,
             "#fdca26"
            ],
            [
             1,
             "#f0f921"
            ]
           ]
          },
          "colorway": [
           "#636efa",
           "#EF553B",
           "#00cc96",
           "#ab63fa",
           "#FFA15A",
           "#19d3f3",
           "#FF6692",
           "#B6E880",
           "#FF97FF",
           "#FECB52"
          ],
          "font": {
           "color": "#f2f5fa"
          },
          "geo": {
           "bgcolor": "rgb(17,17,17)",
           "lakecolor": "rgb(17,17,17)",
           "landcolor": "rgb(17,17,17)",
           "showlakes": true,
           "showland": true,
           "subunitcolor": "#506784"
          },
          "hoverlabel": {
           "align": "left"
          },
          "hovermode": "closest",
          "mapbox": {
           "style": "dark"
          },
          "paper_bgcolor": "rgb(17,17,17)",
          "plot_bgcolor": "rgb(17,17,17)",
          "polar": {
           "angularaxis": {
            "gridcolor": "#506784",
            "linecolor": "#506784",
            "ticks": ""
           },
           "bgcolor": "rgb(17,17,17)",
           "radialaxis": {
            "gridcolor": "#506784",
            "linecolor": "#506784",
            "ticks": ""
           }
          },
          "scene": {
           "xaxis": {
            "backgroundcolor": "rgb(17,17,17)",
            "gridcolor": "#506784",
            "gridwidth": 2,
            "linecolor": "#506784",
            "showbackground": true,
            "ticks": "",
            "zerolinecolor": "#C8D4E3"
           },
           "yaxis": {
            "backgroundcolor": "rgb(17,17,17)",
            "gridcolor": "#506784",
            "gridwidth": 2,
            "linecolor": "#506784",
            "showbackground": true,
            "ticks": "",
            "zerolinecolor": "#C8D4E3"
           },
           "zaxis": {
            "backgroundcolor": "rgb(17,17,17)",
            "gridcolor": "#506784",
            "gridwidth": 2,
            "linecolor": "#506784",
            "showbackground": true,
            "ticks": "",
            "zerolinecolor": "#C8D4E3"
           }
          },
          "shapedefaults": {
           "line": {
            "color": "#f2f5fa"
           }
          },
          "sliderdefaults": {
           "bgcolor": "#C8D4E3",
           "bordercolor": "rgb(17,17,17)",
           "borderwidth": 1,
           "tickwidth": 0
          },
          "ternary": {
           "aaxis": {
            "gridcolor": "#506784",
            "linecolor": "#506784",
            "ticks": ""
           },
           "baxis": {
            "gridcolor": "#506784",
            "linecolor": "#506784",
            "ticks": ""
           },
           "bgcolor": "rgb(17,17,17)",
           "caxis": {
            "gridcolor": "#506784",
            "linecolor": "#506784",
            "ticks": ""
           }
          },
          "title": {
           "x": 0.05
          },
          "updatemenudefaults": {
           "bgcolor": "#506784",
           "borderwidth": 0
          },
          "xaxis": {
           "automargin": true,
           "gridcolor": "#283442",
           "linecolor": "#506784",
           "ticks": "",
           "title": {
            "standoff": 15
           },
           "zerolinecolor": "#283442",
           "zerolinewidth": 2
          },
          "yaxis": {
           "automargin": true,
           "gridcolor": "#283442",
           "linecolor": "#506784",
           "ticks": "",
           "title": {
            "standoff": 15
           },
           "zerolinecolor": "#283442",
           "zerolinewidth": 2
          }
         }
        },
        "title": {
         "text": "Зависимость между подписчиками и просмотрами видео",
         "x": 0.5,
         "y": 0.9
        },
        "xaxis": {
         "anchor": "y",
         "domain": [
          0,
          1
         ],
         "title": {
          "text": "subscribers"
         }
        },
        "yaxis": {
         "anchor": "x",
         "domain": [
          0,
          1
         ],
         "title": {
          "text": "video views"
         }
        }
       }
      },
      "text/html": [
       "<div>                            <div id=\"faf0ac95-0c59-4d1a-96b1-62f296fbae66\" class=\"plotly-graph-div\" style=\"height:525px; width:100%;\"></div>            <script type=\"text/javascript\">                require([\"plotly\"], function(Plotly) {                    window.PLOTLYENV=window.PLOTLYENV || {};                                    if (document.getElementById(\"faf0ac95-0c59-4d1a-96b1-62f296fbae66\")) {                    Plotly.newPlot(                        \"faf0ac95-0c59-4d1a-96b1-62f296fbae66\",                        [{\"hovertemplate\":\"subscribers=%{marker.color}<br>video views=%{y}<extra></extra>\",\"legendgroup\":\"\",\"marker\":{\"color\":[245000000,166000000,162000000,159000000,106000000,98900000,96700000,96000000,89800000,83000000,75600000,71600000,71300000,70500000,68200000,65900000,65600000,64600000,59500000,59500000,59300000,58400000,58000000,57600000,57200000,56900000,56400000,54600000,53500000,53300000,52900000,52700000,52200000,48100000,47900000,47500000,47400000,46600000,46300000,46100000,45500000,45200000,44700000,44600000,44200000,44200000,43500000,43200000,43200000,42500000,42400000,41900000,41400000,41300000,40900000,39700000,39200000,39200000,39200000,39100000,39000000,38900000,38600000,38400000,38300000,38200000,38200000,38000000,37600000,37500000,37200000,37000000,37000000,36700000,36600000,35700000,35500000,35500000,35400000,35200000,35200000,34900000,34300000,34100000,34000000,34000000,33800000,33700000,33600000,33500000,33500000,33500000,33400000,33300000,32800000,32700000,32700000,32600000,32100000,32100000,32000000,31900000,31700000,31700000,31700000,31700000,31600000,31400000,31200000,31200000,31200000,30700000,30700000,30500000,30500000,30200000,30200000,30100000,29800000,29200000,29200000,28900000,28400000,28300000,28300000,28200000,28200000,27700000,27500000,27400000,27400000,27400000,27300000,27300000,27100000,27000000,26900000,26700000,26700000,26500000,26400000,26400000,26400000,26200000,26100000,25900000,25700000,25700000,25600000,25500000,25400000,25400000,25300000,25200000,25200000,25000000,25000000,24800000,24800000,24700000,24600000,24600000,24400000,24300000,24200000,24100000,24100000,24000000,24000000,23900000,23900000,23800000,23800000,23700000,23600000,23600000,23600000,23400000,23300000,23200000,23200000,23100000,23100000,23100000,23100000,23000000,23000000,23000000,22900000,22900000,22900000,22700000,22600000,22600000,22600000,22600000,22600000,22500000,22500000,22300000,22300000,22200000,22000000,22000000,21900000,21900000,21900000,21800000,21800000,21800000,21600000,21600000,21500000,21500000,21400000,21300000,21300000,21300000,21300000,21300000,21300000,21200000,21100000,21000000,21000000,20900000,20900000,20900000,20900000,20800000,20700000,20700000,20600000,20600000,20500000,20500000,20400000,20400000,20400000,20400000,20300000,20300000,20200000,20200000,20200000,20200000,20200000,20200000,20100000,20100000,20100000,20100000,20100000,20000000,20000000,19900000,19800000,19700000,19600000,19600000,19600000,19500000,19400000,19400000,19400000,19400000,19200000,19000000,19000000,19000000,19000000,19000000,18800000,18800000,18800000,18800000,18800000,18700000,18600000,18600000,18600000,18500000,18500000,18500000,18500000,18400000,18300000,18300000,18100000,18100000,18100000,18000000,18000000,18000000,17900000,17900000,17900000,17900000,17900000,17900000,17800000,17800000,17700000,17700000,17700000,17700000,17700000,17600000,17600000,17600000,17500000,17500000,17400000,17400000,17300000,17300000,17200000,17200000,17100000,17100000,17000000,17000000,16900000,16900000,16900000,16900000,16800000,16800000,16700000,16700000,16600000,16600000,16600000,16600000,16600000,16500000,16500000,16500000,16400000,16400000,16400000,16300000,16300000,16300000,16200000,16200000,16200000,16200000,16200000,16200000,16100000,16100000,16100000,16000000,15900000,15900000,15900000,15900000,15800000,15800000,15800000,15800000,15700000,15700000,15700000,15600000,15600000,15500000,15500000,15500000,15500000,15500000,15500000,15400000,15400000,15400000,15400000,15400000,15400000,15300000,15300000,15300000,15200000,15200000,15200000,15200000,15200000,15200000,15200000,15100000,15100000,15100000,15100000,15100000,15100000,15100000,15100000,15000000,15000000,15000000,15000000,15000000,15000000,15000000,15000000,15000000,15000000,15000000,14900000,14900000,14900000,14900000,14900000,14900000,14900000,14800000,14700000,14700000,14700000,14700000,14700000,14700000,14700000,14600000,14600000,14600000,14600000,14600000,14600000,14500000,14500000,14500000,14500000,14400000,14400000,14400000,14400000,14400000,14400000,14300000,14200000,14200000,14200000,14200000,14200000,14200000,14100000,14100000,14100000,14100000,14100000,14100000,14000000,14000000,14000000,14000000,14000000,14000000,13900000,13900000,13900000,13900000,13900000,13800000,13800000,13800000,13800000,13800000,13800000,13800000,13700000,13700000,13700000,13700000,13700000,13600000,13600000,13600000,13600000,13600000,13500000,13500000,13500000,13500000,13500000,13500000,13500000,13400000,13400000,13400000,13400000,13300000,13300000,13300000,13300000,13300000,13300000,13300000,13300000,13200000,13200000,13200000,13200000,13200000,13200000,13100000,13100000,13100000,13100000,13100000,13100000,13100000,13000000,13000000,13000000,13000000,13000000,12900000,12900000,12900000,12900000,12900000,12900000,12900000,12800000,12800000,12800000,12700000,12700000,12700000,12700000,12700000,12600000,12600000,12600000,12500000,12500000,12500000,12500000,12500000,12500000,12500000,12400000,12400000,12400000,12400000,12400000,12400000,12400000,12300000,12300000,12300000,12300000],\"coloraxis\":\"coloraxis\",\"symbol\":\"circle\"},\"mode\":\"markers\",\"name\":\"\",\"orientation\":\"v\",\"showlegend\":false,\"x\":[245000000,166000000,162000000,159000000,106000000,98900000,96700000,96000000,89800000,83000000,75600000,71600000,71300000,70500000,68200000,65900000,65600000,64600000,59500000,59500000,59300000,58400000,58000000,57600000,57200000,56900000,56400000,54600000,53500000,53300000,52900000,52700000,52200000,48100000,47900000,47500000,47400000,46600000,46300000,46100000,45500000,45200000,44700000,44600000,44200000,44200000,43500000,43200000,43200000,42500000,42400000,41900000,41400000,41300000,40900000,39700000,39200000,39200000,39200000,39100000,39000000,38900000,38600000,38400000,38300000,38200000,38200000,38000000,37600000,37500000,37200000,37000000,37000000,36700000,36600000,35700000,35500000,35500000,35400000,35200000,35200000,34900000,34300000,34100000,34000000,34000000,33800000,33700000,33600000,33500000,33500000,33500000,33400000,33300000,32800000,32700000,32700000,32600000,32100000,32100000,32000000,31900000,31700000,31700000,31700000,31700000,31600000,31400000,31200000,31200000,31200000,30700000,30700000,30500000,30500000,30200000,30200000,30100000,29800000,29200000,29200000,28900000,28400000,28300000,28300000,28200000,28200000,27700000,27500000,27400000,27400000,27400000,27300000,27300000,27100000,27000000,26900000,26700000,26700000,26500000,26400000,26400000,26400000,26200000,26100000,25900000,25700000,25700000,25600000,25500000,25400000,25400000,25300000,25200000,25200000,25000000,25000000,24800000,24800000,24700000,24600000,24600000,24400000,24300000,24200000,24100000,24100000,24000000,24000000,23900000,23900000,23800000,23800000,23700000,23600000,23600000,23600000,23400000,23300000,23200000,23200000,23100000,23100000,23100000,23100000,23000000,23000000,23000000,22900000,22900000,22900000,22700000,22600000,22600000,22600000,22600000,22600000,22500000,22500000,22300000,22300000,22200000,22000000,22000000,21900000,21900000,21900000,21800000,21800000,21800000,21600000,21600000,21500000,21500000,21400000,21300000,21300000,21300000,21300000,21300000,21300000,21200000,21100000,21000000,21000000,20900000,20900000,20900000,20900000,20800000,20700000,20700000,20600000,20600000,20500000,20500000,20400000,20400000,20400000,20400000,20300000,20300000,20200000,20200000,20200000,20200000,20200000,20200000,20100000,20100000,20100000,20100000,20100000,20000000,20000000,19900000,19800000,19700000,19600000,19600000,19600000,19500000,19400000,19400000,19400000,19400000,19200000,19000000,19000000,19000000,19000000,19000000,18800000,18800000,18800000,18800000,18800000,18700000,18600000,18600000,18600000,18500000,18500000,18500000,18500000,18400000,18300000,18300000,18100000,18100000,18100000,18000000,18000000,18000000,17900000,17900000,17900000,17900000,17900000,17900000,17800000,17800000,17700000,17700000,17700000,17700000,17700000,17600000,17600000,17600000,17500000,17500000,17400000,17400000,17300000,17300000,17200000,17200000,17100000,17100000,17000000,17000000,16900000,16900000,16900000,16900000,16800000,16800000,16700000,16700000,16600000,16600000,16600000,16600000,16600000,16500000,16500000,16500000,16400000,16400000,16400000,16300000,16300000,16300000,16200000,16200000,16200000,16200000,16200000,16200000,16100000,16100000,16100000,16000000,15900000,15900000,15900000,15900000,15800000,15800000,15800000,15800000,15700000,15700000,15700000,15600000,15600000,15500000,15500000,15500000,15500000,15500000,15500000,15400000,15400000,15400000,15400000,15400000,15400000,15300000,15300000,15300000,15200000,15200000,15200000,15200000,15200000,15200000,15200000,15100000,15100000,15100000,15100000,15100000,15100000,15100000,15100000,15000000,15000000,15000000,15000000,15000000,15000000,15000000,15000000,15000000,15000000,15000000,14900000,14900000,14900000,14900000,14900000,14900000,14900000,14800000,14700000,14700000,14700000,14700000,14700000,14700000,14700000,14600000,14600000,14600000,14600000,14600000,14600000,14500000,14500000,14500000,14500000,14400000,14400000,14400000,14400000,14400000,14400000,14300000,14200000,14200000,14200000,14200000,14200000,14200000,14100000,14100000,14100000,14100000,14100000,14100000,14000000,14000000,14000000,14000000,14000000,14000000,13900000,13900000,13900000,13900000,13900000,13800000,13800000,13800000,13800000,13800000,13800000,13800000,13700000,13700000,13700000,13700000,13700000,13600000,13600000,13600000,13600000,13600000,13500000,13500000,13500000,13500000,13500000,13500000,13500000,13400000,13400000,13400000,13400000,13300000,13300000,13300000,13300000,13300000,13300000,13300000,13300000,13200000,13200000,13200000,13200000,13200000,13200000,13100000,13100000,13100000,13100000,13100000,13100000,13100000,13000000,13000000,13000000,13000000,13000000,12900000,12900000,12900000,12900000,12900000,12900000,12900000,12800000,12800000,12800000,12700000,12700000,12700000,12700000,12700000,12600000,12600000,12600000,12500000,12500000,12500000,12500000,12500000,12500000,12500000,12400000,12400000,12400000,12400000,12400000,12400000,12400000,12300000,12300000,12300000,12300000],\"xaxis\":\"x\",\"y\":[228000000000.0,28368841870.0,164000000000.0,148000000000.0,90479060027.0,77180169894.0,57856289381.0,77428473662.0,32144597566.0,101000000000.0,20826993957.0,30608119724.0,28634566938.0,73139054467.0,38843229963.0,45757850229.0,28648024439.0,61510906457.0,16241549158.0,59316472754.0,33431802698.0,57271630846.0,40602020243.0,25307753534.0,28837144516.0,27073872856.0,14696003229.0,35302243691.0,30367676736.0,30516172739.0,29884657286.0,24004842608.0,9877365274.0,14631710289.0,13626331061.0,30788679536.0,22519705183.0,27286058807.0,22936630813.0,10323391593.0,21388725229.0,16602198273.0,7828610828.0,41139050371.0,25458952022.0,50292540392.0,27568757295.0,36458726976.0,37939780685.0,26820902622.0,24519022988.0,22477745835.0,17608931161.0,5603111948.0,39450824833.0,23884824160.0,3294013141.0,10507474316.0,44900897958.0,16118181673.0,36131228583.0,25154232306.0,7339333120.0,21528116909.0,16718192386.0,13598903820.0,28519339489.0,22731415608.0,18208196857.0,27262462114.0,16402066717.0,13102611515.0,24188861917.0,19378155425.0,15653786446.0,27118354077.0,15657673422.0,16105023749.0,22637783517.0,20297931219.0,55299840198.0,25607397308.0,12746535822.0,23005313609.0,3963007415.0,11351015824.0,27274550757.0,23492684419.0,13013567335.0,14864294792.0,29611914495.0,11405809704.0,20269857567.0,5994136760.0,26355088167.0,17853798780.0,28516250629.0,23379969006.0,18699145555.0,10602236110.0,26800674545.0,19428308461.0,5711208484.0,16476978876.0,21031745531.0,2930015381.0,11615848291.0,22919271731.0,9673649438.0,17111726160.0,6187804950.0,16793072362.0,3145161634.0,16709857823.0,4521573939.0,14199108016.0,27684955537.0,19607009165.0,4457913639.0,14727238483.0,11627437847.0,17930570614.0,10062770060.0,14814192034.0,23844936965.0,7600740993.0,14412474625.0,15777682516.0,13379395501.0,19883150017.0,10336420490.0,19417887510.0,22440611155.0,7705492350.0,17318452893.0,6570935979.0,7938616641.0,4388047013.0,7173668905.0,15065753455.0,8595760553.0,27006526665.0,17211600007.0,16097531087.0,10435474336.0,11372071889.0,17793809548.0,10242981063.0,25592378292.0,14401218086.0,6430853035.0,34300482066.0,17331663193.0,11081602368.0,10409352249.0,14169516119.0,14827085149.0,17387583720.0,3699352704.0,20531704527.0,23755792542.0,3647987299.0,12385924995.0,6608773195.0,2700914170.0,10999000479.0,56106087508.0,13943030228.0,8279004442.0,4067878931.0,7213499085.0,10414479943.0,17688774915.0,20289689389.0,2135644776.0,6766461070.0,7920637200.0,9465863821.0,22471357411.0,2634.0,15751661213.0,12889240875.0,2551113422.0,9299371231.0,13151870846.0,31494513067.0,6041264489.0,10939966484.0,5320485069.0,16298342829.0,13206471140.0,10115316784.0,20847038152.0,9223534599.0,14231943358.0,17507060680.0,27084848152.0,2431154438.0,13835173331.0,8663830163.0,24059336857.0,11136266461.0,9924807127.0,18347969186.0,4454917643.0,5918314128.0,15552070846.0,4469711607.0,5614621131.0,11288359365.0,9597894786.0,5863377051.0,5890180734.0,8409641722.0,6264261757.0,6269945014.0,10644857969.0,12761253839.0,5141834668.0,10047736580.0,12895427184.0,11364908616.0,4526271677.0,7762905663.0,10631638628.0,1693149479.0,3828000587.0,4927879069.0,11058049885.0,2378448129.0,17963202261.0,8658941531.0,4956090094.0,7657171980.0,15038593883.0,11009148579.0,1796227417.0,7311322368.0,29406206620.0,3579555124.0,2441288701.0,11819051552.0,2951914200.0,2764127969.0,7274150246.0,20919403720.0,19694265358.0,6098644584.0,23353115850.0,11317309935.0,14816075927.0,6119294270.0,5634695322.0,3875172235.0,9715291883.0,13917423958.0,5759442450.0,11323617496.0,13930021471.0,8779729549.0,7906181776.0,5234251168.0,2255542592.0,1577859332.0,23038014291.0,5529131886.0,7590582024.0,4924054368.0,7229175322.0,8281724393.0,13824277846.0,16014044618.0,3654621568.0,5257834105.0,9573641299.0,9594188708.0,3276891538.0,12295637162.0,6047584292.0,20196704276.0,8761255550.0,2908120896.0,3457618361.0,8147575884.0,4051072188.0,11544297793.0,7760819588.0,1556003039.0,13378360425.0,9983065083.0,14857290259.0,3980991248.0,9601137077.0,17921124985.0,7176572299.0,3841205465.0,5168721499.0,9867515979.0,9887116267.0,16174530046.0,11057945183.0,8588704539.0,7912733203.0,3647267655.0,8396875537.0,9059696049.0,17247584185.0,2274007523.0,2977741577.0,6306204566.0,7263619576.0,7612385622.0,17763586483.0,13043561912.0,1026425106.0,11371738047.0,3606912471.0,11445492404.0,4448334716.0,9710962528.0,10847948832.0,1001465469.0,8684010451.0,4609753237.0,9544277833.0,3523578665.0,7195314800.0,3693798804.0,7102965621.0,8826138204.0,7435180827.0,9439857193.0,11946217860.0,15278668857.0,5819508534.0,2440934034.0,3037260680.0,7043235131.0,7135820721.0,9463244435.0,12844432341.0,6613422635.0,7141825267.0,1656452554.0,2990185467.0,4076692623.0,9763592867.0,14563841315.0,20522339099.0,14784781923.0,6872702790.0,7126210721.0,15812009296.0,5997599089.0,6534326412.0,9198986881.0,9052367553.0,6802382479.0,1349288771.0,3392918989.0,4122634467.0,13116313599.0,5914071870.0,5558051295.0,8696631898.0,7172386509.0,3869457097.0,8984089026.0,6386271870.0,7776706184.0,8265129639.0,12714141740.0,4499826716.0,1781226000.0,11513738907.0,1543608082.0,3736069980.0,14564170905.0,4909687948.0,2656528205.0,9938811455.0,16545966132.0,857725714.0,4503880875.0,6391679636.0,7151683497.0,7564652648.0,14198154095.0,6624168155.0,2143140898.0,3060202847.0,5324913850.0,6668507856.0,9477021288.0,10489367372.0,13897932103.0,12413869881.0,4352427049.0,9924103188.0,4008801873.0,4741434420.0,6889304306.0,8658553456.0,9978734160.0,10239836582.0,11827310821.0,13562853889.0,8932038210.0,10069000444.0,8074260978.0,4395184343.0,4977284539.0,5549770244.0,5956193599.0,8615618825.0,272678287.0,1506796393.0,4029253667.0,6751985988.0,8882319696.0,12362331529.0,12961669452.0,4684983333.0,2613197447.0,3603556207.0,5766647017.0,11182302317.0,2750902766.0,5525773746.0,4598387043.0,6290721701.0,9383692066.0,10303519926.0,600154268.0,2224121890.0,4035738731.0,4156427797.0,8011977288.0,18515587421.0,4776507159.0,6973932553.0,2084791147.0,3920559552.0,6554000320.0,10238593147.0,11428794827.0,2131548711.0,5129529846.0,5405563355.0,6036496916.0,6884215292.0,4627069704.0,4674164601.0,7719743112.0,8623705301.0,18917687143.0,13542939513.0,5094050461.0,5673347763.0,9106781518.0,5217553897.0,12513842343.0,2165885634.0,2224911030.0,1820559912.0,2480957682.0,5019136690.0,5727888539.0,6646953396.0,11039343563.0,1967930734.0,1973638757.0,9596430464.0,2939201386.0,5178142148.0,2122062016.0,1948925559.0,3764608356.0,5141201173.0,9685060624.0,5380132790.0,5545936485.0,8265920659.0,3912334359.0,11717217293.0,7958771872.0,1900272833.0,11789678655.0,9569814790.0,10022557589.0,4306212515.0,2262690743.0,4177184071.0,6482687220.0,9088562002.0,7773543609.0,7406628736.0,4129249415.0,6412313570.0,9884886099.0,1148422000.0,5224764969.0,5263540904.0,9378175604.0,1138262456.0,2182651464.0,4712624489.0,2555801802.0,4214172991.0,4399833602.0,2879263916.0,6637820731.0,2683297849.0,10664585.0,1698279553.0,8739174649.0,6270909026.0,2112274210.0,2509752944.0,3643698504.0,6300933122.0,7520379951.0,15446707595.0,5585085130.0,6662288136.0,9502983550.0,7876740921.0,4266957149.0,9927699419.0,13174393401.0,4733873025.0,1714955279.0,3303595310.0,3152402405.0,3485373675.0,2983799729.0,4935793409.0,7489455451.0,10384848759.0,11552190002.0,11691081301.0,16690788752.0,7597013023.0,2840137980.0,6933660906.0,7683670251.0,2315226648.0,4779139505.0,6993406259.0,9029609749.0,1674409945.0,374123483.0,2129773714.0],\"yaxis\":\"y\",\"type\":\"scatter\"}],                        {\"template\":{\"data\":{\"barpolar\":[{\"marker\":{\"line\":{\"color\":\"rgb(17,17,17)\",\"width\":0.5},\"pattern\":{\"fillmode\":\"overlay\",\"size\":10,\"solidity\":0.2}},\"type\":\"barpolar\"}],\"bar\":[{\"error_x\":{\"color\":\"#f2f5fa\"},\"error_y\":{\"color\":\"#f2f5fa\"},\"marker\":{\"line\":{\"color\":\"rgb(17,17,17)\",\"width\":0.5},\"pattern\":{\"fillmode\":\"overlay\",\"size\":10,\"solidity\":0.2}},\"type\":\"bar\"}],\"carpet\":[{\"aaxis\":{\"endlinecolor\":\"#A2B1C6\",\"gridcolor\":\"#506784\",\"linecolor\":\"#506784\",\"minorgridcolor\":\"#506784\",\"startlinecolor\":\"#A2B1C6\"},\"baxis\":{\"endlinecolor\":\"#A2B1C6\",\"gridcolor\":\"#506784\",\"linecolor\":\"#506784\",\"minorgridcolor\":\"#506784\",\"startlinecolor\":\"#A2B1C6\"},\"type\":\"carpet\"}],\"choropleth\":[{\"colorbar\":{\"outlinewidth\":0,\"ticks\":\"\"},\"type\":\"choropleth\"}],\"contourcarpet\":[{\"colorbar\":{\"outlinewidth\":0,\"ticks\":\"\"},\"type\":\"contourcarpet\"}],\"contour\":[{\"colorbar\":{\"outlinewidth\":0,\"ticks\":\"\"},\"colorscale\":[[0.0,\"#0d0887\"],[0.1111111111111111,\"#46039f\"],[0.2222222222222222,\"#7201a8\"],[0.3333333333333333,\"#9c179e\"],[0.4444444444444444,\"#bd3786\"],[0.5555555555555556,\"#d8576b\"],[0.6666666666666666,\"#ed7953\"],[0.7777777777777778,\"#fb9f3a\"],[0.8888888888888888,\"#fdca26\"],[1.0,\"#f0f921\"]],\"type\":\"contour\"}],\"heatmapgl\":[{\"colorbar\":{\"outlinewidth\":0,\"ticks\":\"\"},\"colorscale\":[[0.0,\"#0d0887\"],[0.1111111111111111,\"#46039f\"],[0.2222222222222222,\"#7201a8\"],[0.3333333333333333,\"#9c179e\"],[0.4444444444444444,\"#bd3786\"],[0.5555555555555556,\"#d8576b\"],[0.6666666666666666,\"#ed7953\"],[0.7777777777777778,\"#fb9f3a\"],[0.8888888888888888,\"#fdca26\"],[1.0,\"#f0f921\"]],\"type\":\"heatmapgl\"}],\"heatmap\":[{\"colorbar\":{\"outlinewidth\":0,\"ticks\":\"\"},\"colorscale\":[[0.0,\"#0d0887\"],[0.1111111111111111,\"#46039f\"],[0.2222222222222222,\"#7201a8\"],[0.3333333333333333,\"#9c179e\"],[0.4444444444444444,\"#bd3786\"],[0.5555555555555556,\"#d8576b\"],[0.6666666666666666,\"#ed7953\"],[0.7777777777777778,\"#fb9f3a\"],[0.8888888888888888,\"#fdca26\"],[1.0,\"#f0f921\"]],\"type\":\"heatmap\"}],\"histogram2dcontour\":[{\"colorbar\":{\"outlinewidth\":0,\"ticks\":\"\"},\"colorscale\":[[0.0,\"#0d0887\"],[0.1111111111111111,\"#46039f\"],[0.2222222222222222,\"#7201a8\"],[0.3333333333333333,\"#9c179e\"],[0.4444444444444444,\"#bd3786\"],[0.5555555555555556,\"#d8576b\"],[0.6666666666666666,\"#ed7953\"],[0.7777777777777778,\"#fb9f3a\"],[0.8888888888888888,\"#fdca26\"],[1.0,\"#f0f921\"]],\"type\":\"histogram2dcontour\"}],\"histogram2d\":[{\"colorbar\":{\"outlinewidth\":0,\"ticks\":\"\"},\"colorscale\":[[0.0,\"#0d0887\"],[0.1111111111111111,\"#46039f\"],[0.2222222222222222,\"#7201a8\"],[0.3333333333333333,\"#9c179e\"],[0.4444444444444444,\"#bd3786\"],[0.5555555555555556,\"#d8576b\"],[0.6666666666666666,\"#ed7953\"],[0.7777777777777778,\"#fb9f3a\"],[0.8888888888888888,\"#fdca26\"],[1.0,\"#f0f921\"]],\"type\":\"histogram2d\"}],\"histogram\":[{\"marker\":{\"pattern\":{\"fillmode\":\"overlay\",\"size\":10,\"solidity\":0.2}},\"type\":\"histogram\"}],\"mesh3d\":[{\"colorbar\":{\"outlinewidth\":0,\"ticks\":\"\"},\"type\":\"mesh3d\"}],\"parcoords\":[{\"line\":{\"colorbar\":{\"outlinewidth\":0,\"ticks\":\"\"}},\"type\":\"parcoords\"}],\"pie\":[{\"automargin\":true,\"type\":\"pie\"}],\"scatter3d\":[{\"line\":{\"colorbar\":{\"outlinewidth\":0,\"ticks\":\"\"}},\"marker\":{\"colorbar\":{\"outlinewidth\":0,\"ticks\":\"\"}},\"type\":\"scatter3d\"}],\"scattercarpet\":[{\"marker\":{\"colorbar\":{\"outlinewidth\":0,\"ticks\":\"\"}},\"type\":\"scattercarpet\"}],\"scattergeo\":[{\"marker\":{\"colorbar\":{\"outlinewidth\":0,\"ticks\":\"\"}},\"type\":\"scattergeo\"}],\"scattergl\":[{\"marker\":{\"line\":{\"color\":\"#283442\"}},\"type\":\"scattergl\"}],\"scattermapbox\":[{\"marker\":{\"colorbar\":{\"outlinewidth\":0,\"ticks\":\"\"}},\"type\":\"scattermapbox\"}],\"scatterpolargl\":[{\"marker\":{\"colorbar\":{\"outlinewidth\":0,\"ticks\":\"\"}},\"type\":\"scatterpolargl\"}],\"scatterpolar\":[{\"marker\":{\"colorbar\":{\"outlinewidth\":0,\"ticks\":\"\"}},\"type\":\"scatterpolar\"}],\"scatter\":[{\"marker\":{\"line\":{\"color\":\"#283442\"}},\"type\":\"scatter\"}],\"scatterternary\":[{\"marker\":{\"colorbar\":{\"outlinewidth\":0,\"ticks\":\"\"}},\"type\":\"scatterternary\"}],\"surface\":[{\"colorbar\":{\"outlinewidth\":0,\"ticks\":\"\"},\"colorscale\":[[0.0,\"#0d0887\"],[0.1111111111111111,\"#46039f\"],[0.2222222222222222,\"#7201a8\"],[0.3333333333333333,\"#9c179e\"],[0.4444444444444444,\"#bd3786\"],[0.5555555555555556,\"#d8576b\"],[0.6666666666666666,\"#ed7953\"],[0.7777777777777778,\"#fb9f3a\"],[0.8888888888888888,\"#fdca26\"],[1.0,\"#f0f921\"]],\"type\":\"surface\"}],\"table\":[{\"cells\":{\"fill\":{\"color\":\"#506784\"},\"line\":{\"color\":\"rgb(17,17,17)\"}},\"header\":{\"fill\":{\"color\":\"#2a3f5f\"},\"line\":{\"color\":\"rgb(17,17,17)\"}},\"type\":\"table\"}]},\"layout\":{\"annotationdefaults\":{\"arrowcolor\":\"#f2f5fa\",\"arrowhead\":0,\"arrowwidth\":1},\"autotypenumbers\":\"strict\",\"coloraxis\":{\"colorbar\":{\"outlinewidth\":0,\"ticks\":\"\"}},\"colorscale\":{\"diverging\":[[0,\"#8e0152\"],[0.1,\"#c51b7d\"],[0.2,\"#de77ae\"],[0.3,\"#f1b6da\"],[0.4,\"#fde0ef\"],[0.5,\"#f7f7f7\"],[0.6,\"#e6f5d0\"],[0.7,\"#b8e186\"],[0.8,\"#7fbc41\"],[0.9,\"#4d9221\"],[1,\"#276419\"]],\"sequential\":[[0.0,\"#0d0887\"],[0.1111111111111111,\"#46039f\"],[0.2222222222222222,\"#7201a8\"],[0.3333333333333333,\"#9c179e\"],[0.4444444444444444,\"#bd3786\"],[0.5555555555555556,\"#d8576b\"],[0.6666666666666666,\"#ed7953\"],[0.7777777777777778,\"#fb9f3a\"],[0.8888888888888888,\"#fdca26\"],[1.0,\"#f0f921\"]],\"sequentialminus\":[[0.0,\"#0d0887\"],[0.1111111111111111,\"#46039f\"],[0.2222222222222222,\"#7201a8\"],[0.3333333333333333,\"#9c179e\"],[0.4444444444444444,\"#bd3786\"],[0.5555555555555556,\"#d8576b\"],[0.6666666666666666,\"#ed7953\"],[0.7777777777777778,\"#fb9f3a\"],[0.8888888888888888,\"#fdca26\"],[1.0,\"#f0f921\"]]},\"colorway\":[\"#636efa\",\"#EF553B\",\"#00cc96\",\"#ab63fa\",\"#FFA15A\",\"#19d3f3\",\"#FF6692\",\"#B6E880\",\"#FF97FF\",\"#FECB52\"],\"font\":{\"color\":\"#f2f5fa\"},\"geo\":{\"bgcolor\":\"rgb(17,17,17)\",\"lakecolor\":\"rgb(17,17,17)\",\"landcolor\":\"rgb(17,17,17)\",\"showlakes\":true,\"showland\":true,\"subunitcolor\":\"#506784\"},\"hoverlabel\":{\"align\":\"left\"},\"hovermode\":\"closest\",\"mapbox\":{\"style\":\"dark\"},\"paper_bgcolor\":\"rgb(17,17,17)\",\"plot_bgcolor\":\"rgb(17,17,17)\",\"polar\":{\"angularaxis\":{\"gridcolor\":\"#506784\",\"linecolor\":\"#506784\",\"ticks\":\"\"},\"bgcolor\":\"rgb(17,17,17)\",\"radialaxis\":{\"gridcolor\":\"#506784\",\"linecolor\":\"#506784\",\"ticks\":\"\"}},\"scene\":{\"xaxis\":{\"backgroundcolor\":\"rgb(17,17,17)\",\"gridcolor\":\"#506784\",\"gridwidth\":2,\"linecolor\":\"#506784\",\"showbackground\":true,\"ticks\":\"\",\"zerolinecolor\":\"#C8D4E3\"},\"yaxis\":{\"backgroundcolor\":\"rgb(17,17,17)\",\"gridcolor\":\"#506784\",\"gridwidth\":2,\"linecolor\":\"#506784\",\"showbackground\":true,\"ticks\":\"\",\"zerolinecolor\":\"#C8D4E3\"},\"zaxis\":{\"backgroundcolor\":\"rgb(17,17,17)\",\"gridcolor\":\"#506784\",\"gridwidth\":2,\"linecolor\":\"#506784\",\"showbackground\":true,\"ticks\":\"\",\"zerolinecolor\":\"#C8D4E3\"}},\"shapedefaults\":{\"line\":{\"color\":\"#f2f5fa\"}},\"sliderdefaults\":{\"bgcolor\":\"#C8D4E3\",\"bordercolor\":\"rgb(17,17,17)\",\"borderwidth\":1,\"tickwidth\":0},\"ternary\":{\"aaxis\":{\"gridcolor\":\"#506784\",\"linecolor\":\"#506784\",\"ticks\":\"\"},\"baxis\":{\"gridcolor\":\"#506784\",\"linecolor\":\"#506784\",\"ticks\":\"\"},\"bgcolor\":\"rgb(17,17,17)\",\"caxis\":{\"gridcolor\":\"#506784\",\"linecolor\":\"#506784\",\"ticks\":\"\"}},\"title\":{\"x\":0.05},\"updatemenudefaults\":{\"bgcolor\":\"#506784\",\"borderwidth\":0},\"xaxis\":{\"automargin\":true,\"gridcolor\":\"#283442\",\"linecolor\":\"#506784\",\"ticks\":\"\",\"title\":{\"standoff\":15},\"zerolinecolor\":\"#283442\",\"zerolinewidth\":2},\"yaxis\":{\"automargin\":true,\"gridcolor\":\"#283442\",\"linecolor\":\"#506784\",\"ticks\":\"\",\"title\":{\"standoff\":15},\"zerolinecolor\":\"#283442\",\"zerolinewidth\":2}}},\"xaxis\":{\"anchor\":\"y\",\"domain\":[0.0,1.0],\"title\":{\"text\":\"subscribers\"}},\"yaxis\":{\"anchor\":\"x\",\"domain\":[0.0,1.0],\"title\":{\"text\":\"video views\"}},\"coloraxis\":{\"colorbar\":{\"title\":{\"text\":\"subscribers\"}},\"colorscale\":[[0.0,\"#0d0887\"],[0.1111111111111111,\"#46039f\"],[0.2222222222222222,\"#7201a8\"],[0.3333333333333333,\"#9c179e\"],[0.4444444444444444,\"#bd3786\"],[0.5555555555555556,\"#d8576b\"],[0.6666666666666666,\"#ed7953\"],[0.7777777777777778,\"#fb9f3a\"],[0.8888888888888888,\"#fdca26\"],[1.0,\"#f0f921\"]]},\"legend\":{\"tracegroupgap\":0},\"title\":{\"text\":\"\\u0417\\u0430\\u0432\\u0438\\u0441\\u0438\\u043c\\u043e\\u0441\\u0442\\u044c \\u043c\\u0435\\u0436\\u0434\\u0443 \\u043f\\u043e\\u0434\\u043f\\u0438\\u0441\\u0447\\u0438\\u043a\\u0430\\u043c\\u0438 \\u0438 \\u043f\\u0440\\u043e\\u0441\\u043c\\u043e\\u0442\\u0440\\u0430\\u043c\\u0438 \\u0432\\u0438\\u0434\\u0435\\u043e\",\"x\":0.5,\"y\":0.9}},                        {\"responsive\": true}                    ).then(function(){\n",
       "                            \n",
       "var gd = document.getElementById('faf0ac95-0c59-4d1a-96b1-62f296fbae66');\n",
       "var x = new MutationObserver(function (mutations, observer) {{\n",
       "        var display = window.getComputedStyle(gd).display;\n",
       "        if (!display || display === 'none') {{\n",
       "            console.log([gd, 'removed!']);\n",
       "            Plotly.purge(gd);\n",
       "            observer.disconnect();\n",
       "        }}\n",
       "}});\n",
       "\n",
       "// Listen for the removal of the full notebook cells\n",
       "var notebookContainer = gd.closest('#notebook-container');\n",
       "if (notebookContainer) {{\n",
       "    x.observe(notebookContainer, {childList: true});\n",
       "}}\n",
       "\n",
       "// Listen for the clearing of the current output cell\n",
       "var outputEl = gd.closest('.output');\n",
       "if (outputEl) {{\n",
       "    x.observe(outputEl, {childList: true});\n",
       "}}\n",
       "\n",
       "                        })                };                });            </script>        </div>"
      ]
     },
     "metadata": {},
     "output_type": "display_data"
    }
   ],
   "source": [
    "f = px.scatter(df, x = 'subscribers', y = 'video views',\n",
    "               color = 'subscribers',\n",
    "               title = 'Зависимость между подписчиками и просмотрами видео',\n",
    "               template = 'plotly_dark')\n",
    "\n",
    "f.update_layout(title_x=0.5, title_y=0.9)\n",
    "\n",
    "\n",
    "f.show()\n"
   ]
  },
  {
   "cell_type": "markdown",
   "id": "8e872177",
   "metadata": {},
   "source": [
    "На этом графике можно заметить линейную зависимость, это дает нам понять, что количество подписчиков и просмотров зачастую прямо пропорциональны."
   ]
  },
  {
   "cell_type": "markdown",
   "id": "2127b7cc",
   "metadata": {},
   "source": [
    "## Второй график"
   ]
  },
  {
   "cell_type": "code",
   "execution_count": 252,
   "id": "96fc3c0d",
   "metadata": {},
   "outputs": [
    {
     "data": {
      "application/vnd.plotly.v1+json": {
       "config": {
        "plotlyServerURL": "https://plot.ly"
       },
       "data": [
        {
         "hovertemplate": "uploads=%{x}<br>video views=%{marker.color}<extra></extra>",
         "legendgroup": "",
         "marker": {
          "color": [
           228000000000,
           28368841870,
           164000000000,
           148000000000,
           90479060027,
           77180169894,
           57856289381,
           77428473662,
           32144597566,
           101000000000,
           20826993957,
           30608119724,
           28634566938,
           73139054467,
           38843229963,
           45757850229,
           28648024439,
           61510906457,
           16241549158,
           59316472754,
           33431802698,
           57271630846,
           40602020243,
           25307753534,
           28837144516,
           27073872856,
           14696003229,
           35302243691,
           30367676736,
           30516172739,
           29884657286,
           24004842608,
           9877365274,
           14631710289,
           13626331061,
           30788679536,
           22519705183,
           27286058807,
           22936630813,
           10323391593,
           21388725229,
           16602198273,
           7828610828,
           41139050371,
           25458952022,
           50292540392,
           27568757295,
           36458726976,
           37939780685,
           26820902622,
           24519022988,
           22477745835,
           17608931161,
           5603111948,
           39450824833,
           23884824160,
           3294013141,
           10507474316,
           44900897958,
           16118181673,
           36131228583,
           25154232306,
           7339333120,
           21528116909,
           16718192386,
           13598903820,
           28519339489,
           22731415608,
           18208196857,
           27262462114,
           16402066717,
           13102611515,
           24188861917,
           19378155425,
           15653786446,
           27118354077,
           15657673422,
           16105023749,
           22637783517,
           20297931219,
           55299840198,
           25607397308,
           12746535822,
           23005313609,
           3963007415,
           11351015824,
           27274550757,
           23492684419,
           13013567335,
           14864294792,
           29611914495,
           11405809704,
           20269857567,
           5994136760,
           26355088167,
           17853798780,
           28516250629,
           23379969006,
           18699145555,
           10602236110,
           26800674545,
           19428308461,
           5711208484,
           16476978876,
           21031745531,
           2930015381,
           11615848291,
           22919271731,
           9673649438,
           17111726160,
           6187804950,
           16793072362,
           3145161634,
           16709857823,
           4521573939,
           14199108016,
           27684955537,
           19607009165,
           4457913639,
           14727238483,
           11627437847,
           17930570614,
           10062770060,
           14814192034,
           23844936965,
           7600740993,
           14412474625,
           15777682516,
           13379395501,
           19883150017,
           10336420490,
           19417887510,
           22440611155,
           7705492350,
           17318452893,
           6570935979,
           7938616641,
           4388047013,
           7173668905,
           15065753455,
           8595760553,
           27006526665,
           17211600007,
           16097531087,
           10435474336,
           11372071889,
           17793809548,
           10242981063,
           25592378292,
           14401218086,
           6430853035,
           34300482066,
           17331663193,
           11081602368,
           10409352249,
           14169516119,
           14827085149,
           17387583720,
           3699352704,
           20531704527,
           23755792542,
           3647987299,
           12385924995,
           6608773195,
           2700914170,
           10999000479,
           56106087508,
           13943030228,
           8279004442,
           4067878931,
           7213499085,
           10414479943,
           17688774915,
           20289689389,
           2135644776,
           6766461070,
           7920637200,
           9465863821,
           22471357411,
           2634,
           15751661213,
           12889240875,
           2551113422,
           9299371231,
           13151870846,
           31494513067,
           6041264489,
           10939966484,
           5320485069,
           16298342829,
           13206471140,
           10115316784,
           20847038152,
           9223534599,
           14231943358,
           17507060680,
           27084848152,
           2431154438,
           13835173331,
           8663830163,
           24059336857,
           11136266461,
           9924807127,
           18347969186,
           4454917643,
           5918314128,
           15552070846,
           4469711607,
           5614621131,
           11288359365,
           9597894786,
           5863377051,
           5890180734,
           8409641722,
           6264261757,
           6269945014,
           10644857969,
           12761253839,
           5141834668,
           10047736580,
           12895427184,
           11364908616,
           4526271677,
           7762905663,
           10631638628,
           1693149479,
           3828000587,
           4927879069,
           11058049885,
           2378448129,
           17963202261,
           8658941531,
           4956090094,
           7657171980,
           15038593883,
           11009148579,
           1796227417,
           7311322368,
           29406206620,
           3579555124,
           2441288701,
           11819051552,
           2951914200,
           2764127969,
           7274150246,
           20919403720,
           19694265358,
           6098644584,
           23353115850,
           11317309935,
           14816075927,
           6119294270,
           5634695322,
           3875172235,
           9715291883,
           13917423958,
           5759442450,
           11323617496,
           13930021471,
           8779729549,
           7906181776,
           5234251168,
           2255542592,
           1577859332,
           23038014291,
           5529131886,
           7590582024,
           4924054368,
           7229175322,
           8281724393,
           13824277846,
           16014044618,
           3654621568,
           5257834105,
           9573641299,
           9594188708,
           3276891538,
           12295637162,
           6047584292,
           20196704276,
           8761255550,
           2908120896,
           3457618361,
           8147575884,
           4051072188,
           11544297793,
           7760819588,
           1556003039,
           13378360425,
           9983065083,
           14857290259,
           3980991248,
           9601137077,
           17921124985,
           7176572299,
           3841205465,
           5168721499,
           9867515979,
           9887116267,
           16174530046,
           11057945183,
           8588704539,
           7912733203,
           3647267655,
           8396875537,
           9059696049,
           17247584185,
           2274007523,
           2977741577,
           6306204566,
           7263619576,
           7612385622,
           17763586483,
           13043561912,
           1026425106,
           11371738047,
           3606912471,
           11445492404,
           4448334716,
           9710962528,
           10847948832,
           1001465469,
           8684010451,
           4609753237,
           9544277833,
           3523578665,
           7195314800,
           3693798804,
           7102965621,
           8826138204,
           7435180827,
           9439857193,
           11946217860,
           15278668857,
           5819508534,
           2440934034,
           3037260680,
           7043235131,
           7135820721,
           9463244435,
           12844432341,
           6613422635,
           7141825267,
           1656452554,
           2990185467,
           4076692623,
           9763592867,
           14563841315,
           20522339099,
           14784781923,
           6872702790,
           7126210721,
           15812009296,
           5997599089,
           6534326412,
           9198986881,
           9052367553,
           6802382479,
           1349288771,
           3392918989,
           4122634467,
           13116313599,
           5914071870,
           5558051295,
           8696631898,
           7172386509,
           3869457097,
           8984089026,
           6386271870,
           7776706184,
           8265129639,
           12714141740,
           4499826716,
           1781226000,
           11513738907,
           1543608082,
           3736069980,
           14564170905,
           4909687948,
           2656528205,
           9938811455,
           16545966132,
           857725714,
           4503880875,
           6391679636,
           7151683497,
           7564652648,
           14198154095,
           6624168155,
           2143140898,
           3060202847,
           5324913850,
           6668507856,
           9477021288,
           10489367372,
           13897932103,
           12413869881,
           4352427049,
           9924103188,
           4008801873,
           4741434420,
           6889304306,
           8658553456,
           9978734160,
           10239836582,
           11827310821,
           13562853889,
           8932038210,
           10069000444,
           8074260978,
           4395184343,
           4977284539,
           5549770244,
           5956193599,
           8615618825,
           272678287,
           1506796393,
           4029253667,
           6751985988,
           8882319696,
           12362331529,
           12961669452,
           4684983333,
           2613197447,
           3603556207,
           5766647017,
           11182302317,
           2750902766,
           5525773746,
           4598387043,
           6290721701,
           9383692066,
           10303519926,
           600154268,
           2224121890,
           4035738731,
           4156427797,
           8011977288,
           18515587421,
           4776507159,
           6973932553,
           2084791147,
           3920559552,
           6554000320,
           10238593147,
           11428794827,
           2131548711,
           5129529846,
           5405563355,
           6036496916,
           6884215292,
           4627069704,
           4674164601,
           7719743112,
           8623705301,
           18917687143,
           13542939513,
           5094050461,
           5673347763,
           9106781518,
           5217553897,
           12513842343,
           2165885634,
           2224911030,
           1820559912,
           2480957682,
           5019136690,
           5727888539,
           6646953396,
           11039343563,
           1967930734,
           1973638757,
           9596430464,
           2939201386,
           5178142148,
           2122062016,
           1948925559,
           3764608356,
           5141201173,
           9685060624,
           5380132790,
           5545936485,
           8265920659,
           3912334359,
           11717217293,
           7958771872,
           1900272833,
           11789678655,
           9569814790,
           10022557589,
           4306212515,
           2262690743,
           4177184071,
           6482687220,
           9088562002,
           7773543609,
           7406628736,
           4129249415,
           6412313570,
           9884886099,
           1148422000,
           5224764969,
           5263540904,
           9378175604,
           1138262456,
           2182651464,
           4712624489,
           2555801802,
           4214172991,
           4399833602,
           2879263916,
           6637820731,
           2683297849,
           10664585,
           1698279553,
           8739174649,
           6270909026,
           2112274210,
           2509752944,
           3643698504,
           6300933122,
           7520379951,
           15446707595,
           5585085130,
           6662288136,
           9502983550,
           7876740921,
           4266957149,
           9927699419,
           13174393401,
           4733873025,
           1714955279,
           3303595310,
           3152402405,
           3485373675,
           2983799729,
           4935793409,
           7489455451,
           10384848759,
           11552190002,
           11691081301,
           16690788752,
           7597013023,
           2840137980,
           6933660906,
           7683670251,
           2315226648,
           4779139505,
           6993406259,
           9029609749,
           1674409945,
           374123483,
           2129773714
          ],
          "coloraxis": "coloraxis",
          "symbol": "circle"
         },
         "mode": "markers",
         "name": "",
         "orientation": "v",
         "showlegend": false,
         "type": "scatter",
         "x": [
          20082,
          741,
          966,
          116536,
          493,
          574,
          8548,
          70127,
          543,
          71270,
          2281,
          249,
          1337,
          129204,
          2865,
          633,
          8502,
          112915,
          389,
          39113,
          4741,
          1510,
          19487,
          283775,
          3882,
          156,
          436,
          3707,
          383,
          577,
          216,
          147,
          847,
          2052,
          65,
          3322,
          11451,
          3444,
          1,
          543,
          4660,
          4331,
          1558,
          100755,
          128,
          193890,
          326,
          1478,
          109871,
          10938,
          1218,
          84,
          4510,
          291,
          2423,
          1596,
          186,
          133,
          744,
          1876,
          72580,
          3043,
          200933,
          982,
          3532,
          11,
          24089,
          505,
          743,
          117152,
          220,
          301308,
          744,
          99,
          9168,
          654,
          7566,
          273255,
          2010,
          5490,
          2453,
          617,
          679,
          141,
          2284,
          240,
          66,
          3366,
          188,
          3741,
          96214,
          217,
          338,
          2736,
          2122,
          1521,
          2068,
          169,
          134,
          3091,
          44892,
          93311,
          929,
          6518,
          166,
          116,
          1321,
          3589,
          65,
          8976,
          3027,
          92,
          67,
          180092,
          641,
          15,
          3254,
          11501,
          151,
          1513,
          3654,
          555,
          5436,
          505,
          106983,
          3009,
          15,
          619,
          682,
          1753,
          642,
          3664,
          5438,
          1259,
          889,
          554,
          3956,
          241,
          6471,
          10022,
          3622,
          865,
          967,
          5985,
          1619,
          65286,
          749,
          42,
          287,
          78,
          3716,
          8775,
          398,
          2025,
          51129,
          89179,
          147,
          1644,
          1894,
          104,
          175,
          120,
          658,
          1667,
          67,
          802,
          23491,
          901,
          4009,
          505,
          511,
          2425,
          443,
          769,
          226,
          552,
          1251,
          6672,
          3657,
          1,
          172,
          22578,
          4445,
          456,
          3781,
          2905,
          1598,
          5718,
          1670,
          1159,
          1251,
          985,
          60964,
          495,
          180,
          1189,
          2321,
          3377,
          3315,
          34,
          1724,
          999,
          157,
          6274,
          301,
          946,
          816,
          257,
          10162,
          164,
          2942,
          219,
          51,
          17,
          114,
          733,
          78,
          951,
          1608,
          669,
          20225,
          31989,
          2325,
          2883,
          420,
          896,
          6262,
          982,
          9850,
          193,
          619,
          889,
          15,
          83,
          33229,
          296,
          206,
          1006,
          51515,
          239,
          1245,
          875,
          460,
          693,
          226,
          1935,
          761,
          3713,
          3774,
          1481,
          2384,
          5491,
          1,
          1527,
          1476,
          416,
          760,
          4225,
          18661,
          1306,
          214,
          847,
          4750,
          85,
          125974,
          10728,
          8285,
          60,
          903,
          1525,
          1154,
          79,
          2072,
          312,
          217,
          530,
          304,
          16,
          4487,
          6287,
          6289,
          1329,
          374,
          493,
          679,
          3159,
          142,
          1324,
          420,
          1521,
          707,
          2470,
          650,
          5692,
          536,
          982,
          1344,
          602,
          830,
          1426,
          772,
          26,
          512,
          739,
          211620,
          1716,
          1316,
          233,
          128,
          4702,
          182742,
          149,
          4411,
          118448,
          180,
          4778,
          1567,
          1007,
          498,
          148225,
          1015,
          1407,
          2235,
          3900,
          2337,
          4891,
          502,
          1491,
          1693,
          920,
          112261,
          20102,
          8976,
          2200,
          413,
          421,
          438,
          21243,
          14662,
          56203,
          23952,
          80,
          1444,
          989,
          1930,
          1294,
          3943,
          244899,
          31889,
          189,
          671,
          41,
          4045,
          344,
          4906,
          5105,
          796,
          132,
          633,
          20679,
          542,
          10441,
          79,
          1640,
          7090,
          6542,
          2019,
          598,
          220,
          359,
          1021,
          1525,
          5183,
          165,
          379,
          1647,
          1577,
          1725,
          21,
          10988,
          2175,
          87864,
          194,
          106,
          5056,
          11099,
          9862,
          160405,
          91704,
          3810,
          1037,
          753,
          3733,
          921,
          209520,
          2717,
          52,
          2324,
          899,
          724,
          20292,
          5198,
          965,
          2726,
          1803,
          269050,
          1788,
          3168,
          419,
          66362,
          127,
          8420,
          27944,
          4175,
          93,
          34,
          554,
          43564,
          698,
          1996,
          23490,
          80830,
          3978,
          490,
          1244,
          4009,
          1206,
          603,
          560,
          18972,
          4790,
          68606,
          293516,
          364,
          3086,
          450,
          1838,
          5628,
          101401,
          576,
          60,
          342,
          1300,
          433,
          872,
          132398,
          149,
          3,
          855,
          2854,
          43,
          1540,
          651,
          2210,
          294,
          41117,
          9652,
          1307,
          5494,
          2254,
          15075,
          1660,
          369,
          173,
          887,
          1952,
          520,
          190093,
          1505,
          4978,
          696,
          975,
          1040,
          2158,
          495,
          368,
          412,
          199,
          1097,
          16047,
          19,
          814,
          1403,
          1793,
          975,
          1357,
          462,
          7356,
          296272,
          319,
          96,
          3640,
          3166,
          608,
          2742,
          4613,
          6916,
          1640,
          1749,
          538,
          192,
          413,
          4279,
          6888,
          1022,
          33,
          1262,
          1077,
          1365,
          435,
          1444,
          12,
          838,
          29,
          409,
          510,
          1299,
          4712,
          1572,
          1598,
          39,
          169304,
          137,
          1255,
          323,
          681,
          2044,
          2483,
          119,
          142,
          812,
          252,
          825,
          1101,
          683,
          1076,
          151136,
          377,
          1699,
          102699,
          11907,
          253,
          398,
          1024,
          12419,
          1212,
          729,
          1340,
          99,
          1200,
          1500,
          39,
          62
         ],
         "xaxis": "x",
         "y": [
          228000000000,
          28368841870,
          164000000000,
          148000000000,
          90479060027,
          77180169894,
          57856289381,
          77428473662,
          32144597566,
          101000000000,
          20826993957,
          30608119724,
          28634566938,
          73139054467,
          38843229963,
          45757850229,
          28648024439,
          61510906457,
          16241549158,
          59316472754,
          33431802698,
          57271630846,
          40602020243,
          25307753534,
          28837144516,
          27073872856,
          14696003229,
          35302243691,
          30367676736,
          30516172739,
          29884657286,
          24004842608,
          9877365274,
          14631710289,
          13626331061,
          30788679536,
          22519705183,
          27286058807,
          22936630813,
          10323391593,
          21388725229,
          16602198273,
          7828610828,
          41139050371,
          25458952022,
          50292540392,
          27568757295,
          36458726976,
          37939780685,
          26820902622,
          24519022988,
          22477745835,
          17608931161,
          5603111948,
          39450824833,
          23884824160,
          3294013141,
          10507474316,
          44900897958,
          16118181673,
          36131228583,
          25154232306,
          7339333120,
          21528116909,
          16718192386,
          13598903820,
          28519339489,
          22731415608,
          18208196857,
          27262462114,
          16402066717,
          13102611515,
          24188861917,
          19378155425,
          15653786446,
          27118354077,
          15657673422,
          16105023749,
          22637783517,
          20297931219,
          55299840198,
          25607397308,
          12746535822,
          23005313609,
          3963007415,
          11351015824,
          27274550757,
          23492684419,
          13013567335,
          14864294792,
          29611914495,
          11405809704,
          20269857567,
          5994136760,
          26355088167,
          17853798780,
          28516250629,
          23379969006,
          18699145555,
          10602236110,
          26800674545,
          19428308461,
          5711208484,
          16476978876,
          21031745531,
          2930015381,
          11615848291,
          22919271731,
          9673649438,
          17111726160,
          6187804950,
          16793072362,
          3145161634,
          16709857823,
          4521573939,
          14199108016,
          27684955537,
          19607009165,
          4457913639,
          14727238483,
          11627437847,
          17930570614,
          10062770060,
          14814192034,
          23844936965,
          7600740993,
          14412474625,
          15777682516,
          13379395501,
          19883150017,
          10336420490,
          19417887510,
          22440611155,
          7705492350,
          17318452893,
          6570935979,
          7938616641,
          4388047013,
          7173668905,
          15065753455,
          8595760553,
          27006526665,
          17211600007,
          16097531087,
          10435474336,
          11372071889,
          17793809548,
          10242981063,
          25592378292,
          14401218086,
          6430853035,
          34300482066,
          17331663193,
          11081602368,
          10409352249,
          14169516119,
          14827085149,
          17387583720,
          3699352704,
          20531704527,
          23755792542,
          3647987299,
          12385924995,
          6608773195,
          2700914170,
          10999000479,
          56106087508,
          13943030228,
          8279004442,
          4067878931,
          7213499085,
          10414479943,
          17688774915,
          20289689389,
          2135644776,
          6766461070,
          7920637200,
          9465863821,
          22471357411,
          2634,
          15751661213,
          12889240875,
          2551113422,
          9299371231,
          13151870846,
          31494513067,
          6041264489,
          10939966484,
          5320485069,
          16298342829,
          13206471140,
          10115316784,
          20847038152,
          9223534599,
          14231943358,
          17507060680,
          27084848152,
          2431154438,
          13835173331,
          8663830163,
          24059336857,
          11136266461,
          9924807127,
          18347969186,
          4454917643,
          5918314128,
          15552070846,
          4469711607,
          5614621131,
          11288359365,
          9597894786,
          5863377051,
          5890180734,
          8409641722,
          6264261757,
          6269945014,
          10644857969,
          12761253839,
          5141834668,
          10047736580,
          12895427184,
          11364908616,
          4526271677,
          7762905663,
          10631638628,
          1693149479,
          3828000587,
          4927879069,
          11058049885,
          2378448129,
          17963202261,
          8658941531,
          4956090094,
          7657171980,
          15038593883,
          11009148579,
          1796227417,
          7311322368,
          29406206620,
          3579555124,
          2441288701,
          11819051552,
          2951914200,
          2764127969,
          7274150246,
          20919403720,
          19694265358,
          6098644584,
          23353115850,
          11317309935,
          14816075927,
          6119294270,
          5634695322,
          3875172235,
          9715291883,
          13917423958,
          5759442450,
          11323617496,
          13930021471,
          8779729549,
          7906181776,
          5234251168,
          2255542592,
          1577859332,
          23038014291,
          5529131886,
          7590582024,
          4924054368,
          7229175322,
          8281724393,
          13824277846,
          16014044618,
          3654621568,
          5257834105,
          9573641299,
          9594188708,
          3276891538,
          12295637162,
          6047584292,
          20196704276,
          8761255550,
          2908120896,
          3457618361,
          8147575884,
          4051072188,
          11544297793,
          7760819588,
          1556003039,
          13378360425,
          9983065083,
          14857290259,
          3980991248,
          9601137077,
          17921124985,
          7176572299,
          3841205465,
          5168721499,
          9867515979,
          9887116267,
          16174530046,
          11057945183,
          8588704539,
          7912733203,
          3647267655,
          8396875537,
          9059696049,
          17247584185,
          2274007523,
          2977741577,
          6306204566,
          7263619576,
          7612385622,
          17763586483,
          13043561912,
          1026425106,
          11371738047,
          3606912471,
          11445492404,
          4448334716,
          9710962528,
          10847948832,
          1001465469,
          8684010451,
          4609753237,
          9544277833,
          3523578665,
          7195314800,
          3693798804,
          7102965621,
          8826138204,
          7435180827,
          9439857193,
          11946217860,
          15278668857,
          5819508534,
          2440934034,
          3037260680,
          7043235131,
          7135820721,
          9463244435,
          12844432341,
          6613422635,
          7141825267,
          1656452554,
          2990185467,
          4076692623,
          9763592867,
          14563841315,
          20522339099,
          14784781923,
          6872702790,
          7126210721,
          15812009296,
          5997599089,
          6534326412,
          9198986881,
          9052367553,
          6802382479,
          1349288771,
          3392918989,
          4122634467,
          13116313599,
          5914071870,
          5558051295,
          8696631898,
          7172386509,
          3869457097,
          8984089026,
          6386271870,
          7776706184,
          8265129639,
          12714141740,
          4499826716,
          1781226000,
          11513738907,
          1543608082,
          3736069980,
          14564170905,
          4909687948,
          2656528205,
          9938811455,
          16545966132,
          857725714,
          4503880875,
          6391679636,
          7151683497,
          7564652648,
          14198154095,
          6624168155,
          2143140898,
          3060202847,
          5324913850,
          6668507856,
          9477021288,
          10489367372,
          13897932103,
          12413869881,
          4352427049,
          9924103188,
          4008801873,
          4741434420,
          6889304306,
          8658553456,
          9978734160,
          10239836582,
          11827310821,
          13562853889,
          8932038210,
          10069000444,
          8074260978,
          4395184343,
          4977284539,
          5549770244,
          5956193599,
          8615618825,
          272678287,
          1506796393,
          4029253667,
          6751985988,
          8882319696,
          12362331529,
          12961669452,
          4684983333,
          2613197447,
          3603556207,
          5766647017,
          11182302317,
          2750902766,
          5525773746,
          4598387043,
          6290721701,
          9383692066,
          10303519926,
          600154268,
          2224121890,
          4035738731,
          4156427797,
          8011977288,
          18515587421,
          4776507159,
          6973932553,
          2084791147,
          3920559552,
          6554000320,
          10238593147,
          11428794827,
          2131548711,
          5129529846,
          5405563355,
          6036496916,
          6884215292,
          4627069704,
          4674164601,
          7719743112,
          8623705301,
          18917687143,
          13542939513,
          5094050461,
          5673347763,
          9106781518,
          5217553897,
          12513842343,
          2165885634,
          2224911030,
          1820559912,
          2480957682,
          5019136690,
          5727888539,
          6646953396,
          11039343563,
          1967930734,
          1973638757,
          9596430464,
          2939201386,
          5178142148,
          2122062016,
          1948925559,
          3764608356,
          5141201173,
          9685060624,
          5380132790,
          5545936485,
          8265920659,
          3912334359,
          11717217293,
          7958771872,
          1900272833,
          11789678655,
          9569814790,
          10022557589,
          4306212515,
          2262690743,
          4177184071,
          6482687220,
          9088562002,
          7773543609,
          7406628736,
          4129249415,
          6412313570,
          9884886099,
          1148422000,
          5224764969,
          5263540904,
          9378175604,
          1138262456,
          2182651464,
          4712624489,
          2555801802,
          4214172991,
          4399833602,
          2879263916,
          6637820731,
          2683297849,
          10664585,
          1698279553,
          8739174649,
          6270909026,
          2112274210,
          2509752944,
          3643698504,
          6300933122,
          7520379951,
          15446707595,
          5585085130,
          6662288136,
          9502983550,
          7876740921,
          4266957149,
          9927699419,
          13174393401,
          4733873025,
          1714955279,
          3303595310,
          3152402405,
          3485373675,
          2983799729,
          4935793409,
          7489455451,
          10384848759,
          11552190002,
          11691081301,
          16690788752,
          7597013023,
          2840137980,
          6933660906,
          7683670251,
          2315226648,
          4779139505,
          6993406259,
          9029609749,
          1674409945,
          374123483,
          2129773714
         ],
         "yaxis": "y"
        }
       ],
       "layout": {
        "coloraxis": {
         "colorbar": {
          "title": {
           "text": "video views"
          }
         },
         "colorscale": [
          [
           0,
           "#0d0887"
          ],
          [
           0.1111111111111111,
           "#46039f"
          ],
          [
           0.2222222222222222,
           "#7201a8"
          ],
          [
           0.3333333333333333,
           "#9c179e"
          ],
          [
           0.4444444444444444,
           "#bd3786"
          ],
          [
           0.5555555555555556,
           "#d8576b"
          ],
          [
           0.6666666666666666,
           "#ed7953"
          ],
          [
           0.7777777777777778,
           "#fb9f3a"
          ],
          [
           0.8888888888888888,
           "#fdca26"
          ],
          [
           1,
           "#f0f921"
          ]
         ]
        },
        "legend": {
         "tracegroupgap": 0
        },
        "template": {
         "data": {
          "bar": [
           {
            "error_x": {
             "color": "#f2f5fa"
            },
            "error_y": {
             "color": "#f2f5fa"
            },
            "marker": {
             "line": {
              "color": "rgb(17,17,17)",
              "width": 0.5
             },
             "pattern": {
              "fillmode": "overlay",
              "size": 10,
              "solidity": 0.2
             }
            },
            "type": "bar"
           }
          ],
          "barpolar": [
           {
            "marker": {
             "line": {
              "color": "rgb(17,17,17)",
              "width": 0.5
             },
             "pattern": {
              "fillmode": "overlay",
              "size": 10,
              "solidity": 0.2
             }
            },
            "type": "barpolar"
           }
          ],
          "carpet": [
           {
            "aaxis": {
             "endlinecolor": "#A2B1C6",
             "gridcolor": "#506784",
             "linecolor": "#506784",
             "minorgridcolor": "#506784",
             "startlinecolor": "#A2B1C6"
            },
            "baxis": {
             "endlinecolor": "#A2B1C6",
             "gridcolor": "#506784",
             "linecolor": "#506784",
             "minorgridcolor": "#506784",
             "startlinecolor": "#A2B1C6"
            },
            "type": "carpet"
           }
          ],
          "choropleth": [
           {
            "colorbar": {
             "outlinewidth": 0,
             "ticks": ""
            },
            "type": "choropleth"
           }
          ],
          "contour": [
           {
            "colorbar": {
             "outlinewidth": 0,
             "ticks": ""
            },
            "colorscale": [
             [
              0,
              "#0d0887"
             ],
             [
              0.1111111111111111,
              "#46039f"
             ],
             [
              0.2222222222222222,
              "#7201a8"
             ],
             [
              0.3333333333333333,
              "#9c179e"
             ],
             [
              0.4444444444444444,
              "#bd3786"
             ],
             [
              0.5555555555555556,
              "#d8576b"
             ],
             [
              0.6666666666666666,
              "#ed7953"
             ],
             [
              0.7777777777777778,
              "#fb9f3a"
             ],
             [
              0.8888888888888888,
              "#fdca26"
             ],
             [
              1,
              "#f0f921"
             ]
            ],
            "type": "contour"
           }
          ],
          "contourcarpet": [
           {
            "colorbar": {
             "outlinewidth": 0,
             "ticks": ""
            },
            "type": "contourcarpet"
           }
          ],
          "heatmap": [
           {
            "colorbar": {
             "outlinewidth": 0,
             "ticks": ""
            },
            "colorscale": [
             [
              0,
              "#0d0887"
             ],
             [
              0.1111111111111111,
              "#46039f"
             ],
             [
              0.2222222222222222,
              "#7201a8"
             ],
             [
              0.3333333333333333,
              "#9c179e"
             ],
             [
              0.4444444444444444,
              "#bd3786"
             ],
             [
              0.5555555555555556,
              "#d8576b"
             ],
             [
              0.6666666666666666,
              "#ed7953"
             ],
             [
              0.7777777777777778,
              "#fb9f3a"
             ],
             [
              0.8888888888888888,
              "#fdca26"
             ],
             [
              1,
              "#f0f921"
             ]
            ],
            "type": "heatmap"
           }
          ],
          "heatmapgl": [
           {
            "colorbar": {
             "outlinewidth": 0,
             "ticks": ""
            },
            "colorscale": [
             [
              0,
              "#0d0887"
             ],
             [
              0.1111111111111111,
              "#46039f"
             ],
             [
              0.2222222222222222,
              "#7201a8"
             ],
             [
              0.3333333333333333,
              "#9c179e"
             ],
             [
              0.4444444444444444,
              "#bd3786"
             ],
             [
              0.5555555555555556,
              "#d8576b"
             ],
             [
              0.6666666666666666,
              "#ed7953"
             ],
             [
              0.7777777777777778,
              "#fb9f3a"
             ],
             [
              0.8888888888888888,
              "#fdca26"
             ],
             [
              1,
              "#f0f921"
             ]
            ],
            "type": "heatmapgl"
           }
          ],
          "histogram": [
           {
            "marker": {
             "pattern": {
              "fillmode": "overlay",
              "size": 10,
              "solidity": 0.2
             }
            },
            "type": "histogram"
           }
          ],
          "histogram2d": [
           {
            "colorbar": {
             "outlinewidth": 0,
             "ticks": ""
            },
            "colorscale": [
             [
              0,
              "#0d0887"
             ],
             [
              0.1111111111111111,
              "#46039f"
             ],
             [
              0.2222222222222222,
              "#7201a8"
             ],
             [
              0.3333333333333333,
              "#9c179e"
             ],
             [
              0.4444444444444444,
              "#bd3786"
             ],
             [
              0.5555555555555556,
              "#d8576b"
             ],
             [
              0.6666666666666666,
              "#ed7953"
             ],
             [
              0.7777777777777778,
              "#fb9f3a"
             ],
             [
              0.8888888888888888,
              "#fdca26"
             ],
             [
              1,
              "#f0f921"
             ]
            ],
            "type": "histogram2d"
           }
          ],
          "histogram2dcontour": [
           {
            "colorbar": {
             "outlinewidth": 0,
             "ticks": ""
            },
            "colorscale": [
             [
              0,
              "#0d0887"
             ],
             [
              0.1111111111111111,
              "#46039f"
             ],
             [
              0.2222222222222222,
              "#7201a8"
             ],
             [
              0.3333333333333333,
              "#9c179e"
             ],
             [
              0.4444444444444444,
              "#bd3786"
             ],
             [
              0.5555555555555556,
              "#d8576b"
             ],
             [
              0.6666666666666666,
              "#ed7953"
             ],
             [
              0.7777777777777778,
              "#fb9f3a"
             ],
             [
              0.8888888888888888,
              "#fdca26"
             ],
             [
              1,
              "#f0f921"
             ]
            ],
            "type": "histogram2dcontour"
           }
          ],
          "mesh3d": [
           {
            "colorbar": {
             "outlinewidth": 0,
             "ticks": ""
            },
            "type": "mesh3d"
           }
          ],
          "parcoords": [
           {
            "line": {
             "colorbar": {
              "outlinewidth": 0,
              "ticks": ""
             }
            },
            "type": "parcoords"
           }
          ],
          "pie": [
           {
            "automargin": true,
            "type": "pie"
           }
          ],
          "scatter": [
           {
            "marker": {
             "line": {
              "color": "#283442"
             }
            },
            "type": "scatter"
           }
          ],
          "scatter3d": [
           {
            "line": {
             "colorbar": {
              "outlinewidth": 0,
              "ticks": ""
             }
            },
            "marker": {
             "colorbar": {
              "outlinewidth": 0,
              "ticks": ""
             }
            },
            "type": "scatter3d"
           }
          ],
          "scattercarpet": [
           {
            "marker": {
             "colorbar": {
              "outlinewidth": 0,
              "ticks": ""
             }
            },
            "type": "scattercarpet"
           }
          ],
          "scattergeo": [
           {
            "marker": {
             "colorbar": {
              "outlinewidth": 0,
              "ticks": ""
             }
            },
            "type": "scattergeo"
           }
          ],
          "scattergl": [
           {
            "marker": {
             "line": {
              "color": "#283442"
             }
            },
            "type": "scattergl"
           }
          ],
          "scattermapbox": [
           {
            "marker": {
             "colorbar": {
              "outlinewidth": 0,
              "ticks": ""
             }
            },
            "type": "scattermapbox"
           }
          ],
          "scatterpolar": [
           {
            "marker": {
             "colorbar": {
              "outlinewidth": 0,
              "ticks": ""
             }
            },
            "type": "scatterpolar"
           }
          ],
          "scatterpolargl": [
           {
            "marker": {
             "colorbar": {
              "outlinewidth": 0,
              "ticks": ""
             }
            },
            "type": "scatterpolargl"
           }
          ],
          "scatterternary": [
           {
            "marker": {
             "colorbar": {
              "outlinewidth": 0,
              "ticks": ""
             }
            },
            "type": "scatterternary"
           }
          ],
          "surface": [
           {
            "colorbar": {
             "outlinewidth": 0,
             "ticks": ""
            },
            "colorscale": [
             [
              0,
              "#0d0887"
             ],
             [
              0.1111111111111111,
              "#46039f"
             ],
             [
              0.2222222222222222,
              "#7201a8"
             ],
             [
              0.3333333333333333,
              "#9c179e"
             ],
             [
              0.4444444444444444,
              "#bd3786"
             ],
             [
              0.5555555555555556,
              "#d8576b"
             ],
             [
              0.6666666666666666,
              "#ed7953"
             ],
             [
              0.7777777777777778,
              "#fb9f3a"
             ],
             [
              0.8888888888888888,
              "#fdca26"
             ],
             [
              1,
              "#f0f921"
             ]
            ],
            "type": "surface"
           }
          ],
          "table": [
           {
            "cells": {
             "fill": {
              "color": "#506784"
             },
             "line": {
              "color": "rgb(17,17,17)"
             }
            },
            "header": {
             "fill": {
              "color": "#2a3f5f"
             },
             "line": {
              "color": "rgb(17,17,17)"
             }
            },
            "type": "table"
           }
          ]
         },
         "layout": {
          "annotationdefaults": {
           "arrowcolor": "#f2f5fa",
           "arrowhead": 0,
           "arrowwidth": 1
          },
          "autotypenumbers": "strict",
          "coloraxis": {
           "colorbar": {
            "outlinewidth": 0,
            "ticks": ""
           }
          },
          "colorscale": {
           "diverging": [
            [
             0,
             "#8e0152"
            ],
            [
             0.1,
             "#c51b7d"
            ],
            [
             0.2,
             "#de77ae"
            ],
            [
             0.3,
             "#f1b6da"
            ],
            [
             0.4,
             "#fde0ef"
            ],
            [
             0.5,
             "#f7f7f7"
            ],
            [
             0.6,
             "#e6f5d0"
            ],
            [
             0.7,
             "#b8e186"
            ],
            [
             0.8,
             "#7fbc41"
            ],
            [
             0.9,
             "#4d9221"
            ],
            [
             1,
             "#276419"
            ]
           ],
           "sequential": [
            [
             0,
             "#0d0887"
            ],
            [
             0.1111111111111111,
             "#46039f"
            ],
            [
             0.2222222222222222,
             "#7201a8"
            ],
            [
             0.3333333333333333,
             "#9c179e"
            ],
            [
             0.4444444444444444,
             "#bd3786"
            ],
            [
             0.5555555555555556,
             "#d8576b"
            ],
            [
             0.6666666666666666,
             "#ed7953"
            ],
            [
             0.7777777777777778,
             "#fb9f3a"
            ],
            [
             0.8888888888888888,
             "#fdca26"
            ],
            [
             1,
             "#f0f921"
            ]
           ],
           "sequentialminus": [
            [
             0,
             "#0d0887"
            ],
            [
             0.1111111111111111,
             "#46039f"
            ],
            [
             0.2222222222222222,
             "#7201a8"
            ],
            [
             0.3333333333333333,
             "#9c179e"
            ],
            [
             0.4444444444444444,
             "#bd3786"
            ],
            [
             0.5555555555555556,
             "#d8576b"
            ],
            [
             0.6666666666666666,
             "#ed7953"
            ],
            [
             0.7777777777777778,
             "#fb9f3a"
            ],
            [
             0.8888888888888888,
             "#fdca26"
            ],
            [
             1,
             "#f0f921"
            ]
           ]
          },
          "colorway": [
           "#636efa",
           "#EF553B",
           "#00cc96",
           "#ab63fa",
           "#FFA15A",
           "#19d3f3",
           "#FF6692",
           "#B6E880",
           "#FF97FF",
           "#FECB52"
          ],
          "font": {
           "color": "#f2f5fa"
          },
          "geo": {
           "bgcolor": "rgb(17,17,17)",
           "lakecolor": "rgb(17,17,17)",
           "landcolor": "rgb(17,17,17)",
           "showlakes": true,
           "showland": true,
           "subunitcolor": "#506784"
          },
          "hoverlabel": {
           "align": "left"
          },
          "hovermode": "closest",
          "mapbox": {
           "style": "dark"
          },
          "paper_bgcolor": "rgb(17,17,17)",
          "plot_bgcolor": "rgb(17,17,17)",
          "polar": {
           "angularaxis": {
            "gridcolor": "#506784",
            "linecolor": "#506784",
            "ticks": ""
           },
           "bgcolor": "rgb(17,17,17)",
           "radialaxis": {
            "gridcolor": "#506784",
            "linecolor": "#506784",
            "ticks": ""
           }
          },
          "scene": {
           "xaxis": {
            "backgroundcolor": "rgb(17,17,17)",
            "gridcolor": "#506784",
            "gridwidth": 2,
            "linecolor": "#506784",
            "showbackground": true,
            "ticks": "",
            "zerolinecolor": "#C8D4E3"
           },
           "yaxis": {
            "backgroundcolor": "rgb(17,17,17)",
            "gridcolor": "#506784",
            "gridwidth": 2,
            "linecolor": "#506784",
            "showbackground": true,
            "ticks": "",
            "zerolinecolor": "#C8D4E3"
           },
           "zaxis": {
            "backgroundcolor": "rgb(17,17,17)",
            "gridcolor": "#506784",
            "gridwidth": 2,
            "linecolor": "#506784",
            "showbackground": true,
            "ticks": "",
            "zerolinecolor": "#C8D4E3"
           }
          },
          "shapedefaults": {
           "line": {
            "color": "#f2f5fa"
           }
          },
          "sliderdefaults": {
           "bgcolor": "#C8D4E3",
           "bordercolor": "rgb(17,17,17)",
           "borderwidth": 1,
           "tickwidth": 0
          },
          "ternary": {
           "aaxis": {
            "gridcolor": "#506784",
            "linecolor": "#506784",
            "ticks": ""
           },
           "baxis": {
            "gridcolor": "#506784",
            "linecolor": "#506784",
            "ticks": ""
           },
           "bgcolor": "rgb(17,17,17)",
           "caxis": {
            "gridcolor": "#506784",
            "linecolor": "#506784",
            "ticks": ""
           }
          },
          "title": {
           "x": 0.05
          },
          "updatemenudefaults": {
           "bgcolor": "#506784",
           "borderwidth": 0
          },
          "xaxis": {
           "automargin": true,
           "gridcolor": "#283442",
           "linecolor": "#506784",
           "ticks": "",
           "title": {
            "standoff": 15
           },
           "zerolinecolor": "#283442",
           "zerolinewidth": 2
          },
          "yaxis": {
           "automargin": true,
           "gridcolor": "#283442",
           "linecolor": "#506784",
           "ticks": "",
           "title": {
            "standoff": 15
           },
           "zerolinecolor": "#283442",
           "zerolinewidth": 2
          }
         }
        },
        "title": {
         "text": "Зависимость между загруженными видео и просмотрами",
         "x": 0.5
        },
        "xaxis": {
         "anchor": "y",
         "domain": [
          0,
          1
         ],
         "title": {
          "text": "Количество видео"
         }
        },
        "yaxis": {
         "anchor": "x",
         "domain": [
          0,
          1
         ],
         "title": {
          "text": "Количество просмотров"
         }
        }
       }
      },
      "text/html": [
       "<div>                            <div id=\"d908442e-01f2-4810-a99c-1bebd3910be7\" class=\"plotly-graph-div\" style=\"height:525px; width:100%;\"></div>            <script type=\"text/javascript\">                require([\"plotly\"], function(Plotly) {                    window.PLOTLYENV=window.PLOTLYENV || {};                                    if (document.getElementById(\"d908442e-01f2-4810-a99c-1bebd3910be7\")) {                    Plotly.newPlot(                        \"d908442e-01f2-4810-a99c-1bebd3910be7\",                        [{\"hovertemplate\":\"uploads=%{x}<br>video views=%{marker.color}<extra></extra>\",\"legendgroup\":\"\",\"marker\":{\"color\":[228000000000.0,28368841870.0,164000000000.0,148000000000.0,90479060027.0,77180169894.0,57856289381.0,77428473662.0,32144597566.0,101000000000.0,20826993957.0,30608119724.0,28634566938.0,73139054467.0,38843229963.0,45757850229.0,28648024439.0,61510906457.0,16241549158.0,59316472754.0,33431802698.0,57271630846.0,40602020243.0,25307753534.0,28837144516.0,27073872856.0,14696003229.0,35302243691.0,30367676736.0,30516172739.0,29884657286.0,24004842608.0,9877365274.0,14631710289.0,13626331061.0,30788679536.0,22519705183.0,27286058807.0,22936630813.0,10323391593.0,21388725229.0,16602198273.0,7828610828.0,41139050371.0,25458952022.0,50292540392.0,27568757295.0,36458726976.0,37939780685.0,26820902622.0,24519022988.0,22477745835.0,17608931161.0,5603111948.0,39450824833.0,23884824160.0,3294013141.0,10507474316.0,44900897958.0,16118181673.0,36131228583.0,25154232306.0,7339333120.0,21528116909.0,16718192386.0,13598903820.0,28519339489.0,22731415608.0,18208196857.0,27262462114.0,16402066717.0,13102611515.0,24188861917.0,19378155425.0,15653786446.0,27118354077.0,15657673422.0,16105023749.0,22637783517.0,20297931219.0,55299840198.0,25607397308.0,12746535822.0,23005313609.0,3963007415.0,11351015824.0,27274550757.0,23492684419.0,13013567335.0,14864294792.0,29611914495.0,11405809704.0,20269857567.0,5994136760.0,26355088167.0,17853798780.0,28516250629.0,23379969006.0,18699145555.0,10602236110.0,26800674545.0,19428308461.0,5711208484.0,16476978876.0,21031745531.0,2930015381.0,11615848291.0,22919271731.0,9673649438.0,17111726160.0,6187804950.0,16793072362.0,3145161634.0,16709857823.0,4521573939.0,14199108016.0,27684955537.0,19607009165.0,4457913639.0,14727238483.0,11627437847.0,17930570614.0,10062770060.0,14814192034.0,23844936965.0,7600740993.0,14412474625.0,15777682516.0,13379395501.0,19883150017.0,10336420490.0,19417887510.0,22440611155.0,7705492350.0,17318452893.0,6570935979.0,7938616641.0,4388047013.0,7173668905.0,15065753455.0,8595760553.0,27006526665.0,17211600007.0,16097531087.0,10435474336.0,11372071889.0,17793809548.0,10242981063.0,25592378292.0,14401218086.0,6430853035.0,34300482066.0,17331663193.0,11081602368.0,10409352249.0,14169516119.0,14827085149.0,17387583720.0,3699352704.0,20531704527.0,23755792542.0,3647987299.0,12385924995.0,6608773195.0,2700914170.0,10999000479.0,56106087508.0,13943030228.0,8279004442.0,4067878931.0,7213499085.0,10414479943.0,17688774915.0,20289689389.0,2135644776.0,6766461070.0,7920637200.0,9465863821.0,22471357411.0,2634.0,15751661213.0,12889240875.0,2551113422.0,9299371231.0,13151870846.0,31494513067.0,6041264489.0,10939966484.0,5320485069.0,16298342829.0,13206471140.0,10115316784.0,20847038152.0,9223534599.0,14231943358.0,17507060680.0,27084848152.0,2431154438.0,13835173331.0,8663830163.0,24059336857.0,11136266461.0,9924807127.0,18347969186.0,4454917643.0,5918314128.0,15552070846.0,4469711607.0,5614621131.0,11288359365.0,9597894786.0,5863377051.0,5890180734.0,8409641722.0,6264261757.0,6269945014.0,10644857969.0,12761253839.0,5141834668.0,10047736580.0,12895427184.0,11364908616.0,4526271677.0,7762905663.0,10631638628.0,1693149479.0,3828000587.0,4927879069.0,11058049885.0,2378448129.0,17963202261.0,8658941531.0,4956090094.0,7657171980.0,15038593883.0,11009148579.0,1796227417.0,7311322368.0,29406206620.0,3579555124.0,2441288701.0,11819051552.0,2951914200.0,2764127969.0,7274150246.0,20919403720.0,19694265358.0,6098644584.0,23353115850.0,11317309935.0,14816075927.0,6119294270.0,5634695322.0,3875172235.0,9715291883.0,13917423958.0,5759442450.0,11323617496.0,13930021471.0,8779729549.0,7906181776.0,5234251168.0,2255542592.0,1577859332.0,23038014291.0,5529131886.0,7590582024.0,4924054368.0,7229175322.0,8281724393.0,13824277846.0,16014044618.0,3654621568.0,5257834105.0,9573641299.0,9594188708.0,3276891538.0,12295637162.0,6047584292.0,20196704276.0,8761255550.0,2908120896.0,3457618361.0,8147575884.0,4051072188.0,11544297793.0,7760819588.0,1556003039.0,13378360425.0,9983065083.0,14857290259.0,3980991248.0,9601137077.0,17921124985.0,7176572299.0,3841205465.0,5168721499.0,9867515979.0,9887116267.0,16174530046.0,11057945183.0,8588704539.0,7912733203.0,3647267655.0,8396875537.0,9059696049.0,17247584185.0,2274007523.0,2977741577.0,6306204566.0,7263619576.0,7612385622.0,17763586483.0,13043561912.0,1026425106.0,11371738047.0,3606912471.0,11445492404.0,4448334716.0,9710962528.0,10847948832.0,1001465469.0,8684010451.0,4609753237.0,9544277833.0,3523578665.0,7195314800.0,3693798804.0,7102965621.0,8826138204.0,7435180827.0,9439857193.0,11946217860.0,15278668857.0,5819508534.0,2440934034.0,3037260680.0,7043235131.0,7135820721.0,9463244435.0,12844432341.0,6613422635.0,7141825267.0,1656452554.0,2990185467.0,4076692623.0,9763592867.0,14563841315.0,20522339099.0,14784781923.0,6872702790.0,7126210721.0,15812009296.0,5997599089.0,6534326412.0,9198986881.0,9052367553.0,6802382479.0,1349288771.0,3392918989.0,4122634467.0,13116313599.0,5914071870.0,5558051295.0,8696631898.0,7172386509.0,3869457097.0,8984089026.0,6386271870.0,7776706184.0,8265129639.0,12714141740.0,4499826716.0,1781226000.0,11513738907.0,1543608082.0,3736069980.0,14564170905.0,4909687948.0,2656528205.0,9938811455.0,16545966132.0,857725714.0,4503880875.0,6391679636.0,7151683497.0,7564652648.0,14198154095.0,6624168155.0,2143140898.0,3060202847.0,5324913850.0,6668507856.0,9477021288.0,10489367372.0,13897932103.0,12413869881.0,4352427049.0,9924103188.0,4008801873.0,4741434420.0,6889304306.0,8658553456.0,9978734160.0,10239836582.0,11827310821.0,13562853889.0,8932038210.0,10069000444.0,8074260978.0,4395184343.0,4977284539.0,5549770244.0,5956193599.0,8615618825.0,272678287.0,1506796393.0,4029253667.0,6751985988.0,8882319696.0,12362331529.0,12961669452.0,4684983333.0,2613197447.0,3603556207.0,5766647017.0,11182302317.0,2750902766.0,5525773746.0,4598387043.0,6290721701.0,9383692066.0,10303519926.0,600154268.0,2224121890.0,4035738731.0,4156427797.0,8011977288.0,18515587421.0,4776507159.0,6973932553.0,2084791147.0,3920559552.0,6554000320.0,10238593147.0,11428794827.0,2131548711.0,5129529846.0,5405563355.0,6036496916.0,6884215292.0,4627069704.0,4674164601.0,7719743112.0,8623705301.0,18917687143.0,13542939513.0,5094050461.0,5673347763.0,9106781518.0,5217553897.0,12513842343.0,2165885634.0,2224911030.0,1820559912.0,2480957682.0,5019136690.0,5727888539.0,6646953396.0,11039343563.0,1967930734.0,1973638757.0,9596430464.0,2939201386.0,5178142148.0,2122062016.0,1948925559.0,3764608356.0,5141201173.0,9685060624.0,5380132790.0,5545936485.0,8265920659.0,3912334359.0,11717217293.0,7958771872.0,1900272833.0,11789678655.0,9569814790.0,10022557589.0,4306212515.0,2262690743.0,4177184071.0,6482687220.0,9088562002.0,7773543609.0,7406628736.0,4129249415.0,6412313570.0,9884886099.0,1148422000.0,5224764969.0,5263540904.0,9378175604.0,1138262456.0,2182651464.0,4712624489.0,2555801802.0,4214172991.0,4399833602.0,2879263916.0,6637820731.0,2683297849.0,10664585.0,1698279553.0,8739174649.0,6270909026.0,2112274210.0,2509752944.0,3643698504.0,6300933122.0,7520379951.0,15446707595.0,5585085130.0,6662288136.0,9502983550.0,7876740921.0,4266957149.0,9927699419.0,13174393401.0,4733873025.0,1714955279.0,3303595310.0,3152402405.0,3485373675.0,2983799729.0,4935793409.0,7489455451.0,10384848759.0,11552190002.0,11691081301.0,16690788752.0,7597013023.0,2840137980.0,6933660906.0,7683670251.0,2315226648.0,4779139505.0,6993406259.0,9029609749.0,1674409945.0,374123483.0,2129773714.0],\"coloraxis\":\"coloraxis\",\"symbol\":\"circle\"},\"mode\":\"markers\",\"name\":\"\",\"orientation\":\"v\",\"showlegend\":false,\"x\":[20082,741,966,116536,493,574,8548,70127,543,71270,2281,249,1337,129204,2865,633,8502,112915,389,39113,4741,1510,19487,283775,3882,156,436,3707,383,577,216,147,847,2052,65,3322,11451,3444,1,543,4660,4331,1558,100755,128,193890,326,1478,109871,10938,1218,84,4510,291,2423,1596,186,133,744,1876,72580,3043,200933,982,3532,11,24089,505,743,117152,220,301308,744,99,9168,654,7566,273255,2010,5490,2453,617,679,141,2284,240,66,3366,188,3741,96214,217,338,2736,2122,1521,2068,169,134,3091,44892,93311,929,6518,166,116,1321,3589,65,8976,3027,92,67,180092,641,15,3254,11501,151,1513,3654,555,5436,505,106983,3009,15,619,682,1753,642,3664,5438,1259,889,554,3956,241,6471,10022,3622,865,967,5985,1619,65286,749,42,287,78,3716,8775,398,2025,51129,89179,147,1644,1894,104,175,120,658,1667,67,802,23491,901,4009,505,511,2425,443,769,226,552,1251,6672,3657,1,172,22578,4445,456,3781,2905,1598,5718,1670,1159,1251,985,60964,495,180,1189,2321,3377,3315,34,1724,999,157,6274,301,946,816,257,10162,164,2942,219,51,17,114,733,78,951,1608,669,20225,31989,2325,2883,420,896,6262,982,9850,193,619,889,15,83,33229,296,206,1006,51515,239,1245,875,460,693,226,1935,761,3713,3774,1481,2384,5491,1,1527,1476,416,760,4225,18661,1306,214,847,4750,85,125974,10728,8285,60,903,1525,1154,79,2072,312,217,530,304,16,4487,6287,6289,1329,374,493,679,3159,142,1324,420,1521,707,2470,650,5692,536,982,1344,602,830,1426,772,26,512,739,211620,1716,1316,233,128,4702,182742,149,4411,118448,180,4778,1567,1007,498,148225,1015,1407,2235,3900,2337,4891,502,1491,1693,920,112261,20102,8976,2200,413,421,438,21243,14662,56203,23952,80,1444,989,1930,1294,3943,244899,31889,189,671,41,4045,344,4906,5105,796,132,633,20679,542,10441,79,1640,7090,6542,2019,598,220,359,1021,1525,5183,165,379,1647,1577,1725,21,10988,2175,87864,194,106,5056,11099,9862,160405,91704,3810,1037,753,3733,921,209520,2717,52,2324,899,724,20292,5198,965,2726,1803,269050,1788,3168,419,66362,127,8420,27944,4175,93,34,554,43564,698,1996,23490,80830,3978,490,1244,4009,1206,603,560,18972,4790,68606,293516,364,3086,450,1838,5628,101401,576,60,342,1300,433,872,132398,149,3,855,2854,43,1540,651,2210,294,41117,9652,1307,5494,2254,15075,1660,369,173,887,1952,520,190093,1505,4978,696,975,1040,2158,495,368,412,199,1097,16047,19,814,1403,1793,975,1357,462,7356,296272,319,96,3640,3166,608,2742,4613,6916,1640,1749,538,192,413,4279,6888,1022,33,1262,1077,1365,435,1444,12,838,29,409,510,1299,4712,1572,1598,39,169304,137,1255,323,681,2044,2483,119,142,812,252,825,1101,683,1076,151136,377,1699,102699,11907,253,398,1024,12419,1212,729,1340,99,1200,1500,39,62],\"xaxis\":\"x\",\"y\":[228000000000.0,28368841870.0,164000000000.0,148000000000.0,90479060027.0,77180169894.0,57856289381.0,77428473662.0,32144597566.0,101000000000.0,20826993957.0,30608119724.0,28634566938.0,73139054467.0,38843229963.0,45757850229.0,28648024439.0,61510906457.0,16241549158.0,59316472754.0,33431802698.0,57271630846.0,40602020243.0,25307753534.0,28837144516.0,27073872856.0,14696003229.0,35302243691.0,30367676736.0,30516172739.0,29884657286.0,24004842608.0,9877365274.0,14631710289.0,13626331061.0,30788679536.0,22519705183.0,27286058807.0,22936630813.0,10323391593.0,21388725229.0,16602198273.0,7828610828.0,41139050371.0,25458952022.0,50292540392.0,27568757295.0,36458726976.0,37939780685.0,26820902622.0,24519022988.0,22477745835.0,17608931161.0,5603111948.0,39450824833.0,23884824160.0,3294013141.0,10507474316.0,44900897958.0,16118181673.0,36131228583.0,25154232306.0,7339333120.0,21528116909.0,16718192386.0,13598903820.0,28519339489.0,22731415608.0,18208196857.0,27262462114.0,16402066717.0,13102611515.0,24188861917.0,19378155425.0,15653786446.0,27118354077.0,15657673422.0,16105023749.0,22637783517.0,20297931219.0,55299840198.0,25607397308.0,12746535822.0,23005313609.0,3963007415.0,11351015824.0,27274550757.0,23492684419.0,13013567335.0,14864294792.0,29611914495.0,11405809704.0,20269857567.0,5994136760.0,26355088167.0,17853798780.0,28516250629.0,23379969006.0,18699145555.0,10602236110.0,26800674545.0,19428308461.0,5711208484.0,16476978876.0,21031745531.0,2930015381.0,11615848291.0,22919271731.0,9673649438.0,17111726160.0,6187804950.0,16793072362.0,3145161634.0,16709857823.0,4521573939.0,14199108016.0,27684955537.0,19607009165.0,4457913639.0,14727238483.0,11627437847.0,17930570614.0,10062770060.0,14814192034.0,23844936965.0,7600740993.0,14412474625.0,15777682516.0,13379395501.0,19883150017.0,10336420490.0,19417887510.0,22440611155.0,7705492350.0,17318452893.0,6570935979.0,7938616641.0,4388047013.0,7173668905.0,15065753455.0,8595760553.0,27006526665.0,17211600007.0,16097531087.0,10435474336.0,11372071889.0,17793809548.0,10242981063.0,25592378292.0,14401218086.0,6430853035.0,34300482066.0,17331663193.0,11081602368.0,10409352249.0,14169516119.0,14827085149.0,17387583720.0,3699352704.0,20531704527.0,23755792542.0,3647987299.0,12385924995.0,6608773195.0,2700914170.0,10999000479.0,56106087508.0,13943030228.0,8279004442.0,4067878931.0,7213499085.0,10414479943.0,17688774915.0,20289689389.0,2135644776.0,6766461070.0,7920637200.0,9465863821.0,22471357411.0,2634.0,15751661213.0,12889240875.0,2551113422.0,9299371231.0,13151870846.0,31494513067.0,6041264489.0,10939966484.0,5320485069.0,16298342829.0,13206471140.0,10115316784.0,20847038152.0,9223534599.0,14231943358.0,17507060680.0,27084848152.0,2431154438.0,13835173331.0,8663830163.0,24059336857.0,11136266461.0,9924807127.0,18347969186.0,4454917643.0,5918314128.0,15552070846.0,4469711607.0,5614621131.0,11288359365.0,9597894786.0,5863377051.0,5890180734.0,8409641722.0,6264261757.0,6269945014.0,10644857969.0,12761253839.0,5141834668.0,10047736580.0,12895427184.0,11364908616.0,4526271677.0,7762905663.0,10631638628.0,1693149479.0,3828000587.0,4927879069.0,11058049885.0,2378448129.0,17963202261.0,8658941531.0,4956090094.0,7657171980.0,15038593883.0,11009148579.0,1796227417.0,7311322368.0,29406206620.0,3579555124.0,2441288701.0,11819051552.0,2951914200.0,2764127969.0,7274150246.0,20919403720.0,19694265358.0,6098644584.0,23353115850.0,11317309935.0,14816075927.0,6119294270.0,5634695322.0,3875172235.0,9715291883.0,13917423958.0,5759442450.0,11323617496.0,13930021471.0,8779729549.0,7906181776.0,5234251168.0,2255542592.0,1577859332.0,23038014291.0,5529131886.0,7590582024.0,4924054368.0,7229175322.0,8281724393.0,13824277846.0,16014044618.0,3654621568.0,5257834105.0,9573641299.0,9594188708.0,3276891538.0,12295637162.0,6047584292.0,20196704276.0,8761255550.0,2908120896.0,3457618361.0,8147575884.0,4051072188.0,11544297793.0,7760819588.0,1556003039.0,13378360425.0,9983065083.0,14857290259.0,3980991248.0,9601137077.0,17921124985.0,7176572299.0,3841205465.0,5168721499.0,9867515979.0,9887116267.0,16174530046.0,11057945183.0,8588704539.0,7912733203.0,3647267655.0,8396875537.0,9059696049.0,17247584185.0,2274007523.0,2977741577.0,6306204566.0,7263619576.0,7612385622.0,17763586483.0,13043561912.0,1026425106.0,11371738047.0,3606912471.0,11445492404.0,4448334716.0,9710962528.0,10847948832.0,1001465469.0,8684010451.0,4609753237.0,9544277833.0,3523578665.0,7195314800.0,3693798804.0,7102965621.0,8826138204.0,7435180827.0,9439857193.0,11946217860.0,15278668857.0,5819508534.0,2440934034.0,3037260680.0,7043235131.0,7135820721.0,9463244435.0,12844432341.0,6613422635.0,7141825267.0,1656452554.0,2990185467.0,4076692623.0,9763592867.0,14563841315.0,20522339099.0,14784781923.0,6872702790.0,7126210721.0,15812009296.0,5997599089.0,6534326412.0,9198986881.0,9052367553.0,6802382479.0,1349288771.0,3392918989.0,4122634467.0,13116313599.0,5914071870.0,5558051295.0,8696631898.0,7172386509.0,3869457097.0,8984089026.0,6386271870.0,7776706184.0,8265129639.0,12714141740.0,4499826716.0,1781226000.0,11513738907.0,1543608082.0,3736069980.0,14564170905.0,4909687948.0,2656528205.0,9938811455.0,16545966132.0,857725714.0,4503880875.0,6391679636.0,7151683497.0,7564652648.0,14198154095.0,6624168155.0,2143140898.0,3060202847.0,5324913850.0,6668507856.0,9477021288.0,10489367372.0,13897932103.0,12413869881.0,4352427049.0,9924103188.0,4008801873.0,4741434420.0,6889304306.0,8658553456.0,9978734160.0,10239836582.0,11827310821.0,13562853889.0,8932038210.0,10069000444.0,8074260978.0,4395184343.0,4977284539.0,5549770244.0,5956193599.0,8615618825.0,272678287.0,1506796393.0,4029253667.0,6751985988.0,8882319696.0,12362331529.0,12961669452.0,4684983333.0,2613197447.0,3603556207.0,5766647017.0,11182302317.0,2750902766.0,5525773746.0,4598387043.0,6290721701.0,9383692066.0,10303519926.0,600154268.0,2224121890.0,4035738731.0,4156427797.0,8011977288.0,18515587421.0,4776507159.0,6973932553.0,2084791147.0,3920559552.0,6554000320.0,10238593147.0,11428794827.0,2131548711.0,5129529846.0,5405563355.0,6036496916.0,6884215292.0,4627069704.0,4674164601.0,7719743112.0,8623705301.0,18917687143.0,13542939513.0,5094050461.0,5673347763.0,9106781518.0,5217553897.0,12513842343.0,2165885634.0,2224911030.0,1820559912.0,2480957682.0,5019136690.0,5727888539.0,6646953396.0,11039343563.0,1967930734.0,1973638757.0,9596430464.0,2939201386.0,5178142148.0,2122062016.0,1948925559.0,3764608356.0,5141201173.0,9685060624.0,5380132790.0,5545936485.0,8265920659.0,3912334359.0,11717217293.0,7958771872.0,1900272833.0,11789678655.0,9569814790.0,10022557589.0,4306212515.0,2262690743.0,4177184071.0,6482687220.0,9088562002.0,7773543609.0,7406628736.0,4129249415.0,6412313570.0,9884886099.0,1148422000.0,5224764969.0,5263540904.0,9378175604.0,1138262456.0,2182651464.0,4712624489.0,2555801802.0,4214172991.0,4399833602.0,2879263916.0,6637820731.0,2683297849.0,10664585.0,1698279553.0,8739174649.0,6270909026.0,2112274210.0,2509752944.0,3643698504.0,6300933122.0,7520379951.0,15446707595.0,5585085130.0,6662288136.0,9502983550.0,7876740921.0,4266957149.0,9927699419.0,13174393401.0,4733873025.0,1714955279.0,3303595310.0,3152402405.0,3485373675.0,2983799729.0,4935793409.0,7489455451.0,10384848759.0,11552190002.0,11691081301.0,16690788752.0,7597013023.0,2840137980.0,6933660906.0,7683670251.0,2315226648.0,4779139505.0,6993406259.0,9029609749.0,1674409945.0,374123483.0,2129773714.0],\"yaxis\":\"y\",\"type\":\"scatter\"}],                        {\"template\":{\"data\":{\"barpolar\":[{\"marker\":{\"line\":{\"color\":\"rgb(17,17,17)\",\"width\":0.5},\"pattern\":{\"fillmode\":\"overlay\",\"size\":10,\"solidity\":0.2}},\"type\":\"barpolar\"}],\"bar\":[{\"error_x\":{\"color\":\"#f2f5fa\"},\"error_y\":{\"color\":\"#f2f5fa\"},\"marker\":{\"line\":{\"color\":\"rgb(17,17,17)\",\"width\":0.5},\"pattern\":{\"fillmode\":\"overlay\",\"size\":10,\"solidity\":0.2}},\"type\":\"bar\"}],\"carpet\":[{\"aaxis\":{\"endlinecolor\":\"#A2B1C6\",\"gridcolor\":\"#506784\",\"linecolor\":\"#506784\",\"minorgridcolor\":\"#506784\",\"startlinecolor\":\"#A2B1C6\"},\"baxis\":{\"endlinecolor\":\"#A2B1C6\",\"gridcolor\":\"#506784\",\"linecolor\":\"#506784\",\"minorgridcolor\":\"#506784\",\"startlinecolor\":\"#A2B1C6\"},\"type\":\"carpet\"}],\"choropleth\":[{\"colorbar\":{\"outlinewidth\":0,\"ticks\":\"\"},\"type\":\"choropleth\"}],\"contourcarpet\":[{\"colorbar\":{\"outlinewidth\":0,\"ticks\":\"\"},\"type\":\"contourcarpet\"}],\"contour\":[{\"colorbar\":{\"outlinewidth\":0,\"ticks\":\"\"},\"colorscale\":[[0.0,\"#0d0887\"],[0.1111111111111111,\"#46039f\"],[0.2222222222222222,\"#7201a8\"],[0.3333333333333333,\"#9c179e\"],[0.4444444444444444,\"#bd3786\"],[0.5555555555555556,\"#d8576b\"],[0.6666666666666666,\"#ed7953\"],[0.7777777777777778,\"#fb9f3a\"],[0.8888888888888888,\"#fdca26\"],[1.0,\"#f0f921\"]],\"type\":\"contour\"}],\"heatmapgl\":[{\"colorbar\":{\"outlinewidth\":0,\"ticks\":\"\"},\"colorscale\":[[0.0,\"#0d0887\"],[0.1111111111111111,\"#46039f\"],[0.2222222222222222,\"#7201a8\"],[0.3333333333333333,\"#9c179e\"],[0.4444444444444444,\"#bd3786\"],[0.5555555555555556,\"#d8576b\"],[0.6666666666666666,\"#ed7953\"],[0.7777777777777778,\"#fb9f3a\"],[0.8888888888888888,\"#fdca26\"],[1.0,\"#f0f921\"]],\"type\":\"heatmapgl\"}],\"heatmap\":[{\"colorbar\":{\"outlinewidth\":0,\"ticks\":\"\"},\"colorscale\":[[0.0,\"#0d0887\"],[0.1111111111111111,\"#46039f\"],[0.2222222222222222,\"#7201a8\"],[0.3333333333333333,\"#9c179e\"],[0.4444444444444444,\"#bd3786\"],[0.5555555555555556,\"#d8576b\"],[0.6666666666666666,\"#ed7953\"],[0.7777777777777778,\"#fb9f3a\"],[0.8888888888888888,\"#fdca26\"],[1.0,\"#f0f921\"]],\"type\":\"heatmap\"}],\"histogram2dcontour\":[{\"colorbar\":{\"outlinewidth\":0,\"ticks\":\"\"},\"colorscale\":[[0.0,\"#0d0887\"],[0.1111111111111111,\"#46039f\"],[0.2222222222222222,\"#7201a8\"],[0.3333333333333333,\"#9c179e\"],[0.4444444444444444,\"#bd3786\"],[0.5555555555555556,\"#d8576b\"],[0.6666666666666666,\"#ed7953\"],[0.7777777777777778,\"#fb9f3a\"],[0.8888888888888888,\"#fdca26\"],[1.0,\"#f0f921\"]],\"type\":\"histogram2dcontour\"}],\"histogram2d\":[{\"colorbar\":{\"outlinewidth\":0,\"ticks\":\"\"},\"colorscale\":[[0.0,\"#0d0887\"],[0.1111111111111111,\"#46039f\"],[0.2222222222222222,\"#7201a8\"],[0.3333333333333333,\"#9c179e\"],[0.4444444444444444,\"#bd3786\"],[0.5555555555555556,\"#d8576b\"],[0.6666666666666666,\"#ed7953\"],[0.7777777777777778,\"#fb9f3a\"],[0.8888888888888888,\"#fdca26\"],[1.0,\"#f0f921\"]],\"type\":\"histogram2d\"}],\"histogram\":[{\"marker\":{\"pattern\":{\"fillmode\":\"overlay\",\"size\":10,\"solidity\":0.2}},\"type\":\"histogram\"}],\"mesh3d\":[{\"colorbar\":{\"outlinewidth\":0,\"ticks\":\"\"},\"type\":\"mesh3d\"}],\"parcoords\":[{\"line\":{\"colorbar\":{\"outlinewidth\":0,\"ticks\":\"\"}},\"type\":\"parcoords\"}],\"pie\":[{\"automargin\":true,\"type\":\"pie\"}],\"scatter3d\":[{\"line\":{\"colorbar\":{\"outlinewidth\":0,\"ticks\":\"\"}},\"marker\":{\"colorbar\":{\"outlinewidth\":0,\"ticks\":\"\"}},\"type\":\"scatter3d\"}],\"scattercarpet\":[{\"marker\":{\"colorbar\":{\"outlinewidth\":0,\"ticks\":\"\"}},\"type\":\"scattercarpet\"}],\"scattergeo\":[{\"marker\":{\"colorbar\":{\"outlinewidth\":0,\"ticks\":\"\"}},\"type\":\"scattergeo\"}],\"scattergl\":[{\"marker\":{\"line\":{\"color\":\"#283442\"}},\"type\":\"scattergl\"}],\"scattermapbox\":[{\"marker\":{\"colorbar\":{\"outlinewidth\":0,\"ticks\":\"\"}},\"type\":\"scattermapbox\"}],\"scatterpolargl\":[{\"marker\":{\"colorbar\":{\"outlinewidth\":0,\"ticks\":\"\"}},\"type\":\"scatterpolargl\"}],\"scatterpolar\":[{\"marker\":{\"colorbar\":{\"outlinewidth\":0,\"ticks\":\"\"}},\"type\":\"scatterpolar\"}],\"scatter\":[{\"marker\":{\"line\":{\"color\":\"#283442\"}},\"type\":\"scatter\"}],\"scatterternary\":[{\"marker\":{\"colorbar\":{\"outlinewidth\":0,\"ticks\":\"\"}},\"type\":\"scatterternary\"}],\"surface\":[{\"colorbar\":{\"outlinewidth\":0,\"ticks\":\"\"},\"colorscale\":[[0.0,\"#0d0887\"],[0.1111111111111111,\"#46039f\"],[0.2222222222222222,\"#7201a8\"],[0.3333333333333333,\"#9c179e\"],[0.4444444444444444,\"#bd3786\"],[0.5555555555555556,\"#d8576b\"],[0.6666666666666666,\"#ed7953\"],[0.7777777777777778,\"#fb9f3a\"],[0.8888888888888888,\"#fdca26\"],[1.0,\"#f0f921\"]],\"type\":\"surface\"}],\"table\":[{\"cells\":{\"fill\":{\"color\":\"#506784\"},\"line\":{\"color\":\"rgb(17,17,17)\"}},\"header\":{\"fill\":{\"color\":\"#2a3f5f\"},\"line\":{\"color\":\"rgb(17,17,17)\"}},\"type\":\"table\"}]},\"layout\":{\"annotationdefaults\":{\"arrowcolor\":\"#f2f5fa\",\"arrowhead\":0,\"arrowwidth\":1},\"autotypenumbers\":\"strict\",\"coloraxis\":{\"colorbar\":{\"outlinewidth\":0,\"ticks\":\"\"}},\"colorscale\":{\"diverging\":[[0,\"#8e0152\"],[0.1,\"#c51b7d\"],[0.2,\"#de77ae\"],[0.3,\"#f1b6da\"],[0.4,\"#fde0ef\"],[0.5,\"#f7f7f7\"],[0.6,\"#e6f5d0\"],[0.7,\"#b8e186\"],[0.8,\"#7fbc41\"],[0.9,\"#4d9221\"],[1,\"#276419\"]],\"sequential\":[[0.0,\"#0d0887\"],[0.1111111111111111,\"#46039f\"],[0.2222222222222222,\"#7201a8\"],[0.3333333333333333,\"#9c179e\"],[0.4444444444444444,\"#bd3786\"],[0.5555555555555556,\"#d8576b\"],[0.6666666666666666,\"#ed7953\"],[0.7777777777777778,\"#fb9f3a\"],[0.8888888888888888,\"#fdca26\"],[1.0,\"#f0f921\"]],\"sequentialminus\":[[0.0,\"#0d0887\"],[0.1111111111111111,\"#46039f\"],[0.2222222222222222,\"#7201a8\"],[0.3333333333333333,\"#9c179e\"],[0.4444444444444444,\"#bd3786\"],[0.5555555555555556,\"#d8576b\"],[0.6666666666666666,\"#ed7953\"],[0.7777777777777778,\"#fb9f3a\"],[0.8888888888888888,\"#fdca26\"],[1.0,\"#f0f921\"]]},\"colorway\":[\"#636efa\",\"#EF553B\",\"#00cc96\",\"#ab63fa\",\"#FFA15A\",\"#19d3f3\",\"#FF6692\",\"#B6E880\",\"#FF97FF\",\"#FECB52\"],\"font\":{\"color\":\"#f2f5fa\"},\"geo\":{\"bgcolor\":\"rgb(17,17,17)\",\"lakecolor\":\"rgb(17,17,17)\",\"landcolor\":\"rgb(17,17,17)\",\"showlakes\":true,\"showland\":true,\"subunitcolor\":\"#506784\"},\"hoverlabel\":{\"align\":\"left\"},\"hovermode\":\"closest\",\"mapbox\":{\"style\":\"dark\"},\"paper_bgcolor\":\"rgb(17,17,17)\",\"plot_bgcolor\":\"rgb(17,17,17)\",\"polar\":{\"angularaxis\":{\"gridcolor\":\"#506784\",\"linecolor\":\"#506784\",\"ticks\":\"\"},\"bgcolor\":\"rgb(17,17,17)\",\"radialaxis\":{\"gridcolor\":\"#506784\",\"linecolor\":\"#506784\",\"ticks\":\"\"}},\"scene\":{\"xaxis\":{\"backgroundcolor\":\"rgb(17,17,17)\",\"gridcolor\":\"#506784\",\"gridwidth\":2,\"linecolor\":\"#506784\",\"showbackground\":true,\"ticks\":\"\",\"zerolinecolor\":\"#C8D4E3\"},\"yaxis\":{\"backgroundcolor\":\"rgb(17,17,17)\",\"gridcolor\":\"#506784\",\"gridwidth\":2,\"linecolor\":\"#506784\",\"showbackground\":true,\"ticks\":\"\",\"zerolinecolor\":\"#C8D4E3\"},\"zaxis\":{\"backgroundcolor\":\"rgb(17,17,17)\",\"gridcolor\":\"#506784\",\"gridwidth\":2,\"linecolor\":\"#506784\",\"showbackground\":true,\"ticks\":\"\",\"zerolinecolor\":\"#C8D4E3\"}},\"shapedefaults\":{\"line\":{\"color\":\"#f2f5fa\"}},\"sliderdefaults\":{\"bgcolor\":\"#C8D4E3\",\"bordercolor\":\"rgb(17,17,17)\",\"borderwidth\":1,\"tickwidth\":0},\"ternary\":{\"aaxis\":{\"gridcolor\":\"#506784\",\"linecolor\":\"#506784\",\"ticks\":\"\"},\"baxis\":{\"gridcolor\":\"#506784\",\"linecolor\":\"#506784\",\"ticks\":\"\"},\"bgcolor\":\"rgb(17,17,17)\",\"caxis\":{\"gridcolor\":\"#506784\",\"linecolor\":\"#506784\",\"ticks\":\"\"}},\"title\":{\"x\":0.05},\"updatemenudefaults\":{\"bgcolor\":\"#506784\",\"borderwidth\":0},\"xaxis\":{\"automargin\":true,\"gridcolor\":\"#283442\",\"linecolor\":\"#506784\",\"ticks\":\"\",\"title\":{\"standoff\":15},\"zerolinecolor\":\"#283442\",\"zerolinewidth\":2},\"yaxis\":{\"automargin\":true,\"gridcolor\":\"#283442\",\"linecolor\":\"#506784\",\"ticks\":\"\",\"title\":{\"standoff\":15},\"zerolinecolor\":\"#283442\",\"zerolinewidth\":2}}},\"xaxis\":{\"anchor\":\"y\",\"domain\":[0.0,1.0],\"title\":{\"text\":\"\\u041a\\u043e\\u043b\\u0438\\u0447\\u0435\\u0441\\u0442\\u0432\\u043e \\u0432\\u0438\\u0434\\u0435\\u043e\"}},\"yaxis\":{\"anchor\":\"x\",\"domain\":[0.0,1.0],\"title\":{\"text\":\"\\u041a\\u043e\\u043b\\u0438\\u0447\\u0435\\u0441\\u0442\\u0432\\u043e \\u043f\\u0440\\u043e\\u0441\\u043c\\u043e\\u0442\\u0440\\u043e\\u0432\"}},\"coloraxis\":{\"colorbar\":{\"title\":{\"text\":\"video views\"}},\"colorscale\":[[0.0,\"#0d0887\"],[0.1111111111111111,\"#46039f\"],[0.2222222222222222,\"#7201a8\"],[0.3333333333333333,\"#9c179e\"],[0.4444444444444444,\"#bd3786\"],[0.5555555555555556,\"#d8576b\"],[0.6666666666666666,\"#ed7953\"],[0.7777777777777778,\"#fb9f3a\"],[0.8888888888888888,\"#fdca26\"],[1.0,\"#f0f921\"]]},\"legend\":{\"tracegroupgap\":0},\"title\":{\"text\":\"\\u0417\\u0430\\u0432\\u0438\\u0441\\u0438\\u043c\\u043e\\u0441\\u0442\\u044c \\u043c\\u0435\\u0436\\u0434\\u0443 \\u0437\\u0430\\u0433\\u0440\\u0443\\u0436\\u0435\\u043d\\u043d\\u044b\\u043c\\u0438 \\u0432\\u0438\\u0434\\u0435\\u043e \\u0438 \\u043f\\u0440\\u043e\\u0441\\u043c\\u043e\\u0442\\u0440\\u0430\\u043c\\u0438\",\"x\":0.5}},                        {\"responsive\": true}                    ).then(function(){\n",
       "                            \n",
       "var gd = document.getElementById('d908442e-01f2-4810-a99c-1bebd3910be7');\n",
       "var x = new MutationObserver(function (mutations, observer) {{\n",
       "        var display = window.getComputedStyle(gd).display;\n",
       "        if (!display || display === 'none') {{\n",
       "            console.log([gd, 'removed!']);\n",
       "            Plotly.purge(gd);\n",
       "            observer.disconnect();\n",
       "        }}\n",
       "}});\n",
       "\n",
       "// Listen for the removal of the full notebook cells\n",
       "var notebookContainer = gd.closest('#notebook-container');\n",
       "if (notebookContainer) {{\n",
       "    x.observe(notebookContainer, {childList: true});\n",
       "}}\n",
       "\n",
       "// Listen for the clearing of the current output cell\n",
       "var outputEl = gd.closest('.output');\n",
       "if (outputEl) {{\n",
       "    x.observe(outputEl, {childList: true});\n",
       "}}\n",
       "\n",
       "                        })                };                });            </script>        </div>"
      ]
     },
     "metadata": {},
     "output_type": "display_data"
    }
   ],
   "source": [
    "\n",
    "fig = px.scatter(df,x = 'uploads', y = 'video views',template = 'plotly_dark',\n",
    "          title = 'Зависимость между загруженными видео и просмотрами',\n",
    "                 color = 'video views')\n",
    "fig.update_layout(title_x = 0.5,xaxis_title = 'Количество видео',\n",
    "                 yaxis_title = 'Количество просмотров')\n",
    "fig.show()\n",
    "\n",
    "\n",
    "\n",
    "\n"
   ]
  },
  {
   "cell_type": "markdown",
   "id": "05b01d17",
   "metadata": {},
   "source": [
    "Здесь можно заметить что, количество просмотров не зависит от количества выкладываемых видео. Здесь можно сделать вывод, что лучше всего делать упор на разнообразие и качество контента, чем на его количество."
   ]
  },
  {
   "cell_type": "markdown",
   "id": "3c92db17",
   "metadata": {},
   "source": [
    "## Третий график"
   ]
  },
  {
   "cell_type": "code",
   "execution_count": 253,
   "id": "1a97ebc1",
   "metadata": {},
   "outputs": [
    {
     "data": {
      "application/vnd.plotly.v1+json": {
       "config": {
        "plotlyServerURL": "https://plot.ly"
       },
       "data": [
        {
         "alignmentgroup": "True",
         "hovertemplate": "Country=%{y}<br>video views=%{x}<extra></extra>",
         "legendgroup": "United States",
         "marker": {
          "color": "#636efa",
          "pattern": {
           "shape": ""
          }
         },
         "name": "United States",
         "offsetgroup": "United States",
         "orientation": "h",
         "showlegend": true,
         "textposition": "auto",
         "type": "bar",
         "x": [
          2419888243871
         ],
         "xaxis": "x",
         "y": [
          "United States"
         ],
         "yaxis": "y"
        },
        {
         "alignmentgroup": "True",
         "hovertemplate": "Country=%{y}<br>video views=%{x}<extra></extra>",
         "legendgroup": "India",
         "marker": {
          "color": "#EF553B",
          "pattern": {
           "shape": ""
          }
         },
         "name": "India",
         "offsetgroup": "India",
         "orientation": "h",
         "showlegend": true,
         "textposition": "auto",
         "type": "bar",
         "x": [
          2139625163617
         ],
         "xaxis": "x",
         "y": [
          "India"
         ],
         "yaxis": "y"
        },
        {
         "alignmentgroup": "True",
         "hovertemplate": "Country=%{y}<br>video views=%{x}<extra></extra>",
         "legendgroup": "Brazil",
         "marker": {
          "color": "#00cc96",
          "pattern": {
           "shape": ""
          }
         },
         "name": "Brazil",
         "offsetgroup": "Brazil",
         "orientation": "h",
         "showlegend": true,
         "textposition": "auto",
         "type": "bar",
         "x": [
          289835608792
         ],
         "xaxis": "x",
         "y": [
          "Brazil"
         ],
         "yaxis": "y"
        },
        {
         "alignmentgroup": "True",
         "hovertemplate": "Country=%{y}<br>video views=%{x}<extra></extra>",
         "legendgroup": "United Kingdom",
         "marker": {
          "color": "#ab63fa",
          "pattern": {
           "shape": ""
          }
         },
         "name": "United Kingdom",
         "offsetgroup": "United Kingdom",
         "orientation": "h",
         "showlegend": true,
         "textposition": "auto",
         "type": "bar",
         "x": [
          268088509793
         ],
         "xaxis": "x",
         "y": [
          "United Kingdom"
         ],
         "yaxis": "y"
        },
        {
         "alignmentgroup": "True",
         "hovertemplate": "Country=%{y}<br>video views=%{x}<extra></extra>",
         "legendgroup": "Russia",
         "marker": {
          "color": "#FFA15A",
          "pattern": {
           "shape": ""
          }
         },
         "name": "Russia",
         "offsetgroup": "Russia",
         "orientation": "h",
         "showlegend": true,
         "textposition": "auto",
         "type": "bar",
         "x": [
          228295040777
         ],
         "xaxis": "x",
         "y": [
          "Russia"
         ],
         "yaxis": "y"
        },
        {
         "alignmentgroup": "True",
         "hovertemplate": "Country=%{y}<br>video views=%{x}<extra></extra>",
         "legendgroup": "Thailand",
         "marker": {
          "color": "#19d3f3",
          "pattern": {
           "shape": ""
          }
         },
         "name": "Thailand",
         "offsetgroup": "Thailand",
         "orientation": "h",
         "showlegend": true,
         "textposition": "auto",
         "type": "bar",
         "x": [
          208786390183
         ],
         "xaxis": "x",
         "y": [
          "Thailand"
         ],
         "yaxis": "y"
        },
        {
         "alignmentgroup": "True",
         "hovertemplate": "Country=%{y}<br>video views=%{x}<extra></extra>",
         "legendgroup": "Argentina",
         "marker": {
          "color": "#FF6692",
          "pattern": {
           "shape": ""
          }
         },
         "name": "Argentina",
         "offsetgroup": "Argentina",
         "orientation": "h",
         "showlegend": true,
         "textposition": "auto",
         "type": "bar",
         "x": [
          165148372609
         ],
         "xaxis": "x",
         "y": [
          "Argentina"
         ],
         "yaxis": "y"
        },
        {
         "alignmentgroup": "True",
         "hovertemplate": "Country=%{y}<br>video views=%{x}<extra></extra>",
         "legendgroup": "South Korea",
         "marker": {
          "color": "#B6E880",
          "pattern": {
           "shape": ""
          }
         },
         "name": "South Korea",
         "offsetgroup": "South Korea",
         "orientation": "h",
         "showlegend": true,
         "textposition": "auto",
         "type": "bar",
         "x": [
          129352604953
         ],
         "xaxis": "x",
         "y": [
          "South Korea"
         ],
         "yaxis": "y"
        },
        {
         "alignmentgroup": "True",
         "hovertemplate": "Country=%{y}<br>video views=%{x}<extra></extra>",
         "legendgroup": "Indonesia",
         "marker": {
          "color": "#FF97FF",
          "pattern": {
           "shape": ""
          }
         },
         "name": "Indonesia",
         "offsetgroup": "Indonesia",
         "orientation": "h",
         "showlegend": true,
         "textposition": "auto",
         "type": "bar",
         "x": [
          126148768961
         ],
         "xaxis": "x",
         "y": [
          "Indonesia"
         ],
         "yaxis": "y"
        },
        {
         "alignmentgroup": "True",
         "hovertemplate": "Country=%{y}<br>video views=%{x}<extra></extra>",
         "legendgroup": "Colombia",
         "marker": {
          "color": "#FECB52",
          "pattern": {
           "shape": ""
          }
         },
         "name": "Colombia",
         "offsetgroup": "Colombia",
         "orientation": "h",
         "showlegend": true,
         "textposition": "auto",
         "type": "bar",
         "x": [
          123136914737
         ],
         "xaxis": "x",
         "y": [
          "Colombia"
         ],
         "yaxis": "y"
        },
        {
         "alignmentgroup": "True",
         "hovertemplate": "Country=%{y}<br>video views=%{x}<extra></extra>",
         "legendgroup": "Philippines",
         "marker": {
          "color": "#636efa",
          "pattern": {
           "shape": ""
          }
         },
         "name": "Philippines",
         "offsetgroup": "Philippines",
         "orientation": "h",
         "showlegend": true,
         "textposition": "auto",
         "type": "bar",
         "x": [
          116210693086
         ],
         "xaxis": "x",
         "y": [
          "Philippines"
         ],
         "yaxis": "y"
        },
        {
         "alignmentgroup": "True",
         "hovertemplate": "Country=%{y}<br>video views=%{x}<extra></extra>",
         "legendgroup": "Canada",
         "marker": {
          "color": "#EF553B",
          "pattern": {
           "shape": ""
          }
         },
         "name": "Canada",
         "offsetgroup": "Canada",
         "orientation": "h",
         "showlegend": true,
         "textposition": "auto",
         "type": "bar",
         "x": [
          114294246679
         ],
         "xaxis": "x",
         "y": [
          "Canada"
         ],
         "yaxis": "y"
        },
        {
         "alignmentgroup": "True",
         "hovertemplate": "Country=%{y}<br>video views=%{x}<extra></extra>",
         "legendgroup": "Pakistan",
         "marker": {
          "color": "#00cc96",
          "pattern": {
           "shape": ""
          }
         },
         "name": "Pakistan",
         "offsetgroup": "Pakistan",
         "orientation": "h",
         "showlegend": true,
         "textposition": "auto",
         "type": "bar",
         "x": [
          108651656560
         ],
         "xaxis": "x",
         "y": [
          "Pakistan"
         ],
         "yaxis": "y"
        },
        {
         "alignmentgroup": "True",
         "hovertemplate": "Country=%{y}<br>video views=%{x}<extra></extra>",
         "legendgroup": "Mexico",
         "marker": {
          "color": "#ab63fa",
          "pattern": {
           "shape": ""
          }
         },
         "name": "Mexico",
         "offsetgroup": "Mexico",
         "orientation": "h",
         "showlegend": true,
         "textposition": "auto",
         "type": "bar",
         "x": [
          88109759434
         ],
         "xaxis": "x",
         "y": [
          "Mexico"
         ],
         "yaxis": "y"
        },
        {
         "alignmentgroup": "True",
         "hovertemplate": "Country=%{y}<br>video views=%{x}<extra></extra>",
         "legendgroup": "Spain",
         "marker": {
          "color": "#FFA15A",
          "pattern": {
           "shape": ""
          }
         },
         "name": "Spain",
         "offsetgroup": "Spain",
         "orientation": "h",
         "showlegend": true,
         "textposition": "auto",
         "type": "bar",
         "x": [
          67246035255
         ],
         "xaxis": "x",
         "y": [
          "Spain"
         ],
         "yaxis": "y"
        }
       ],
       "layout": {
        "barmode": "relative",
        "legend": {
         "title": {
          "text": "Country"
         },
         "tracegroupgap": 0
        },
        "template": {
         "data": {
          "bar": [
           {
            "error_x": {
             "color": "#f2f5fa"
            },
            "error_y": {
             "color": "#f2f5fa"
            },
            "marker": {
             "line": {
              "color": "rgb(17,17,17)",
              "width": 0.5
             },
             "pattern": {
              "fillmode": "overlay",
              "size": 10,
              "solidity": 0.2
             }
            },
            "type": "bar"
           }
          ],
          "barpolar": [
           {
            "marker": {
             "line": {
              "color": "rgb(17,17,17)",
              "width": 0.5
             },
             "pattern": {
              "fillmode": "overlay",
              "size": 10,
              "solidity": 0.2
             }
            },
            "type": "barpolar"
           }
          ],
          "carpet": [
           {
            "aaxis": {
             "endlinecolor": "#A2B1C6",
             "gridcolor": "#506784",
             "linecolor": "#506784",
             "minorgridcolor": "#506784",
             "startlinecolor": "#A2B1C6"
            },
            "baxis": {
             "endlinecolor": "#A2B1C6",
             "gridcolor": "#506784",
             "linecolor": "#506784",
             "minorgridcolor": "#506784",
             "startlinecolor": "#A2B1C6"
            },
            "type": "carpet"
           }
          ],
          "choropleth": [
           {
            "colorbar": {
             "outlinewidth": 0,
             "ticks": ""
            },
            "type": "choropleth"
           }
          ],
          "contour": [
           {
            "colorbar": {
             "outlinewidth": 0,
             "ticks": ""
            },
            "colorscale": [
             [
              0,
              "#0d0887"
             ],
             [
              0.1111111111111111,
              "#46039f"
             ],
             [
              0.2222222222222222,
              "#7201a8"
             ],
             [
              0.3333333333333333,
              "#9c179e"
             ],
             [
              0.4444444444444444,
              "#bd3786"
             ],
             [
              0.5555555555555556,
              "#d8576b"
             ],
             [
              0.6666666666666666,
              "#ed7953"
             ],
             [
              0.7777777777777778,
              "#fb9f3a"
             ],
             [
              0.8888888888888888,
              "#fdca26"
             ],
             [
              1,
              "#f0f921"
             ]
            ],
            "type": "contour"
           }
          ],
          "contourcarpet": [
           {
            "colorbar": {
             "outlinewidth": 0,
             "ticks": ""
            },
            "type": "contourcarpet"
           }
          ],
          "heatmap": [
           {
            "colorbar": {
             "outlinewidth": 0,
             "ticks": ""
            },
            "colorscale": [
             [
              0,
              "#0d0887"
             ],
             [
              0.1111111111111111,
              "#46039f"
             ],
             [
              0.2222222222222222,
              "#7201a8"
             ],
             [
              0.3333333333333333,
              "#9c179e"
             ],
             [
              0.4444444444444444,
              "#bd3786"
             ],
             [
              0.5555555555555556,
              "#d8576b"
             ],
             [
              0.6666666666666666,
              "#ed7953"
             ],
             [
              0.7777777777777778,
              "#fb9f3a"
             ],
             [
              0.8888888888888888,
              "#fdca26"
             ],
             [
              1,
              "#f0f921"
             ]
            ],
            "type": "heatmap"
           }
          ],
          "heatmapgl": [
           {
            "colorbar": {
             "outlinewidth": 0,
             "ticks": ""
            },
            "colorscale": [
             [
              0,
              "#0d0887"
             ],
             [
              0.1111111111111111,
              "#46039f"
             ],
             [
              0.2222222222222222,
              "#7201a8"
             ],
             [
              0.3333333333333333,
              "#9c179e"
             ],
             [
              0.4444444444444444,
              "#bd3786"
             ],
             [
              0.5555555555555556,
              "#d8576b"
             ],
             [
              0.6666666666666666,
              "#ed7953"
             ],
             [
              0.7777777777777778,
              "#fb9f3a"
             ],
             [
              0.8888888888888888,
              "#fdca26"
             ],
             [
              1,
              "#f0f921"
             ]
            ],
            "type": "heatmapgl"
           }
          ],
          "histogram": [
           {
            "marker": {
             "pattern": {
              "fillmode": "overlay",
              "size": 10,
              "solidity": 0.2
             }
            },
            "type": "histogram"
           }
          ],
          "histogram2d": [
           {
            "colorbar": {
             "outlinewidth": 0,
             "ticks": ""
            },
            "colorscale": [
             [
              0,
              "#0d0887"
             ],
             [
              0.1111111111111111,
              "#46039f"
             ],
             [
              0.2222222222222222,
              "#7201a8"
             ],
             [
              0.3333333333333333,
              "#9c179e"
             ],
             [
              0.4444444444444444,
              "#bd3786"
             ],
             [
              0.5555555555555556,
              "#d8576b"
             ],
             [
              0.6666666666666666,
              "#ed7953"
             ],
             [
              0.7777777777777778,
              "#fb9f3a"
             ],
             [
              0.8888888888888888,
              "#fdca26"
             ],
             [
              1,
              "#f0f921"
             ]
            ],
            "type": "histogram2d"
           }
          ],
          "histogram2dcontour": [
           {
            "colorbar": {
             "outlinewidth": 0,
             "ticks": ""
            },
            "colorscale": [
             [
              0,
              "#0d0887"
             ],
             [
              0.1111111111111111,
              "#46039f"
             ],
             [
              0.2222222222222222,
              "#7201a8"
             ],
             [
              0.3333333333333333,
              "#9c179e"
             ],
             [
              0.4444444444444444,
              "#bd3786"
             ],
             [
              0.5555555555555556,
              "#d8576b"
             ],
             [
              0.6666666666666666,
              "#ed7953"
             ],
             [
              0.7777777777777778,
              "#fb9f3a"
             ],
             [
              0.8888888888888888,
              "#fdca26"
             ],
             [
              1,
              "#f0f921"
             ]
            ],
            "type": "histogram2dcontour"
           }
          ],
          "mesh3d": [
           {
            "colorbar": {
             "outlinewidth": 0,
             "ticks": ""
            },
            "type": "mesh3d"
           }
          ],
          "parcoords": [
           {
            "line": {
             "colorbar": {
              "outlinewidth": 0,
              "ticks": ""
             }
            },
            "type": "parcoords"
           }
          ],
          "pie": [
           {
            "automargin": true,
            "type": "pie"
           }
          ],
          "scatter": [
           {
            "marker": {
             "line": {
              "color": "#283442"
             }
            },
            "type": "scatter"
           }
          ],
          "scatter3d": [
           {
            "line": {
             "colorbar": {
              "outlinewidth": 0,
              "ticks": ""
             }
            },
            "marker": {
             "colorbar": {
              "outlinewidth": 0,
              "ticks": ""
             }
            },
            "type": "scatter3d"
           }
          ],
          "scattercarpet": [
           {
            "marker": {
             "colorbar": {
              "outlinewidth": 0,
              "ticks": ""
             }
            },
            "type": "scattercarpet"
           }
          ],
          "scattergeo": [
           {
            "marker": {
             "colorbar": {
              "outlinewidth": 0,
              "ticks": ""
             }
            },
            "type": "scattergeo"
           }
          ],
          "scattergl": [
           {
            "marker": {
             "line": {
              "color": "#283442"
             }
            },
            "type": "scattergl"
           }
          ],
          "scattermapbox": [
           {
            "marker": {
             "colorbar": {
              "outlinewidth": 0,
              "ticks": ""
             }
            },
            "type": "scattermapbox"
           }
          ],
          "scatterpolar": [
           {
            "marker": {
             "colorbar": {
              "outlinewidth": 0,
              "ticks": ""
             }
            },
            "type": "scatterpolar"
           }
          ],
          "scatterpolargl": [
           {
            "marker": {
             "colorbar": {
              "outlinewidth": 0,
              "ticks": ""
             }
            },
            "type": "scatterpolargl"
           }
          ],
          "scatterternary": [
           {
            "marker": {
             "colorbar": {
              "outlinewidth": 0,
              "ticks": ""
             }
            },
            "type": "scatterternary"
           }
          ],
          "surface": [
           {
            "colorbar": {
             "outlinewidth": 0,
             "ticks": ""
            },
            "colorscale": [
             [
              0,
              "#0d0887"
             ],
             [
              0.1111111111111111,
              "#46039f"
             ],
             [
              0.2222222222222222,
              "#7201a8"
             ],
             [
              0.3333333333333333,
              "#9c179e"
             ],
             [
              0.4444444444444444,
              "#bd3786"
             ],
             [
              0.5555555555555556,
              "#d8576b"
             ],
             [
              0.6666666666666666,
              "#ed7953"
             ],
             [
              0.7777777777777778,
              "#fb9f3a"
             ],
             [
              0.8888888888888888,
              "#fdca26"
             ],
             [
              1,
              "#f0f921"
             ]
            ],
            "type": "surface"
           }
          ],
          "table": [
           {
            "cells": {
             "fill": {
              "color": "#506784"
             },
             "line": {
              "color": "rgb(17,17,17)"
             }
            },
            "header": {
             "fill": {
              "color": "#2a3f5f"
             },
             "line": {
              "color": "rgb(17,17,17)"
             }
            },
            "type": "table"
           }
          ]
         },
         "layout": {
          "annotationdefaults": {
           "arrowcolor": "#f2f5fa",
           "arrowhead": 0,
           "arrowwidth": 1
          },
          "autotypenumbers": "strict",
          "coloraxis": {
           "colorbar": {
            "outlinewidth": 0,
            "ticks": ""
           }
          },
          "colorscale": {
           "diverging": [
            [
             0,
             "#8e0152"
            ],
            [
             0.1,
             "#c51b7d"
            ],
            [
             0.2,
             "#de77ae"
            ],
            [
             0.3,
             "#f1b6da"
            ],
            [
             0.4,
             "#fde0ef"
            ],
            [
             0.5,
             "#f7f7f7"
            ],
            [
             0.6,
             "#e6f5d0"
            ],
            [
             0.7,
             "#b8e186"
            ],
            [
             0.8,
             "#7fbc41"
            ],
            [
             0.9,
             "#4d9221"
            ],
            [
             1,
             "#276419"
            ]
           ],
           "sequential": [
            [
             0,
             "#0d0887"
            ],
            [
             0.1111111111111111,
             "#46039f"
            ],
            [
             0.2222222222222222,
             "#7201a8"
            ],
            [
             0.3333333333333333,
             "#9c179e"
            ],
            [
             0.4444444444444444,
             "#bd3786"
            ],
            [
             0.5555555555555556,
             "#d8576b"
            ],
            [
             0.6666666666666666,
             "#ed7953"
            ],
            [
             0.7777777777777778,
             "#fb9f3a"
            ],
            [
             0.8888888888888888,
             "#fdca26"
            ],
            [
             1,
             "#f0f921"
            ]
           ],
           "sequentialminus": [
            [
             0,
             "#0d0887"
            ],
            [
             0.1111111111111111,
             "#46039f"
            ],
            [
             0.2222222222222222,
             "#7201a8"
            ],
            [
             0.3333333333333333,
             "#9c179e"
            ],
            [
             0.4444444444444444,
             "#bd3786"
            ],
            [
             0.5555555555555556,
             "#d8576b"
            ],
            [
             0.6666666666666666,
             "#ed7953"
            ],
            [
             0.7777777777777778,
             "#fb9f3a"
            ],
            [
             0.8888888888888888,
             "#fdca26"
            ],
            [
             1,
             "#f0f921"
            ]
           ]
          },
          "colorway": [
           "#636efa",
           "#EF553B",
           "#00cc96",
           "#ab63fa",
           "#FFA15A",
           "#19d3f3",
           "#FF6692",
           "#B6E880",
           "#FF97FF",
           "#FECB52"
          ],
          "font": {
           "color": "#f2f5fa"
          },
          "geo": {
           "bgcolor": "rgb(17,17,17)",
           "lakecolor": "rgb(17,17,17)",
           "landcolor": "rgb(17,17,17)",
           "showlakes": true,
           "showland": true,
           "subunitcolor": "#506784"
          },
          "hoverlabel": {
           "align": "left"
          },
          "hovermode": "closest",
          "mapbox": {
           "style": "dark"
          },
          "paper_bgcolor": "rgb(17,17,17)",
          "plot_bgcolor": "rgb(17,17,17)",
          "polar": {
           "angularaxis": {
            "gridcolor": "#506784",
            "linecolor": "#506784",
            "ticks": ""
           },
           "bgcolor": "rgb(17,17,17)",
           "radialaxis": {
            "gridcolor": "#506784",
            "linecolor": "#506784",
            "ticks": ""
           }
          },
          "scene": {
           "xaxis": {
            "backgroundcolor": "rgb(17,17,17)",
            "gridcolor": "#506784",
            "gridwidth": 2,
            "linecolor": "#506784",
            "showbackground": true,
            "ticks": "",
            "zerolinecolor": "#C8D4E3"
           },
           "yaxis": {
            "backgroundcolor": "rgb(17,17,17)",
            "gridcolor": "#506784",
            "gridwidth": 2,
            "linecolor": "#506784",
            "showbackground": true,
            "ticks": "",
            "zerolinecolor": "#C8D4E3"
           },
           "zaxis": {
            "backgroundcolor": "rgb(17,17,17)",
            "gridcolor": "#506784",
            "gridwidth": 2,
            "linecolor": "#506784",
            "showbackground": true,
            "ticks": "",
            "zerolinecolor": "#C8D4E3"
           }
          },
          "shapedefaults": {
           "line": {
            "color": "#f2f5fa"
           }
          },
          "sliderdefaults": {
           "bgcolor": "#C8D4E3",
           "bordercolor": "rgb(17,17,17)",
           "borderwidth": 1,
           "tickwidth": 0
          },
          "ternary": {
           "aaxis": {
            "gridcolor": "#506784",
            "linecolor": "#506784",
            "ticks": ""
           },
           "baxis": {
            "gridcolor": "#506784",
            "linecolor": "#506784",
            "ticks": ""
           },
           "bgcolor": "rgb(17,17,17)",
           "caxis": {
            "gridcolor": "#506784",
            "linecolor": "#506784",
            "ticks": ""
           }
          },
          "title": {
           "x": 0.05
          },
          "updatemenudefaults": {
           "bgcolor": "#506784",
           "borderwidth": 0
          },
          "xaxis": {
           "automargin": true,
           "gridcolor": "#283442",
           "linecolor": "#506784",
           "ticks": "",
           "title": {
            "standoff": 15
           },
           "zerolinecolor": "#283442",
           "zerolinewidth": 2
          },
          "yaxis": {
           "automargin": true,
           "gridcolor": "#283442",
           "linecolor": "#506784",
           "ticks": "",
           "title": {
            "standoff": 15
           },
           "zerolinecolor": "#283442",
           "zerolinewidth": 2
          }
         }
        },
        "title": {
         "text": "Топ 15 стран по суммарным просмотрам",
         "x": 0.5
        },
        "xaxis": {
         "anchor": "y",
         "domain": [
          0,
          1
         ],
         "title": {
          "text": "Кол-во подписчиков"
         }
        },
        "yaxis": {
         "anchor": "x",
         "categoryarray": [
          "Spain",
          "Mexico",
          "Pakistan",
          "Canada",
          "Philippines",
          "Colombia",
          "Indonesia",
          "South Korea",
          "Argentina",
          "Thailand",
          "Russia",
          "United Kingdom",
          "Brazil",
          "India",
          "United States"
         ],
         "categoryorder": "array",
         "domain": [
          0,
          1
         ],
         "title": {
          "text": "Страны"
         }
        }
       }
      },
      "text/html": [
       "<div>                            <div id=\"614bcd13-e206-44f1-8a82-7da14806aca7\" class=\"plotly-graph-div\" style=\"height:525px; width:100%;\"></div>            <script type=\"text/javascript\">                require([\"plotly\"], function(Plotly) {                    window.PLOTLYENV=window.PLOTLYENV || {};                                    if (document.getElementById(\"614bcd13-e206-44f1-8a82-7da14806aca7\")) {                    Plotly.newPlot(                        \"614bcd13-e206-44f1-8a82-7da14806aca7\",                        [{\"alignmentgroup\":\"True\",\"hovertemplate\":\"Country=%{y}<br>video views=%{x}<extra></extra>\",\"legendgroup\":\"United States\",\"marker\":{\"color\":\"#636efa\",\"pattern\":{\"shape\":\"\"}},\"name\":\"United States\",\"offsetgroup\":\"United States\",\"orientation\":\"h\",\"showlegend\":true,\"textposition\":\"auto\",\"x\":[2419888243871.0],\"xaxis\":\"x\",\"y\":[\"United States\"],\"yaxis\":\"y\",\"type\":\"bar\"},{\"alignmentgroup\":\"True\",\"hovertemplate\":\"Country=%{y}<br>video views=%{x}<extra></extra>\",\"legendgroup\":\"India\",\"marker\":{\"color\":\"#EF553B\",\"pattern\":{\"shape\":\"\"}},\"name\":\"India\",\"offsetgroup\":\"India\",\"orientation\":\"h\",\"showlegend\":true,\"textposition\":\"auto\",\"x\":[2139625163617.0],\"xaxis\":\"x\",\"y\":[\"India\"],\"yaxis\":\"y\",\"type\":\"bar\"},{\"alignmentgroup\":\"True\",\"hovertemplate\":\"Country=%{y}<br>video views=%{x}<extra></extra>\",\"legendgroup\":\"Brazil\",\"marker\":{\"color\":\"#00cc96\",\"pattern\":{\"shape\":\"\"}},\"name\":\"Brazil\",\"offsetgroup\":\"Brazil\",\"orientation\":\"h\",\"showlegend\":true,\"textposition\":\"auto\",\"x\":[289835608792.0],\"xaxis\":\"x\",\"y\":[\"Brazil\"],\"yaxis\":\"y\",\"type\":\"bar\"},{\"alignmentgroup\":\"True\",\"hovertemplate\":\"Country=%{y}<br>video views=%{x}<extra></extra>\",\"legendgroup\":\"United Kingdom\",\"marker\":{\"color\":\"#ab63fa\",\"pattern\":{\"shape\":\"\"}},\"name\":\"United Kingdom\",\"offsetgroup\":\"United Kingdom\",\"orientation\":\"h\",\"showlegend\":true,\"textposition\":\"auto\",\"x\":[268088509793.0],\"xaxis\":\"x\",\"y\":[\"United Kingdom\"],\"yaxis\":\"y\",\"type\":\"bar\"},{\"alignmentgroup\":\"True\",\"hovertemplate\":\"Country=%{y}<br>video views=%{x}<extra></extra>\",\"legendgroup\":\"Russia\",\"marker\":{\"color\":\"#FFA15A\",\"pattern\":{\"shape\":\"\"}},\"name\":\"Russia\",\"offsetgroup\":\"Russia\",\"orientation\":\"h\",\"showlegend\":true,\"textposition\":\"auto\",\"x\":[228295040777.0],\"xaxis\":\"x\",\"y\":[\"Russia\"],\"yaxis\":\"y\",\"type\":\"bar\"},{\"alignmentgroup\":\"True\",\"hovertemplate\":\"Country=%{y}<br>video views=%{x}<extra></extra>\",\"legendgroup\":\"Thailand\",\"marker\":{\"color\":\"#19d3f3\",\"pattern\":{\"shape\":\"\"}},\"name\":\"Thailand\",\"offsetgroup\":\"Thailand\",\"orientation\":\"h\",\"showlegend\":true,\"textposition\":\"auto\",\"x\":[208786390183.0],\"xaxis\":\"x\",\"y\":[\"Thailand\"],\"yaxis\":\"y\",\"type\":\"bar\"},{\"alignmentgroup\":\"True\",\"hovertemplate\":\"Country=%{y}<br>video views=%{x}<extra></extra>\",\"legendgroup\":\"Argentina\",\"marker\":{\"color\":\"#FF6692\",\"pattern\":{\"shape\":\"\"}},\"name\":\"Argentina\",\"offsetgroup\":\"Argentina\",\"orientation\":\"h\",\"showlegend\":true,\"textposition\":\"auto\",\"x\":[165148372609.0],\"xaxis\":\"x\",\"y\":[\"Argentina\"],\"yaxis\":\"y\",\"type\":\"bar\"},{\"alignmentgroup\":\"True\",\"hovertemplate\":\"Country=%{y}<br>video views=%{x}<extra></extra>\",\"legendgroup\":\"South Korea\",\"marker\":{\"color\":\"#B6E880\",\"pattern\":{\"shape\":\"\"}},\"name\":\"South Korea\",\"offsetgroup\":\"South Korea\",\"orientation\":\"h\",\"showlegend\":true,\"textposition\":\"auto\",\"x\":[129352604953.0],\"xaxis\":\"x\",\"y\":[\"South Korea\"],\"yaxis\":\"y\",\"type\":\"bar\"},{\"alignmentgroup\":\"True\",\"hovertemplate\":\"Country=%{y}<br>video views=%{x}<extra></extra>\",\"legendgroup\":\"Indonesia\",\"marker\":{\"color\":\"#FF97FF\",\"pattern\":{\"shape\":\"\"}},\"name\":\"Indonesia\",\"offsetgroup\":\"Indonesia\",\"orientation\":\"h\",\"showlegend\":true,\"textposition\":\"auto\",\"x\":[126148768961.0],\"xaxis\":\"x\",\"y\":[\"Indonesia\"],\"yaxis\":\"y\",\"type\":\"bar\"},{\"alignmentgroup\":\"True\",\"hovertemplate\":\"Country=%{y}<br>video views=%{x}<extra></extra>\",\"legendgroup\":\"Colombia\",\"marker\":{\"color\":\"#FECB52\",\"pattern\":{\"shape\":\"\"}},\"name\":\"Colombia\",\"offsetgroup\":\"Colombia\",\"orientation\":\"h\",\"showlegend\":true,\"textposition\":\"auto\",\"x\":[123136914737.0],\"xaxis\":\"x\",\"y\":[\"Colombia\"],\"yaxis\":\"y\",\"type\":\"bar\"},{\"alignmentgroup\":\"True\",\"hovertemplate\":\"Country=%{y}<br>video views=%{x}<extra></extra>\",\"legendgroup\":\"Philippines\",\"marker\":{\"color\":\"#636efa\",\"pattern\":{\"shape\":\"\"}},\"name\":\"Philippines\",\"offsetgroup\":\"Philippines\",\"orientation\":\"h\",\"showlegend\":true,\"textposition\":\"auto\",\"x\":[116210693086.0],\"xaxis\":\"x\",\"y\":[\"Philippines\"],\"yaxis\":\"y\",\"type\":\"bar\"},{\"alignmentgroup\":\"True\",\"hovertemplate\":\"Country=%{y}<br>video views=%{x}<extra></extra>\",\"legendgroup\":\"Canada\",\"marker\":{\"color\":\"#EF553B\",\"pattern\":{\"shape\":\"\"}},\"name\":\"Canada\",\"offsetgroup\":\"Canada\",\"orientation\":\"h\",\"showlegend\":true,\"textposition\":\"auto\",\"x\":[114294246679.0],\"xaxis\":\"x\",\"y\":[\"Canada\"],\"yaxis\":\"y\",\"type\":\"bar\"},{\"alignmentgroup\":\"True\",\"hovertemplate\":\"Country=%{y}<br>video views=%{x}<extra></extra>\",\"legendgroup\":\"Pakistan\",\"marker\":{\"color\":\"#00cc96\",\"pattern\":{\"shape\":\"\"}},\"name\":\"Pakistan\",\"offsetgroup\":\"Pakistan\",\"orientation\":\"h\",\"showlegend\":true,\"textposition\":\"auto\",\"x\":[108651656560.0],\"xaxis\":\"x\",\"y\":[\"Pakistan\"],\"yaxis\":\"y\",\"type\":\"bar\"},{\"alignmentgroup\":\"True\",\"hovertemplate\":\"Country=%{y}<br>video views=%{x}<extra></extra>\",\"legendgroup\":\"Mexico\",\"marker\":{\"color\":\"#ab63fa\",\"pattern\":{\"shape\":\"\"}},\"name\":\"Mexico\",\"offsetgroup\":\"Mexico\",\"orientation\":\"h\",\"showlegend\":true,\"textposition\":\"auto\",\"x\":[88109759434.0],\"xaxis\":\"x\",\"y\":[\"Mexico\"],\"yaxis\":\"y\",\"type\":\"bar\"},{\"alignmentgroup\":\"True\",\"hovertemplate\":\"Country=%{y}<br>video views=%{x}<extra></extra>\",\"legendgroup\":\"Spain\",\"marker\":{\"color\":\"#FFA15A\",\"pattern\":{\"shape\":\"\"}},\"name\":\"Spain\",\"offsetgroup\":\"Spain\",\"orientation\":\"h\",\"showlegend\":true,\"textposition\":\"auto\",\"x\":[67246035255.0],\"xaxis\":\"x\",\"y\":[\"Spain\"],\"yaxis\":\"y\",\"type\":\"bar\"}],                        {\"template\":{\"data\":{\"barpolar\":[{\"marker\":{\"line\":{\"color\":\"rgb(17,17,17)\",\"width\":0.5},\"pattern\":{\"fillmode\":\"overlay\",\"size\":10,\"solidity\":0.2}},\"type\":\"barpolar\"}],\"bar\":[{\"error_x\":{\"color\":\"#f2f5fa\"},\"error_y\":{\"color\":\"#f2f5fa\"},\"marker\":{\"line\":{\"color\":\"rgb(17,17,17)\",\"width\":0.5},\"pattern\":{\"fillmode\":\"overlay\",\"size\":10,\"solidity\":0.2}},\"type\":\"bar\"}],\"carpet\":[{\"aaxis\":{\"endlinecolor\":\"#A2B1C6\",\"gridcolor\":\"#506784\",\"linecolor\":\"#506784\",\"minorgridcolor\":\"#506784\",\"startlinecolor\":\"#A2B1C6\"},\"baxis\":{\"endlinecolor\":\"#A2B1C6\",\"gridcolor\":\"#506784\",\"linecolor\":\"#506784\",\"minorgridcolor\":\"#506784\",\"startlinecolor\":\"#A2B1C6\"},\"type\":\"carpet\"}],\"choropleth\":[{\"colorbar\":{\"outlinewidth\":0,\"ticks\":\"\"},\"type\":\"choropleth\"}],\"contourcarpet\":[{\"colorbar\":{\"outlinewidth\":0,\"ticks\":\"\"},\"type\":\"contourcarpet\"}],\"contour\":[{\"colorbar\":{\"outlinewidth\":0,\"ticks\":\"\"},\"colorscale\":[[0.0,\"#0d0887\"],[0.1111111111111111,\"#46039f\"],[0.2222222222222222,\"#7201a8\"],[0.3333333333333333,\"#9c179e\"],[0.4444444444444444,\"#bd3786\"],[0.5555555555555556,\"#d8576b\"],[0.6666666666666666,\"#ed7953\"],[0.7777777777777778,\"#fb9f3a\"],[0.8888888888888888,\"#fdca26\"],[1.0,\"#f0f921\"]],\"type\":\"contour\"}],\"heatmapgl\":[{\"colorbar\":{\"outlinewidth\":0,\"ticks\":\"\"},\"colorscale\":[[0.0,\"#0d0887\"],[0.1111111111111111,\"#46039f\"],[0.2222222222222222,\"#7201a8\"],[0.3333333333333333,\"#9c179e\"],[0.4444444444444444,\"#bd3786\"],[0.5555555555555556,\"#d8576b\"],[0.6666666666666666,\"#ed7953\"],[0.7777777777777778,\"#fb9f3a\"],[0.8888888888888888,\"#fdca26\"],[1.0,\"#f0f921\"]],\"type\":\"heatmapgl\"}],\"heatmap\":[{\"colorbar\":{\"outlinewidth\":0,\"ticks\":\"\"},\"colorscale\":[[0.0,\"#0d0887\"],[0.1111111111111111,\"#46039f\"],[0.2222222222222222,\"#7201a8\"],[0.3333333333333333,\"#9c179e\"],[0.4444444444444444,\"#bd3786\"],[0.5555555555555556,\"#d8576b\"],[0.6666666666666666,\"#ed7953\"],[0.7777777777777778,\"#fb9f3a\"],[0.8888888888888888,\"#fdca26\"],[1.0,\"#f0f921\"]],\"type\":\"heatmap\"}],\"histogram2dcontour\":[{\"colorbar\":{\"outlinewidth\":0,\"ticks\":\"\"},\"colorscale\":[[0.0,\"#0d0887\"],[0.1111111111111111,\"#46039f\"],[0.2222222222222222,\"#7201a8\"],[0.3333333333333333,\"#9c179e\"],[0.4444444444444444,\"#bd3786\"],[0.5555555555555556,\"#d8576b\"],[0.6666666666666666,\"#ed7953\"],[0.7777777777777778,\"#fb9f3a\"],[0.8888888888888888,\"#fdca26\"],[1.0,\"#f0f921\"]],\"type\":\"histogram2dcontour\"}],\"histogram2d\":[{\"colorbar\":{\"outlinewidth\":0,\"ticks\":\"\"},\"colorscale\":[[0.0,\"#0d0887\"],[0.1111111111111111,\"#46039f\"],[0.2222222222222222,\"#7201a8\"],[0.3333333333333333,\"#9c179e\"],[0.4444444444444444,\"#bd3786\"],[0.5555555555555556,\"#d8576b\"],[0.6666666666666666,\"#ed7953\"],[0.7777777777777778,\"#fb9f3a\"],[0.8888888888888888,\"#fdca26\"],[1.0,\"#f0f921\"]],\"type\":\"histogram2d\"}],\"histogram\":[{\"marker\":{\"pattern\":{\"fillmode\":\"overlay\",\"size\":10,\"solidity\":0.2}},\"type\":\"histogram\"}],\"mesh3d\":[{\"colorbar\":{\"outlinewidth\":0,\"ticks\":\"\"},\"type\":\"mesh3d\"}],\"parcoords\":[{\"line\":{\"colorbar\":{\"outlinewidth\":0,\"ticks\":\"\"}},\"type\":\"parcoords\"}],\"pie\":[{\"automargin\":true,\"type\":\"pie\"}],\"scatter3d\":[{\"line\":{\"colorbar\":{\"outlinewidth\":0,\"ticks\":\"\"}},\"marker\":{\"colorbar\":{\"outlinewidth\":0,\"ticks\":\"\"}},\"type\":\"scatter3d\"}],\"scattercarpet\":[{\"marker\":{\"colorbar\":{\"outlinewidth\":0,\"ticks\":\"\"}},\"type\":\"scattercarpet\"}],\"scattergeo\":[{\"marker\":{\"colorbar\":{\"outlinewidth\":0,\"ticks\":\"\"}},\"type\":\"scattergeo\"}],\"scattergl\":[{\"marker\":{\"line\":{\"color\":\"#283442\"}},\"type\":\"scattergl\"}],\"scattermapbox\":[{\"marker\":{\"colorbar\":{\"outlinewidth\":0,\"ticks\":\"\"}},\"type\":\"scattermapbox\"}],\"scatterpolargl\":[{\"marker\":{\"colorbar\":{\"outlinewidth\":0,\"ticks\":\"\"}},\"type\":\"scatterpolargl\"}],\"scatterpolar\":[{\"marker\":{\"colorbar\":{\"outlinewidth\":0,\"ticks\":\"\"}},\"type\":\"scatterpolar\"}],\"scatter\":[{\"marker\":{\"line\":{\"color\":\"#283442\"}},\"type\":\"scatter\"}],\"scatterternary\":[{\"marker\":{\"colorbar\":{\"outlinewidth\":0,\"ticks\":\"\"}},\"type\":\"scatterternary\"}],\"surface\":[{\"colorbar\":{\"outlinewidth\":0,\"ticks\":\"\"},\"colorscale\":[[0.0,\"#0d0887\"],[0.1111111111111111,\"#46039f\"],[0.2222222222222222,\"#7201a8\"],[0.3333333333333333,\"#9c179e\"],[0.4444444444444444,\"#bd3786\"],[0.5555555555555556,\"#d8576b\"],[0.6666666666666666,\"#ed7953\"],[0.7777777777777778,\"#fb9f3a\"],[0.8888888888888888,\"#fdca26\"],[1.0,\"#f0f921\"]],\"type\":\"surface\"}],\"table\":[{\"cells\":{\"fill\":{\"color\":\"#506784\"},\"line\":{\"color\":\"rgb(17,17,17)\"}},\"header\":{\"fill\":{\"color\":\"#2a3f5f\"},\"line\":{\"color\":\"rgb(17,17,17)\"}},\"type\":\"table\"}]},\"layout\":{\"annotationdefaults\":{\"arrowcolor\":\"#f2f5fa\",\"arrowhead\":0,\"arrowwidth\":1},\"autotypenumbers\":\"strict\",\"coloraxis\":{\"colorbar\":{\"outlinewidth\":0,\"ticks\":\"\"}},\"colorscale\":{\"diverging\":[[0,\"#8e0152\"],[0.1,\"#c51b7d\"],[0.2,\"#de77ae\"],[0.3,\"#f1b6da\"],[0.4,\"#fde0ef\"],[0.5,\"#f7f7f7\"],[0.6,\"#e6f5d0\"],[0.7,\"#b8e186\"],[0.8,\"#7fbc41\"],[0.9,\"#4d9221\"],[1,\"#276419\"]],\"sequential\":[[0.0,\"#0d0887\"],[0.1111111111111111,\"#46039f\"],[0.2222222222222222,\"#7201a8\"],[0.3333333333333333,\"#9c179e\"],[0.4444444444444444,\"#bd3786\"],[0.5555555555555556,\"#d8576b\"],[0.6666666666666666,\"#ed7953\"],[0.7777777777777778,\"#fb9f3a\"],[0.8888888888888888,\"#fdca26\"],[1.0,\"#f0f921\"]],\"sequentialminus\":[[0.0,\"#0d0887\"],[0.1111111111111111,\"#46039f\"],[0.2222222222222222,\"#7201a8\"],[0.3333333333333333,\"#9c179e\"],[0.4444444444444444,\"#bd3786\"],[0.5555555555555556,\"#d8576b\"],[0.6666666666666666,\"#ed7953\"],[0.7777777777777778,\"#fb9f3a\"],[0.8888888888888888,\"#fdca26\"],[1.0,\"#f0f921\"]]},\"colorway\":[\"#636efa\",\"#EF553B\",\"#00cc96\",\"#ab63fa\",\"#FFA15A\",\"#19d3f3\",\"#FF6692\",\"#B6E880\",\"#FF97FF\",\"#FECB52\"],\"font\":{\"color\":\"#f2f5fa\"},\"geo\":{\"bgcolor\":\"rgb(17,17,17)\",\"lakecolor\":\"rgb(17,17,17)\",\"landcolor\":\"rgb(17,17,17)\",\"showlakes\":true,\"showland\":true,\"subunitcolor\":\"#506784\"},\"hoverlabel\":{\"align\":\"left\"},\"hovermode\":\"closest\",\"mapbox\":{\"style\":\"dark\"},\"paper_bgcolor\":\"rgb(17,17,17)\",\"plot_bgcolor\":\"rgb(17,17,17)\",\"polar\":{\"angularaxis\":{\"gridcolor\":\"#506784\",\"linecolor\":\"#506784\",\"ticks\":\"\"},\"bgcolor\":\"rgb(17,17,17)\",\"radialaxis\":{\"gridcolor\":\"#506784\",\"linecolor\":\"#506784\",\"ticks\":\"\"}},\"scene\":{\"xaxis\":{\"backgroundcolor\":\"rgb(17,17,17)\",\"gridcolor\":\"#506784\",\"gridwidth\":2,\"linecolor\":\"#506784\",\"showbackground\":true,\"ticks\":\"\",\"zerolinecolor\":\"#C8D4E3\"},\"yaxis\":{\"backgroundcolor\":\"rgb(17,17,17)\",\"gridcolor\":\"#506784\",\"gridwidth\":2,\"linecolor\":\"#506784\",\"showbackground\":true,\"ticks\":\"\",\"zerolinecolor\":\"#C8D4E3\"},\"zaxis\":{\"backgroundcolor\":\"rgb(17,17,17)\",\"gridcolor\":\"#506784\",\"gridwidth\":2,\"linecolor\":\"#506784\",\"showbackground\":true,\"ticks\":\"\",\"zerolinecolor\":\"#C8D4E3\"}},\"shapedefaults\":{\"line\":{\"color\":\"#f2f5fa\"}},\"sliderdefaults\":{\"bgcolor\":\"#C8D4E3\",\"bordercolor\":\"rgb(17,17,17)\",\"borderwidth\":1,\"tickwidth\":0},\"ternary\":{\"aaxis\":{\"gridcolor\":\"#506784\",\"linecolor\":\"#506784\",\"ticks\":\"\"},\"baxis\":{\"gridcolor\":\"#506784\",\"linecolor\":\"#506784\",\"ticks\":\"\"},\"bgcolor\":\"rgb(17,17,17)\",\"caxis\":{\"gridcolor\":\"#506784\",\"linecolor\":\"#506784\",\"ticks\":\"\"}},\"title\":{\"x\":0.05},\"updatemenudefaults\":{\"bgcolor\":\"#506784\",\"borderwidth\":0},\"xaxis\":{\"automargin\":true,\"gridcolor\":\"#283442\",\"linecolor\":\"#506784\",\"ticks\":\"\",\"title\":{\"standoff\":15},\"zerolinecolor\":\"#283442\",\"zerolinewidth\":2},\"yaxis\":{\"automargin\":true,\"gridcolor\":\"#283442\",\"linecolor\":\"#506784\",\"ticks\":\"\",\"title\":{\"standoff\":15},\"zerolinecolor\":\"#283442\",\"zerolinewidth\":2}}},\"xaxis\":{\"anchor\":\"y\",\"domain\":[0.0,1.0],\"title\":{\"text\":\"\\u041a\\u043e\\u043b-\\u0432\\u043e \\u043f\\u043e\\u0434\\u043f\\u0438\\u0441\\u0447\\u0438\\u043a\\u043e\\u0432\"}},\"yaxis\":{\"anchor\":\"x\",\"domain\":[0.0,1.0],\"title\":{\"text\":\"\\u0421\\u0442\\u0440\\u0430\\u043d\\u044b\"},\"categoryorder\":\"array\",\"categoryarray\":[\"Spain\",\"Mexico\",\"Pakistan\",\"Canada\",\"Philippines\",\"Colombia\",\"Indonesia\",\"South Korea\",\"Argentina\",\"Thailand\",\"Russia\",\"United Kingdom\",\"Brazil\",\"India\",\"United States\"]},\"legend\":{\"title\":{\"text\":\"Country\"},\"tracegroupgap\":0},\"title\":{\"text\":\"\\u0422\\u043e\\u043f 15 \\u0441\\u0442\\u0440\\u0430\\u043d \\u043f\\u043e \\u0441\\u0443\\u043c\\u043c\\u0430\\u0440\\u043d\\u044b\\u043c \\u043f\\u0440\\u043e\\u0441\\u043c\\u043e\\u0442\\u0440\\u0430\\u043c\",\"x\":0.5},\"barmode\":\"relative\"},                        {\"responsive\": true}                    ).then(function(){\n",
       "                            \n",
       "var gd = document.getElementById('614bcd13-e206-44f1-8a82-7da14806aca7');\n",
       "var x = new MutationObserver(function (mutations, observer) {{\n",
       "        var display = window.getComputedStyle(gd).display;\n",
       "        if (!display || display === 'none') {{\n",
       "            console.log([gd, 'removed!']);\n",
       "            Plotly.purge(gd);\n",
       "            observer.disconnect();\n",
       "        }}\n",
       "}});\n",
       "\n",
       "// Listen for the removal of the full notebook cells\n",
       "var notebookContainer = gd.closest('#notebook-container');\n",
       "if (notebookContainer) {{\n",
       "    x.observe(notebookContainer, {childList: true});\n",
       "}}\n",
       "\n",
       "// Listen for the clearing of the current output cell\n",
       "var outputEl = gd.closest('.output');\n",
       "if (outputEl) {{\n",
       "    x.observe(outputEl, {childList: true});\n",
       "}}\n",
       "\n",
       "                        })                };                });            </script>        </div>"
      ]
     },
     "metadata": {},
     "output_type": "display_data"
    }
   ],
   "source": [
    "sbc = df.groupby('Country')['video views'].sum().reset_index().sort_values(by = 'video views',ascending = False )\n",
    "sbc\n",
    "fig = px.bar(sbc[0:15], y = 'Country',x = 'video views',template = 'plotly_dark',\n",
    "            orientation='h',color = 'Country', title = 'Топ 15 стран по суммарным просмотрам')\n",
    "fig.update_layout(xaxis_title = 'Кол-во подписчиков',yaxis_title = 'Страны',title_x = 0.5)\n",
    "\n",
    "fig.show()"
   ]
  },
  {
   "cell_type": "markdown",
   "id": "81d4b5dd",
   "metadata": {},
   "source": [
    "Проведя анализ этого графика, можно понять, какая категория видео на данный момент наиболее просматриваемая и сравнивая этот анализ с прошлым графиком, можно определить какую именно категорию лучше выбрать."
   ]
  },
  {
   "cell_type": "markdown",
   "id": "8e3f6fc8",
   "metadata": {},
   "source": [
    "## Четвертый график"
   ]
  },
  {
   "cell_type": "code",
   "execution_count": 254,
   "id": "f4a745b5",
   "metadata": {
    "scrolled": false
   },
   "outputs": [
    {
     "data": {
      "application/vnd.plotly.v1+json": {
       "config": {
        "plotlyServerURL": "https://plot.ly"
       },
       "data": [
        {
         "alignmentgroup": "True",
         "hovertemplate": "channel_type=%{x}<br>video views=%{y}<extra></extra>",
         "legendgroup": "Education",
         "marker": {
          "color": "#636efa",
          "pattern": {
           "shape": ""
          }
         },
         "name": "Education",
         "offsetgroup": "Education",
         "orientation": "v",
         "showlegend": true,
         "textposition": "auto",
         "type": "bar",
         "x": [
          "Education"
         ],
         "xaxis": "x",
         "y": [
          19032509458.25
         ],
         "yaxis": "y"
        },
        {
         "alignmentgroup": "True",
         "hovertemplate": "channel_type=%{x}<br>video views=%{y}<extra></extra>",
         "legendgroup": "Music",
         "marker": {
          "color": "#EF553B",
          "pattern": {
           "shape": ""
          }
         },
         "name": "Music",
         "offsetgroup": "Music",
         "orientation": "v",
         "showlegend": true,
         "textposition": "auto",
         "type": "bar",
         "x": [
          "Music"
         ],
         "xaxis": "x",
         "y": [
          17562001886.26613
         ],
         "yaxis": "y"
        },
        {
         "alignmentgroup": "True",
         "hovertemplate": "channel_type=%{x}<br>video views=%{y}<extra></extra>",
         "legendgroup": "Animals",
         "marker": {
          "color": "#00cc96",
          "pattern": {
           "shape": ""
          }
         },
         "name": "Animals",
         "offsetgroup": "Animals",
         "orientation": "v",
         "showlegend": true,
         "textposition": "auto",
         "type": "bar",
         "x": [
          "Animals"
         ],
         "xaxis": "x",
         "y": [
          14711751867
         ],
         "yaxis": "y"
        },
        {
         "alignmentgroup": "True",
         "hovertemplate": "channel_type=%{x}<br>video views=%{y}<extra></extra>",
         "legendgroup": "Sports",
         "marker": {
          "color": "#ab63fa",
          "pattern": {
           "shape": ""
          }
         },
         "name": "Sports",
         "offsetgroup": "Sports",
         "orientation": "v",
         "showlegend": true,
         "textposition": "auto",
         "type": "bar",
         "x": [
          "Sports"
         ],
         "xaxis": "x",
         "y": [
          14150836858.555555
         ],
         "yaxis": "y"
        },
        {
         "alignmentgroup": "True",
         "hovertemplate": "channel_type=%{x}<br>video views=%{y}<extra></extra>",
         "legendgroup": "Entertainment",
         "marker": {
          "color": "#FFA15A",
          "pattern": {
           "shape": ""
          }
         },
         "name": "Entertainment",
         "offsetgroup": "Entertainment",
         "orientation": "v",
         "showlegend": true,
         "textposition": "auto",
         "type": "bar",
         "x": [
          "Entertainment"
         ],
         "xaxis": "x",
         "y": [
          13082479833.405556
         ],
         "yaxis": "y"
        },
        {
         "alignmentgroup": "True",
         "hovertemplate": "channel_type=%{x}<br>video views=%{y}<extra></extra>",
         "legendgroup": "Film",
         "marker": {
          "color": "#19d3f3",
          "pattern": {
           "shape": ""
          }
         },
         "name": "Film",
         "offsetgroup": "Film",
         "orientation": "v",
         "showlegend": true,
         "textposition": "auto",
         "type": "bar",
         "x": [
          "Film"
         ],
         "xaxis": "x",
         "y": [
          11754216508.586206
         ],
         "yaxis": "y"
        },
        {
         "alignmentgroup": "True",
         "hovertemplate": "channel_type=%{x}<br>video views=%{y}<extra></extra>",
         "legendgroup": "Comedy",
         "marker": {
          "color": "#FF6692",
          "pattern": {
           "shape": ""
          }
         },
         "name": "Comedy",
         "offsetgroup": "Comedy",
         "orientation": "v",
         "showlegend": true,
         "textposition": "auto",
         "type": "bar",
         "x": [
          "Comedy"
         ],
         "xaxis": "x",
         "y": [
          10942768778.033333
         ],
         "yaxis": "y"
        },
        {
         "alignmentgroup": "True",
         "hovertemplate": "channel_type=%{x}<br>video views=%{y}<extra></extra>",
         "legendgroup": "News",
         "marker": {
          "color": "#B6E880",
          "pattern": {
           "shape": ""
          }
         },
         "name": "News",
         "offsetgroup": "News",
         "orientation": "v",
         "showlegend": true,
         "textposition": "auto",
         "type": "bar",
         "x": [
          "News"
         ],
         "xaxis": "x",
         "y": [
          10392941937.423077
         ],
         "yaxis": "y"
        },
        {
         "alignmentgroup": "True",
         "hovertemplate": "channel_type=%{x}<br>video views=%{y}<extra></extra>",
         "legendgroup": "People",
         "marker": {
          "color": "#FF97FF",
          "pattern": {
           "shape": ""
          }
         },
         "name": "People",
         "offsetgroup": "People",
         "orientation": "v",
         "showlegend": true,
         "textposition": "auto",
         "type": "bar",
         "x": [
          "People"
         ],
         "xaxis": "x",
         "y": [
          9754839303.195122
         ],
         "yaxis": "y"
        },
        {
         "alignmentgroup": "True",
         "hovertemplate": "channel_type=%{x}<br>video views=%{y}<extra></extra>",
         "legendgroup": "Games",
         "marker": {
          "color": "#FECB52",
          "pattern": {
           "shape": ""
          }
         },
         "name": "Games",
         "offsetgroup": "Games",
         "orientation": "v",
         "showlegend": true,
         "textposition": "auto",
         "type": "bar",
         "x": [
          "Games"
         ],
         "xaxis": "x",
         "y": [
          8130773376
         ],
         "yaxis": "y"
        },
        {
         "alignmentgroup": "True",
         "hovertemplate": "channel_type=%{x}<br>video views=%{y}<extra></extra>",
         "legendgroup": "Autos",
         "marker": {
          "color": "#636efa",
          "pattern": {
           "shape": ""
          }
         },
         "name": "Autos",
         "offsetgroup": "Autos",
         "orientation": "v",
         "showlegend": true,
         "textposition": "auto",
         "type": "bar",
         "x": [
          "Autos"
         ],
         "xaxis": "x",
         "y": [
          7010591090
         ],
         "yaxis": "y"
        },
        {
         "alignmentgroup": "True",
         "hovertemplate": "channel_type=%{x}<br>video views=%{y}<extra></extra>",
         "legendgroup": "Howto",
         "marker": {
          "color": "#EF553B",
          "pattern": {
           "shape": ""
          }
         },
         "name": "Howto",
         "offsetgroup": "Howto",
         "orientation": "v",
         "showlegend": true,
         "textposition": "auto",
         "type": "bar",
         "x": [
          "Howto"
         ],
         "xaxis": "x",
         "y": [
          6613861258.307693
         ],
         "yaxis": "y"
        },
        {
         "alignmentgroup": "True",
         "hovertemplate": "channel_type=%{x}<br>video views=%{y}<extra></extra>",
         "legendgroup": "Nonprofit",
         "marker": {
          "color": "#00cc96",
          "pattern": {
           "shape": ""
          }
         },
         "name": "Nonprofit",
         "offsetgroup": "Nonprofit",
         "orientation": "v",
         "showlegend": true,
         "textposition": "auto",
         "type": "bar",
         "x": [
          "Nonprofit"
         ],
         "xaxis": "x",
         "y": [
          5431455892.5
         ],
         "yaxis": "y"
        },
        {
         "alignmentgroup": "True",
         "hovertemplate": "channel_type=%{x}<br>video views=%{y}<extra></extra>",
         "legendgroup": "Tech",
         "marker": {
          "color": "#ab63fa",
          "pattern": {
           "shape": ""
          }
         },
         "name": "Tech",
         "offsetgroup": "Tech",
         "orientation": "v",
         "showlegend": true,
         "textposition": "auto",
         "type": "bar",
         "x": [
          "Tech"
         ],
         "xaxis": "x",
         "y": [
          3696674998.3333335
         ],
         "yaxis": "y"
        }
       ],
       "layout": {
        "barmode": "relative",
        "legend": {
         "title": {
          "text": "channel_type"
         },
         "tracegroupgap": 0
        },
        "template": {
         "data": {
          "bar": [
           {
            "error_x": {
             "color": "#f2f5fa"
            },
            "error_y": {
             "color": "#f2f5fa"
            },
            "marker": {
             "line": {
              "color": "rgb(17,17,17)",
              "width": 0.5
             },
             "pattern": {
              "fillmode": "overlay",
              "size": 10,
              "solidity": 0.2
             }
            },
            "type": "bar"
           }
          ],
          "barpolar": [
           {
            "marker": {
             "line": {
              "color": "rgb(17,17,17)",
              "width": 0.5
             },
             "pattern": {
              "fillmode": "overlay",
              "size": 10,
              "solidity": 0.2
             }
            },
            "type": "barpolar"
           }
          ],
          "carpet": [
           {
            "aaxis": {
             "endlinecolor": "#A2B1C6",
             "gridcolor": "#506784",
             "linecolor": "#506784",
             "minorgridcolor": "#506784",
             "startlinecolor": "#A2B1C6"
            },
            "baxis": {
             "endlinecolor": "#A2B1C6",
             "gridcolor": "#506784",
             "linecolor": "#506784",
             "minorgridcolor": "#506784",
             "startlinecolor": "#A2B1C6"
            },
            "type": "carpet"
           }
          ],
          "choropleth": [
           {
            "colorbar": {
             "outlinewidth": 0,
             "ticks": ""
            },
            "type": "choropleth"
           }
          ],
          "contour": [
           {
            "colorbar": {
             "outlinewidth": 0,
             "ticks": ""
            },
            "colorscale": [
             [
              0,
              "#0d0887"
             ],
             [
              0.1111111111111111,
              "#46039f"
             ],
             [
              0.2222222222222222,
              "#7201a8"
             ],
             [
              0.3333333333333333,
              "#9c179e"
             ],
             [
              0.4444444444444444,
              "#bd3786"
             ],
             [
              0.5555555555555556,
              "#d8576b"
             ],
             [
              0.6666666666666666,
              "#ed7953"
             ],
             [
              0.7777777777777778,
              "#fb9f3a"
             ],
             [
              0.8888888888888888,
              "#fdca26"
             ],
             [
              1,
              "#f0f921"
             ]
            ],
            "type": "contour"
           }
          ],
          "contourcarpet": [
           {
            "colorbar": {
             "outlinewidth": 0,
             "ticks": ""
            },
            "type": "contourcarpet"
           }
          ],
          "heatmap": [
           {
            "colorbar": {
             "outlinewidth": 0,
             "ticks": ""
            },
            "colorscale": [
             [
              0,
              "#0d0887"
             ],
             [
              0.1111111111111111,
              "#46039f"
             ],
             [
              0.2222222222222222,
              "#7201a8"
             ],
             [
              0.3333333333333333,
              "#9c179e"
             ],
             [
              0.4444444444444444,
              "#bd3786"
             ],
             [
              0.5555555555555556,
              "#d8576b"
             ],
             [
              0.6666666666666666,
              "#ed7953"
             ],
             [
              0.7777777777777778,
              "#fb9f3a"
             ],
             [
              0.8888888888888888,
              "#fdca26"
             ],
             [
              1,
              "#f0f921"
             ]
            ],
            "type": "heatmap"
           }
          ],
          "heatmapgl": [
           {
            "colorbar": {
             "outlinewidth": 0,
             "ticks": ""
            },
            "colorscale": [
             [
              0,
              "#0d0887"
             ],
             [
              0.1111111111111111,
              "#46039f"
             ],
             [
              0.2222222222222222,
              "#7201a8"
             ],
             [
              0.3333333333333333,
              "#9c179e"
             ],
             [
              0.4444444444444444,
              "#bd3786"
             ],
             [
              0.5555555555555556,
              "#d8576b"
             ],
             [
              0.6666666666666666,
              "#ed7953"
             ],
             [
              0.7777777777777778,
              "#fb9f3a"
             ],
             [
              0.8888888888888888,
              "#fdca26"
             ],
             [
              1,
              "#f0f921"
             ]
            ],
            "type": "heatmapgl"
           }
          ],
          "histogram": [
           {
            "marker": {
             "pattern": {
              "fillmode": "overlay",
              "size": 10,
              "solidity": 0.2
             }
            },
            "type": "histogram"
           }
          ],
          "histogram2d": [
           {
            "colorbar": {
             "outlinewidth": 0,
             "ticks": ""
            },
            "colorscale": [
             [
              0,
              "#0d0887"
             ],
             [
              0.1111111111111111,
              "#46039f"
             ],
             [
              0.2222222222222222,
              "#7201a8"
             ],
             [
              0.3333333333333333,
              "#9c179e"
             ],
             [
              0.4444444444444444,
              "#bd3786"
             ],
             [
              0.5555555555555556,
              "#d8576b"
             ],
             [
              0.6666666666666666,
              "#ed7953"
             ],
             [
              0.7777777777777778,
              "#fb9f3a"
             ],
             [
              0.8888888888888888,
              "#fdca26"
             ],
             [
              1,
              "#f0f921"
             ]
            ],
            "type": "histogram2d"
           }
          ],
          "histogram2dcontour": [
           {
            "colorbar": {
             "outlinewidth": 0,
             "ticks": ""
            },
            "colorscale": [
             [
              0,
              "#0d0887"
             ],
             [
              0.1111111111111111,
              "#46039f"
             ],
             [
              0.2222222222222222,
              "#7201a8"
             ],
             [
              0.3333333333333333,
              "#9c179e"
             ],
             [
              0.4444444444444444,
              "#bd3786"
             ],
             [
              0.5555555555555556,
              "#d8576b"
             ],
             [
              0.6666666666666666,
              "#ed7953"
             ],
             [
              0.7777777777777778,
              "#fb9f3a"
             ],
             [
              0.8888888888888888,
              "#fdca26"
             ],
             [
              1,
              "#f0f921"
             ]
            ],
            "type": "histogram2dcontour"
           }
          ],
          "mesh3d": [
           {
            "colorbar": {
             "outlinewidth": 0,
             "ticks": ""
            },
            "type": "mesh3d"
           }
          ],
          "parcoords": [
           {
            "line": {
             "colorbar": {
              "outlinewidth": 0,
              "ticks": ""
             }
            },
            "type": "parcoords"
           }
          ],
          "pie": [
           {
            "automargin": true,
            "type": "pie"
           }
          ],
          "scatter": [
           {
            "marker": {
             "line": {
              "color": "#283442"
             }
            },
            "type": "scatter"
           }
          ],
          "scatter3d": [
           {
            "line": {
             "colorbar": {
              "outlinewidth": 0,
              "ticks": ""
             }
            },
            "marker": {
             "colorbar": {
              "outlinewidth": 0,
              "ticks": ""
             }
            },
            "type": "scatter3d"
           }
          ],
          "scattercarpet": [
           {
            "marker": {
             "colorbar": {
              "outlinewidth": 0,
              "ticks": ""
             }
            },
            "type": "scattercarpet"
           }
          ],
          "scattergeo": [
           {
            "marker": {
             "colorbar": {
              "outlinewidth": 0,
              "ticks": ""
             }
            },
            "type": "scattergeo"
           }
          ],
          "scattergl": [
           {
            "marker": {
             "line": {
              "color": "#283442"
             }
            },
            "type": "scattergl"
           }
          ],
          "scattermapbox": [
           {
            "marker": {
             "colorbar": {
              "outlinewidth": 0,
              "ticks": ""
             }
            },
            "type": "scattermapbox"
           }
          ],
          "scatterpolar": [
           {
            "marker": {
             "colorbar": {
              "outlinewidth": 0,
              "ticks": ""
             }
            },
            "type": "scatterpolar"
           }
          ],
          "scatterpolargl": [
           {
            "marker": {
             "colorbar": {
              "outlinewidth": 0,
              "ticks": ""
             }
            },
            "type": "scatterpolargl"
           }
          ],
          "scatterternary": [
           {
            "marker": {
             "colorbar": {
              "outlinewidth": 0,
              "ticks": ""
             }
            },
            "type": "scatterternary"
           }
          ],
          "surface": [
           {
            "colorbar": {
             "outlinewidth": 0,
             "ticks": ""
            },
            "colorscale": [
             [
              0,
              "#0d0887"
             ],
             [
              0.1111111111111111,
              "#46039f"
             ],
             [
              0.2222222222222222,
              "#7201a8"
             ],
             [
              0.3333333333333333,
              "#9c179e"
             ],
             [
              0.4444444444444444,
              "#bd3786"
             ],
             [
              0.5555555555555556,
              "#d8576b"
             ],
             [
              0.6666666666666666,
              "#ed7953"
             ],
             [
              0.7777777777777778,
              "#fb9f3a"
             ],
             [
              0.8888888888888888,
              "#fdca26"
             ],
             [
              1,
              "#f0f921"
             ]
            ],
            "type": "surface"
           }
          ],
          "table": [
           {
            "cells": {
             "fill": {
              "color": "#506784"
             },
             "line": {
              "color": "rgb(17,17,17)"
             }
            },
            "header": {
             "fill": {
              "color": "#2a3f5f"
             },
             "line": {
              "color": "rgb(17,17,17)"
             }
            },
            "type": "table"
           }
          ]
         },
         "layout": {
          "annotationdefaults": {
           "arrowcolor": "#f2f5fa",
           "arrowhead": 0,
           "arrowwidth": 1
          },
          "autotypenumbers": "strict",
          "coloraxis": {
           "colorbar": {
            "outlinewidth": 0,
            "ticks": ""
           }
          },
          "colorscale": {
           "diverging": [
            [
             0,
             "#8e0152"
            ],
            [
             0.1,
             "#c51b7d"
            ],
            [
             0.2,
             "#de77ae"
            ],
            [
             0.3,
             "#f1b6da"
            ],
            [
             0.4,
             "#fde0ef"
            ],
            [
             0.5,
             "#f7f7f7"
            ],
            [
             0.6,
             "#e6f5d0"
            ],
            [
             0.7,
             "#b8e186"
            ],
            [
             0.8,
             "#7fbc41"
            ],
            [
             0.9,
             "#4d9221"
            ],
            [
             1,
             "#276419"
            ]
           ],
           "sequential": [
            [
             0,
             "#0d0887"
            ],
            [
             0.1111111111111111,
             "#46039f"
            ],
            [
             0.2222222222222222,
             "#7201a8"
            ],
            [
             0.3333333333333333,
             "#9c179e"
            ],
            [
             0.4444444444444444,
             "#bd3786"
            ],
            [
             0.5555555555555556,
             "#d8576b"
            ],
            [
             0.6666666666666666,
             "#ed7953"
            ],
            [
             0.7777777777777778,
             "#fb9f3a"
            ],
            [
             0.8888888888888888,
             "#fdca26"
            ],
            [
             1,
             "#f0f921"
            ]
           ],
           "sequentialminus": [
            [
             0,
             "#0d0887"
            ],
            [
             0.1111111111111111,
             "#46039f"
            ],
            [
             0.2222222222222222,
             "#7201a8"
            ],
            [
             0.3333333333333333,
             "#9c179e"
            ],
            [
             0.4444444444444444,
             "#bd3786"
            ],
            [
             0.5555555555555556,
             "#d8576b"
            ],
            [
             0.6666666666666666,
             "#ed7953"
            ],
            [
             0.7777777777777778,
             "#fb9f3a"
            ],
            [
             0.8888888888888888,
             "#fdca26"
            ],
            [
             1,
             "#f0f921"
            ]
           ]
          },
          "colorway": [
           "#636efa",
           "#EF553B",
           "#00cc96",
           "#ab63fa",
           "#FFA15A",
           "#19d3f3",
           "#FF6692",
           "#B6E880",
           "#FF97FF",
           "#FECB52"
          ],
          "font": {
           "color": "#f2f5fa"
          },
          "geo": {
           "bgcolor": "rgb(17,17,17)",
           "lakecolor": "rgb(17,17,17)",
           "landcolor": "rgb(17,17,17)",
           "showlakes": true,
           "showland": true,
           "subunitcolor": "#506784"
          },
          "hoverlabel": {
           "align": "left"
          },
          "hovermode": "closest",
          "mapbox": {
           "style": "dark"
          },
          "paper_bgcolor": "rgb(17,17,17)",
          "plot_bgcolor": "rgb(17,17,17)",
          "polar": {
           "angularaxis": {
            "gridcolor": "#506784",
            "linecolor": "#506784",
            "ticks": ""
           },
           "bgcolor": "rgb(17,17,17)",
           "radialaxis": {
            "gridcolor": "#506784",
            "linecolor": "#506784",
            "ticks": ""
           }
          },
          "scene": {
           "xaxis": {
            "backgroundcolor": "rgb(17,17,17)",
            "gridcolor": "#506784",
            "gridwidth": 2,
            "linecolor": "#506784",
            "showbackground": true,
            "ticks": "",
            "zerolinecolor": "#C8D4E3"
           },
           "yaxis": {
            "backgroundcolor": "rgb(17,17,17)",
            "gridcolor": "#506784",
            "gridwidth": 2,
            "linecolor": "#506784",
            "showbackground": true,
            "ticks": "",
            "zerolinecolor": "#C8D4E3"
           },
           "zaxis": {
            "backgroundcolor": "rgb(17,17,17)",
            "gridcolor": "#506784",
            "gridwidth": 2,
            "linecolor": "#506784",
            "showbackground": true,
            "ticks": "",
            "zerolinecolor": "#C8D4E3"
           }
          },
          "shapedefaults": {
           "line": {
            "color": "#f2f5fa"
           }
          },
          "sliderdefaults": {
           "bgcolor": "#C8D4E3",
           "bordercolor": "rgb(17,17,17)",
           "borderwidth": 1,
           "tickwidth": 0
          },
          "ternary": {
           "aaxis": {
            "gridcolor": "#506784",
            "linecolor": "#506784",
            "ticks": ""
           },
           "baxis": {
            "gridcolor": "#506784",
            "linecolor": "#506784",
            "ticks": ""
           },
           "bgcolor": "rgb(17,17,17)",
           "caxis": {
            "gridcolor": "#506784",
            "linecolor": "#506784",
            "ticks": ""
           }
          },
          "title": {
           "x": 0.05
          },
          "updatemenudefaults": {
           "bgcolor": "#506784",
           "borderwidth": 0
          },
          "xaxis": {
           "automargin": true,
           "gridcolor": "#283442",
           "linecolor": "#506784",
           "ticks": "",
           "title": {
            "standoff": 15
           },
           "zerolinecolor": "#283442",
           "zerolinewidth": 2
          },
          "yaxis": {
           "automargin": true,
           "gridcolor": "#283442",
           "linecolor": "#506784",
           "ticks": "",
           "title": {
            "standoff": 15
           },
           "zerolinecolor": "#283442",
           "zerolinewidth": 2
          }
         }
        },
        "title": {
         "text": "Тип контента по среднему числу просмотров",
         "x": 0.5
        },
        "xaxis": {
         "anchor": "y",
         "categoryarray": [
          "Education",
          "Music",
          "Animals",
          "Sports",
          "Entertainment",
          "Film",
          "Comedy",
          "News",
          "People",
          "Games",
          "Autos",
          "Howto",
          "Nonprofit",
          "Tech"
         ],
         "categoryorder": "array",
         "domain": [
          0,
          1
         ],
         "title": {
          "text": "Тип контента"
         }
        },
        "yaxis": {
         "anchor": "x",
         "domain": [
          0,
          1
         ],
         "title": {
          "text": "Среднее кол-во просмотров"
         }
        }
       }
      },
      "text/html": [
       "<div>                            <div id=\"4ac5e4db-7aa3-489d-8aa8-5b9a2b50dbf7\" class=\"plotly-graph-div\" style=\"height:525px; width:100%;\"></div>            <script type=\"text/javascript\">                require([\"plotly\"], function(Plotly) {                    window.PLOTLYENV=window.PLOTLYENV || {};                                    if (document.getElementById(\"4ac5e4db-7aa3-489d-8aa8-5b9a2b50dbf7\")) {                    Plotly.newPlot(                        \"4ac5e4db-7aa3-489d-8aa8-5b9a2b50dbf7\",                        [{\"alignmentgroup\":\"True\",\"hovertemplate\":\"channel_type=%{x}<br>video views=%{y}<extra></extra>\",\"legendgroup\":\"Education\",\"marker\":{\"color\":\"#636efa\",\"pattern\":{\"shape\":\"\"}},\"name\":\"Education\",\"offsetgroup\":\"Education\",\"orientation\":\"v\",\"showlegend\":true,\"textposition\":\"auto\",\"x\":[\"Education\"],\"xaxis\":\"x\",\"y\":[19032509458.25],\"yaxis\":\"y\",\"type\":\"bar\"},{\"alignmentgroup\":\"True\",\"hovertemplate\":\"channel_type=%{x}<br>video views=%{y}<extra></extra>\",\"legendgroup\":\"Music\",\"marker\":{\"color\":\"#EF553B\",\"pattern\":{\"shape\":\"\"}},\"name\":\"Music\",\"offsetgroup\":\"Music\",\"orientation\":\"v\",\"showlegend\":true,\"textposition\":\"auto\",\"x\":[\"Music\"],\"xaxis\":\"x\",\"y\":[17562001886.26613],\"yaxis\":\"y\",\"type\":\"bar\"},{\"alignmentgroup\":\"True\",\"hovertemplate\":\"channel_type=%{x}<br>video views=%{y}<extra></extra>\",\"legendgroup\":\"Animals\",\"marker\":{\"color\":\"#00cc96\",\"pattern\":{\"shape\":\"\"}},\"name\":\"Animals\",\"offsetgroup\":\"Animals\",\"orientation\":\"v\",\"showlegend\":true,\"textposition\":\"auto\",\"x\":[\"Animals\"],\"xaxis\":\"x\",\"y\":[14711751867.0],\"yaxis\":\"y\",\"type\":\"bar\"},{\"alignmentgroup\":\"True\",\"hovertemplate\":\"channel_type=%{x}<br>video views=%{y}<extra></extra>\",\"legendgroup\":\"Sports\",\"marker\":{\"color\":\"#ab63fa\",\"pattern\":{\"shape\":\"\"}},\"name\":\"Sports\",\"offsetgroup\":\"Sports\",\"orientation\":\"v\",\"showlegend\":true,\"textposition\":\"auto\",\"x\":[\"Sports\"],\"xaxis\":\"x\",\"y\":[14150836858.555555],\"yaxis\":\"y\",\"type\":\"bar\"},{\"alignmentgroup\":\"True\",\"hovertemplate\":\"channel_type=%{x}<br>video views=%{y}<extra></extra>\",\"legendgroup\":\"Entertainment\",\"marker\":{\"color\":\"#FFA15A\",\"pattern\":{\"shape\":\"\"}},\"name\":\"Entertainment\",\"offsetgroup\":\"Entertainment\",\"orientation\":\"v\",\"showlegend\":true,\"textposition\":\"auto\",\"x\":[\"Entertainment\"],\"xaxis\":\"x\",\"y\":[13082479833.405556],\"yaxis\":\"y\",\"type\":\"bar\"},{\"alignmentgroup\":\"True\",\"hovertemplate\":\"channel_type=%{x}<br>video views=%{y}<extra></extra>\",\"legendgroup\":\"Film\",\"marker\":{\"color\":\"#19d3f3\",\"pattern\":{\"shape\":\"\"}},\"name\":\"Film\",\"offsetgroup\":\"Film\",\"orientation\":\"v\",\"showlegend\":true,\"textposition\":\"auto\",\"x\":[\"Film\"],\"xaxis\":\"x\",\"y\":[11754216508.586206],\"yaxis\":\"y\",\"type\":\"bar\"},{\"alignmentgroup\":\"True\",\"hovertemplate\":\"channel_type=%{x}<br>video views=%{y}<extra></extra>\",\"legendgroup\":\"Comedy\",\"marker\":{\"color\":\"#FF6692\",\"pattern\":{\"shape\":\"\"}},\"name\":\"Comedy\",\"offsetgroup\":\"Comedy\",\"orientation\":\"v\",\"showlegend\":true,\"textposition\":\"auto\",\"x\":[\"Comedy\"],\"xaxis\":\"x\",\"y\":[10942768778.033333],\"yaxis\":\"y\",\"type\":\"bar\"},{\"alignmentgroup\":\"True\",\"hovertemplate\":\"channel_type=%{x}<br>video views=%{y}<extra></extra>\",\"legendgroup\":\"News\",\"marker\":{\"color\":\"#B6E880\",\"pattern\":{\"shape\":\"\"}},\"name\":\"News\",\"offsetgroup\":\"News\",\"orientation\":\"v\",\"showlegend\":true,\"textposition\":\"auto\",\"x\":[\"News\"],\"xaxis\":\"x\",\"y\":[10392941937.423077],\"yaxis\":\"y\",\"type\":\"bar\"},{\"alignmentgroup\":\"True\",\"hovertemplate\":\"channel_type=%{x}<br>video views=%{y}<extra></extra>\",\"legendgroup\":\"People\",\"marker\":{\"color\":\"#FF97FF\",\"pattern\":{\"shape\":\"\"}},\"name\":\"People\",\"offsetgroup\":\"People\",\"orientation\":\"v\",\"showlegend\":true,\"textposition\":\"auto\",\"x\":[\"People\"],\"xaxis\":\"x\",\"y\":[9754839303.195122],\"yaxis\":\"y\",\"type\":\"bar\"},{\"alignmentgroup\":\"True\",\"hovertemplate\":\"channel_type=%{x}<br>video views=%{y}<extra></extra>\",\"legendgroup\":\"Games\",\"marker\":{\"color\":\"#FECB52\",\"pattern\":{\"shape\":\"\"}},\"name\":\"Games\",\"offsetgroup\":\"Games\",\"orientation\":\"v\",\"showlegend\":true,\"textposition\":\"auto\",\"x\":[\"Games\"],\"xaxis\":\"x\",\"y\":[8130773376.0],\"yaxis\":\"y\",\"type\":\"bar\"},{\"alignmentgroup\":\"True\",\"hovertemplate\":\"channel_type=%{x}<br>video views=%{y}<extra></extra>\",\"legendgroup\":\"Autos\",\"marker\":{\"color\":\"#636efa\",\"pattern\":{\"shape\":\"\"}},\"name\":\"Autos\",\"offsetgroup\":\"Autos\",\"orientation\":\"v\",\"showlegend\":true,\"textposition\":\"auto\",\"x\":[\"Autos\"],\"xaxis\":\"x\",\"y\":[7010591090.0],\"yaxis\":\"y\",\"type\":\"bar\"},{\"alignmentgroup\":\"True\",\"hovertemplate\":\"channel_type=%{x}<br>video views=%{y}<extra></extra>\",\"legendgroup\":\"Howto\",\"marker\":{\"color\":\"#EF553B\",\"pattern\":{\"shape\":\"\"}},\"name\":\"Howto\",\"offsetgroup\":\"Howto\",\"orientation\":\"v\",\"showlegend\":true,\"textposition\":\"auto\",\"x\":[\"Howto\"],\"xaxis\":\"x\",\"y\":[6613861258.307693],\"yaxis\":\"y\",\"type\":\"bar\"},{\"alignmentgroup\":\"True\",\"hovertemplate\":\"channel_type=%{x}<br>video views=%{y}<extra></extra>\",\"legendgroup\":\"Nonprofit\",\"marker\":{\"color\":\"#00cc96\",\"pattern\":{\"shape\":\"\"}},\"name\":\"Nonprofit\",\"offsetgroup\":\"Nonprofit\",\"orientation\":\"v\",\"showlegend\":true,\"textposition\":\"auto\",\"x\":[\"Nonprofit\"],\"xaxis\":\"x\",\"y\":[5431455892.5],\"yaxis\":\"y\",\"type\":\"bar\"},{\"alignmentgroup\":\"True\",\"hovertemplate\":\"channel_type=%{x}<br>video views=%{y}<extra></extra>\",\"legendgroup\":\"Tech\",\"marker\":{\"color\":\"#ab63fa\",\"pattern\":{\"shape\":\"\"}},\"name\":\"Tech\",\"offsetgroup\":\"Tech\",\"orientation\":\"v\",\"showlegend\":true,\"textposition\":\"auto\",\"x\":[\"Tech\"],\"xaxis\":\"x\",\"y\":[3696674998.3333335],\"yaxis\":\"y\",\"type\":\"bar\"}],                        {\"template\":{\"data\":{\"barpolar\":[{\"marker\":{\"line\":{\"color\":\"rgb(17,17,17)\",\"width\":0.5},\"pattern\":{\"fillmode\":\"overlay\",\"size\":10,\"solidity\":0.2}},\"type\":\"barpolar\"}],\"bar\":[{\"error_x\":{\"color\":\"#f2f5fa\"},\"error_y\":{\"color\":\"#f2f5fa\"},\"marker\":{\"line\":{\"color\":\"rgb(17,17,17)\",\"width\":0.5},\"pattern\":{\"fillmode\":\"overlay\",\"size\":10,\"solidity\":0.2}},\"type\":\"bar\"}],\"carpet\":[{\"aaxis\":{\"endlinecolor\":\"#A2B1C6\",\"gridcolor\":\"#506784\",\"linecolor\":\"#506784\",\"minorgridcolor\":\"#506784\",\"startlinecolor\":\"#A2B1C6\"},\"baxis\":{\"endlinecolor\":\"#A2B1C6\",\"gridcolor\":\"#506784\",\"linecolor\":\"#506784\",\"minorgridcolor\":\"#506784\",\"startlinecolor\":\"#A2B1C6\"},\"type\":\"carpet\"}],\"choropleth\":[{\"colorbar\":{\"outlinewidth\":0,\"ticks\":\"\"},\"type\":\"choropleth\"}],\"contourcarpet\":[{\"colorbar\":{\"outlinewidth\":0,\"ticks\":\"\"},\"type\":\"contourcarpet\"}],\"contour\":[{\"colorbar\":{\"outlinewidth\":0,\"ticks\":\"\"},\"colorscale\":[[0.0,\"#0d0887\"],[0.1111111111111111,\"#46039f\"],[0.2222222222222222,\"#7201a8\"],[0.3333333333333333,\"#9c179e\"],[0.4444444444444444,\"#bd3786\"],[0.5555555555555556,\"#d8576b\"],[0.6666666666666666,\"#ed7953\"],[0.7777777777777778,\"#fb9f3a\"],[0.8888888888888888,\"#fdca26\"],[1.0,\"#f0f921\"]],\"type\":\"contour\"}],\"heatmapgl\":[{\"colorbar\":{\"outlinewidth\":0,\"ticks\":\"\"},\"colorscale\":[[0.0,\"#0d0887\"],[0.1111111111111111,\"#46039f\"],[0.2222222222222222,\"#7201a8\"],[0.3333333333333333,\"#9c179e\"],[0.4444444444444444,\"#bd3786\"],[0.5555555555555556,\"#d8576b\"],[0.6666666666666666,\"#ed7953\"],[0.7777777777777778,\"#fb9f3a\"],[0.8888888888888888,\"#fdca26\"],[1.0,\"#f0f921\"]],\"type\":\"heatmapgl\"}],\"heatmap\":[{\"colorbar\":{\"outlinewidth\":0,\"ticks\":\"\"},\"colorscale\":[[0.0,\"#0d0887\"],[0.1111111111111111,\"#46039f\"],[0.2222222222222222,\"#7201a8\"],[0.3333333333333333,\"#9c179e\"],[0.4444444444444444,\"#bd3786\"],[0.5555555555555556,\"#d8576b\"],[0.6666666666666666,\"#ed7953\"],[0.7777777777777778,\"#fb9f3a\"],[0.8888888888888888,\"#fdca26\"],[1.0,\"#f0f921\"]],\"type\":\"heatmap\"}],\"histogram2dcontour\":[{\"colorbar\":{\"outlinewidth\":0,\"ticks\":\"\"},\"colorscale\":[[0.0,\"#0d0887\"],[0.1111111111111111,\"#46039f\"],[0.2222222222222222,\"#7201a8\"],[0.3333333333333333,\"#9c179e\"],[0.4444444444444444,\"#bd3786\"],[0.5555555555555556,\"#d8576b\"],[0.6666666666666666,\"#ed7953\"],[0.7777777777777778,\"#fb9f3a\"],[0.8888888888888888,\"#fdca26\"],[1.0,\"#f0f921\"]],\"type\":\"histogram2dcontour\"}],\"histogram2d\":[{\"colorbar\":{\"outlinewidth\":0,\"ticks\":\"\"},\"colorscale\":[[0.0,\"#0d0887\"],[0.1111111111111111,\"#46039f\"],[0.2222222222222222,\"#7201a8\"],[0.3333333333333333,\"#9c179e\"],[0.4444444444444444,\"#bd3786\"],[0.5555555555555556,\"#d8576b\"],[0.6666666666666666,\"#ed7953\"],[0.7777777777777778,\"#fb9f3a\"],[0.8888888888888888,\"#fdca26\"],[1.0,\"#f0f921\"]],\"type\":\"histogram2d\"}],\"histogram\":[{\"marker\":{\"pattern\":{\"fillmode\":\"overlay\",\"size\":10,\"solidity\":0.2}},\"type\":\"histogram\"}],\"mesh3d\":[{\"colorbar\":{\"outlinewidth\":0,\"ticks\":\"\"},\"type\":\"mesh3d\"}],\"parcoords\":[{\"line\":{\"colorbar\":{\"outlinewidth\":0,\"ticks\":\"\"}},\"type\":\"parcoords\"}],\"pie\":[{\"automargin\":true,\"type\":\"pie\"}],\"scatter3d\":[{\"line\":{\"colorbar\":{\"outlinewidth\":0,\"ticks\":\"\"}},\"marker\":{\"colorbar\":{\"outlinewidth\":0,\"ticks\":\"\"}},\"type\":\"scatter3d\"}],\"scattercarpet\":[{\"marker\":{\"colorbar\":{\"outlinewidth\":0,\"ticks\":\"\"}},\"type\":\"scattercarpet\"}],\"scattergeo\":[{\"marker\":{\"colorbar\":{\"outlinewidth\":0,\"ticks\":\"\"}},\"type\":\"scattergeo\"}],\"scattergl\":[{\"marker\":{\"line\":{\"color\":\"#283442\"}},\"type\":\"scattergl\"}],\"scattermapbox\":[{\"marker\":{\"colorbar\":{\"outlinewidth\":0,\"ticks\":\"\"}},\"type\":\"scattermapbox\"}],\"scatterpolargl\":[{\"marker\":{\"colorbar\":{\"outlinewidth\":0,\"ticks\":\"\"}},\"type\":\"scatterpolargl\"}],\"scatterpolar\":[{\"marker\":{\"colorbar\":{\"outlinewidth\":0,\"ticks\":\"\"}},\"type\":\"scatterpolar\"}],\"scatter\":[{\"marker\":{\"line\":{\"color\":\"#283442\"}},\"type\":\"scatter\"}],\"scatterternary\":[{\"marker\":{\"colorbar\":{\"outlinewidth\":0,\"ticks\":\"\"}},\"type\":\"scatterternary\"}],\"surface\":[{\"colorbar\":{\"outlinewidth\":0,\"ticks\":\"\"},\"colorscale\":[[0.0,\"#0d0887\"],[0.1111111111111111,\"#46039f\"],[0.2222222222222222,\"#7201a8\"],[0.3333333333333333,\"#9c179e\"],[0.4444444444444444,\"#bd3786\"],[0.5555555555555556,\"#d8576b\"],[0.6666666666666666,\"#ed7953\"],[0.7777777777777778,\"#fb9f3a\"],[0.8888888888888888,\"#fdca26\"],[1.0,\"#f0f921\"]],\"type\":\"surface\"}],\"table\":[{\"cells\":{\"fill\":{\"color\":\"#506784\"},\"line\":{\"color\":\"rgb(17,17,17)\"}},\"header\":{\"fill\":{\"color\":\"#2a3f5f\"},\"line\":{\"color\":\"rgb(17,17,17)\"}},\"type\":\"table\"}]},\"layout\":{\"annotationdefaults\":{\"arrowcolor\":\"#f2f5fa\",\"arrowhead\":0,\"arrowwidth\":1},\"autotypenumbers\":\"strict\",\"coloraxis\":{\"colorbar\":{\"outlinewidth\":0,\"ticks\":\"\"}},\"colorscale\":{\"diverging\":[[0,\"#8e0152\"],[0.1,\"#c51b7d\"],[0.2,\"#de77ae\"],[0.3,\"#f1b6da\"],[0.4,\"#fde0ef\"],[0.5,\"#f7f7f7\"],[0.6,\"#e6f5d0\"],[0.7,\"#b8e186\"],[0.8,\"#7fbc41\"],[0.9,\"#4d9221\"],[1,\"#276419\"]],\"sequential\":[[0.0,\"#0d0887\"],[0.1111111111111111,\"#46039f\"],[0.2222222222222222,\"#7201a8\"],[0.3333333333333333,\"#9c179e\"],[0.4444444444444444,\"#bd3786\"],[0.5555555555555556,\"#d8576b\"],[0.6666666666666666,\"#ed7953\"],[0.7777777777777778,\"#fb9f3a\"],[0.8888888888888888,\"#fdca26\"],[1.0,\"#f0f921\"]],\"sequentialminus\":[[0.0,\"#0d0887\"],[0.1111111111111111,\"#46039f\"],[0.2222222222222222,\"#7201a8\"],[0.3333333333333333,\"#9c179e\"],[0.4444444444444444,\"#bd3786\"],[0.5555555555555556,\"#d8576b\"],[0.6666666666666666,\"#ed7953\"],[0.7777777777777778,\"#fb9f3a\"],[0.8888888888888888,\"#fdca26\"],[1.0,\"#f0f921\"]]},\"colorway\":[\"#636efa\",\"#EF553B\",\"#00cc96\",\"#ab63fa\",\"#FFA15A\",\"#19d3f3\",\"#FF6692\",\"#B6E880\",\"#FF97FF\",\"#FECB52\"],\"font\":{\"color\":\"#f2f5fa\"},\"geo\":{\"bgcolor\":\"rgb(17,17,17)\",\"lakecolor\":\"rgb(17,17,17)\",\"landcolor\":\"rgb(17,17,17)\",\"showlakes\":true,\"showland\":true,\"subunitcolor\":\"#506784\"},\"hoverlabel\":{\"align\":\"left\"},\"hovermode\":\"closest\",\"mapbox\":{\"style\":\"dark\"},\"paper_bgcolor\":\"rgb(17,17,17)\",\"plot_bgcolor\":\"rgb(17,17,17)\",\"polar\":{\"angularaxis\":{\"gridcolor\":\"#506784\",\"linecolor\":\"#506784\",\"ticks\":\"\"},\"bgcolor\":\"rgb(17,17,17)\",\"radialaxis\":{\"gridcolor\":\"#506784\",\"linecolor\":\"#506784\",\"ticks\":\"\"}},\"scene\":{\"xaxis\":{\"backgroundcolor\":\"rgb(17,17,17)\",\"gridcolor\":\"#506784\",\"gridwidth\":2,\"linecolor\":\"#506784\",\"showbackground\":true,\"ticks\":\"\",\"zerolinecolor\":\"#C8D4E3\"},\"yaxis\":{\"backgroundcolor\":\"rgb(17,17,17)\",\"gridcolor\":\"#506784\",\"gridwidth\":2,\"linecolor\":\"#506784\",\"showbackground\":true,\"ticks\":\"\",\"zerolinecolor\":\"#C8D4E3\"},\"zaxis\":{\"backgroundcolor\":\"rgb(17,17,17)\",\"gridcolor\":\"#506784\",\"gridwidth\":2,\"linecolor\":\"#506784\",\"showbackground\":true,\"ticks\":\"\",\"zerolinecolor\":\"#C8D4E3\"}},\"shapedefaults\":{\"line\":{\"color\":\"#f2f5fa\"}},\"sliderdefaults\":{\"bgcolor\":\"#C8D4E3\",\"bordercolor\":\"rgb(17,17,17)\",\"borderwidth\":1,\"tickwidth\":0},\"ternary\":{\"aaxis\":{\"gridcolor\":\"#506784\",\"linecolor\":\"#506784\",\"ticks\":\"\"},\"baxis\":{\"gridcolor\":\"#506784\",\"linecolor\":\"#506784\",\"ticks\":\"\"},\"bgcolor\":\"rgb(17,17,17)\",\"caxis\":{\"gridcolor\":\"#506784\",\"linecolor\":\"#506784\",\"ticks\":\"\"}},\"title\":{\"x\":0.05},\"updatemenudefaults\":{\"bgcolor\":\"#506784\",\"borderwidth\":0},\"xaxis\":{\"automargin\":true,\"gridcolor\":\"#283442\",\"linecolor\":\"#506784\",\"ticks\":\"\",\"title\":{\"standoff\":15},\"zerolinecolor\":\"#283442\",\"zerolinewidth\":2},\"yaxis\":{\"automargin\":true,\"gridcolor\":\"#283442\",\"linecolor\":\"#506784\",\"ticks\":\"\",\"title\":{\"standoff\":15},\"zerolinecolor\":\"#283442\",\"zerolinewidth\":2}}},\"xaxis\":{\"anchor\":\"y\",\"domain\":[0.0,1.0],\"title\":{\"text\":\"\\u0422\\u0438\\u043f \\u043a\\u043e\\u043d\\u0442\\u0435\\u043d\\u0442\\u0430\"},\"categoryorder\":\"array\",\"categoryarray\":[\"Education\",\"Music\",\"Animals\",\"Sports\",\"Entertainment\",\"Film\",\"Comedy\",\"News\",\"People\",\"Games\",\"Autos\",\"Howto\",\"Nonprofit\",\"Tech\"]},\"yaxis\":{\"anchor\":\"x\",\"domain\":[0.0,1.0],\"title\":{\"text\":\"\\u0421\\u0440\\u0435\\u0434\\u043d\\u0435\\u0435 \\u043a\\u043e\\u043b-\\u0432\\u043e \\u043f\\u0440\\u043e\\u0441\\u043c\\u043e\\u0442\\u0440\\u043e\\u0432\"}},\"legend\":{\"title\":{\"text\":\"channel_type\"},\"tracegroupgap\":0},\"title\":{\"text\":\"\\u0422\\u0438\\u043f \\u043a\\u043e\\u043d\\u0442\\u0435\\u043d\\u0442\\u0430 \\u043f\\u043e \\u0441\\u0440\\u0435\\u0434\\u043d\\u0435\\u043c\\u0443 \\u0447\\u0438\\u0441\\u043b\\u0443 \\u043f\\u0440\\u043e\\u0441\\u043c\\u043e\\u0442\\u0440\\u043e\\u0432\",\"x\":0.5},\"barmode\":\"relative\"},                        {\"responsive\": true}                    ).then(function(){\n",
       "                            \n",
       "var gd = document.getElementById('4ac5e4db-7aa3-489d-8aa8-5b9a2b50dbf7');\n",
       "var x = new MutationObserver(function (mutations, observer) {{\n",
       "        var display = window.getComputedStyle(gd).display;\n",
       "        if (!display || display === 'none') {{\n",
       "            console.log([gd, 'removed!']);\n",
       "            Plotly.purge(gd);\n",
       "            observer.disconnect();\n",
       "        }}\n",
       "}});\n",
       "\n",
       "// Listen for the removal of the full notebook cells\n",
       "var notebookContainer = gd.closest('#notebook-container');\n",
       "if (notebookContainer) {{\n",
       "    x.observe(notebookContainer, {childList: true});\n",
       "}}\n",
       "\n",
       "// Listen for the clearing of the current output cell\n",
       "var outputEl = gd.closest('.output');\n",
       "if (outputEl) {{\n",
       "    x.observe(outputEl, {childList: true});\n",
       "}}\n",
       "\n",
       "                        })                };                });            </script>        </div>"
      ]
     },
     "metadata": {},
     "output_type": "display_data"
    }
   ],
   "source": [
    "typ = df.groupby('channel_type')['video views'].mean().reset_index().sort_values(by ='video views', ascending = False)\n",
    "fig = px.bar(typ,x = 'channel_type',y = 'video views', color = 'channel_type', template = 'plotly_dark',\n",
    "            title = 'Тип контента по среднему числу просмотров')\n",
    "fig.update_layout(title_x = 0.5,xaxis_title = 'Тип контента',\n",
    "                 yaxis_title = 'Среднее кол-во просмотров')\n",
    "fig.show()\n",
    "\n"
   ]
  },
  {
   "cell_type": "markdown",
   "id": "56e3d9c6",
   "metadata": {},
   "source": [
    "График показывает, какой тип контента наиболее просматриваемый, на что лучше делать упор. "
   ]
  },
  {
   "cell_type": "markdown",
   "id": "44ad5d91",
   "metadata": {},
   "source": [
    "## Пятый график"
   ]
  },
  {
   "cell_type": "code",
   "execution_count": 255,
   "id": "2dc74ddf",
   "metadata": {},
   "outputs": [
    {
     "data": {
      "application/vnd.plotly.v1+json": {
       "config": {
        "plotlyServerURL": "https://plot.ly"
       },
       "data": [
        {
         "domain": {
          "x": [
           0,
           1
          ],
          "y": [
           0,
           1
          ]
         },
         "hovertemplate": "category=%{label}<br>video views=%{value}<extra></extra>",
         "labels": [
          "Autos & Vehicles",
          "Comedy",
          "Education",
          "Entertainment",
          "Film & Animation",
          "Gaming",
          "Howto & Style",
          "Movies",
          "Music",
          "News & Politics",
          "Nonprofits & Activism",
          "People & Blogs",
          "Pets & Animals",
          "Science & Technology",
          "Shows",
          "Sports",
          "Trailers"
         ],
         "legendgroup": "",
         "name": "",
         "showlegend": true,
         "type": "pie",
         "values": [
          7501729070.5,
          9239114201.4,
          18506531383.39394,
          12506679790.724138,
          13928432851.071428,
          7946309084.571428,
          4516012501.076923,
          7691627564.5,
          17612793529.736362,
          10497285752.2,
          5431455892.5,
          10603398806.38889,
          11634209694,
          3248829702.2727275,
          36492091297.666664,
          14675658773.444445,
          16631358803.5
         ]
        }
       ],
       "layout": {
        "legend": {
         "tracegroupgap": 0,
         "x": -0.2,
         "xanchor": "left"
        },
        "template": {
         "data": {
          "bar": [
           {
            "error_x": {
             "color": "#f2f5fa"
            },
            "error_y": {
             "color": "#f2f5fa"
            },
            "marker": {
             "line": {
              "color": "rgb(17,17,17)",
              "width": 0.5
             },
             "pattern": {
              "fillmode": "overlay",
              "size": 10,
              "solidity": 0.2
             }
            },
            "type": "bar"
           }
          ],
          "barpolar": [
           {
            "marker": {
             "line": {
              "color": "rgb(17,17,17)",
              "width": 0.5
             },
             "pattern": {
              "fillmode": "overlay",
              "size": 10,
              "solidity": 0.2
             }
            },
            "type": "barpolar"
           }
          ],
          "carpet": [
           {
            "aaxis": {
             "endlinecolor": "#A2B1C6",
             "gridcolor": "#506784",
             "linecolor": "#506784",
             "minorgridcolor": "#506784",
             "startlinecolor": "#A2B1C6"
            },
            "baxis": {
             "endlinecolor": "#A2B1C6",
             "gridcolor": "#506784",
             "linecolor": "#506784",
             "minorgridcolor": "#506784",
             "startlinecolor": "#A2B1C6"
            },
            "type": "carpet"
           }
          ],
          "choropleth": [
           {
            "colorbar": {
             "outlinewidth": 0,
             "ticks": ""
            },
            "type": "choropleth"
           }
          ],
          "contour": [
           {
            "colorbar": {
             "outlinewidth": 0,
             "ticks": ""
            },
            "colorscale": [
             [
              0,
              "#0d0887"
             ],
             [
              0.1111111111111111,
              "#46039f"
             ],
             [
              0.2222222222222222,
              "#7201a8"
             ],
             [
              0.3333333333333333,
              "#9c179e"
             ],
             [
              0.4444444444444444,
              "#bd3786"
             ],
             [
              0.5555555555555556,
              "#d8576b"
             ],
             [
              0.6666666666666666,
              "#ed7953"
             ],
             [
              0.7777777777777778,
              "#fb9f3a"
             ],
             [
              0.8888888888888888,
              "#fdca26"
             ],
             [
              1,
              "#f0f921"
             ]
            ],
            "type": "contour"
           }
          ],
          "contourcarpet": [
           {
            "colorbar": {
             "outlinewidth": 0,
             "ticks": ""
            },
            "type": "contourcarpet"
           }
          ],
          "heatmap": [
           {
            "colorbar": {
             "outlinewidth": 0,
             "ticks": ""
            },
            "colorscale": [
             [
              0,
              "#0d0887"
             ],
             [
              0.1111111111111111,
              "#46039f"
             ],
             [
              0.2222222222222222,
              "#7201a8"
             ],
             [
              0.3333333333333333,
              "#9c179e"
             ],
             [
              0.4444444444444444,
              "#bd3786"
             ],
             [
              0.5555555555555556,
              "#d8576b"
             ],
             [
              0.6666666666666666,
              "#ed7953"
             ],
             [
              0.7777777777777778,
              "#fb9f3a"
             ],
             [
              0.8888888888888888,
              "#fdca26"
             ],
             [
              1,
              "#f0f921"
             ]
            ],
            "type": "heatmap"
           }
          ],
          "heatmapgl": [
           {
            "colorbar": {
             "outlinewidth": 0,
             "ticks": ""
            },
            "colorscale": [
             [
              0,
              "#0d0887"
             ],
             [
              0.1111111111111111,
              "#46039f"
             ],
             [
              0.2222222222222222,
              "#7201a8"
             ],
             [
              0.3333333333333333,
              "#9c179e"
             ],
             [
              0.4444444444444444,
              "#bd3786"
             ],
             [
              0.5555555555555556,
              "#d8576b"
             ],
             [
              0.6666666666666666,
              "#ed7953"
             ],
             [
              0.7777777777777778,
              "#fb9f3a"
             ],
             [
              0.8888888888888888,
              "#fdca26"
             ],
             [
              1,
              "#f0f921"
             ]
            ],
            "type": "heatmapgl"
           }
          ],
          "histogram": [
           {
            "marker": {
             "pattern": {
              "fillmode": "overlay",
              "size": 10,
              "solidity": 0.2
             }
            },
            "type": "histogram"
           }
          ],
          "histogram2d": [
           {
            "colorbar": {
             "outlinewidth": 0,
             "ticks": ""
            },
            "colorscale": [
             [
              0,
              "#0d0887"
             ],
             [
              0.1111111111111111,
              "#46039f"
             ],
             [
              0.2222222222222222,
              "#7201a8"
             ],
             [
              0.3333333333333333,
              "#9c179e"
             ],
             [
              0.4444444444444444,
              "#bd3786"
             ],
             [
              0.5555555555555556,
              "#d8576b"
             ],
             [
              0.6666666666666666,
              "#ed7953"
             ],
             [
              0.7777777777777778,
              "#fb9f3a"
             ],
             [
              0.8888888888888888,
              "#fdca26"
             ],
             [
              1,
              "#f0f921"
             ]
            ],
            "type": "histogram2d"
           }
          ],
          "histogram2dcontour": [
           {
            "colorbar": {
             "outlinewidth": 0,
             "ticks": ""
            },
            "colorscale": [
             [
              0,
              "#0d0887"
             ],
             [
              0.1111111111111111,
              "#46039f"
             ],
             [
              0.2222222222222222,
              "#7201a8"
             ],
             [
              0.3333333333333333,
              "#9c179e"
             ],
             [
              0.4444444444444444,
              "#bd3786"
             ],
             [
              0.5555555555555556,
              "#d8576b"
             ],
             [
              0.6666666666666666,
              "#ed7953"
             ],
             [
              0.7777777777777778,
              "#fb9f3a"
             ],
             [
              0.8888888888888888,
              "#fdca26"
             ],
             [
              1,
              "#f0f921"
             ]
            ],
            "type": "histogram2dcontour"
           }
          ],
          "mesh3d": [
           {
            "colorbar": {
             "outlinewidth": 0,
             "ticks": ""
            },
            "type": "mesh3d"
           }
          ],
          "parcoords": [
           {
            "line": {
             "colorbar": {
              "outlinewidth": 0,
              "ticks": ""
             }
            },
            "type": "parcoords"
           }
          ],
          "pie": [
           {
            "automargin": true,
            "type": "pie"
           }
          ],
          "scatter": [
           {
            "marker": {
             "line": {
              "color": "#283442"
             }
            },
            "type": "scatter"
           }
          ],
          "scatter3d": [
           {
            "line": {
             "colorbar": {
              "outlinewidth": 0,
              "ticks": ""
             }
            },
            "marker": {
             "colorbar": {
              "outlinewidth": 0,
              "ticks": ""
             }
            },
            "type": "scatter3d"
           }
          ],
          "scattercarpet": [
           {
            "marker": {
             "colorbar": {
              "outlinewidth": 0,
              "ticks": ""
             }
            },
            "type": "scattercarpet"
           }
          ],
          "scattergeo": [
           {
            "marker": {
             "colorbar": {
              "outlinewidth": 0,
              "ticks": ""
             }
            },
            "type": "scattergeo"
           }
          ],
          "scattergl": [
           {
            "marker": {
             "line": {
              "color": "#283442"
             }
            },
            "type": "scattergl"
           }
          ],
          "scattermapbox": [
           {
            "marker": {
             "colorbar": {
              "outlinewidth": 0,
              "ticks": ""
             }
            },
            "type": "scattermapbox"
           }
          ],
          "scatterpolar": [
           {
            "marker": {
             "colorbar": {
              "outlinewidth": 0,
              "ticks": ""
             }
            },
            "type": "scatterpolar"
           }
          ],
          "scatterpolargl": [
           {
            "marker": {
             "colorbar": {
              "outlinewidth": 0,
              "ticks": ""
             }
            },
            "type": "scatterpolargl"
           }
          ],
          "scatterternary": [
           {
            "marker": {
             "colorbar": {
              "outlinewidth": 0,
              "ticks": ""
             }
            },
            "type": "scatterternary"
           }
          ],
          "surface": [
           {
            "colorbar": {
             "outlinewidth": 0,
             "ticks": ""
            },
            "colorscale": [
             [
              0,
              "#0d0887"
             ],
             [
              0.1111111111111111,
              "#46039f"
             ],
             [
              0.2222222222222222,
              "#7201a8"
             ],
             [
              0.3333333333333333,
              "#9c179e"
             ],
             [
              0.4444444444444444,
              "#bd3786"
             ],
             [
              0.5555555555555556,
              "#d8576b"
             ],
             [
              0.6666666666666666,
              "#ed7953"
             ],
             [
              0.7777777777777778,
              "#fb9f3a"
             ],
             [
              0.8888888888888888,
              "#fdca26"
             ],
             [
              1,
              "#f0f921"
             ]
            ],
            "type": "surface"
           }
          ],
          "table": [
           {
            "cells": {
             "fill": {
              "color": "#506784"
             },
             "line": {
              "color": "rgb(17,17,17)"
             }
            },
            "header": {
             "fill": {
              "color": "#2a3f5f"
             },
             "line": {
              "color": "rgb(17,17,17)"
             }
            },
            "type": "table"
           }
          ]
         },
         "layout": {
          "annotationdefaults": {
           "arrowcolor": "#f2f5fa",
           "arrowhead": 0,
           "arrowwidth": 1
          },
          "autotypenumbers": "strict",
          "coloraxis": {
           "colorbar": {
            "outlinewidth": 0,
            "ticks": ""
           }
          },
          "colorscale": {
           "diverging": [
            [
             0,
             "#8e0152"
            ],
            [
             0.1,
             "#c51b7d"
            ],
            [
             0.2,
             "#de77ae"
            ],
            [
             0.3,
             "#f1b6da"
            ],
            [
             0.4,
             "#fde0ef"
            ],
            [
             0.5,
             "#f7f7f7"
            ],
            [
             0.6,
             "#e6f5d0"
            ],
            [
             0.7,
             "#b8e186"
            ],
            [
             0.8,
             "#7fbc41"
            ],
            [
             0.9,
             "#4d9221"
            ],
            [
             1,
             "#276419"
            ]
           ],
           "sequential": [
            [
             0,
             "#0d0887"
            ],
            [
             0.1111111111111111,
             "#46039f"
            ],
            [
             0.2222222222222222,
             "#7201a8"
            ],
            [
             0.3333333333333333,
             "#9c179e"
            ],
            [
             0.4444444444444444,
             "#bd3786"
            ],
            [
             0.5555555555555556,
             "#d8576b"
            ],
            [
             0.6666666666666666,
             "#ed7953"
            ],
            [
             0.7777777777777778,
             "#fb9f3a"
            ],
            [
             0.8888888888888888,
             "#fdca26"
            ],
            [
             1,
             "#f0f921"
            ]
           ],
           "sequentialminus": [
            [
             0,
             "#0d0887"
            ],
            [
             0.1111111111111111,
             "#46039f"
            ],
            [
             0.2222222222222222,
             "#7201a8"
            ],
            [
             0.3333333333333333,
             "#9c179e"
            ],
            [
             0.4444444444444444,
             "#bd3786"
            ],
            [
             0.5555555555555556,
             "#d8576b"
            ],
            [
             0.6666666666666666,
             "#ed7953"
            ],
            [
             0.7777777777777778,
             "#fb9f3a"
            ],
            [
             0.8888888888888888,
             "#fdca26"
            ],
            [
             1,
             "#f0f921"
            ]
           ]
          },
          "colorway": [
           "#636efa",
           "#EF553B",
           "#00cc96",
           "#ab63fa",
           "#FFA15A",
           "#19d3f3",
           "#FF6692",
           "#B6E880",
           "#FF97FF",
           "#FECB52"
          ],
          "font": {
           "color": "#f2f5fa"
          },
          "geo": {
           "bgcolor": "rgb(17,17,17)",
           "lakecolor": "rgb(17,17,17)",
           "landcolor": "rgb(17,17,17)",
           "showlakes": true,
           "showland": true,
           "subunitcolor": "#506784"
          },
          "hoverlabel": {
           "align": "left"
          },
          "hovermode": "closest",
          "mapbox": {
           "style": "dark"
          },
          "paper_bgcolor": "rgb(17,17,17)",
          "plot_bgcolor": "rgb(17,17,17)",
          "polar": {
           "angularaxis": {
            "gridcolor": "#506784",
            "linecolor": "#506784",
            "ticks": ""
           },
           "bgcolor": "rgb(17,17,17)",
           "radialaxis": {
            "gridcolor": "#506784",
            "linecolor": "#506784",
            "ticks": ""
           }
          },
          "scene": {
           "xaxis": {
            "backgroundcolor": "rgb(17,17,17)",
            "gridcolor": "#506784",
            "gridwidth": 2,
            "linecolor": "#506784",
            "showbackground": true,
            "ticks": "",
            "zerolinecolor": "#C8D4E3"
           },
           "yaxis": {
            "backgroundcolor": "rgb(17,17,17)",
            "gridcolor": "#506784",
            "gridwidth": 2,
            "linecolor": "#506784",
            "showbackground": true,
            "ticks": "",
            "zerolinecolor": "#C8D4E3"
           },
           "zaxis": {
            "backgroundcolor": "rgb(17,17,17)",
            "gridcolor": "#506784",
            "gridwidth": 2,
            "linecolor": "#506784",
            "showbackground": true,
            "ticks": "",
            "zerolinecolor": "#C8D4E3"
           }
          },
          "shapedefaults": {
           "line": {
            "color": "#f2f5fa"
           }
          },
          "sliderdefaults": {
           "bgcolor": "#C8D4E3",
           "bordercolor": "rgb(17,17,17)",
           "borderwidth": 1,
           "tickwidth": 0
          },
          "ternary": {
           "aaxis": {
            "gridcolor": "#506784",
            "linecolor": "#506784",
            "ticks": ""
           },
           "baxis": {
            "gridcolor": "#506784",
            "linecolor": "#506784",
            "ticks": ""
           },
           "bgcolor": "rgb(17,17,17)",
           "caxis": {
            "gridcolor": "#506784",
            "linecolor": "#506784",
            "ticks": ""
           }
          },
          "title": {
           "x": 0.05
          },
          "updatemenudefaults": {
           "bgcolor": "#506784",
           "borderwidth": 0
          },
          "xaxis": {
           "automargin": true,
           "gridcolor": "#283442",
           "linecolor": "#506784",
           "ticks": "",
           "title": {
            "standoff": 15
           },
           "zerolinecolor": "#283442",
           "zerolinewidth": 2
          },
          "yaxis": {
           "automargin": true,
           "gridcolor": "#283442",
           "linecolor": "#506784",
           "ticks": "",
           "title": {
            "standoff": 15
           },
           "zerolinecolor": "#283442",
           "zerolinewidth": 2
          }
         }
        },
        "title": {
         "text": "Категории по среднему числу просмотров",
         "x": 0.5
        }
       }
      },
      "text/html": [
       "<div>                            <div id=\"12b3f3d7-8e93-4d20-a3ac-964fadf08268\" class=\"plotly-graph-div\" style=\"height:525px; width:100%;\"></div>            <script type=\"text/javascript\">                require([\"plotly\"], function(Plotly) {                    window.PLOTLYENV=window.PLOTLYENV || {};                                    if (document.getElementById(\"12b3f3d7-8e93-4d20-a3ac-964fadf08268\")) {                    Plotly.newPlot(                        \"12b3f3d7-8e93-4d20-a3ac-964fadf08268\",                        [{\"domain\":{\"x\":[0.0,1.0],\"y\":[0.0,1.0]},\"hovertemplate\":\"category=%{label}<br>video views=%{value}<extra></extra>\",\"labels\":[\"Autos & Vehicles\",\"Comedy\",\"Education\",\"Entertainment\",\"Film & Animation\",\"Gaming\",\"Howto & Style\",\"Movies\",\"Music\",\"News & Politics\",\"Nonprofits & Activism\",\"People & Blogs\",\"Pets & Animals\",\"Science & Technology\",\"Shows\",\"Sports\",\"Trailers\"],\"legendgroup\":\"\",\"name\":\"\",\"showlegend\":true,\"values\":[7501729070.5,9239114201.4,18506531383.39394,12506679790.724138,13928432851.071428,7946309084.571428,4516012501.076923,7691627564.5,17612793529.736362,10497285752.2,5431455892.5,10603398806.38889,11634209694.0,3248829702.2727275,36492091297.666664,14675658773.444445,16631358803.5],\"type\":\"pie\"}],                        {\"template\":{\"data\":{\"barpolar\":[{\"marker\":{\"line\":{\"color\":\"rgb(17,17,17)\",\"width\":0.5},\"pattern\":{\"fillmode\":\"overlay\",\"size\":10,\"solidity\":0.2}},\"type\":\"barpolar\"}],\"bar\":[{\"error_x\":{\"color\":\"#f2f5fa\"},\"error_y\":{\"color\":\"#f2f5fa\"},\"marker\":{\"line\":{\"color\":\"rgb(17,17,17)\",\"width\":0.5},\"pattern\":{\"fillmode\":\"overlay\",\"size\":10,\"solidity\":0.2}},\"type\":\"bar\"}],\"carpet\":[{\"aaxis\":{\"endlinecolor\":\"#A2B1C6\",\"gridcolor\":\"#506784\",\"linecolor\":\"#506784\",\"minorgridcolor\":\"#506784\",\"startlinecolor\":\"#A2B1C6\"},\"baxis\":{\"endlinecolor\":\"#A2B1C6\",\"gridcolor\":\"#506784\",\"linecolor\":\"#506784\",\"minorgridcolor\":\"#506784\",\"startlinecolor\":\"#A2B1C6\"},\"type\":\"carpet\"}],\"choropleth\":[{\"colorbar\":{\"outlinewidth\":0,\"ticks\":\"\"},\"type\":\"choropleth\"}],\"contourcarpet\":[{\"colorbar\":{\"outlinewidth\":0,\"ticks\":\"\"},\"type\":\"contourcarpet\"}],\"contour\":[{\"colorbar\":{\"outlinewidth\":0,\"ticks\":\"\"},\"colorscale\":[[0.0,\"#0d0887\"],[0.1111111111111111,\"#46039f\"],[0.2222222222222222,\"#7201a8\"],[0.3333333333333333,\"#9c179e\"],[0.4444444444444444,\"#bd3786\"],[0.5555555555555556,\"#d8576b\"],[0.6666666666666666,\"#ed7953\"],[0.7777777777777778,\"#fb9f3a\"],[0.8888888888888888,\"#fdca26\"],[1.0,\"#f0f921\"]],\"type\":\"contour\"}],\"heatmapgl\":[{\"colorbar\":{\"outlinewidth\":0,\"ticks\":\"\"},\"colorscale\":[[0.0,\"#0d0887\"],[0.1111111111111111,\"#46039f\"],[0.2222222222222222,\"#7201a8\"],[0.3333333333333333,\"#9c179e\"],[0.4444444444444444,\"#bd3786\"],[0.5555555555555556,\"#d8576b\"],[0.6666666666666666,\"#ed7953\"],[0.7777777777777778,\"#fb9f3a\"],[0.8888888888888888,\"#fdca26\"],[1.0,\"#f0f921\"]],\"type\":\"heatmapgl\"}],\"heatmap\":[{\"colorbar\":{\"outlinewidth\":0,\"ticks\":\"\"},\"colorscale\":[[0.0,\"#0d0887\"],[0.1111111111111111,\"#46039f\"],[0.2222222222222222,\"#7201a8\"],[0.3333333333333333,\"#9c179e\"],[0.4444444444444444,\"#bd3786\"],[0.5555555555555556,\"#d8576b\"],[0.6666666666666666,\"#ed7953\"],[0.7777777777777778,\"#fb9f3a\"],[0.8888888888888888,\"#fdca26\"],[1.0,\"#f0f921\"]],\"type\":\"heatmap\"}],\"histogram2dcontour\":[{\"colorbar\":{\"outlinewidth\":0,\"ticks\":\"\"},\"colorscale\":[[0.0,\"#0d0887\"],[0.1111111111111111,\"#46039f\"],[0.2222222222222222,\"#7201a8\"],[0.3333333333333333,\"#9c179e\"],[0.4444444444444444,\"#bd3786\"],[0.5555555555555556,\"#d8576b\"],[0.6666666666666666,\"#ed7953\"],[0.7777777777777778,\"#fb9f3a\"],[0.8888888888888888,\"#fdca26\"],[1.0,\"#f0f921\"]],\"type\":\"histogram2dcontour\"}],\"histogram2d\":[{\"colorbar\":{\"outlinewidth\":0,\"ticks\":\"\"},\"colorscale\":[[0.0,\"#0d0887\"],[0.1111111111111111,\"#46039f\"],[0.2222222222222222,\"#7201a8\"],[0.3333333333333333,\"#9c179e\"],[0.4444444444444444,\"#bd3786\"],[0.5555555555555556,\"#d8576b\"],[0.6666666666666666,\"#ed7953\"],[0.7777777777777778,\"#fb9f3a\"],[0.8888888888888888,\"#fdca26\"],[1.0,\"#f0f921\"]],\"type\":\"histogram2d\"}],\"histogram\":[{\"marker\":{\"pattern\":{\"fillmode\":\"overlay\",\"size\":10,\"solidity\":0.2}},\"type\":\"histogram\"}],\"mesh3d\":[{\"colorbar\":{\"outlinewidth\":0,\"ticks\":\"\"},\"type\":\"mesh3d\"}],\"parcoords\":[{\"line\":{\"colorbar\":{\"outlinewidth\":0,\"ticks\":\"\"}},\"type\":\"parcoords\"}],\"pie\":[{\"automargin\":true,\"type\":\"pie\"}],\"scatter3d\":[{\"line\":{\"colorbar\":{\"outlinewidth\":0,\"ticks\":\"\"}},\"marker\":{\"colorbar\":{\"outlinewidth\":0,\"ticks\":\"\"}},\"type\":\"scatter3d\"}],\"scattercarpet\":[{\"marker\":{\"colorbar\":{\"outlinewidth\":0,\"ticks\":\"\"}},\"type\":\"scattercarpet\"}],\"scattergeo\":[{\"marker\":{\"colorbar\":{\"outlinewidth\":0,\"ticks\":\"\"}},\"type\":\"scattergeo\"}],\"scattergl\":[{\"marker\":{\"line\":{\"color\":\"#283442\"}},\"type\":\"scattergl\"}],\"scattermapbox\":[{\"marker\":{\"colorbar\":{\"outlinewidth\":0,\"ticks\":\"\"}},\"type\":\"scattermapbox\"}],\"scatterpolargl\":[{\"marker\":{\"colorbar\":{\"outlinewidth\":0,\"ticks\":\"\"}},\"type\":\"scatterpolargl\"}],\"scatterpolar\":[{\"marker\":{\"colorbar\":{\"outlinewidth\":0,\"ticks\":\"\"}},\"type\":\"scatterpolar\"}],\"scatter\":[{\"marker\":{\"line\":{\"color\":\"#283442\"}},\"type\":\"scatter\"}],\"scatterternary\":[{\"marker\":{\"colorbar\":{\"outlinewidth\":0,\"ticks\":\"\"}},\"type\":\"scatterternary\"}],\"surface\":[{\"colorbar\":{\"outlinewidth\":0,\"ticks\":\"\"},\"colorscale\":[[0.0,\"#0d0887\"],[0.1111111111111111,\"#46039f\"],[0.2222222222222222,\"#7201a8\"],[0.3333333333333333,\"#9c179e\"],[0.4444444444444444,\"#bd3786\"],[0.5555555555555556,\"#d8576b\"],[0.6666666666666666,\"#ed7953\"],[0.7777777777777778,\"#fb9f3a\"],[0.8888888888888888,\"#fdca26\"],[1.0,\"#f0f921\"]],\"type\":\"surface\"}],\"table\":[{\"cells\":{\"fill\":{\"color\":\"#506784\"},\"line\":{\"color\":\"rgb(17,17,17)\"}},\"header\":{\"fill\":{\"color\":\"#2a3f5f\"},\"line\":{\"color\":\"rgb(17,17,17)\"}},\"type\":\"table\"}]},\"layout\":{\"annotationdefaults\":{\"arrowcolor\":\"#f2f5fa\",\"arrowhead\":0,\"arrowwidth\":1},\"autotypenumbers\":\"strict\",\"coloraxis\":{\"colorbar\":{\"outlinewidth\":0,\"ticks\":\"\"}},\"colorscale\":{\"diverging\":[[0,\"#8e0152\"],[0.1,\"#c51b7d\"],[0.2,\"#de77ae\"],[0.3,\"#f1b6da\"],[0.4,\"#fde0ef\"],[0.5,\"#f7f7f7\"],[0.6,\"#e6f5d0\"],[0.7,\"#b8e186\"],[0.8,\"#7fbc41\"],[0.9,\"#4d9221\"],[1,\"#276419\"]],\"sequential\":[[0.0,\"#0d0887\"],[0.1111111111111111,\"#46039f\"],[0.2222222222222222,\"#7201a8\"],[0.3333333333333333,\"#9c179e\"],[0.4444444444444444,\"#bd3786\"],[0.5555555555555556,\"#d8576b\"],[0.6666666666666666,\"#ed7953\"],[0.7777777777777778,\"#fb9f3a\"],[0.8888888888888888,\"#fdca26\"],[1.0,\"#f0f921\"]],\"sequentialminus\":[[0.0,\"#0d0887\"],[0.1111111111111111,\"#46039f\"],[0.2222222222222222,\"#7201a8\"],[0.3333333333333333,\"#9c179e\"],[0.4444444444444444,\"#bd3786\"],[0.5555555555555556,\"#d8576b\"],[0.6666666666666666,\"#ed7953\"],[0.7777777777777778,\"#fb9f3a\"],[0.8888888888888888,\"#fdca26\"],[1.0,\"#f0f921\"]]},\"colorway\":[\"#636efa\",\"#EF553B\",\"#00cc96\",\"#ab63fa\",\"#FFA15A\",\"#19d3f3\",\"#FF6692\",\"#B6E880\",\"#FF97FF\",\"#FECB52\"],\"font\":{\"color\":\"#f2f5fa\"},\"geo\":{\"bgcolor\":\"rgb(17,17,17)\",\"lakecolor\":\"rgb(17,17,17)\",\"landcolor\":\"rgb(17,17,17)\",\"showlakes\":true,\"showland\":true,\"subunitcolor\":\"#506784\"},\"hoverlabel\":{\"align\":\"left\"},\"hovermode\":\"closest\",\"mapbox\":{\"style\":\"dark\"},\"paper_bgcolor\":\"rgb(17,17,17)\",\"plot_bgcolor\":\"rgb(17,17,17)\",\"polar\":{\"angularaxis\":{\"gridcolor\":\"#506784\",\"linecolor\":\"#506784\",\"ticks\":\"\"},\"bgcolor\":\"rgb(17,17,17)\",\"radialaxis\":{\"gridcolor\":\"#506784\",\"linecolor\":\"#506784\",\"ticks\":\"\"}},\"scene\":{\"xaxis\":{\"backgroundcolor\":\"rgb(17,17,17)\",\"gridcolor\":\"#506784\",\"gridwidth\":2,\"linecolor\":\"#506784\",\"showbackground\":true,\"ticks\":\"\",\"zerolinecolor\":\"#C8D4E3\"},\"yaxis\":{\"backgroundcolor\":\"rgb(17,17,17)\",\"gridcolor\":\"#506784\",\"gridwidth\":2,\"linecolor\":\"#506784\",\"showbackground\":true,\"ticks\":\"\",\"zerolinecolor\":\"#C8D4E3\"},\"zaxis\":{\"backgroundcolor\":\"rgb(17,17,17)\",\"gridcolor\":\"#506784\",\"gridwidth\":2,\"linecolor\":\"#506784\",\"showbackground\":true,\"ticks\":\"\",\"zerolinecolor\":\"#C8D4E3\"}},\"shapedefaults\":{\"line\":{\"color\":\"#f2f5fa\"}},\"sliderdefaults\":{\"bgcolor\":\"#C8D4E3\",\"bordercolor\":\"rgb(17,17,17)\",\"borderwidth\":1,\"tickwidth\":0},\"ternary\":{\"aaxis\":{\"gridcolor\":\"#506784\",\"linecolor\":\"#506784\",\"ticks\":\"\"},\"baxis\":{\"gridcolor\":\"#506784\",\"linecolor\":\"#506784\",\"ticks\":\"\"},\"bgcolor\":\"rgb(17,17,17)\",\"caxis\":{\"gridcolor\":\"#506784\",\"linecolor\":\"#506784\",\"ticks\":\"\"}},\"title\":{\"x\":0.05},\"updatemenudefaults\":{\"bgcolor\":\"#506784\",\"borderwidth\":0},\"xaxis\":{\"automargin\":true,\"gridcolor\":\"#283442\",\"linecolor\":\"#506784\",\"ticks\":\"\",\"title\":{\"standoff\":15},\"zerolinecolor\":\"#283442\",\"zerolinewidth\":2},\"yaxis\":{\"automargin\":true,\"gridcolor\":\"#283442\",\"linecolor\":\"#506784\",\"ticks\":\"\",\"title\":{\"standoff\":15},\"zerolinecolor\":\"#283442\",\"zerolinewidth\":2}}},\"legend\":{\"tracegroupgap\":0,\"x\":-0.2,\"xanchor\":\"left\"},\"title\":{\"text\":\"\\u041a\\u0430\\u0442\\u0435\\u0433\\u043e\\u0440\\u0438\\u0438 \\u043f\\u043e \\u0441\\u0440\\u0435\\u0434\\u043d\\u0435\\u043c\\u0443 \\u0447\\u0438\\u0441\\u043b\\u0443 \\u043f\\u0440\\u043e\\u0441\\u043c\\u043e\\u0442\\u0440\\u043e\\u0432\",\"x\":0.5}},                        {\"responsive\": true}                    ).then(function(){\n",
       "                            \n",
       "var gd = document.getElementById('12b3f3d7-8e93-4d20-a3ac-964fadf08268');\n",
       "var x = new MutationObserver(function (mutations, observer) {{\n",
       "        var display = window.getComputedStyle(gd).display;\n",
       "        if (!display || display === 'none') {{\n",
       "            console.log([gd, 'removed!']);\n",
       "            Plotly.purge(gd);\n",
       "            observer.disconnect();\n",
       "        }}\n",
       "}});\n",
       "\n",
       "// Listen for the removal of the full notebook cells\n",
       "var notebookContainer = gd.closest('#notebook-container');\n",
       "if (notebookContainer) {{\n",
       "    x.observe(notebookContainer, {childList: true});\n",
       "}}\n",
       "\n",
       "// Listen for the clearing of the current output cell\n",
       "var outputEl = gd.closest('.output');\n",
       "if (outputEl) {{\n",
       "    x.observe(outputEl, {childList: true});\n",
       "}}\n",
       "\n",
       "                        })                };                });            </script>        </div>"
      ]
     },
     "metadata": {},
     "output_type": "display_data"
    }
   ],
   "source": [
    "categ = df.groupby('category')['video views'].mean().reset_index()\n",
    "fig = px.pie(categ, values = 'video views',names = 'category',\n",
    "             template = 'plotly_dark', title = 'Категории по среднему числу просмотров')\n",
    "fig.update_layout(legend=dict(x=-0.2, xanchor=\"left\"), title_x = 0.5)\n",
    "fig.show()\n"
   ]
  },
  {
   "cell_type": "markdown",
   "id": "acd18ff9",
   "metadata": {},
   "source": [
    "Эта круговая диаграмма нам показывает, какие категории наиболее просматриваемые в среднем. По этому графику можно определить в какой категории лучше всего снимать видео, что будет набирать просмотры. "
   ]
  },
  {
   "cell_type": "markdown",
   "id": "518c5980",
   "metadata": {},
   "source": [
    "## Шестой график"
   ]
  },
  {
   "cell_type": "code",
   "execution_count": 256,
   "id": "e685e2bf",
   "metadata": {},
   "outputs": [
    {
     "data": {
      "application/vnd.plotly.v1+json": {
       "config": {
        "plotlyServerURL": "https://plot.ly"
       },
       "data": [
        {
         "alignmentgroup": "True",
         "hovertemplate": "category=%{x}<br>video_views_for_the_last_30_days=%{y}<extra></extra>",
         "legendgroup": "Entertainment",
         "marker": {
          "color": "#636efa",
          "pattern": {
           "shape": ""
          }
         },
         "name": "Entertainment",
         "offsetgroup": "Entertainment",
         "orientation": "v",
         "showlegend": true,
         "textposition": "auto",
         "type": "bar",
         "x": [
          "Entertainment"
         ],
         "xaxis": "x",
         "y": [
          36170173115
         ],
         "yaxis": "y"
        },
        {
         "alignmentgroup": "True",
         "hovertemplate": "category=%{x}<br>video_views_for_the_last_30_days=%{y}<extra></extra>",
         "legendgroup": "Music",
         "marker": {
          "color": "#EF553B",
          "pattern": {
           "shape": ""
          }
         },
         "name": "Music",
         "offsetgroup": "Music",
         "orientation": "v",
         "showlegend": true,
         "textposition": "auto",
         "type": "bar",
         "x": [
          "Music"
         ],
         "xaxis": "x",
         "y": [
          28922673021
         ],
         "yaxis": "y"
        },
        {
         "alignmentgroup": "True",
         "hovertemplate": "category=%{x}<br>video_views_for_the_last_30_days=%{y}<extra></extra>",
         "legendgroup": "People & Blogs",
         "marker": {
          "color": "#00cc96",
          "pattern": {
           "shape": ""
          }
         },
         "name": "People & Blogs",
         "offsetgroup": "People & Blogs",
         "orientation": "v",
         "showlegend": true,
         "textposition": "auto",
         "type": "bar",
         "x": [
          "People & Blogs"
         ],
         "xaxis": "x",
         "y": [
          13845946895
         ],
         "yaxis": "y"
        },
        {
         "alignmentgroup": "True",
         "hovertemplate": "category=%{x}<br>video_views_for_the_last_30_days=%{y}<extra></extra>",
         "legendgroup": "Comedy",
         "marker": {
          "color": "#ab63fa",
          "pattern": {
           "shape": ""
          }
         },
         "name": "Comedy",
         "offsetgroup": "Comedy",
         "orientation": "v",
         "showlegend": true,
         "textposition": "auto",
         "type": "bar",
         "x": [
          "Comedy"
         ],
         "xaxis": "x",
         "y": [
          10771763000
         ],
         "yaxis": "y"
        },
        {
         "alignmentgroup": "True",
         "hovertemplate": "category=%{x}<br>video_views_for_the_last_30_days=%{y}<extra></extra>",
         "legendgroup": "Education",
         "marker": {
          "color": "#FFA15A",
          "pattern": {
           "shape": ""
          }
         },
         "name": "Education",
         "offsetgroup": "Education",
         "orientation": "v",
         "showlegend": true,
         "textposition": "auto",
         "type": "bar",
         "x": [
          "Education"
         ],
         "xaxis": "x",
         "y": [
          7370893000
         ],
         "yaxis": "y"
        },
        {
         "alignmentgroup": "True",
         "hovertemplate": "category=%{x}<br>video_views_for_the_last_30_days=%{y}<extra></extra>",
         "legendgroup": "Science & Technology",
         "marker": {
          "color": "#19d3f3",
          "pattern": {
           "shape": ""
          }
         },
         "name": "Science & Technology",
         "offsetgroup": "Science & Technology",
         "orientation": "v",
         "showlegend": true,
         "textposition": "auto",
         "type": "bar",
         "x": [
          "Science & Technology"
         ],
         "xaxis": "x",
         "y": [
          7333422000
         ],
         "yaxis": "y"
        },
        {
         "alignmentgroup": "True",
         "hovertemplate": "category=%{x}<br>video_views_for_the_last_30_days=%{y}<extra></extra>",
         "legendgroup": "Shows",
         "marker": {
          "color": "#FF6692",
          "pattern": {
           "shape": ""
          }
         },
         "name": "Shows",
         "offsetgroup": "Shows",
         "orientation": "v",
         "showlegend": true,
         "textposition": "auto",
         "type": "bar",
         "x": [
          "Shows"
         ],
         "xaxis": "x",
         "y": [
          6601993000
         ],
         "yaxis": "y"
        },
        {
         "alignmentgroup": "True",
         "hovertemplate": "category=%{x}<br>video_views_for_the_last_30_days=%{y}<extra></extra>",
         "legendgroup": "Film & Animation",
         "marker": {
          "color": "#B6E880",
          "pattern": {
           "shape": ""
          }
         },
         "name": "Film & Animation",
         "offsetgroup": "Film & Animation",
         "orientation": "v",
         "showlegend": true,
         "textposition": "auto",
         "type": "bar",
         "x": [
          "Film & Animation"
         ],
         "xaxis": "x",
         "y": [
          6440143708
         ],
         "yaxis": "y"
        },
        {
         "alignmentgroup": "True",
         "hovertemplate": "category=%{x}<br>video_views_for_the_last_30_days=%{y}<extra></extra>",
         "legendgroup": "Gaming",
         "marker": {
          "color": "#FF97FF",
          "pattern": {
           "shape": ""
          }
         },
         "name": "Gaming",
         "offsetgroup": "Gaming",
         "orientation": "v",
         "showlegend": true,
         "textposition": "auto",
         "type": "bar",
         "x": [
          "Gaming"
         ],
         "xaxis": "x",
         "y": [
          5504937143
         ],
         "yaxis": "y"
        },
        {
         "alignmentgroup": "True",
         "hovertemplate": "category=%{x}<br>video_views_for_the_last_30_days=%{y}<extra></extra>",
         "legendgroup": "News & Politics",
         "marker": {
          "color": "#FECB52",
          "pattern": {
           "shape": ""
          }
         },
         "name": "News & Politics",
         "offsetgroup": "News & Politics",
         "orientation": "v",
         "showlegend": true,
         "textposition": "auto",
         "type": "bar",
         "x": [
          "News & Politics"
         ],
         "xaxis": "x",
         "y": [
          4047511000
         ],
         "yaxis": "y"
        },
        {
         "alignmentgroup": "True",
         "hovertemplate": "category=%{x}<br>video_views_for_the_last_30_days=%{y}<extra></extra>",
         "legendgroup": "Sports",
         "marker": {
          "color": "#636efa",
          "pattern": {
           "shape": ""
          }
         },
         "name": "Sports",
         "offsetgroup": "Sports",
         "orientation": "v",
         "showlegend": true,
         "textposition": "auto",
         "type": "bar",
         "x": [
          "Sports"
         ],
         "xaxis": "x",
         "y": [
          2119233000
         ],
         "yaxis": "y"
        },
        {
         "alignmentgroup": "True",
         "hovertemplate": "category=%{x}<br>video_views_for_the_last_30_days=%{y}<extra></extra>",
         "legendgroup": "Howto & Style",
         "marker": {
          "color": "#EF553B",
          "pattern": {
           "shape": ""
          }
         },
         "name": "Howto & Style",
         "offsetgroup": "Howto & Style",
         "orientation": "v",
         "showlegend": true,
         "textposition": "auto",
         "type": "bar",
         "x": [
          "Howto & Style"
         ],
         "xaxis": "x",
         "y": [
          892149000
         ],
         "yaxis": "y"
        },
        {
         "alignmentgroup": "True",
         "hovertemplate": "category=%{x}<br>video_views_for_the_last_30_days=%{y}<extra></extra>",
         "legendgroup": "Pets & Animals",
         "marker": {
          "color": "#00cc96",
          "pattern": {
           "shape": ""
          }
         },
         "name": "Pets & Animals",
         "offsetgroup": "Pets & Animals",
         "orientation": "v",
         "showlegend": true,
         "textposition": "auto",
         "type": "bar",
         "x": [
          "Pets & Animals"
         ],
         "xaxis": "x",
         "y": [
          802457000
         ],
         "yaxis": "y"
        },
        {
         "alignmentgroup": "True",
         "hovertemplate": "category=%{x}<br>video_views_for_the_last_30_days=%{y}<extra></extra>",
         "legendgroup": "Autos & Vehicles",
         "marker": {
          "color": "#ab63fa",
          "pattern": {
           "shape": ""
          }
         },
         "name": "Autos & Vehicles",
         "offsetgroup": "Autos & Vehicles",
         "orientation": "v",
         "showlegend": true,
         "textposition": "auto",
         "type": "bar",
         "x": [
          "Autos & Vehicles"
         ],
         "xaxis": "x",
         "y": [
          546433000
         ],
         "yaxis": "y"
        },
        {
         "alignmentgroup": "True",
         "hovertemplate": "category=%{x}<br>video_views_for_the_last_30_days=%{y}<extra></extra>",
         "legendgroup": "Movies",
         "marker": {
          "color": "#FFA15A",
          "pattern": {
           "shape": ""
          }
         },
         "name": "Movies",
         "offsetgroup": "Movies",
         "orientation": "v",
         "showlegend": true,
         "textposition": "auto",
         "type": "bar",
         "x": [
          "Movies"
         ],
         "xaxis": "x",
         "y": [
          346201000
         ],
         "yaxis": "y"
        },
        {
         "alignmentgroup": "True",
         "hovertemplate": "category=%{x}<br>video_views_for_the_last_30_days=%{y}<extra></extra>",
         "legendgroup": "Trailers",
         "marker": {
          "color": "#19d3f3",
          "pattern": {
           "shape": ""
          }
         },
         "name": "Trailers",
         "offsetgroup": "Trailers",
         "orientation": "v",
         "showlegend": true,
         "textposition": "auto",
         "type": "bar",
         "x": [
          "Trailers"
         ],
         "xaxis": "x",
         "y": [
          312404000
         ],
         "yaxis": "y"
        },
        {
         "alignmentgroup": "True",
         "hovertemplate": "category=%{x}<br>video_views_for_the_last_30_days=%{y}<extra></extra>",
         "legendgroup": "Nonprofits & Activism",
         "marker": {
          "color": "#FF6692",
          "pattern": {
           "shape": ""
          }
         },
         "name": "Nonprofits & Activism",
         "offsetgroup": "Nonprofits & Activism",
         "orientation": "v",
         "showlegend": true,
         "textposition": "auto",
         "type": "bar",
         "x": [
          "Nonprofits & Activism"
         ],
         "xaxis": "x",
         "y": [
          195181000
         ],
         "yaxis": "y"
        }
       ],
       "layout": {
        "barmode": "relative",
        "legend": {
         "title": {
          "text": "category"
         },
         "tracegroupgap": 0
        },
        "template": {
         "data": {
          "bar": [
           {
            "error_x": {
             "color": "#f2f5fa"
            },
            "error_y": {
             "color": "#f2f5fa"
            },
            "marker": {
             "line": {
              "color": "rgb(17,17,17)",
              "width": 0.5
             },
             "pattern": {
              "fillmode": "overlay",
              "size": 10,
              "solidity": 0.2
             }
            },
            "type": "bar"
           }
          ],
          "barpolar": [
           {
            "marker": {
             "line": {
              "color": "rgb(17,17,17)",
              "width": 0.5
             },
             "pattern": {
              "fillmode": "overlay",
              "size": 10,
              "solidity": 0.2
             }
            },
            "type": "barpolar"
           }
          ],
          "carpet": [
           {
            "aaxis": {
             "endlinecolor": "#A2B1C6",
             "gridcolor": "#506784",
             "linecolor": "#506784",
             "minorgridcolor": "#506784",
             "startlinecolor": "#A2B1C6"
            },
            "baxis": {
             "endlinecolor": "#A2B1C6",
             "gridcolor": "#506784",
             "linecolor": "#506784",
             "minorgridcolor": "#506784",
             "startlinecolor": "#A2B1C6"
            },
            "type": "carpet"
           }
          ],
          "choropleth": [
           {
            "colorbar": {
             "outlinewidth": 0,
             "ticks": ""
            },
            "type": "choropleth"
           }
          ],
          "contour": [
           {
            "colorbar": {
             "outlinewidth": 0,
             "ticks": ""
            },
            "colorscale": [
             [
              0,
              "#0d0887"
             ],
             [
              0.1111111111111111,
              "#46039f"
             ],
             [
              0.2222222222222222,
              "#7201a8"
             ],
             [
              0.3333333333333333,
              "#9c179e"
             ],
             [
              0.4444444444444444,
              "#bd3786"
             ],
             [
              0.5555555555555556,
              "#d8576b"
             ],
             [
              0.6666666666666666,
              "#ed7953"
             ],
             [
              0.7777777777777778,
              "#fb9f3a"
             ],
             [
              0.8888888888888888,
              "#fdca26"
             ],
             [
              1,
              "#f0f921"
             ]
            ],
            "type": "contour"
           }
          ],
          "contourcarpet": [
           {
            "colorbar": {
             "outlinewidth": 0,
             "ticks": ""
            },
            "type": "contourcarpet"
           }
          ],
          "heatmap": [
           {
            "colorbar": {
             "outlinewidth": 0,
             "ticks": ""
            },
            "colorscale": [
             [
              0,
              "#0d0887"
             ],
             [
              0.1111111111111111,
              "#46039f"
             ],
             [
              0.2222222222222222,
              "#7201a8"
             ],
             [
              0.3333333333333333,
              "#9c179e"
             ],
             [
              0.4444444444444444,
              "#bd3786"
             ],
             [
              0.5555555555555556,
              "#d8576b"
             ],
             [
              0.6666666666666666,
              "#ed7953"
             ],
             [
              0.7777777777777778,
              "#fb9f3a"
             ],
             [
              0.8888888888888888,
              "#fdca26"
             ],
             [
              1,
              "#f0f921"
             ]
            ],
            "type": "heatmap"
           }
          ],
          "heatmapgl": [
           {
            "colorbar": {
             "outlinewidth": 0,
             "ticks": ""
            },
            "colorscale": [
             [
              0,
              "#0d0887"
             ],
             [
              0.1111111111111111,
              "#46039f"
             ],
             [
              0.2222222222222222,
              "#7201a8"
             ],
             [
              0.3333333333333333,
              "#9c179e"
             ],
             [
              0.4444444444444444,
              "#bd3786"
             ],
             [
              0.5555555555555556,
              "#d8576b"
             ],
             [
              0.6666666666666666,
              "#ed7953"
             ],
             [
              0.7777777777777778,
              "#fb9f3a"
             ],
             [
              0.8888888888888888,
              "#fdca26"
             ],
             [
              1,
              "#f0f921"
             ]
            ],
            "type": "heatmapgl"
           }
          ],
          "histogram": [
           {
            "marker": {
             "pattern": {
              "fillmode": "overlay",
              "size": 10,
              "solidity": 0.2
             }
            },
            "type": "histogram"
           }
          ],
          "histogram2d": [
           {
            "colorbar": {
             "outlinewidth": 0,
             "ticks": ""
            },
            "colorscale": [
             [
              0,
              "#0d0887"
             ],
             [
              0.1111111111111111,
              "#46039f"
             ],
             [
              0.2222222222222222,
              "#7201a8"
             ],
             [
              0.3333333333333333,
              "#9c179e"
             ],
             [
              0.4444444444444444,
              "#bd3786"
             ],
             [
              0.5555555555555556,
              "#d8576b"
             ],
             [
              0.6666666666666666,
              "#ed7953"
             ],
             [
              0.7777777777777778,
              "#fb9f3a"
             ],
             [
              0.8888888888888888,
              "#fdca26"
             ],
             [
              1,
              "#f0f921"
             ]
            ],
            "type": "histogram2d"
           }
          ],
          "histogram2dcontour": [
           {
            "colorbar": {
             "outlinewidth": 0,
             "ticks": ""
            },
            "colorscale": [
             [
              0,
              "#0d0887"
             ],
             [
              0.1111111111111111,
              "#46039f"
             ],
             [
              0.2222222222222222,
              "#7201a8"
             ],
             [
              0.3333333333333333,
              "#9c179e"
             ],
             [
              0.4444444444444444,
              "#bd3786"
             ],
             [
              0.5555555555555556,
              "#d8576b"
             ],
             [
              0.6666666666666666,
              "#ed7953"
             ],
             [
              0.7777777777777778,
              "#fb9f3a"
             ],
             [
              0.8888888888888888,
              "#fdca26"
             ],
             [
              1,
              "#f0f921"
             ]
            ],
            "type": "histogram2dcontour"
           }
          ],
          "mesh3d": [
           {
            "colorbar": {
             "outlinewidth": 0,
             "ticks": ""
            },
            "type": "mesh3d"
           }
          ],
          "parcoords": [
           {
            "line": {
             "colorbar": {
              "outlinewidth": 0,
              "ticks": ""
             }
            },
            "type": "parcoords"
           }
          ],
          "pie": [
           {
            "automargin": true,
            "type": "pie"
           }
          ],
          "scatter": [
           {
            "marker": {
             "line": {
              "color": "#283442"
             }
            },
            "type": "scatter"
           }
          ],
          "scatter3d": [
           {
            "line": {
             "colorbar": {
              "outlinewidth": 0,
              "ticks": ""
             }
            },
            "marker": {
             "colorbar": {
              "outlinewidth": 0,
              "ticks": ""
             }
            },
            "type": "scatter3d"
           }
          ],
          "scattercarpet": [
           {
            "marker": {
             "colorbar": {
              "outlinewidth": 0,
              "ticks": ""
             }
            },
            "type": "scattercarpet"
           }
          ],
          "scattergeo": [
           {
            "marker": {
             "colorbar": {
              "outlinewidth": 0,
              "ticks": ""
             }
            },
            "type": "scattergeo"
           }
          ],
          "scattergl": [
           {
            "marker": {
             "line": {
              "color": "#283442"
             }
            },
            "type": "scattergl"
           }
          ],
          "scattermapbox": [
           {
            "marker": {
             "colorbar": {
              "outlinewidth": 0,
              "ticks": ""
             }
            },
            "type": "scattermapbox"
           }
          ],
          "scatterpolar": [
           {
            "marker": {
             "colorbar": {
              "outlinewidth": 0,
              "ticks": ""
             }
            },
            "type": "scatterpolar"
           }
          ],
          "scatterpolargl": [
           {
            "marker": {
             "colorbar": {
              "outlinewidth": 0,
              "ticks": ""
             }
            },
            "type": "scatterpolargl"
           }
          ],
          "scatterternary": [
           {
            "marker": {
             "colorbar": {
              "outlinewidth": 0,
              "ticks": ""
             }
            },
            "type": "scatterternary"
           }
          ],
          "surface": [
           {
            "colorbar": {
             "outlinewidth": 0,
             "ticks": ""
            },
            "colorscale": [
             [
              0,
              "#0d0887"
             ],
             [
              0.1111111111111111,
              "#46039f"
             ],
             [
              0.2222222222222222,
              "#7201a8"
             ],
             [
              0.3333333333333333,
              "#9c179e"
             ],
             [
              0.4444444444444444,
              "#bd3786"
             ],
             [
              0.5555555555555556,
              "#d8576b"
             ],
             [
              0.6666666666666666,
              "#ed7953"
             ],
             [
              0.7777777777777778,
              "#fb9f3a"
             ],
             [
              0.8888888888888888,
              "#fdca26"
             ],
             [
              1,
              "#f0f921"
             ]
            ],
            "type": "surface"
           }
          ],
          "table": [
           {
            "cells": {
             "fill": {
              "color": "#506784"
             },
             "line": {
              "color": "rgb(17,17,17)"
             }
            },
            "header": {
             "fill": {
              "color": "#2a3f5f"
             },
             "line": {
              "color": "rgb(17,17,17)"
             }
            },
            "type": "table"
           }
          ]
         },
         "layout": {
          "annotationdefaults": {
           "arrowcolor": "#f2f5fa",
           "arrowhead": 0,
           "arrowwidth": 1
          },
          "autotypenumbers": "strict",
          "coloraxis": {
           "colorbar": {
            "outlinewidth": 0,
            "ticks": ""
           }
          },
          "colorscale": {
           "diverging": [
            [
             0,
             "#8e0152"
            ],
            [
             0.1,
             "#c51b7d"
            ],
            [
             0.2,
             "#de77ae"
            ],
            [
             0.3,
             "#f1b6da"
            ],
            [
             0.4,
             "#fde0ef"
            ],
            [
             0.5,
             "#f7f7f7"
            ],
            [
             0.6,
             "#e6f5d0"
            ],
            [
             0.7,
             "#b8e186"
            ],
            [
             0.8,
             "#7fbc41"
            ],
            [
             0.9,
             "#4d9221"
            ],
            [
             1,
             "#276419"
            ]
           ],
           "sequential": [
            [
             0,
             "#0d0887"
            ],
            [
             0.1111111111111111,
             "#46039f"
            ],
            [
             0.2222222222222222,
             "#7201a8"
            ],
            [
             0.3333333333333333,
             "#9c179e"
            ],
            [
             0.4444444444444444,
             "#bd3786"
            ],
            [
             0.5555555555555556,
             "#d8576b"
            ],
            [
             0.6666666666666666,
             "#ed7953"
            ],
            [
             0.7777777777777778,
             "#fb9f3a"
            ],
            [
             0.8888888888888888,
             "#fdca26"
            ],
            [
             1,
             "#f0f921"
            ]
           ],
           "sequentialminus": [
            [
             0,
             "#0d0887"
            ],
            [
             0.1111111111111111,
             "#46039f"
            ],
            [
             0.2222222222222222,
             "#7201a8"
            ],
            [
             0.3333333333333333,
             "#9c179e"
            ],
            [
             0.4444444444444444,
             "#bd3786"
            ],
            [
             0.5555555555555556,
             "#d8576b"
            ],
            [
             0.6666666666666666,
             "#ed7953"
            ],
            [
             0.7777777777777778,
             "#fb9f3a"
            ],
            [
             0.8888888888888888,
             "#fdca26"
            ],
            [
             1,
             "#f0f921"
            ]
           ]
          },
          "colorway": [
           "#636efa",
           "#EF553B",
           "#00cc96",
           "#ab63fa",
           "#FFA15A",
           "#19d3f3",
           "#FF6692",
           "#B6E880",
           "#FF97FF",
           "#FECB52"
          ],
          "font": {
           "color": "#f2f5fa"
          },
          "geo": {
           "bgcolor": "rgb(17,17,17)",
           "lakecolor": "rgb(17,17,17)",
           "landcolor": "rgb(17,17,17)",
           "showlakes": true,
           "showland": true,
           "subunitcolor": "#506784"
          },
          "hoverlabel": {
           "align": "left"
          },
          "hovermode": "closest",
          "mapbox": {
           "style": "dark"
          },
          "paper_bgcolor": "rgb(17,17,17)",
          "plot_bgcolor": "rgb(17,17,17)",
          "polar": {
           "angularaxis": {
            "gridcolor": "#506784",
            "linecolor": "#506784",
            "ticks": ""
           },
           "bgcolor": "rgb(17,17,17)",
           "radialaxis": {
            "gridcolor": "#506784",
            "linecolor": "#506784",
            "ticks": ""
           }
          },
          "scene": {
           "xaxis": {
            "backgroundcolor": "rgb(17,17,17)",
            "gridcolor": "#506784",
            "gridwidth": 2,
            "linecolor": "#506784",
            "showbackground": true,
            "ticks": "",
            "zerolinecolor": "#C8D4E3"
           },
           "yaxis": {
            "backgroundcolor": "rgb(17,17,17)",
            "gridcolor": "#506784",
            "gridwidth": 2,
            "linecolor": "#506784",
            "showbackground": true,
            "ticks": "",
            "zerolinecolor": "#C8D4E3"
           },
           "zaxis": {
            "backgroundcolor": "rgb(17,17,17)",
            "gridcolor": "#506784",
            "gridwidth": 2,
            "linecolor": "#506784",
            "showbackground": true,
            "ticks": "",
            "zerolinecolor": "#C8D4E3"
           }
          },
          "shapedefaults": {
           "line": {
            "color": "#f2f5fa"
           }
          },
          "sliderdefaults": {
           "bgcolor": "#C8D4E3",
           "bordercolor": "rgb(17,17,17)",
           "borderwidth": 1,
           "tickwidth": 0
          },
          "ternary": {
           "aaxis": {
            "gridcolor": "#506784",
            "linecolor": "#506784",
            "ticks": ""
           },
           "baxis": {
            "gridcolor": "#506784",
            "linecolor": "#506784",
            "ticks": ""
           },
           "bgcolor": "rgb(17,17,17)",
           "caxis": {
            "gridcolor": "#506784",
            "linecolor": "#506784",
            "ticks": ""
           }
          },
          "title": {
           "x": 0.05
          },
          "updatemenudefaults": {
           "bgcolor": "#506784",
           "borderwidth": 0
          },
          "xaxis": {
           "automargin": true,
           "gridcolor": "#283442",
           "linecolor": "#506784",
           "ticks": "",
           "title": {
            "standoff": 15
           },
           "zerolinecolor": "#283442",
           "zerolinewidth": 2
          },
          "yaxis": {
           "automargin": true,
           "gridcolor": "#283442",
           "linecolor": "#506784",
           "ticks": "",
           "title": {
            "standoff": 15
           },
           "zerolinecolor": "#283442",
           "zerolinewidth": 2
          }
         }
        },
        "title": {
         "text": "Суммарное кол-во просмотров по категориям видео за последние 30 дней",
         "x": 0.5
        },
        "xaxis": {
         "anchor": "y",
         "categoryarray": [
          "Entertainment",
          "Music",
          "People & Blogs",
          "Comedy",
          "Education",
          "Science & Technology",
          "Shows",
          "Film & Animation",
          "Gaming",
          "News & Politics",
          "Sports",
          "Howto & Style",
          "Pets & Animals",
          "Autos & Vehicles",
          "Movies",
          "Trailers",
          "Nonprofits & Activism"
         ],
         "categoryorder": "array",
         "domain": [
          0,
          1
         ],
         "title": {
          "text": "Категории"
         }
        },
        "yaxis": {
         "anchor": "x",
         "domain": [
          0,
          1
         ],
         "title": {
          "text": "Количество просмотров за 30 дней"
         }
        }
       }
      },
      "text/html": [
       "<div>                            <div id=\"3b82c8bc-422e-4bdf-9a2e-6b0e48cd0ce7\" class=\"plotly-graph-div\" style=\"height:525px; width:100%;\"></div>            <script type=\"text/javascript\">                require([\"plotly\"], function(Plotly) {                    window.PLOTLYENV=window.PLOTLYENV || {};                                    if (document.getElementById(\"3b82c8bc-422e-4bdf-9a2e-6b0e48cd0ce7\")) {                    Plotly.newPlot(                        \"3b82c8bc-422e-4bdf-9a2e-6b0e48cd0ce7\",                        [{\"alignmentgroup\":\"True\",\"hovertemplate\":\"category=%{x}<br>video_views_for_the_last_30_days=%{y}<extra></extra>\",\"legendgroup\":\"Entertainment\",\"marker\":{\"color\":\"#636efa\",\"pattern\":{\"shape\":\"\"}},\"name\":\"Entertainment\",\"offsetgroup\":\"Entertainment\",\"orientation\":\"v\",\"showlegend\":true,\"textposition\":\"auto\",\"x\":[\"Entertainment\"],\"xaxis\":\"x\",\"y\":[36170173115.0],\"yaxis\":\"y\",\"type\":\"bar\"},{\"alignmentgroup\":\"True\",\"hovertemplate\":\"category=%{x}<br>video_views_for_the_last_30_days=%{y}<extra></extra>\",\"legendgroup\":\"Music\",\"marker\":{\"color\":\"#EF553B\",\"pattern\":{\"shape\":\"\"}},\"name\":\"Music\",\"offsetgroup\":\"Music\",\"orientation\":\"v\",\"showlegend\":true,\"textposition\":\"auto\",\"x\":[\"Music\"],\"xaxis\":\"x\",\"y\":[28922673021.0],\"yaxis\":\"y\",\"type\":\"bar\"},{\"alignmentgroup\":\"True\",\"hovertemplate\":\"category=%{x}<br>video_views_for_the_last_30_days=%{y}<extra></extra>\",\"legendgroup\":\"People & Blogs\",\"marker\":{\"color\":\"#00cc96\",\"pattern\":{\"shape\":\"\"}},\"name\":\"People & Blogs\",\"offsetgroup\":\"People & Blogs\",\"orientation\":\"v\",\"showlegend\":true,\"textposition\":\"auto\",\"x\":[\"People & Blogs\"],\"xaxis\":\"x\",\"y\":[13845946895.0],\"yaxis\":\"y\",\"type\":\"bar\"},{\"alignmentgroup\":\"True\",\"hovertemplate\":\"category=%{x}<br>video_views_for_the_last_30_days=%{y}<extra></extra>\",\"legendgroup\":\"Comedy\",\"marker\":{\"color\":\"#ab63fa\",\"pattern\":{\"shape\":\"\"}},\"name\":\"Comedy\",\"offsetgroup\":\"Comedy\",\"orientation\":\"v\",\"showlegend\":true,\"textposition\":\"auto\",\"x\":[\"Comedy\"],\"xaxis\":\"x\",\"y\":[10771763000.0],\"yaxis\":\"y\",\"type\":\"bar\"},{\"alignmentgroup\":\"True\",\"hovertemplate\":\"category=%{x}<br>video_views_for_the_last_30_days=%{y}<extra></extra>\",\"legendgroup\":\"Education\",\"marker\":{\"color\":\"#FFA15A\",\"pattern\":{\"shape\":\"\"}},\"name\":\"Education\",\"offsetgroup\":\"Education\",\"orientation\":\"v\",\"showlegend\":true,\"textposition\":\"auto\",\"x\":[\"Education\"],\"xaxis\":\"x\",\"y\":[7370893000.0],\"yaxis\":\"y\",\"type\":\"bar\"},{\"alignmentgroup\":\"True\",\"hovertemplate\":\"category=%{x}<br>video_views_for_the_last_30_days=%{y}<extra></extra>\",\"legendgroup\":\"Science & Technology\",\"marker\":{\"color\":\"#19d3f3\",\"pattern\":{\"shape\":\"\"}},\"name\":\"Science & Technology\",\"offsetgroup\":\"Science & Technology\",\"orientation\":\"v\",\"showlegend\":true,\"textposition\":\"auto\",\"x\":[\"Science & Technology\"],\"xaxis\":\"x\",\"y\":[7333422000.0],\"yaxis\":\"y\",\"type\":\"bar\"},{\"alignmentgroup\":\"True\",\"hovertemplate\":\"category=%{x}<br>video_views_for_the_last_30_days=%{y}<extra></extra>\",\"legendgroup\":\"Shows\",\"marker\":{\"color\":\"#FF6692\",\"pattern\":{\"shape\":\"\"}},\"name\":\"Shows\",\"offsetgroup\":\"Shows\",\"orientation\":\"v\",\"showlegend\":true,\"textposition\":\"auto\",\"x\":[\"Shows\"],\"xaxis\":\"x\",\"y\":[6601993000.0],\"yaxis\":\"y\",\"type\":\"bar\"},{\"alignmentgroup\":\"True\",\"hovertemplate\":\"category=%{x}<br>video_views_for_the_last_30_days=%{y}<extra></extra>\",\"legendgroup\":\"Film & Animation\",\"marker\":{\"color\":\"#B6E880\",\"pattern\":{\"shape\":\"\"}},\"name\":\"Film & Animation\",\"offsetgroup\":\"Film & Animation\",\"orientation\":\"v\",\"showlegend\":true,\"textposition\":\"auto\",\"x\":[\"Film & Animation\"],\"xaxis\":\"x\",\"y\":[6440143708.0],\"yaxis\":\"y\",\"type\":\"bar\"},{\"alignmentgroup\":\"True\",\"hovertemplate\":\"category=%{x}<br>video_views_for_the_last_30_days=%{y}<extra></extra>\",\"legendgroup\":\"Gaming\",\"marker\":{\"color\":\"#FF97FF\",\"pattern\":{\"shape\":\"\"}},\"name\":\"Gaming\",\"offsetgroup\":\"Gaming\",\"orientation\":\"v\",\"showlegend\":true,\"textposition\":\"auto\",\"x\":[\"Gaming\"],\"xaxis\":\"x\",\"y\":[5504937143.0],\"yaxis\":\"y\",\"type\":\"bar\"},{\"alignmentgroup\":\"True\",\"hovertemplate\":\"category=%{x}<br>video_views_for_the_last_30_days=%{y}<extra></extra>\",\"legendgroup\":\"News & Politics\",\"marker\":{\"color\":\"#FECB52\",\"pattern\":{\"shape\":\"\"}},\"name\":\"News & Politics\",\"offsetgroup\":\"News & Politics\",\"orientation\":\"v\",\"showlegend\":true,\"textposition\":\"auto\",\"x\":[\"News & Politics\"],\"xaxis\":\"x\",\"y\":[4047511000.0],\"yaxis\":\"y\",\"type\":\"bar\"},{\"alignmentgroup\":\"True\",\"hovertemplate\":\"category=%{x}<br>video_views_for_the_last_30_days=%{y}<extra></extra>\",\"legendgroup\":\"Sports\",\"marker\":{\"color\":\"#636efa\",\"pattern\":{\"shape\":\"\"}},\"name\":\"Sports\",\"offsetgroup\":\"Sports\",\"orientation\":\"v\",\"showlegend\":true,\"textposition\":\"auto\",\"x\":[\"Sports\"],\"xaxis\":\"x\",\"y\":[2119233000.0],\"yaxis\":\"y\",\"type\":\"bar\"},{\"alignmentgroup\":\"True\",\"hovertemplate\":\"category=%{x}<br>video_views_for_the_last_30_days=%{y}<extra></extra>\",\"legendgroup\":\"Howto & Style\",\"marker\":{\"color\":\"#EF553B\",\"pattern\":{\"shape\":\"\"}},\"name\":\"Howto & Style\",\"offsetgroup\":\"Howto & Style\",\"orientation\":\"v\",\"showlegend\":true,\"textposition\":\"auto\",\"x\":[\"Howto & Style\"],\"xaxis\":\"x\",\"y\":[892149000.0],\"yaxis\":\"y\",\"type\":\"bar\"},{\"alignmentgroup\":\"True\",\"hovertemplate\":\"category=%{x}<br>video_views_for_the_last_30_days=%{y}<extra></extra>\",\"legendgroup\":\"Pets & Animals\",\"marker\":{\"color\":\"#00cc96\",\"pattern\":{\"shape\":\"\"}},\"name\":\"Pets & Animals\",\"offsetgroup\":\"Pets & Animals\",\"orientation\":\"v\",\"showlegend\":true,\"textposition\":\"auto\",\"x\":[\"Pets & Animals\"],\"xaxis\":\"x\",\"y\":[802457000.0],\"yaxis\":\"y\",\"type\":\"bar\"},{\"alignmentgroup\":\"True\",\"hovertemplate\":\"category=%{x}<br>video_views_for_the_last_30_days=%{y}<extra></extra>\",\"legendgroup\":\"Autos & Vehicles\",\"marker\":{\"color\":\"#ab63fa\",\"pattern\":{\"shape\":\"\"}},\"name\":\"Autos & Vehicles\",\"offsetgroup\":\"Autos & Vehicles\",\"orientation\":\"v\",\"showlegend\":true,\"textposition\":\"auto\",\"x\":[\"Autos & Vehicles\"],\"xaxis\":\"x\",\"y\":[546433000.0],\"yaxis\":\"y\",\"type\":\"bar\"},{\"alignmentgroup\":\"True\",\"hovertemplate\":\"category=%{x}<br>video_views_for_the_last_30_days=%{y}<extra></extra>\",\"legendgroup\":\"Movies\",\"marker\":{\"color\":\"#FFA15A\",\"pattern\":{\"shape\":\"\"}},\"name\":\"Movies\",\"offsetgroup\":\"Movies\",\"orientation\":\"v\",\"showlegend\":true,\"textposition\":\"auto\",\"x\":[\"Movies\"],\"xaxis\":\"x\",\"y\":[346201000.0],\"yaxis\":\"y\",\"type\":\"bar\"},{\"alignmentgroup\":\"True\",\"hovertemplate\":\"category=%{x}<br>video_views_for_the_last_30_days=%{y}<extra></extra>\",\"legendgroup\":\"Trailers\",\"marker\":{\"color\":\"#19d3f3\",\"pattern\":{\"shape\":\"\"}},\"name\":\"Trailers\",\"offsetgroup\":\"Trailers\",\"orientation\":\"v\",\"showlegend\":true,\"textposition\":\"auto\",\"x\":[\"Trailers\"],\"xaxis\":\"x\",\"y\":[312404000.0],\"yaxis\":\"y\",\"type\":\"bar\"},{\"alignmentgroup\":\"True\",\"hovertemplate\":\"category=%{x}<br>video_views_for_the_last_30_days=%{y}<extra></extra>\",\"legendgroup\":\"Nonprofits & Activism\",\"marker\":{\"color\":\"#FF6692\",\"pattern\":{\"shape\":\"\"}},\"name\":\"Nonprofits & Activism\",\"offsetgroup\":\"Nonprofits & Activism\",\"orientation\":\"v\",\"showlegend\":true,\"textposition\":\"auto\",\"x\":[\"Nonprofits & Activism\"],\"xaxis\":\"x\",\"y\":[195181000.0],\"yaxis\":\"y\",\"type\":\"bar\"}],                        {\"template\":{\"data\":{\"barpolar\":[{\"marker\":{\"line\":{\"color\":\"rgb(17,17,17)\",\"width\":0.5},\"pattern\":{\"fillmode\":\"overlay\",\"size\":10,\"solidity\":0.2}},\"type\":\"barpolar\"}],\"bar\":[{\"error_x\":{\"color\":\"#f2f5fa\"},\"error_y\":{\"color\":\"#f2f5fa\"},\"marker\":{\"line\":{\"color\":\"rgb(17,17,17)\",\"width\":0.5},\"pattern\":{\"fillmode\":\"overlay\",\"size\":10,\"solidity\":0.2}},\"type\":\"bar\"}],\"carpet\":[{\"aaxis\":{\"endlinecolor\":\"#A2B1C6\",\"gridcolor\":\"#506784\",\"linecolor\":\"#506784\",\"minorgridcolor\":\"#506784\",\"startlinecolor\":\"#A2B1C6\"},\"baxis\":{\"endlinecolor\":\"#A2B1C6\",\"gridcolor\":\"#506784\",\"linecolor\":\"#506784\",\"minorgridcolor\":\"#506784\",\"startlinecolor\":\"#A2B1C6\"},\"type\":\"carpet\"}],\"choropleth\":[{\"colorbar\":{\"outlinewidth\":0,\"ticks\":\"\"},\"type\":\"choropleth\"}],\"contourcarpet\":[{\"colorbar\":{\"outlinewidth\":0,\"ticks\":\"\"},\"type\":\"contourcarpet\"}],\"contour\":[{\"colorbar\":{\"outlinewidth\":0,\"ticks\":\"\"},\"colorscale\":[[0.0,\"#0d0887\"],[0.1111111111111111,\"#46039f\"],[0.2222222222222222,\"#7201a8\"],[0.3333333333333333,\"#9c179e\"],[0.4444444444444444,\"#bd3786\"],[0.5555555555555556,\"#d8576b\"],[0.6666666666666666,\"#ed7953\"],[0.7777777777777778,\"#fb9f3a\"],[0.8888888888888888,\"#fdca26\"],[1.0,\"#f0f921\"]],\"type\":\"contour\"}],\"heatmapgl\":[{\"colorbar\":{\"outlinewidth\":0,\"ticks\":\"\"},\"colorscale\":[[0.0,\"#0d0887\"],[0.1111111111111111,\"#46039f\"],[0.2222222222222222,\"#7201a8\"],[0.3333333333333333,\"#9c179e\"],[0.4444444444444444,\"#bd3786\"],[0.5555555555555556,\"#d8576b\"],[0.6666666666666666,\"#ed7953\"],[0.7777777777777778,\"#fb9f3a\"],[0.8888888888888888,\"#fdca26\"],[1.0,\"#f0f921\"]],\"type\":\"heatmapgl\"}],\"heatmap\":[{\"colorbar\":{\"outlinewidth\":0,\"ticks\":\"\"},\"colorscale\":[[0.0,\"#0d0887\"],[0.1111111111111111,\"#46039f\"],[0.2222222222222222,\"#7201a8\"],[0.3333333333333333,\"#9c179e\"],[0.4444444444444444,\"#bd3786\"],[0.5555555555555556,\"#d8576b\"],[0.6666666666666666,\"#ed7953\"],[0.7777777777777778,\"#fb9f3a\"],[0.8888888888888888,\"#fdca26\"],[1.0,\"#f0f921\"]],\"type\":\"heatmap\"}],\"histogram2dcontour\":[{\"colorbar\":{\"outlinewidth\":0,\"ticks\":\"\"},\"colorscale\":[[0.0,\"#0d0887\"],[0.1111111111111111,\"#46039f\"],[0.2222222222222222,\"#7201a8\"],[0.3333333333333333,\"#9c179e\"],[0.4444444444444444,\"#bd3786\"],[0.5555555555555556,\"#d8576b\"],[0.6666666666666666,\"#ed7953\"],[0.7777777777777778,\"#fb9f3a\"],[0.8888888888888888,\"#fdca26\"],[1.0,\"#f0f921\"]],\"type\":\"histogram2dcontour\"}],\"histogram2d\":[{\"colorbar\":{\"outlinewidth\":0,\"ticks\":\"\"},\"colorscale\":[[0.0,\"#0d0887\"],[0.1111111111111111,\"#46039f\"],[0.2222222222222222,\"#7201a8\"],[0.3333333333333333,\"#9c179e\"],[0.4444444444444444,\"#bd3786\"],[0.5555555555555556,\"#d8576b\"],[0.6666666666666666,\"#ed7953\"],[0.7777777777777778,\"#fb9f3a\"],[0.8888888888888888,\"#fdca26\"],[1.0,\"#f0f921\"]],\"type\":\"histogram2d\"}],\"histogram\":[{\"marker\":{\"pattern\":{\"fillmode\":\"overlay\",\"size\":10,\"solidity\":0.2}},\"type\":\"histogram\"}],\"mesh3d\":[{\"colorbar\":{\"outlinewidth\":0,\"ticks\":\"\"},\"type\":\"mesh3d\"}],\"parcoords\":[{\"line\":{\"colorbar\":{\"outlinewidth\":0,\"ticks\":\"\"}},\"type\":\"parcoords\"}],\"pie\":[{\"automargin\":true,\"type\":\"pie\"}],\"scatter3d\":[{\"line\":{\"colorbar\":{\"outlinewidth\":0,\"ticks\":\"\"}},\"marker\":{\"colorbar\":{\"outlinewidth\":0,\"ticks\":\"\"}},\"type\":\"scatter3d\"}],\"scattercarpet\":[{\"marker\":{\"colorbar\":{\"outlinewidth\":0,\"ticks\":\"\"}},\"type\":\"scattercarpet\"}],\"scattergeo\":[{\"marker\":{\"colorbar\":{\"outlinewidth\":0,\"ticks\":\"\"}},\"type\":\"scattergeo\"}],\"scattergl\":[{\"marker\":{\"line\":{\"color\":\"#283442\"}},\"type\":\"scattergl\"}],\"scattermapbox\":[{\"marker\":{\"colorbar\":{\"outlinewidth\":0,\"ticks\":\"\"}},\"type\":\"scattermapbox\"}],\"scatterpolargl\":[{\"marker\":{\"colorbar\":{\"outlinewidth\":0,\"ticks\":\"\"}},\"type\":\"scatterpolargl\"}],\"scatterpolar\":[{\"marker\":{\"colorbar\":{\"outlinewidth\":0,\"ticks\":\"\"}},\"type\":\"scatterpolar\"}],\"scatter\":[{\"marker\":{\"line\":{\"color\":\"#283442\"}},\"type\":\"scatter\"}],\"scatterternary\":[{\"marker\":{\"colorbar\":{\"outlinewidth\":0,\"ticks\":\"\"}},\"type\":\"scatterternary\"}],\"surface\":[{\"colorbar\":{\"outlinewidth\":0,\"ticks\":\"\"},\"colorscale\":[[0.0,\"#0d0887\"],[0.1111111111111111,\"#46039f\"],[0.2222222222222222,\"#7201a8\"],[0.3333333333333333,\"#9c179e\"],[0.4444444444444444,\"#bd3786\"],[0.5555555555555556,\"#d8576b\"],[0.6666666666666666,\"#ed7953\"],[0.7777777777777778,\"#fb9f3a\"],[0.8888888888888888,\"#fdca26\"],[1.0,\"#f0f921\"]],\"type\":\"surface\"}],\"table\":[{\"cells\":{\"fill\":{\"color\":\"#506784\"},\"line\":{\"color\":\"rgb(17,17,17)\"}},\"header\":{\"fill\":{\"color\":\"#2a3f5f\"},\"line\":{\"color\":\"rgb(17,17,17)\"}},\"type\":\"table\"}]},\"layout\":{\"annotationdefaults\":{\"arrowcolor\":\"#f2f5fa\",\"arrowhead\":0,\"arrowwidth\":1},\"autotypenumbers\":\"strict\",\"coloraxis\":{\"colorbar\":{\"outlinewidth\":0,\"ticks\":\"\"}},\"colorscale\":{\"diverging\":[[0,\"#8e0152\"],[0.1,\"#c51b7d\"],[0.2,\"#de77ae\"],[0.3,\"#f1b6da\"],[0.4,\"#fde0ef\"],[0.5,\"#f7f7f7\"],[0.6,\"#e6f5d0\"],[0.7,\"#b8e186\"],[0.8,\"#7fbc41\"],[0.9,\"#4d9221\"],[1,\"#276419\"]],\"sequential\":[[0.0,\"#0d0887\"],[0.1111111111111111,\"#46039f\"],[0.2222222222222222,\"#7201a8\"],[0.3333333333333333,\"#9c179e\"],[0.4444444444444444,\"#bd3786\"],[0.5555555555555556,\"#d8576b\"],[0.6666666666666666,\"#ed7953\"],[0.7777777777777778,\"#fb9f3a\"],[0.8888888888888888,\"#fdca26\"],[1.0,\"#f0f921\"]],\"sequentialminus\":[[0.0,\"#0d0887\"],[0.1111111111111111,\"#46039f\"],[0.2222222222222222,\"#7201a8\"],[0.3333333333333333,\"#9c179e\"],[0.4444444444444444,\"#bd3786\"],[0.5555555555555556,\"#d8576b\"],[0.6666666666666666,\"#ed7953\"],[0.7777777777777778,\"#fb9f3a\"],[0.8888888888888888,\"#fdca26\"],[1.0,\"#f0f921\"]]},\"colorway\":[\"#636efa\",\"#EF553B\",\"#00cc96\",\"#ab63fa\",\"#FFA15A\",\"#19d3f3\",\"#FF6692\",\"#B6E880\",\"#FF97FF\",\"#FECB52\"],\"font\":{\"color\":\"#f2f5fa\"},\"geo\":{\"bgcolor\":\"rgb(17,17,17)\",\"lakecolor\":\"rgb(17,17,17)\",\"landcolor\":\"rgb(17,17,17)\",\"showlakes\":true,\"showland\":true,\"subunitcolor\":\"#506784\"},\"hoverlabel\":{\"align\":\"left\"},\"hovermode\":\"closest\",\"mapbox\":{\"style\":\"dark\"},\"paper_bgcolor\":\"rgb(17,17,17)\",\"plot_bgcolor\":\"rgb(17,17,17)\",\"polar\":{\"angularaxis\":{\"gridcolor\":\"#506784\",\"linecolor\":\"#506784\",\"ticks\":\"\"},\"bgcolor\":\"rgb(17,17,17)\",\"radialaxis\":{\"gridcolor\":\"#506784\",\"linecolor\":\"#506784\",\"ticks\":\"\"}},\"scene\":{\"xaxis\":{\"backgroundcolor\":\"rgb(17,17,17)\",\"gridcolor\":\"#506784\",\"gridwidth\":2,\"linecolor\":\"#506784\",\"showbackground\":true,\"ticks\":\"\",\"zerolinecolor\":\"#C8D4E3\"},\"yaxis\":{\"backgroundcolor\":\"rgb(17,17,17)\",\"gridcolor\":\"#506784\",\"gridwidth\":2,\"linecolor\":\"#506784\",\"showbackground\":true,\"ticks\":\"\",\"zerolinecolor\":\"#C8D4E3\"},\"zaxis\":{\"backgroundcolor\":\"rgb(17,17,17)\",\"gridcolor\":\"#506784\",\"gridwidth\":2,\"linecolor\":\"#506784\",\"showbackground\":true,\"ticks\":\"\",\"zerolinecolor\":\"#C8D4E3\"}},\"shapedefaults\":{\"line\":{\"color\":\"#f2f5fa\"}},\"sliderdefaults\":{\"bgcolor\":\"#C8D4E3\",\"bordercolor\":\"rgb(17,17,17)\",\"borderwidth\":1,\"tickwidth\":0},\"ternary\":{\"aaxis\":{\"gridcolor\":\"#506784\",\"linecolor\":\"#506784\",\"ticks\":\"\"},\"baxis\":{\"gridcolor\":\"#506784\",\"linecolor\":\"#506784\",\"ticks\":\"\"},\"bgcolor\":\"rgb(17,17,17)\",\"caxis\":{\"gridcolor\":\"#506784\",\"linecolor\":\"#506784\",\"ticks\":\"\"}},\"title\":{\"x\":0.05},\"updatemenudefaults\":{\"bgcolor\":\"#506784\",\"borderwidth\":0},\"xaxis\":{\"automargin\":true,\"gridcolor\":\"#283442\",\"linecolor\":\"#506784\",\"ticks\":\"\",\"title\":{\"standoff\":15},\"zerolinecolor\":\"#283442\",\"zerolinewidth\":2},\"yaxis\":{\"automargin\":true,\"gridcolor\":\"#283442\",\"linecolor\":\"#506784\",\"ticks\":\"\",\"title\":{\"standoff\":15},\"zerolinecolor\":\"#283442\",\"zerolinewidth\":2}}},\"xaxis\":{\"anchor\":\"y\",\"domain\":[0.0,1.0],\"title\":{\"text\":\"\\u041a\\u0430\\u0442\\u0435\\u0433\\u043e\\u0440\\u0438\\u0438\"},\"categoryorder\":\"array\",\"categoryarray\":[\"Entertainment\",\"Music\",\"People & Blogs\",\"Comedy\",\"Education\",\"Science & Technology\",\"Shows\",\"Film & Animation\",\"Gaming\",\"News & Politics\",\"Sports\",\"Howto & Style\",\"Pets & Animals\",\"Autos & Vehicles\",\"Movies\",\"Trailers\",\"Nonprofits & Activism\"]},\"yaxis\":{\"anchor\":\"x\",\"domain\":[0.0,1.0],\"title\":{\"text\":\"\\u041a\\u043e\\u043b\\u0438\\u0447\\u0435\\u0441\\u0442\\u0432\\u043e \\u043f\\u0440\\u043e\\u0441\\u043c\\u043e\\u0442\\u0440\\u043e\\u0432 \\u0437\\u0430 30 \\u0434\\u043d\\u0435\\u0439\"}},\"legend\":{\"title\":{\"text\":\"category\"},\"tracegroupgap\":0},\"title\":{\"text\":\"\\u0421\\u0443\\u043c\\u043c\\u0430\\u0440\\u043d\\u043e\\u0435 \\u043a\\u043e\\u043b-\\u0432\\u043e \\u043f\\u0440\\u043e\\u0441\\u043c\\u043e\\u0442\\u0440\\u043e\\u0432 \\u043f\\u043e \\u043a\\u0430\\u0442\\u0435\\u0433\\u043e\\u0440\\u0438\\u044f\\u043c \\u0432\\u0438\\u0434\\u0435\\u043e \\u0437\\u0430 \\u043f\\u043e\\u0441\\u043b\\u0435\\u0434\\u043d\\u0438\\u0435 30 \\u0434\\u043d\\u0435\\u0439\",\"x\":0.5},\"barmode\":\"relative\"},                        {\"responsive\": true}                    ).then(function(){\n",
       "                            \n",
       "var gd = document.getElementById('3b82c8bc-422e-4bdf-9a2e-6b0e48cd0ce7');\n",
       "var x = new MutationObserver(function (mutations, observer) {{\n",
       "        var display = window.getComputedStyle(gd).display;\n",
       "        if (!display || display === 'none') {{\n",
       "            console.log([gd, 'removed!']);\n",
       "            Plotly.purge(gd);\n",
       "            observer.disconnect();\n",
       "        }}\n",
       "}});\n",
       "\n",
       "// Listen for the removal of the full notebook cells\n",
       "var notebookContainer = gd.closest('#notebook-container');\n",
       "if (notebookContainer) {{\n",
       "    x.observe(notebookContainer, {childList: true});\n",
       "}}\n",
       "\n",
       "// Listen for the clearing of the current output cell\n",
       "var outputEl = gd.closest('.output');\n",
       "if (outputEl) {{\n",
       "    x.observe(outputEl, {childList: true});\n",
       "}}\n",
       "\n",
       "                        })                };                });            </script>        </div>"
      ]
     },
     "metadata": {},
     "output_type": "display_data"
    }
   ],
   "source": [
    "grup = df.groupby('category')['video_views_for_the_last_30_days'].sum().reset_index().sort_values(by ='video_views_for_the_last_30_days', ascending = False)\n",
    "\n",
    "\n",
    "fig = px.bar(grup, x = 'category',y = 'video_views_for_the_last_30_days',template = 'plotly_dark',color = 'category', \n",
    "             title = 'Суммарное кол-во просмотров по категориям видео за последние 30 дней')\n",
    "fig.update_layout(xaxis_title = 'Категории',yaxis_title = 'Количество просмотров за 30 дней',title_x = 0.5)\n",
    "\n",
    "fig.show()\n",
    "\n",
    "\n",
    "\n",
    "\n"
   ]
  },
  {
   "cell_type": "markdown",
   "id": "7628b4ec",
   "metadata": {},
   "source": [
    "Проведя анализ этого графика, можно понять, какая категория видео на данный момент наиболее просматриваемая и сравнивая этот анализ с прошлыми графиками, можно определить какую именно категорию лучше выбрать."
   ]
  },
  {
   "cell_type": "markdown",
   "id": "6e828242",
   "metadata": {},
   "source": [
    "## Седьмой график"
   ]
  },
  {
   "cell_type": "code",
   "execution_count": 257,
   "id": "c90e01f6",
   "metadata": {},
   "outputs": [
    {
     "data": {
      "application/vnd.plotly.v1+json": {
       "config": {
        "plotlyServerURL": "https://plot.ly"
       },
       "data": [
        {
         "alignmentgroup": "True",
         "hovertemplate": "category=%{x}<br>uploads=%{y}<extra></extra>",
         "legendgroup": "Music",
         "marker": {
          "color": "#636efa"
         },
         "name": "Music",
         "notched": false,
         "offsetgroup": "Music",
         "orientation": "v",
         "showlegend": true,
         "type": "box",
         "x": [
          "Music",
          "Music",
          "Music",
          "Music",
          "Music",
          "Music",
          "Music",
          "Music",
          "Music",
          "Music",
          "Music",
          "Music",
          "Music",
          "Music",
          "Music",
          "Music",
          "Music",
          "Music",
          "Music",
          "Music",
          "Music",
          "Music",
          "Music",
          "Music",
          "Music",
          "Music",
          "Music",
          "Music",
          "Music",
          "Music",
          "Music",
          "Music",
          "Music",
          "Music",
          "Music",
          "Music",
          "Music",
          "Music",
          "Music",
          "Music",
          "Music",
          "Music",
          "Music",
          "Music",
          "Music",
          "Music",
          "Music",
          "Music",
          "Music",
          "Music",
          "Music",
          "Music",
          "Music",
          "Music",
          "Music",
          "Music",
          "Music",
          "Music",
          "Music",
          "Music",
          "Music",
          "Music",
          "Music",
          "Music",
          "Music",
          "Music",
          "Music",
          "Music",
          "Music",
          "Music",
          "Music",
          "Music",
          "Music",
          "Music",
          "Music",
          "Music",
          "Music",
          "Music",
          "Music",
          "Music",
          "Music",
          "Music",
          "Music",
          "Music",
          "Music",
          "Music",
          "Music",
          "Music",
          "Music",
          "Music",
          "Music",
          "Music",
          "Music",
          "Music",
          "Music",
          "Music",
          "Music",
          "Music",
          "Music",
          "Music",
          "Music",
          "Music",
          "Music",
          "Music",
          "Music",
          "Music",
          "Music",
          "Music",
          "Music",
          "Music"
         ],
         "x0": " ",
         "xaxis": "x",
         "y": [
          20082,
          8548,
          2281,
          249,
          1337,
          8502,
          4741,
          1510,
          19487,
          3882,
          156,
          383,
          216,
          147,
          65,
          3444,
          128,
          10938,
          133,
          3043,
          3532,
          11,
          505,
          99,
          654,
          2010,
          679,
          141,
          3741,
          2068,
          169,
          134,
          6518,
          92,
          15,
          11501,
          15,
          619,
          682,
          1753,
          65286,
          749,
          42,
          287,
          78,
          398,
          147,
          104,
          175,
          23491,
          443,
          22578,
          456,
          1159,
          180,
          157,
          164,
          114,
          78,
          239,
          2384,
          416,
          79,
          217,
          6287,
          1329,
          3159,
          5692,
          830,
          1015,
          2235,
          8976,
          80,
          3943,
          41,
          5105,
          132,
          79,
          1640,
          220,
          1725,
          21,
          5056,
          52,
          2726,
          419,
          127,
          3978,
          1206,
          4790,
          450,
          149,
          3,
          43,
          294,
          1660,
          4978,
          199,
          814,
          7356,
          1262,
          12,
          409,
          39,
          137,
          323,
          119,
          377,
          253,
          99
         ],
         "y0": " ",
         "yaxis": "y"
        },
        {
         "alignmentgroup": "True",
         "hovertemplate": "category=%{x}<br>uploads=%{y}<extra></extra>",
         "legendgroup": "Entertainment",
         "marker": {
          "color": "#EF553B"
         },
         "name": "Entertainment",
         "notched": false,
         "offsetgroup": "Entertainment",
         "orientation": "v",
         "showlegend": true,
         "type": "box",
         "x": [
          "Entertainment",
          "Entertainment",
          "Entertainment",
          "Entertainment",
          "Entertainment",
          "Entertainment",
          "Entertainment",
          "Entertainment",
          "Entertainment",
          "Entertainment",
          "Entertainment",
          "Entertainment",
          "Entertainment",
          "Entertainment",
          "Entertainment",
          "Entertainment",
          "Entertainment",
          "Entertainment",
          "Entertainment",
          "Entertainment",
          "Entertainment",
          "Entertainment",
          "Entertainment",
          "Entertainment",
          "Entertainment",
          "Entertainment",
          "Entertainment",
          "Entertainment",
          "Entertainment",
          "Entertainment",
          "Entertainment",
          "Entertainment",
          "Entertainment",
          "Entertainment",
          "Entertainment",
          "Entertainment",
          "Entertainment",
          "Entertainment",
          "Entertainment",
          "Entertainment",
          "Entertainment",
          "Entertainment",
          "Entertainment",
          "Entertainment",
          "Entertainment",
          "Entertainment",
          "Entertainment",
          "Entertainment",
          "Entertainment",
          "Entertainment",
          "Entertainment",
          "Entertainment",
          "Entertainment",
          "Entertainment",
          "Entertainment",
          "Entertainment",
          "Entertainment",
          "Entertainment",
          "Entertainment",
          "Entertainment",
          "Entertainment",
          "Entertainment",
          "Entertainment",
          "Entertainment",
          "Entertainment",
          "Entertainment",
          "Entertainment",
          "Entertainment",
          "Entertainment",
          "Entertainment",
          "Entertainment",
          "Entertainment",
          "Entertainment",
          "Entertainment",
          "Entertainment",
          "Entertainment",
          "Entertainment",
          "Entertainment",
          "Entertainment",
          "Entertainment",
          "Entertainment",
          "Entertainment",
          "Entertainment",
          "Entertainment",
          "Entertainment",
          "Entertainment",
          "Entertainment",
          "Entertainment",
          "Entertainment",
          "Entertainment",
          "Entertainment",
          "Entertainment",
          "Entertainment",
          "Entertainment",
          "Entertainment",
          "Entertainment",
          "Entertainment",
          "Entertainment",
          "Entertainment",
          "Entertainment",
          "Entertainment",
          "Entertainment",
          "Entertainment",
          "Entertainment",
          "Entertainment",
          "Entertainment",
          "Entertainment",
          "Entertainment",
          "Entertainment",
          "Entertainment",
          "Entertainment",
          "Entertainment",
          "Entertainment",
          "Entertainment",
          "Entertainment",
          "Entertainment",
          "Entertainment",
          "Entertainment",
          "Entertainment",
          "Entertainment",
          "Entertainment",
          "Entertainment",
          "Entertainment",
          "Entertainment",
          "Entertainment",
          "Entertainment",
          "Entertainment",
          "Entertainment",
          "Entertainment",
          "Entertainment",
          "Entertainment",
          "Entertainment",
          "Entertainment",
          "Entertainment",
          "Entertainment",
          "Entertainment",
          "Entertainment",
          "Entertainment",
          "Entertainment",
          "Entertainment",
          "Entertainment",
          "Entertainment",
          "Entertainment",
          "Entertainment",
          "Entertainment"
         ],
         "x0": " ",
         "xaxis": "x",
         "y": [
          741,
          574,
          129204,
          436,
          3322,
          11451,
          4660,
          4331,
          1558,
          100755,
          109871,
          84,
          72580,
          743,
          117152,
          7566,
          2453,
          2284,
          96214,
          1521,
          44892,
          93311,
          166,
          1321,
          3027,
          3254,
          1513,
          106983,
          3009,
          1259,
          889,
          3956,
          6471,
          967,
          5985,
          89179,
          1644,
          1894,
          658,
          67,
          505,
          226,
          552,
          3657,
          2905,
          1598,
          5718,
          999,
          6274,
          1608,
          669,
          20225,
          31989,
          2883,
          420,
          6262,
          619,
          15,
          33229,
          296,
          51515,
          1245,
          460,
          3774,
          1,
          1527,
          4225,
          1306,
          847,
          125974,
          8285,
          312,
          530,
          16,
          4487,
          142,
          420,
          1344,
          602,
          149,
          118448,
          4778,
          148225,
          3900,
          502,
          920,
          20102,
          2200,
          413,
          421,
          56203,
          23952,
          1444,
          31889,
          671,
          4045,
          7090,
          2019,
          1525,
          87864,
          11099,
          9862,
          2717,
          724,
          965,
          1803,
          3168,
          66362,
          8420,
          27944,
          93,
          554,
          23490,
          490,
          68606,
          364,
          5628,
          101401,
          60,
          132398,
          2854,
          1540,
          1307,
          2254,
          15075,
          173,
          975,
          19,
          1403,
          1793,
          1357,
          3166,
          538,
          192,
          413,
          33,
          838,
          29,
          1299,
          1598,
          142,
          151136,
          1699,
          102699,
          11907
         ],
         "y0": " ",
         "yaxis": "y"
        },
        {
         "alignmentgroup": "True",
         "hovertemplate": "category=%{x}<br>uploads=%{y}<extra></extra>",
         "legendgroup": "Education",
         "marker": {
          "color": "#00cc96"
         },
         "name": "Education",
         "notched": false,
         "offsetgroup": "Education",
         "orientation": "v",
         "showlegend": true,
         "type": "box",
         "x": [
          "Education",
          "Education",
          "Education",
          "Education",
          "Education",
          "Education",
          "Education",
          "Education",
          "Education",
          "Education",
          "Education",
          "Education",
          "Education",
          "Education",
          "Education",
          "Education",
          "Education",
          "Education",
          "Education",
          "Education",
          "Education",
          "Education",
          "Education",
          "Education",
          "Education",
          "Education",
          "Education",
          "Education",
          "Education",
          "Education",
          "Education",
          "Education",
          "Education"
         ],
         "x0": " ",
         "xaxis": "x",
         "y": [
          966,
          2865,
          633,
          577,
          847,
          2423,
          744,
          617,
          338,
          2122,
          555,
          505,
          1251,
          896,
          193,
          875,
          226,
          60,
          2072,
          707,
          1007,
          633,
          359,
          3810,
          43564,
          1996,
          433,
          369,
          495,
          1097,
          4279,
          2044,
          1340
         ],
         "y0": " ",
         "yaxis": "y"
        },
        {
         "alignmentgroup": "True",
         "hovertemplate": "category=%{x}<br>uploads=%{y}<extra></extra>",
         "legendgroup": "Shows",
         "marker": {
          "color": "#ab63fa"
         },
         "name": "Shows",
         "notched": false,
         "offsetgroup": "Shows",
         "orientation": "v",
         "showlegend": true,
         "type": "box",
         "x": [
          "Shows",
          "Shows",
          "Shows",
          "Shows",
          "Shows",
          "Shows",
          "Shows",
          "Shows",
          "Shows",
          "Shows",
          "Shows",
          "Shows"
         ],
         "x0": " ",
         "xaxis": "x",
         "y": [
          116536,
          71270,
          112915,
          1218,
          24089,
          3091,
          3781,
          18661,
          1426,
          1021,
          1505,
          1255
         ],
         "y0": " ",
         "yaxis": "y"
        },
        {
         "alignmentgroup": "True",
         "hovertemplate": "category=%{x}<br>uploads=%{y}<extra></extra>",
         "legendgroup": "People & Blogs",
         "marker": {
          "color": "#FFA15A"
         },
         "name": "People & Blogs",
         "notched": false,
         "offsetgroup": "People & Blogs",
         "orientation": "v",
         "showlegend": true,
         "type": "box",
         "x": [
          "People & Blogs",
          "People & Blogs",
          "People & Blogs",
          "People & Blogs",
          "People & Blogs",
          "People & Blogs",
          "People & Blogs",
          "People & Blogs",
          "People & Blogs",
          "People & Blogs",
          "People & Blogs",
          "People & Blogs",
          "People & Blogs",
          "People & Blogs",
          "People & Blogs",
          "People & Blogs",
          "People & Blogs",
          "People & Blogs",
          "People & Blogs",
          "People & Blogs",
          "People & Blogs",
          "People & Blogs",
          "People & Blogs",
          "People & Blogs",
          "People & Blogs",
          "People & Blogs",
          "People & Blogs",
          "People & Blogs",
          "People & Blogs",
          "People & Blogs",
          "People & Blogs",
          "People & Blogs",
          "People & Blogs",
          "People & Blogs",
          "People & Blogs",
          "People & Blogs",
          "People & Blogs",
          "People & Blogs",
          "People & Blogs",
          "People & Blogs",
          "People & Blogs",
          "People & Blogs",
          "People & Blogs",
          "People & Blogs",
          "People & Blogs",
          "People & Blogs",
          "People & Blogs",
          "People & Blogs",
          "People & Blogs",
          "People & Blogs",
          "People & Blogs",
          "People & Blogs",
          "People & Blogs",
          "People & Blogs",
          "People & Blogs",
          "People & Blogs",
          "People & Blogs",
          "People & Blogs",
          "People & Blogs",
          "People & Blogs",
          "People & Blogs",
          "People & Blogs",
          "People & Blogs",
          "People & Blogs",
          "People & Blogs",
          "People & Blogs",
          "People & Blogs",
          "People & Blogs",
          "People & Blogs",
          "People & Blogs",
          "People & Blogs",
          "People & Blogs"
         ],
         "x0": " ",
         "xaxis": "x",
         "y": [
          493,
          543,
          193890,
          326,
          291,
          1596,
          982,
          301308,
          744,
          2736,
          65,
          642,
          241,
          3716,
          2025,
          511,
          172,
          4445,
          985,
          60964,
          1189,
          2321,
          34,
          946,
          257,
          51,
          733,
          951,
          2325,
          9850,
          889,
          1006,
          760,
          85,
          493,
          679,
          536,
          982,
          772,
          512,
          739,
          2337,
          189,
          542,
          598,
          2175,
          194,
          1037,
          753,
          899,
          34,
          293516,
          1838,
          576,
          651,
          41117,
          9652,
          520,
          319,
          96,
          608,
          2742,
          6888,
          1077,
          435,
          1444,
          4712,
          169304,
          252,
          1101,
          683,
          1500
         ],
         "y0": " ",
         "yaxis": "y"
        },
        {
         "alignmentgroup": "True",
         "hovertemplate": "category=%{x}<br>uploads=%{y}<extra></extra>",
         "legendgroup": "Film & Animation",
         "marker": {
          "color": "#19d3f3"
         },
         "name": "Film & Animation",
         "notched": false,
         "offsetgroup": "Film & Animation",
         "orientation": "v",
         "showlegend": true,
         "type": "box",
         "x": [
          "Film & Animation",
          "Film & Animation",
          "Film & Animation",
          "Film & Animation",
          "Film & Animation",
          "Film & Animation",
          "Film & Animation",
          "Film & Animation",
          "Film & Animation",
          "Film & Animation",
          "Film & Animation",
          "Film & Animation",
          "Film & Animation",
          "Film & Animation",
          "Film & Animation",
          "Film & Animation",
          "Film & Animation",
          "Film & Animation",
          "Film & Animation",
          "Film & Animation",
          "Film & Animation",
          "Film & Animation",
          "Film & Animation",
          "Film & Animation",
          "Film & Animation",
          "Film & Animation",
          "Film & Animation",
          "Film & Animation"
         ],
         "x0": " ",
         "xaxis": "x",
         "y": [
          39113,
          3707,
          1478,
          240,
          66,
          188,
          3589,
          5438,
          3622,
          1667,
          1251,
          6672,
          3377,
          301,
          206,
          1481,
          1476,
          214,
          1525,
          1154,
          26,
          1716,
          1316,
          1491,
          344,
          10441,
          1365,
          1212
         ],
         "y0": " ",
         "yaxis": "y"
        },
        {
         "alignmentgroup": "True",
         "hovertemplate": "category=%{x}<br>uploads=%{y}<extra></extra>",
         "legendgroup": "News & Politics",
         "marker": {
          "color": "#FF6692"
         },
         "name": "News & Politics",
         "notched": false,
         "offsetgroup": "News & Politics",
         "orientation": "v",
         "showlegend": true,
         "type": "box",
         "x": [
          "News & Politics",
          "News & Politics",
          "News & Politics",
          "News & Politics",
          "News & Politics",
          "News & Politics",
          "News & Politics",
          "News & Politics",
          "News & Politics",
          "News & Politics",
          "News & Politics",
          "News & Politics",
          "News & Politics",
          "News & Politics",
          "News & Politics",
          "News & Politics",
          "News & Politics",
          "News & Politics",
          "News & Politics",
          "News & Politics"
         ],
         "x0": " ",
         "xaxis": "x",
         "y": [
          283775,
          273255,
          180092,
          10022,
          51129,
          4750,
          211620,
          182742,
          112261,
          21243,
          244899,
          20679,
          160405,
          91704,
          209520,
          269050,
          80830,
          18972,
          190093,
          296272
         ],
         "y0": " ",
         "yaxis": "y"
        },
        {
         "alignmentgroup": "True",
         "hovertemplate": "category=%{x}<br>uploads=%{y}<extra></extra>",
         "legendgroup": "Gaming",
         "marker": {
          "color": "#B6E880"
         },
         "name": "Gaming",
         "notched": false,
         "offsetgroup": "Gaming",
         "orientation": "v",
         "showlegend": true,
         "type": "box",
         "x": [
          "Gaming",
          "Gaming",
          "Gaming",
          "Gaming",
          "Gaming",
          "Gaming",
          "Gaming",
          "Gaming",
          "Gaming",
          "Gaming",
          "Gaming",
          "Gaming",
          "Gaming",
          "Gaming",
          "Gaming",
          "Gaming",
          "Gaming",
          "Gaming",
          "Gaming",
          "Gaming",
          "Gaming",
          "Gaming",
          "Gaming",
          "Gaming",
          "Gaming",
          "Gaming",
          "Gaming",
          "Gaming",
          "Gaming",
          "Gaming",
          "Gaming",
          "Gaming",
          "Gaming",
          "Gaming",
          "Gaming",
          "Gaming",
          "Gaming",
          "Gaming",
          "Gaming",
          "Gaming",
          "Gaming",
          "Gaming",
          "Gaming",
          "Gaming",
          "Gaming",
          "Gaming",
          "Gaming",
          "Gaming",
          "Gaming"
         ],
         "x0": " ",
         "xaxis": "x",
         "y": [
          2052,
          1,
          543,
          1876,
          5490,
          3366,
          116,
          641,
          3664,
          4009,
          3315,
          1724,
          17,
          3713,
          6289,
          374,
          1324,
          1521,
          4702,
          4411,
          1693,
          989,
          1294,
          4906,
          796,
          379,
          1647,
          3733,
          2324,
          20292,
          5198,
          4175,
          1244,
          4009,
          3086,
          342,
          1300,
          2210,
          5494,
          1952,
          368,
          4613,
          1640,
          1749,
          510,
          825,
          1024,
          12419,
          39
         ],
         "y0": " ",
         "yaxis": "y"
        },
        {
         "alignmentgroup": "True",
         "hovertemplate": "category=%{x}<br>uploads=%{y}<extra></extra>",
         "legendgroup": "Comedy",
         "marker": {
          "color": "#FF97FF"
         },
         "name": "Comedy",
         "notched": false,
         "offsetgroup": "Comedy",
         "orientation": "v",
         "showlegend": true,
         "type": "box",
         "x": [
          "Comedy",
          "Comedy",
          "Comedy",
          "Comedy",
          "Comedy",
          "Comedy",
          "Comedy",
          "Comedy",
          "Comedy",
          "Comedy",
          "Comedy",
          "Comedy",
          "Comedy",
          "Comedy",
          "Comedy",
          "Comedy",
          "Comedy",
          "Comedy",
          "Comedy",
          "Comedy",
          "Comedy",
          "Comedy",
          "Comedy",
          "Comedy",
          "Comedy",
          "Comedy",
          "Comedy",
          "Comedy",
          "Comedy",
          "Comedy",
          "Comedy",
          "Comedy",
          "Comedy",
          "Comedy",
          "Comedy",
          "Comedy",
          "Comedy",
          "Comedy",
          "Comedy",
          "Comedy"
         ],
         "x0": " ",
         "xaxis": "x",
         "y": [
          186,
          220,
          217,
          8976,
          67,
          151,
          3654,
          554,
          865,
          1619,
          8775,
          802,
          901,
          495,
          816,
          83,
          693,
          1935,
          761,
          304,
          233,
          498,
          1407,
          438,
          1930,
          165,
          106,
          921,
          1788,
          698,
          560,
          872,
          696,
          1040,
          975,
          6916,
          681,
          2483,
          398,
          62
         ],
         "y0": " ",
         "yaxis": "y"
        },
        {
         "alignmentgroup": "True",
         "hovertemplate": "category=%{x}<br>uploads=%{y}<extra></extra>",
         "legendgroup": "Science & Technology",
         "marker": {
          "color": "#FECB52"
         },
         "name": "Science & Technology",
         "notched": false,
         "offsetgroup": "Science & Technology",
         "orientation": "v",
         "showlegend": true,
         "type": "box",
         "x": [
          "Science & Technology",
          "Science & Technology",
          "Science & Technology",
          "Science & Technology",
          "Science & Technology",
          "Science & Technology",
          "Science & Technology",
          "Science & Technology",
          "Science & Technology",
          "Science & Technology",
          "Science & Technology"
         ],
         "x0": " ",
         "xaxis": "x",
         "y": [
          929,
          120,
          1,
          10162,
          180,
          1567,
          6542,
          1577,
          887,
          3640,
          1022
         ],
         "y0": " ",
         "yaxis": "y"
        }
       ],
       "layout": {
        "boxmode": "overlay",
        "legend": {
         "title": {
          "text": "category"
         },
         "tracegroupgap": 0
        },
        "template": {
         "data": {
          "bar": [
           {
            "error_x": {
             "color": "#f2f5fa"
            },
            "error_y": {
             "color": "#f2f5fa"
            },
            "marker": {
             "line": {
              "color": "rgb(17,17,17)",
              "width": 0.5
             },
             "pattern": {
              "fillmode": "overlay",
              "size": 10,
              "solidity": 0.2
             }
            },
            "type": "bar"
           }
          ],
          "barpolar": [
           {
            "marker": {
             "line": {
              "color": "rgb(17,17,17)",
              "width": 0.5
             },
             "pattern": {
              "fillmode": "overlay",
              "size": 10,
              "solidity": 0.2
             }
            },
            "type": "barpolar"
           }
          ],
          "carpet": [
           {
            "aaxis": {
             "endlinecolor": "#A2B1C6",
             "gridcolor": "#506784",
             "linecolor": "#506784",
             "minorgridcolor": "#506784",
             "startlinecolor": "#A2B1C6"
            },
            "baxis": {
             "endlinecolor": "#A2B1C6",
             "gridcolor": "#506784",
             "linecolor": "#506784",
             "minorgridcolor": "#506784",
             "startlinecolor": "#A2B1C6"
            },
            "type": "carpet"
           }
          ],
          "choropleth": [
           {
            "colorbar": {
             "outlinewidth": 0,
             "ticks": ""
            },
            "type": "choropleth"
           }
          ],
          "contour": [
           {
            "colorbar": {
             "outlinewidth": 0,
             "ticks": ""
            },
            "colorscale": [
             [
              0,
              "#0d0887"
             ],
             [
              0.1111111111111111,
              "#46039f"
             ],
             [
              0.2222222222222222,
              "#7201a8"
             ],
             [
              0.3333333333333333,
              "#9c179e"
             ],
             [
              0.4444444444444444,
              "#bd3786"
             ],
             [
              0.5555555555555556,
              "#d8576b"
             ],
             [
              0.6666666666666666,
              "#ed7953"
             ],
             [
              0.7777777777777778,
              "#fb9f3a"
             ],
             [
              0.8888888888888888,
              "#fdca26"
             ],
             [
              1,
              "#f0f921"
             ]
            ],
            "type": "contour"
           }
          ],
          "contourcarpet": [
           {
            "colorbar": {
             "outlinewidth": 0,
             "ticks": ""
            },
            "type": "contourcarpet"
           }
          ],
          "heatmap": [
           {
            "colorbar": {
             "outlinewidth": 0,
             "ticks": ""
            },
            "colorscale": [
             [
              0,
              "#0d0887"
             ],
             [
              0.1111111111111111,
              "#46039f"
             ],
             [
              0.2222222222222222,
              "#7201a8"
             ],
             [
              0.3333333333333333,
              "#9c179e"
             ],
             [
              0.4444444444444444,
              "#bd3786"
             ],
             [
              0.5555555555555556,
              "#d8576b"
             ],
             [
              0.6666666666666666,
              "#ed7953"
             ],
             [
              0.7777777777777778,
              "#fb9f3a"
             ],
             [
              0.8888888888888888,
              "#fdca26"
             ],
             [
              1,
              "#f0f921"
             ]
            ],
            "type": "heatmap"
           }
          ],
          "heatmapgl": [
           {
            "colorbar": {
             "outlinewidth": 0,
             "ticks": ""
            },
            "colorscale": [
             [
              0,
              "#0d0887"
             ],
             [
              0.1111111111111111,
              "#46039f"
             ],
             [
              0.2222222222222222,
              "#7201a8"
             ],
             [
              0.3333333333333333,
              "#9c179e"
             ],
             [
              0.4444444444444444,
              "#bd3786"
             ],
             [
              0.5555555555555556,
              "#d8576b"
             ],
             [
              0.6666666666666666,
              "#ed7953"
             ],
             [
              0.7777777777777778,
              "#fb9f3a"
             ],
             [
              0.8888888888888888,
              "#fdca26"
             ],
             [
              1,
              "#f0f921"
             ]
            ],
            "type": "heatmapgl"
           }
          ],
          "histogram": [
           {
            "marker": {
             "pattern": {
              "fillmode": "overlay",
              "size": 10,
              "solidity": 0.2
             }
            },
            "type": "histogram"
           }
          ],
          "histogram2d": [
           {
            "colorbar": {
             "outlinewidth": 0,
             "ticks": ""
            },
            "colorscale": [
             [
              0,
              "#0d0887"
             ],
             [
              0.1111111111111111,
              "#46039f"
             ],
             [
              0.2222222222222222,
              "#7201a8"
             ],
             [
              0.3333333333333333,
              "#9c179e"
             ],
             [
              0.4444444444444444,
              "#bd3786"
             ],
             [
              0.5555555555555556,
              "#d8576b"
             ],
             [
              0.6666666666666666,
              "#ed7953"
             ],
             [
              0.7777777777777778,
              "#fb9f3a"
             ],
             [
              0.8888888888888888,
              "#fdca26"
             ],
             [
              1,
              "#f0f921"
             ]
            ],
            "type": "histogram2d"
           }
          ],
          "histogram2dcontour": [
           {
            "colorbar": {
             "outlinewidth": 0,
             "ticks": ""
            },
            "colorscale": [
             [
              0,
              "#0d0887"
             ],
             [
              0.1111111111111111,
              "#46039f"
             ],
             [
              0.2222222222222222,
              "#7201a8"
             ],
             [
              0.3333333333333333,
              "#9c179e"
             ],
             [
              0.4444444444444444,
              "#bd3786"
             ],
             [
              0.5555555555555556,
              "#d8576b"
             ],
             [
              0.6666666666666666,
              "#ed7953"
             ],
             [
              0.7777777777777778,
              "#fb9f3a"
             ],
             [
              0.8888888888888888,
              "#fdca26"
             ],
             [
              1,
              "#f0f921"
             ]
            ],
            "type": "histogram2dcontour"
           }
          ],
          "mesh3d": [
           {
            "colorbar": {
             "outlinewidth": 0,
             "ticks": ""
            },
            "type": "mesh3d"
           }
          ],
          "parcoords": [
           {
            "line": {
             "colorbar": {
              "outlinewidth": 0,
              "ticks": ""
             }
            },
            "type": "parcoords"
           }
          ],
          "pie": [
           {
            "automargin": true,
            "type": "pie"
           }
          ],
          "scatter": [
           {
            "marker": {
             "line": {
              "color": "#283442"
             }
            },
            "type": "scatter"
           }
          ],
          "scatter3d": [
           {
            "line": {
             "colorbar": {
              "outlinewidth": 0,
              "ticks": ""
             }
            },
            "marker": {
             "colorbar": {
              "outlinewidth": 0,
              "ticks": ""
             }
            },
            "type": "scatter3d"
           }
          ],
          "scattercarpet": [
           {
            "marker": {
             "colorbar": {
              "outlinewidth": 0,
              "ticks": ""
             }
            },
            "type": "scattercarpet"
           }
          ],
          "scattergeo": [
           {
            "marker": {
             "colorbar": {
              "outlinewidth": 0,
              "ticks": ""
             }
            },
            "type": "scattergeo"
           }
          ],
          "scattergl": [
           {
            "marker": {
             "line": {
              "color": "#283442"
             }
            },
            "type": "scattergl"
           }
          ],
          "scattermapbox": [
           {
            "marker": {
             "colorbar": {
              "outlinewidth": 0,
              "ticks": ""
             }
            },
            "type": "scattermapbox"
           }
          ],
          "scatterpolar": [
           {
            "marker": {
             "colorbar": {
              "outlinewidth": 0,
              "ticks": ""
             }
            },
            "type": "scatterpolar"
           }
          ],
          "scatterpolargl": [
           {
            "marker": {
             "colorbar": {
              "outlinewidth": 0,
              "ticks": ""
             }
            },
            "type": "scatterpolargl"
           }
          ],
          "scatterternary": [
           {
            "marker": {
             "colorbar": {
              "outlinewidth": 0,
              "ticks": ""
             }
            },
            "type": "scatterternary"
           }
          ],
          "surface": [
           {
            "colorbar": {
             "outlinewidth": 0,
             "ticks": ""
            },
            "colorscale": [
             [
              0,
              "#0d0887"
             ],
             [
              0.1111111111111111,
              "#46039f"
             ],
             [
              0.2222222222222222,
              "#7201a8"
             ],
             [
              0.3333333333333333,
              "#9c179e"
             ],
             [
              0.4444444444444444,
              "#bd3786"
             ],
             [
              0.5555555555555556,
              "#d8576b"
             ],
             [
              0.6666666666666666,
              "#ed7953"
             ],
             [
              0.7777777777777778,
              "#fb9f3a"
             ],
             [
              0.8888888888888888,
              "#fdca26"
             ],
             [
              1,
              "#f0f921"
             ]
            ],
            "type": "surface"
           }
          ],
          "table": [
           {
            "cells": {
             "fill": {
              "color": "#506784"
             },
             "line": {
              "color": "rgb(17,17,17)"
             }
            },
            "header": {
             "fill": {
              "color": "#2a3f5f"
             },
             "line": {
              "color": "rgb(17,17,17)"
             }
            },
            "type": "table"
           }
          ]
         },
         "layout": {
          "annotationdefaults": {
           "arrowcolor": "#f2f5fa",
           "arrowhead": 0,
           "arrowwidth": 1
          },
          "autotypenumbers": "strict",
          "coloraxis": {
           "colorbar": {
            "outlinewidth": 0,
            "ticks": ""
           }
          },
          "colorscale": {
           "diverging": [
            [
             0,
             "#8e0152"
            ],
            [
             0.1,
             "#c51b7d"
            ],
            [
             0.2,
             "#de77ae"
            ],
            [
             0.3,
             "#f1b6da"
            ],
            [
             0.4,
             "#fde0ef"
            ],
            [
             0.5,
             "#f7f7f7"
            ],
            [
             0.6,
             "#e6f5d0"
            ],
            [
             0.7,
             "#b8e186"
            ],
            [
             0.8,
             "#7fbc41"
            ],
            [
             0.9,
             "#4d9221"
            ],
            [
             1,
             "#276419"
            ]
           ],
           "sequential": [
            [
             0,
             "#0d0887"
            ],
            [
             0.1111111111111111,
             "#46039f"
            ],
            [
             0.2222222222222222,
             "#7201a8"
            ],
            [
             0.3333333333333333,
             "#9c179e"
            ],
            [
             0.4444444444444444,
             "#bd3786"
            ],
            [
             0.5555555555555556,
             "#d8576b"
            ],
            [
             0.6666666666666666,
             "#ed7953"
            ],
            [
             0.7777777777777778,
             "#fb9f3a"
            ],
            [
             0.8888888888888888,
             "#fdca26"
            ],
            [
             1,
             "#f0f921"
            ]
           ],
           "sequentialminus": [
            [
             0,
             "#0d0887"
            ],
            [
             0.1111111111111111,
             "#46039f"
            ],
            [
             0.2222222222222222,
             "#7201a8"
            ],
            [
             0.3333333333333333,
             "#9c179e"
            ],
            [
             0.4444444444444444,
             "#bd3786"
            ],
            [
             0.5555555555555556,
             "#d8576b"
            ],
            [
             0.6666666666666666,
             "#ed7953"
            ],
            [
             0.7777777777777778,
             "#fb9f3a"
            ],
            [
             0.8888888888888888,
             "#fdca26"
            ],
            [
             1,
             "#f0f921"
            ]
           ]
          },
          "colorway": [
           "#636efa",
           "#EF553B",
           "#00cc96",
           "#ab63fa",
           "#FFA15A",
           "#19d3f3",
           "#FF6692",
           "#B6E880",
           "#FF97FF",
           "#FECB52"
          ],
          "font": {
           "color": "#f2f5fa"
          },
          "geo": {
           "bgcolor": "rgb(17,17,17)",
           "lakecolor": "rgb(17,17,17)",
           "landcolor": "rgb(17,17,17)",
           "showlakes": true,
           "showland": true,
           "subunitcolor": "#506784"
          },
          "hoverlabel": {
           "align": "left"
          },
          "hovermode": "closest",
          "mapbox": {
           "style": "dark"
          },
          "paper_bgcolor": "rgb(17,17,17)",
          "plot_bgcolor": "rgb(17,17,17)",
          "polar": {
           "angularaxis": {
            "gridcolor": "#506784",
            "linecolor": "#506784",
            "ticks": ""
           },
           "bgcolor": "rgb(17,17,17)",
           "radialaxis": {
            "gridcolor": "#506784",
            "linecolor": "#506784",
            "ticks": ""
           }
          },
          "scene": {
           "xaxis": {
            "backgroundcolor": "rgb(17,17,17)",
            "gridcolor": "#506784",
            "gridwidth": 2,
            "linecolor": "#506784",
            "showbackground": true,
            "ticks": "",
            "zerolinecolor": "#C8D4E3"
           },
           "yaxis": {
            "backgroundcolor": "rgb(17,17,17)",
            "gridcolor": "#506784",
            "gridwidth": 2,
            "linecolor": "#506784",
            "showbackground": true,
            "ticks": "",
            "zerolinecolor": "#C8D4E3"
           },
           "zaxis": {
            "backgroundcolor": "rgb(17,17,17)",
            "gridcolor": "#506784",
            "gridwidth": 2,
            "linecolor": "#506784",
            "showbackground": true,
            "ticks": "",
            "zerolinecolor": "#C8D4E3"
           }
          },
          "shapedefaults": {
           "line": {
            "color": "#f2f5fa"
           }
          },
          "sliderdefaults": {
           "bgcolor": "#C8D4E3",
           "bordercolor": "rgb(17,17,17)",
           "borderwidth": 1,
           "tickwidth": 0
          },
          "ternary": {
           "aaxis": {
            "gridcolor": "#506784",
            "linecolor": "#506784",
            "ticks": ""
           },
           "baxis": {
            "gridcolor": "#506784",
            "linecolor": "#506784",
            "ticks": ""
           },
           "bgcolor": "rgb(17,17,17)",
           "caxis": {
            "gridcolor": "#506784",
            "linecolor": "#506784",
            "ticks": ""
           }
          },
          "title": {
           "x": 0.05
          },
          "updatemenudefaults": {
           "bgcolor": "#506784",
           "borderwidth": 0
          },
          "xaxis": {
           "automargin": true,
           "gridcolor": "#283442",
           "linecolor": "#506784",
           "ticks": "",
           "title": {
            "standoff": 15
           },
           "zerolinecolor": "#283442",
           "zerolinewidth": 2
          },
          "yaxis": {
           "automargin": true,
           "gridcolor": "#283442",
           "linecolor": "#506784",
           "ticks": "",
           "title": {
            "standoff": 15
           },
           "zerolinecolor": "#283442",
           "zerolinewidth": 2
          }
         }
        },
        "title": {
         "text": "Загруженные видео в категориях",
         "x": 0.5
        },
        "xaxis": {
         "anchor": "y",
         "categoryarray": [
          "Music",
          "Entertainment",
          "Education",
          "Shows",
          "People & Blogs",
          "Film & Animation",
          "News & Politics",
          "Gaming",
          "Comedy",
          "Science & Technology"
         ],
         "categoryorder": "array",
         "domain": [
          0,
          1
         ],
         "title": {
          "text": "Категории"
         }
        },
        "yaxis": {
         "anchor": "x",
         "domain": [
          0,
          1
         ],
         "title": {
          "text": "Количество загруженных видео"
         }
        }
       }
      },
      "text/html": [
       "<div>                            <div id=\"736b4b46-9255-4e22-a8bc-cf7144b76a39\" class=\"plotly-graph-div\" style=\"height:525px; width:100%;\"></div>            <script type=\"text/javascript\">                require([\"plotly\"], function(Plotly) {                    window.PLOTLYENV=window.PLOTLYENV || {};                                    if (document.getElementById(\"736b4b46-9255-4e22-a8bc-cf7144b76a39\")) {                    Plotly.newPlot(                        \"736b4b46-9255-4e22-a8bc-cf7144b76a39\",                        [{\"alignmentgroup\":\"True\",\"hovertemplate\":\"category=%{x}<br>uploads=%{y}<extra></extra>\",\"legendgroup\":\"Music\",\"marker\":{\"color\":\"#636efa\"},\"name\":\"Music\",\"notched\":false,\"offsetgroup\":\"Music\",\"orientation\":\"v\",\"showlegend\":true,\"x\":[\"Music\",\"Music\",\"Music\",\"Music\",\"Music\",\"Music\",\"Music\",\"Music\",\"Music\",\"Music\",\"Music\",\"Music\",\"Music\",\"Music\",\"Music\",\"Music\",\"Music\",\"Music\",\"Music\",\"Music\",\"Music\",\"Music\",\"Music\",\"Music\",\"Music\",\"Music\",\"Music\",\"Music\",\"Music\",\"Music\",\"Music\",\"Music\",\"Music\",\"Music\",\"Music\",\"Music\",\"Music\",\"Music\",\"Music\",\"Music\",\"Music\",\"Music\",\"Music\",\"Music\",\"Music\",\"Music\",\"Music\",\"Music\",\"Music\",\"Music\",\"Music\",\"Music\",\"Music\",\"Music\",\"Music\",\"Music\",\"Music\",\"Music\",\"Music\",\"Music\",\"Music\",\"Music\",\"Music\",\"Music\",\"Music\",\"Music\",\"Music\",\"Music\",\"Music\",\"Music\",\"Music\",\"Music\",\"Music\",\"Music\",\"Music\",\"Music\",\"Music\",\"Music\",\"Music\",\"Music\",\"Music\",\"Music\",\"Music\",\"Music\",\"Music\",\"Music\",\"Music\",\"Music\",\"Music\",\"Music\",\"Music\",\"Music\",\"Music\",\"Music\",\"Music\",\"Music\",\"Music\",\"Music\",\"Music\",\"Music\",\"Music\",\"Music\",\"Music\",\"Music\",\"Music\",\"Music\",\"Music\",\"Music\",\"Music\",\"Music\"],\"x0\":\" \",\"xaxis\":\"x\",\"y\":[20082,8548,2281,249,1337,8502,4741,1510,19487,3882,156,383,216,147,65,3444,128,10938,133,3043,3532,11,505,99,654,2010,679,141,3741,2068,169,134,6518,92,15,11501,15,619,682,1753,65286,749,42,287,78,398,147,104,175,23491,443,22578,456,1159,180,157,164,114,78,239,2384,416,79,217,6287,1329,3159,5692,830,1015,2235,8976,80,3943,41,5105,132,79,1640,220,1725,21,5056,52,2726,419,127,3978,1206,4790,450,149,3,43,294,1660,4978,199,814,7356,1262,12,409,39,137,323,119,377,253,99],\"y0\":\" \",\"yaxis\":\"y\",\"type\":\"box\"},{\"alignmentgroup\":\"True\",\"hovertemplate\":\"category=%{x}<br>uploads=%{y}<extra></extra>\",\"legendgroup\":\"Entertainment\",\"marker\":{\"color\":\"#EF553B\"},\"name\":\"Entertainment\",\"notched\":false,\"offsetgroup\":\"Entertainment\",\"orientation\":\"v\",\"showlegend\":true,\"x\":[\"Entertainment\",\"Entertainment\",\"Entertainment\",\"Entertainment\",\"Entertainment\",\"Entertainment\",\"Entertainment\",\"Entertainment\",\"Entertainment\",\"Entertainment\",\"Entertainment\",\"Entertainment\",\"Entertainment\",\"Entertainment\",\"Entertainment\",\"Entertainment\",\"Entertainment\",\"Entertainment\",\"Entertainment\",\"Entertainment\",\"Entertainment\",\"Entertainment\",\"Entertainment\",\"Entertainment\",\"Entertainment\",\"Entertainment\",\"Entertainment\",\"Entertainment\",\"Entertainment\",\"Entertainment\",\"Entertainment\",\"Entertainment\",\"Entertainment\",\"Entertainment\",\"Entertainment\",\"Entertainment\",\"Entertainment\",\"Entertainment\",\"Entertainment\",\"Entertainment\",\"Entertainment\",\"Entertainment\",\"Entertainment\",\"Entertainment\",\"Entertainment\",\"Entertainment\",\"Entertainment\",\"Entertainment\",\"Entertainment\",\"Entertainment\",\"Entertainment\",\"Entertainment\",\"Entertainment\",\"Entertainment\",\"Entertainment\",\"Entertainment\",\"Entertainment\",\"Entertainment\",\"Entertainment\",\"Entertainment\",\"Entertainment\",\"Entertainment\",\"Entertainment\",\"Entertainment\",\"Entertainment\",\"Entertainment\",\"Entertainment\",\"Entertainment\",\"Entertainment\",\"Entertainment\",\"Entertainment\",\"Entertainment\",\"Entertainment\",\"Entertainment\",\"Entertainment\",\"Entertainment\",\"Entertainment\",\"Entertainment\",\"Entertainment\",\"Entertainment\",\"Entertainment\",\"Entertainment\",\"Entertainment\",\"Entertainment\",\"Entertainment\",\"Entertainment\",\"Entertainment\",\"Entertainment\",\"Entertainment\",\"Entertainment\",\"Entertainment\",\"Entertainment\",\"Entertainment\",\"Entertainment\",\"Entertainment\",\"Entertainment\",\"Entertainment\",\"Entertainment\",\"Entertainment\",\"Entertainment\",\"Entertainment\",\"Entertainment\",\"Entertainment\",\"Entertainment\",\"Entertainment\",\"Entertainment\",\"Entertainment\",\"Entertainment\",\"Entertainment\",\"Entertainment\",\"Entertainment\",\"Entertainment\",\"Entertainment\",\"Entertainment\",\"Entertainment\",\"Entertainment\",\"Entertainment\",\"Entertainment\",\"Entertainment\",\"Entertainment\",\"Entertainment\",\"Entertainment\",\"Entertainment\",\"Entertainment\",\"Entertainment\",\"Entertainment\",\"Entertainment\",\"Entertainment\",\"Entertainment\",\"Entertainment\",\"Entertainment\",\"Entertainment\",\"Entertainment\",\"Entertainment\",\"Entertainment\",\"Entertainment\",\"Entertainment\",\"Entertainment\",\"Entertainment\",\"Entertainment\",\"Entertainment\",\"Entertainment\",\"Entertainment\",\"Entertainment\",\"Entertainment\"],\"x0\":\" \",\"xaxis\":\"x\",\"y\":[741,574,129204,436,3322,11451,4660,4331,1558,100755,109871,84,72580,743,117152,7566,2453,2284,96214,1521,44892,93311,166,1321,3027,3254,1513,106983,3009,1259,889,3956,6471,967,5985,89179,1644,1894,658,67,505,226,552,3657,2905,1598,5718,999,6274,1608,669,20225,31989,2883,420,6262,619,15,33229,296,51515,1245,460,3774,1,1527,4225,1306,847,125974,8285,312,530,16,4487,142,420,1344,602,149,118448,4778,148225,3900,502,920,20102,2200,413,421,56203,23952,1444,31889,671,4045,7090,2019,1525,87864,11099,9862,2717,724,965,1803,3168,66362,8420,27944,93,554,23490,490,68606,364,5628,101401,60,132398,2854,1540,1307,2254,15075,173,975,19,1403,1793,1357,3166,538,192,413,33,838,29,1299,1598,142,151136,1699,102699,11907],\"y0\":\" \",\"yaxis\":\"y\",\"type\":\"box\"},{\"alignmentgroup\":\"True\",\"hovertemplate\":\"category=%{x}<br>uploads=%{y}<extra></extra>\",\"legendgroup\":\"Education\",\"marker\":{\"color\":\"#00cc96\"},\"name\":\"Education\",\"notched\":false,\"offsetgroup\":\"Education\",\"orientation\":\"v\",\"showlegend\":true,\"x\":[\"Education\",\"Education\",\"Education\",\"Education\",\"Education\",\"Education\",\"Education\",\"Education\",\"Education\",\"Education\",\"Education\",\"Education\",\"Education\",\"Education\",\"Education\",\"Education\",\"Education\",\"Education\",\"Education\",\"Education\",\"Education\",\"Education\",\"Education\",\"Education\",\"Education\",\"Education\",\"Education\",\"Education\",\"Education\",\"Education\",\"Education\",\"Education\",\"Education\"],\"x0\":\" \",\"xaxis\":\"x\",\"y\":[966,2865,633,577,847,2423,744,617,338,2122,555,505,1251,896,193,875,226,60,2072,707,1007,633,359,3810,43564,1996,433,369,495,1097,4279,2044,1340],\"y0\":\" \",\"yaxis\":\"y\",\"type\":\"box\"},{\"alignmentgroup\":\"True\",\"hovertemplate\":\"category=%{x}<br>uploads=%{y}<extra></extra>\",\"legendgroup\":\"Shows\",\"marker\":{\"color\":\"#ab63fa\"},\"name\":\"Shows\",\"notched\":false,\"offsetgroup\":\"Shows\",\"orientation\":\"v\",\"showlegend\":true,\"x\":[\"Shows\",\"Shows\",\"Shows\",\"Shows\",\"Shows\",\"Shows\",\"Shows\",\"Shows\",\"Shows\",\"Shows\",\"Shows\",\"Shows\"],\"x0\":\" \",\"xaxis\":\"x\",\"y\":[116536,71270,112915,1218,24089,3091,3781,18661,1426,1021,1505,1255],\"y0\":\" \",\"yaxis\":\"y\",\"type\":\"box\"},{\"alignmentgroup\":\"True\",\"hovertemplate\":\"category=%{x}<br>uploads=%{y}<extra></extra>\",\"legendgroup\":\"People & Blogs\",\"marker\":{\"color\":\"#FFA15A\"},\"name\":\"People & Blogs\",\"notched\":false,\"offsetgroup\":\"People & Blogs\",\"orientation\":\"v\",\"showlegend\":true,\"x\":[\"People & Blogs\",\"People & Blogs\",\"People & Blogs\",\"People & Blogs\",\"People & Blogs\",\"People & Blogs\",\"People & Blogs\",\"People & Blogs\",\"People & Blogs\",\"People & Blogs\",\"People & Blogs\",\"People & Blogs\",\"People & Blogs\",\"People & Blogs\",\"People & Blogs\",\"People & Blogs\",\"People & Blogs\",\"People & Blogs\",\"People & Blogs\",\"People & Blogs\",\"People & Blogs\",\"People & Blogs\",\"People & Blogs\",\"People & Blogs\",\"People & Blogs\",\"People & Blogs\",\"People & Blogs\",\"People & Blogs\",\"People & Blogs\",\"People & Blogs\",\"People & Blogs\",\"People & Blogs\",\"People & Blogs\",\"People & Blogs\",\"People & Blogs\",\"People & Blogs\",\"People & Blogs\",\"People & Blogs\",\"People & Blogs\",\"People & Blogs\",\"People & Blogs\",\"People & Blogs\",\"People & Blogs\",\"People & Blogs\",\"People & Blogs\",\"People & Blogs\",\"People & Blogs\",\"People & Blogs\",\"People & Blogs\",\"People & Blogs\",\"People & Blogs\",\"People & Blogs\",\"People & Blogs\",\"People & Blogs\",\"People & Blogs\",\"People & Blogs\",\"People & Blogs\",\"People & Blogs\",\"People & Blogs\",\"People & Blogs\",\"People & Blogs\",\"People & Blogs\",\"People & Blogs\",\"People & Blogs\",\"People & Blogs\",\"People & Blogs\",\"People & Blogs\",\"People & Blogs\",\"People & Blogs\",\"People & Blogs\",\"People & Blogs\",\"People & Blogs\"],\"x0\":\" \",\"xaxis\":\"x\",\"y\":[493,543,193890,326,291,1596,982,301308,744,2736,65,642,241,3716,2025,511,172,4445,985,60964,1189,2321,34,946,257,51,733,951,2325,9850,889,1006,760,85,493,679,536,982,772,512,739,2337,189,542,598,2175,194,1037,753,899,34,293516,1838,576,651,41117,9652,520,319,96,608,2742,6888,1077,435,1444,4712,169304,252,1101,683,1500],\"y0\":\" \",\"yaxis\":\"y\",\"type\":\"box\"},{\"alignmentgroup\":\"True\",\"hovertemplate\":\"category=%{x}<br>uploads=%{y}<extra></extra>\",\"legendgroup\":\"Film & Animation\",\"marker\":{\"color\":\"#19d3f3\"},\"name\":\"Film & Animation\",\"notched\":false,\"offsetgroup\":\"Film & Animation\",\"orientation\":\"v\",\"showlegend\":true,\"x\":[\"Film & Animation\",\"Film & Animation\",\"Film & Animation\",\"Film & Animation\",\"Film & Animation\",\"Film & Animation\",\"Film & Animation\",\"Film & Animation\",\"Film & Animation\",\"Film & Animation\",\"Film & Animation\",\"Film & Animation\",\"Film & Animation\",\"Film & Animation\",\"Film & Animation\",\"Film & Animation\",\"Film & Animation\",\"Film & Animation\",\"Film & Animation\",\"Film & Animation\",\"Film & Animation\",\"Film & Animation\",\"Film & Animation\",\"Film & Animation\",\"Film & Animation\",\"Film & Animation\",\"Film & Animation\",\"Film & Animation\"],\"x0\":\" \",\"xaxis\":\"x\",\"y\":[39113,3707,1478,240,66,188,3589,5438,3622,1667,1251,6672,3377,301,206,1481,1476,214,1525,1154,26,1716,1316,1491,344,10441,1365,1212],\"y0\":\" \",\"yaxis\":\"y\",\"type\":\"box\"},{\"alignmentgroup\":\"True\",\"hovertemplate\":\"category=%{x}<br>uploads=%{y}<extra></extra>\",\"legendgroup\":\"News & Politics\",\"marker\":{\"color\":\"#FF6692\"},\"name\":\"News & Politics\",\"notched\":false,\"offsetgroup\":\"News & Politics\",\"orientation\":\"v\",\"showlegend\":true,\"x\":[\"News & Politics\",\"News & Politics\",\"News & Politics\",\"News & Politics\",\"News & Politics\",\"News & Politics\",\"News & Politics\",\"News & Politics\",\"News & Politics\",\"News & Politics\",\"News & Politics\",\"News & Politics\",\"News & Politics\",\"News & Politics\",\"News & Politics\",\"News & Politics\",\"News & Politics\",\"News & Politics\",\"News & Politics\",\"News & Politics\"],\"x0\":\" \",\"xaxis\":\"x\",\"y\":[283775,273255,180092,10022,51129,4750,211620,182742,112261,21243,244899,20679,160405,91704,209520,269050,80830,18972,190093,296272],\"y0\":\" \",\"yaxis\":\"y\",\"type\":\"box\"},{\"alignmentgroup\":\"True\",\"hovertemplate\":\"category=%{x}<br>uploads=%{y}<extra></extra>\",\"legendgroup\":\"Gaming\",\"marker\":{\"color\":\"#B6E880\"},\"name\":\"Gaming\",\"notched\":false,\"offsetgroup\":\"Gaming\",\"orientation\":\"v\",\"showlegend\":true,\"x\":[\"Gaming\",\"Gaming\",\"Gaming\",\"Gaming\",\"Gaming\",\"Gaming\",\"Gaming\",\"Gaming\",\"Gaming\",\"Gaming\",\"Gaming\",\"Gaming\",\"Gaming\",\"Gaming\",\"Gaming\",\"Gaming\",\"Gaming\",\"Gaming\",\"Gaming\",\"Gaming\",\"Gaming\",\"Gaming\",\"Gaming\",\"Gaming\",\"Gaming\",\"Gaming\",\"Gaming\",\"Gaming\",\"Gaming\",\"Gaming\",\"Gaming\",\"Gaming\",\"Gaming\",\"Gaming\",\"Gaming\",\"Gaming\",\"Gaming\",\"Gaming\",\"Gaming\",\"Gaming\",\"Gaming\",\"Gaming\",\"Gaming\",\"Gaming\",\"Gaming\",\"Gaming\",\"Gaming\",\"Gaming\",\"Gaming\"],\"x0\":\" \",\"xaxis\":\"x\",\"y\":[2052,1,543,1876,5490,3366,116,641,3664,4009,3315,1724,17,3713,6289,374,1324,1521,4702,4411,1693,989,1294,4906,796,379,1647,3733,2324,20292,5198,4175,1244,4009,3086,342,1300,2210,5494,1952,368,4613,1640,1749,510,825,1024,12419,39],\"y0\":\" \",\"yaxis\":\"y\",\"type\":\"box\"},{\"alignmentgroup\":\"True\",\"hovertemplate\":\"category=%{x}<br>uploads=%{y}<extra></extra>\",\"legendgroup\":\"Comedy\",\"marker\":{\"color\":\"#FF97FF\"},\"name\":\"Comedy\",\"notched\":false,\"offsetgroup\":\"Comedy\",\"orientation\":\"v\",\"showlegend\":true,\"x\":[\"Comedy\",\"Comedy\",\"Comedy\",\"Comedy\",\"Comedy\",\"Comedy\",\"Comedy\",\"Comedy\",\"Comedy\",\"Comedy\",\"Comedy\",\"Comedy\",\"Comedy\",\"Comedy\",\"Comedy\",\"Comedy\",\"Comedy\",\"Comedy\",\"Comedy\",\"Comedy\",\"Comedy\",\"Comedy\",\"Comedy\",\"Comedy\",\"Comedy\",\"Comedy\",\"Comedy\",\"Comedy\",\"Comedy\",\"Comedy\",\"Comedy\",\"Comedy\",\"Comedy\",\"Comedy\",\"Comedy\",\"Comedy\",\"Comedy\",\"Comedy\",\"Comedy\",\"Comedy\"],\"x0\":\" \",\"xaxis\":\"x\",\"y\":[186,220,217,8976,67,151,3654,554,865,1619,8775,802,901,495,816,83,693,1935,761,304,233,498,1407,438,1930,165,106,921,1788,698,560,872,696,1040,975,6916,681,2483,398,62],\"y0\":\" \",\"yaxis\":\"y\",\"type\":\"box\"},{\"alignmentgroup\":\"True\",\"hovertemplate\":\"category=%{x}<br>uploads=%{y}<extra></extra>\",\"legendgroup\":\"Science & Technology\",\"marker\":{\"color\":\"#FECB52\"},\"name\":\"Science & Technology\",\"notched\":false,\"offsetgroup\":\"Science & Technology\",\"orientation\":\"v\",\"showlegend\":true,\"x\":[\"Science & Technology\",\"Science & Technology\",\"Science & Technology\",\"Science & Technology\",\"Science & Technology\",\"Science & Technology\",\"Science & Technology\",\"Science & Technology\",\"Science & Technology\",\"Science & Technology\",\"Science & Technology\"],\"x0\":\" \",\"xaxis\":\"x\",\"y\":[929,120,1,10162,180,1567,6542,1577,887,3640,1022],\"y0\":\" \",\"yaxis\":\"y\",\"type\":\"box\"}],                        {\"template\":{\"data\":{\"barpolar\":[{\"marker\":{\"line\":{\"color\":\"rgb(17,17,17)\",\"width\":0.5},\"pattern\":{\"fillmode\":\"overlay\",\"size\":10,\"solidity\":0.2}},\"type\":\"barpolar\"}],\"bar\":[{\"error_x\":{\"color\":\"#f2f5fa\"},\"error_y\":{\"color\":\"#f2f5fa\"},\"marker\":{\"line\":{\"color\":\"rgb(17,17,17)\",\"width\":0.5},\"pattern\":{\"fillmode\":\"overlay\",\"size\":10,\"solidity\":0.2}},\"type\":\"bar\"}],\"carpet\":[{\"aaxis\":{\"endlinecolor\":\"#A2B1C6\",\"gridcolor\":\"#506784\",\"linecolor\":\"#506784\",\"minorgridcolor\":\"#506784\",\"startlinecolor\":\"#A2B1C6\"},\"baxis\":{\"endlinecolor\":\"#A2B1C6\",\"gridcolor\":\"#506784\",\"linecolor\":\"#506784\",\"minorgridcolor\":\"#506784\",\"startlinecolor\":\"#A2B1C6\"},\"type\":\"carpet\"}],\"choropleth\":[{\"colorbar\":{\"outlinewidth\":0,\"ticks\":\"\"},\"type\":\"choropleth\"}],\"contourcarpet\":[{\"colorbar\":{\"outlinewidth\":0,\"ticks\":\"\"},\"type\":\"contourcarpet\"}],\"contour\":[{\"colorbar\":{\"outlinewidth\":0,\"ticks\":\"\"},\"colorscale\":[[0.0,\"#0d0887\"],[0.1111111111111111,\"#46039f\"],[0.2222222222222222,\"#7201a8\"],[0.3333333333333333,\"#9c179e\"],[0.4444444444444444,\"#bd3786\"],[0.5555555555555556,\"#d8576b\"],[0.6666666666666666,\"#ed7953\"],[0.7777777777777778,\"#fb9f3a\"],[0.8888888888888888,\"#fdca26\"],[1.0,\"#f0f921\"]],\"type\":\"contour\"}],\"heatmapgl\":[{\"colorbar\":{\"outlinewidth\":0,\"ticks\":\"\"},\"colorscale\":[[0.0,\"#0d0887\"],[0.1111111111111111,\"#46039f\"],[0.2222222222222222,\"#7201a8\"],[0.3333333333333333,\"#9c179e\"],[0.4444444444444444,\"#bd3786\"],[0.5555555555555556,\"#d8576b\"],[0.6666666666666666,\"#ed7953\"],[0.7777777777777778,\"#fb9f3a\"],[0.8888888888888888,\"#fdca26\"],[1.0,\"#f0f921\"]],\"type\":\"heatmapgl\"}],\"heatmap\":[{\"colorbar\":{\"outlinewidth\":0,\"ticks\":\"\"},\"colorscale\":[[0.0,\"#0d0887\"],[0.1111111111111111,\"#46039f\"],[0.2222222222222222,\"#7201a8\"],[0.3333333333333333,\"#9c179e\"],[0.4444444444444444,\"#bd3786\"],[0.5555555555555556,\"#d8576b\"],[0.6666666666666666,\"#ed7953\"],[0.7777777777777778,\"#fb9f3a\"],[0.8888888888888888,\"#fdca26\"],[1.0,\"#f0f921\"]],\"type\":\"heatmap\"}],\"histogram2dcontour\":[{\"colorbar\":{\"outlinewidth\":0,\"ticks\":\"\"},\"colorscale\":[[0.0,\"#0d0887\"],[0.1111111111111111,\"#46039f\"],[0.2222222222222222,\"#7201a8\"],[0.3333333333333333,\"#9c179e\"],[0.4444444444444444,\"#bd3786\"],[0.5555555555555556,\"#d8576b\"],[0.6666666666666666,\"#ed7953\"],[0.7777777777777778,\"#fb9f3a\"],[0.8888888888888888,\"#fdca26\"],[1.0,\"#f0f921\"]],\"type\":\"histogram2dcontour\"}],\"histogram2d\":[{\"colorbar\":{\"outlinewidth\":0,\"ticks\":\"\"},\"colorscale\":[[0.0,\"#0d0887\"],[0.1111111111111111,\"#46039f\"],[0.2222222222222222,\"#7201a8\"],[0.3333333333333333,\"#9c179e\"],[0.4444444444444444,\"#bd3786\"],[0.5555555555555556,\"#d8576b\"],[0.6666666666666666,\"#ed7953\"],[0.7777777777777778,\"#fb9f3a\"],[0.8888888888888888,\"#fdca26\"],[1.0,\"#f0f921\"]],\"type\":\"histogram2d\"}],\"histogram\":[{\"marker\":{\"pattern\":{\"fillmode\":\"overlay\",\"size\":10,\"solidity\":0.2}},\"type\":\"histogram\"}],\"mesh3d\":[{\"colorbar\":{\"outlinewidth\":0,\"ticks\":\"\"},\"type\":\"mesh3d\"}],\"parcoords\":[{\"line\":{\"colorbar\":{\"outlinewidth\":0,\"ticks\":\"\"}},\"type\":\"parcoords\"}],\"pie\":[{\"automargin\":true,\"type\":\"pie\"}],\"scatter3d\":[{\"line\":{\"colorbar\":{\"outlinewidth\":0,\"ticks\":\"\"}},\"marker\":{\"colorbar\":{\"outlinewidth\":0,\"ticks\":\"\"}},\"type\":\"scatter3d\"}],\"scattercarpet\":[{\"marker\":{\"colorbar\":{\"outlinewidth\":0,\"ticks\":\"\"}},\"type\":\"scattercarpet\"}],\"scattergeo\":[{\"marker\":{\"colorbar\":{\"outlinewidth\":0,\"ticks\":\"\"}},\"type\":\"scattergeo\"}],\"scattergl\":[{\"marker\":{\"line\":{\"color\":\"#283442\"}},\"type\":\"scattergl\"}],\"scattermapbox\":[{\"marker\":{\"colorbar\":{\"outlinewidth\":0,\"ticks\":\"\"}},\"type\":\"scattermapbox\"}],\"scatterpolargl\":[{\"marker\":{\"colorbar\":{\"outlinewidth\":0,\"ticks\":\"\"}},\"type\":\"scatterpolargl\"}],\"scatterpolar\":[{\"marker\":{\"colorbar\":{\"outlinewidth\":0,\"ticks\":\"\"}},\"type\":\"scatterpolar\"}],\"scatter\":[{\"marker\":{\"line\":{\"color\":\"#283442\"}},\"type\":\"scatter\"}],\"scatterternary\":[{\"marker\":{\"colorbar\":{\"outlinewidth\":0,\"ticks\":\"\"}},\"type\":\"scatterternary\"}],\"surface\":[{\"colorbar\":{\"outlinewidth\":0,\"ticks\":\"\"},\"colorscale\":[[0.0,\"#0d0887\"],[0.1111111111111111,\"#46039f\"],[0.2222222222222222,\"#7201a8\"],[0.3333333333333333,\"#9c179e\"],[0.4444444444444444,\"#bd3786\"],[0.5555555555555556,\"#d8576b\"],[0.6666666666666666,\"#ed7953\"],[0.7777777777777778,\"#fb9f3a\"],[0.8888888888888888,\"#fdca26\"],[1.0,\"#f0f921\"]],\"type\":\"surface\"}],\"table\":[{\"cells\":{\"fill\":{\"color\":\"#506784\"},\"line\":{\"color\":\"rgb(17,17,17)\"}},\"header\":{\"fill\":{\"color\":\"#2a3f5f\"},\"line\":{\"color\":\"rgb(17,17,17)\"}},\"type\":\"table\"}]},\"layout\":{\"annotationdefaults\":{\"arrowcolor\":\"#f2f5fa\",\"arrowhead\":0,\"arrowwidth\":1},\"autotypenumbers\":\"strict\",\"coloraxis\":{\"colorbar\":{\"outlinewidth\":0,\"ticks\":\"\"}},\"colorscale\":{\"diverging\":[[0,\"#8e0152\"],[0.1,\"#c51b7d\"],[0.2,\"#de77ae\"],[0.3,\"#f1b6da\"],[0.4,\"#fde0ef\"],[0.5,\"#f7f7f7\"],[0.6,\"#e6f5d0\"],[0.7,\"#b8e186\"],[0.8,\"#7fbc41\"],[0.9,\"#4d9221\"],[1,\"#276419\"]],\"sequential\":[[0.0,\"#0d0887\"],[0.1111111111111111,\"#46039f\"],[0.2222222222222222,\"#7201a8\"],[0.3333333333333333,\"#9c179e\"],[0.4444444444444444,\"#bd3786\"],[0.5555555555555556,\"#d8576b\"],[0.6666666666666666,\"#ed7953\"],[0.7777777777777778,\"#fb9f3a\"],[0.8888888888888888,\"#fdca26\"],[1.0,\"#f0f921\"]],\"sequentialminus\":[[0.0,\"#0d0887\"],[0.1111111111111111,\"#46039f\"],[0.2222222222222222,\"#7201a8\"],[0.3333333333333333,\"#9c179e\"],[0.4444444444444444,\"#bd3786\"],[0.5555555555555556,\"#d8576b\"],[0.6666666666666666,\"#ed7953\"],[0.7777777777777778,\"#fb9f3a\"],[0.8888888888888888,\"#fdca26\"],[1.0,\"#f0f921\"]]},\"colorway\":[\"#636efa\",\"#EF553B\",\"#00cc96\",\"#ab63fa\",\"#FFA15A\",\"#19d3f3\",\"#FF6692\",\"#B6E880\",\"#FF97FF\",\"#FECB52\"],\"font\":{\"color\":\"#f2f5fa\"},\"geo\":{\"bgcolor\":\"rgb(17,17,17)\",\"lakecolor\":\"rgb(17,17,17)\",\"landcolor\":\"rgb(17,17,17)\",\"showlakes\":true,\"showland\":true,\"subunitcolor\":\"#506784\"},\"hoverlabel\":{\"align\":\"left\"},\"hovermode\":\"closest\",\"mapbox\":{\"style\":\"dark\"},\"paper_bgcolor\":\"rgb(17,17,17)\",\"plot_bgcolor\":\"rgb(17,17,17)\",\"polar\":{\"angularaxis\":{\"gridcolor\":\"#506784\",\"linecolor\":\"#506784\",\"ticks\":\"\"},\"bgcolor\":\"rgb(17,17,17)\",\"radialaxis\":{\"gridcolor\":\"#506784\",\"linecolor\":\"#506784\",\"ticks\":\"\"}},\"scene\":{\"xaxis\":{\"backgroundcolor\":\"rgb(17,17,17)\",\"gridcolor\":\"#506784\",\"gridwidth\":2,\"linecolor\":\"#506784\",\"showbackground\":true,\"ticks\":\"\",\"zerolinecolor\":\"#C8D4E3\"},\"yaxis\":{\"backgroundcolor\":\"rgb(17,17,17)\",\"gridcolor\":\"#506784\",\"gridwidth\":2,\"linecolor\":\"#506784\",\"showbackground\":true,\"ticks\":\"\",\"zerolinecolor\":\"#C8D4E3\"},\"zaxis\":{\"backgroundcolor\":\"rgb(17,17,17)\",\"gridcolor\":\"#506784\",\"gridwidth\":2,\"linecolor\":\"#506784\",\"showbackground\":true,\"ticks\":\"\",\"zerolinecolor\":\"#C8D4E3\"}},\"shapedefaults\":{\"line\":{\"color\":\"#f2f5fa\"}},\"sliderdefaults\":{\"bgcolor\":\"#C8D4E3\",\"bordercolor\":\"rgb(17,17,17)\",\"borderwidth\":1,\"tickwidth\":0},\"ternary\":{\"aaxis\":{\"gridcolor\":\"#506784\",\"linecolor\":\"#506784\",\"ticks\":\"\"},\"baxis\":{\"gridcolor\":\"#506784\",\"linecolor\":\"#506784\",\"ticks\":\"\"},\"bgcolor\":\"rgb(17,17,17)\",\"caxis\":{\"gridcolor\":\"#506784\",\"linecolor\":\"#506784\",\"ticks\":\"\"}},\"title\":{\"x\":0.05},\"updatemenudefaults\":{\"bgcolor\":\"#506784\",\"borderwidth\":0},\"xaxis\":{\"automargin\":true,\"gridcolor\":\"#283442\",\"linecolor\":\"#506784\",\"ticks\":\"\",\"title\":{\"standoff\":15},\"zerolinecolor\":\"#283442\",\"zerolinewidth\":2},\"yaxis\":{\"automargin\":true,\"gridcolor\":\"#283442\",\"linecolor\":\"#506784\",\"ticks\":\"\",\"title\":{\"standoff\":15},\"zerolinecolor\":\"#283442\",\"zerolinewidth\":2}}},\"xaxis\":{\"anchor\":\"y\",\"domain\":[0.0,1.0],\"title\":{\"text\":\"\\u041a\\u0430\\u0442\\u0435\\u0433\\u043e\\u0440\\u0438\\u0438\"},\"categoryorder\":\"array\",\"categoryarray\":[\"Music\",\"Entertainment\",\"Education\",\"Shows\",\"People & Blogs\",\"Film & Animation\",\"News & Politics\",\"Gaming\",\"Comedy\",\"Science & Technology\"]},\"yaxis\":{\"anchor\":\"x\",\"domain\":[0.0,1.0],\"title\":{\"text\":\"\\u041a\\u043e\\u043b\\u0438\\u0447\\u0435\\u0441\\u0442\\u0432\\u043e \\u0437\\u0430\\u0433\\u0440\\u0443\\u0436\\u0435\\u043d\\u043d\\u044b\\u0445 \\u0432\\u0438\\u0434\\u0435\\u043e\"}},\"legend\":{\"title\":{\"text\":\"category\"},\"tracegroupgap\":0},\"title\":{\"text\":\"\\u0417\\u0430\\u0433\\u0440\\u0443\\u0436\\u0435\\u043d\\u043d\\u044b\\u0435 \\u0432\\u0438\\u0434\\u0435\\u043e \\u0432 \\u043a\\u0430\\u0442\\u0435\\u0433\\u043e\\u0440\\u0438\\u044f\\u0445\",\"x\":0.5},\"boxmode\":\"overlay\"},                        {\"responsive\": true}                    ).then(function(){\n",
       "                            \n",
       "var gd = document.getElementById('736b4b46-9255-4e22-a8bc-cf7144b76a39');\n",
       "var x = new MutationObserver(function (mutations, observer) {{\n",
       "        var display = window.getComputedStyle(gd).display;\n",
       "        if (!display || display === 'none') {{\n",
       "            console.log([gd, 'removed!']);\n",
       "            Plotly.purge(gd);\n",
       "            observer.disconnect();\n",
       "        }}\n",
       "}});\n",
       "\n",
       "// Listen for the removal of the full notebook cells\n",
       "var notebookContainer = gd.closest('#notebook-container');\n",
       "if (notebookContainer) {{\n",
       "    x.observe(notebookContainer, {childList: true});\n",
       "}}\n",
       "\n",
       "// Listen for the clearing of the current output cell\n",
       "var outputEl = gd.closest('.output');\n",
       "if (outputEl) {{\n",
       "    x.observe(outputEl, {childList: true});\n",
       "}}\n",
       "\n",
       "                        })                };                });            </script>        </div>"
      ]
     },
     "metadata": {},
     "output_type": "display_data"
    }
   ],
   "source": [
    "labels0 = grup['category'][0:10]\n",
    "filtered0 = df[df['category'].isin(labels0)]\n",
    "fig = px.box(filtered0, x='category', y='uploads', color='category',\n",
    "                  title='Загруженные видео в категориях',template = 'plotly_dark')\n",
    "\n",
    "fig.update_layout(xaxis_title = 'Категории',yaxis_title = 'Количество загруженных видео',title_x = 0.5)\n",
    "fig.show()\n",
    "\n"
   ]
  },
  {
   "cell_type": "markdown",
   "id": "3df6d96e",
   "metadata": {},
   "source": [
    "На ящике с усами, показано, число загруженных видео в категориях. Проведя анализ боксплота, можно заметить, какая категория наиболее востребованна, где конкуренция будет меньше всего."
   ]
  },
  {
   "cell_type": "markdown",
   "id": "ec2f4472",
   "metadata": {},
   "source": [
    "## Восьмой график"
   ]
  },
  {
   "cell_type": "code",
   "execution_count": 258,
   "id": "cda304ff",
   "metadata": {},
   "outputs": [
    {
     "name": "stderr",
     "output_type": "stream",
     "text": [
      "C:\\Users\\nikly\\AppData\\Local\\Temp\\ipykernel_15616\\2500312020.py:3: SettingWithCopyWarning:\n",
      "\n",
      "\n",
      "A value is trying to be set on a copy of a slice from a DataFrame.\n",
      "Try using .loc[row_indexer,col_indexer] = value instead\n",
      "\n",
      "See the caveats in the documentation: https://pandas.pydata.org/pandas-docs/stable/user_guide/indexing.html#returning-a-view-versus-a-copy\n",
      "\n"
     ]
    },
    {
     "data": {
      "application/vnd.plotly.v1+json": {
       "config": {
        "plotlyServerURL": "https://plot.ly"
       },
       "data": [
        {
         "alignmentgroup": "True",
         "hovertemplate": "category=Gaming<br>Канал=%{x}<br>Показатель успешности=%{y}<br>Страна=%{text}<extra></extra>",
         "legendgroup": "Gaming",
         "marker": {
          "color": "#636efa",
          "pattern": {
           "shape": ""
          }
         },
         "name": "Gaming",
         "offsetgroup": "Gaming",
         "orientation": "v",
         "showlegend": true,
         "text": [
          "Belarus"
         ],
         "textposition": "outside",
         "type": "bar",
         "x": [
          "A4"
         ],
         "xaxis": "x",
         "y": [
          1061966006641900000
         ],
         "yaxis": "y"
        },
        {
         "alignmentgroup": "True",
         "hovertemplate": "category=Entertainment<br>Канал=%{x}<br>Показатель успешности=%{y}<br>Страна=%{text}<extra></extra>",
         "legendgroup": "Entertainment",
         "marker": {
          "color": "#EF553B",
          "pattern": {
           "shape": ""
          }
         },
         "name": "Entertainment",
         "offsetgroup": "Entertainment",
         "orientation": "v",
         "showlegend": true,
         "text": [
          "United States"
         ],
         "textposition": "outside",
         "type": "bar",
         "x": [
          "Marvel Entertainment"
         ],
         "xaxis": "x",
         "y": [
          113257375972200000
         ],
         "yaxis": "y"
        },
        {
         "alignmentgroup": "True",
         "hovertemplate": "category=Music<br>Канал=%{x}<br>Показатель успешности=%{y}<br>Страна=%{text}<extra></extra>",
         "legendgroup": "Music",
         "marker": {
          "color": "#00cc96",
          "pattern": {
           "shape": ""
          }
         },
         "name": "Music",
         "offsetgroup": "Music",
         "orientation": "v",
         "showlegend": true,
         "text": [
          "United States"
         ],
         "textposition": "outside",
         "type": "bar",
         "x": [
          "One Direction"
         ],
         "xaxis": "x",
         "y": [
          47225284174909090
         ],
         "yaxis": "y"
        },
        {
         "alignmentgroup": "True",
         "hovertemplate": "category=Education<br>Канал=%{x}<br>Показатель успешности=%{y}<br>Страна=%{text}<extra></extra>",
         "legendgroup": "Education",
         "marker": {
          "color": "#ab63fa",
          "pattern": {
           "shape": ""
          }
         },
         "name": "Education",
         "offsetgroup": "Education",
         "orientation": "v",
         "showlegend": true,
         "text": [
          "United States"
         ],
         "textposition": "outside",
         "type": "bar",
         "x": [
          "Cocomelon - Nursery Rhymes"
         ],
         "xaxis": "x",
         "y": [
          27503105590062110
         ],
         "yaxis": "y"
        },
        {
         "alignmentgroup": "True",
         "hovertemplate": "category=People & Blogs<br>Канал=%{x}<br>Показатель успешности=%{y}<br>Страна=%{text}<extra></extra>",
         "legendgroup": "People & Blogs",
         "marker": {
          "color": "#FFA15A",
          "pattern": {
           "shape": ""
          }
         },
         "name": "People & Blogs",
         "offsetgroup": "People & Blogs",
         "orientation": "v",
         "showlegend": true,
         "text": [
          "Russia"
         ],
         "textposition": "outside",
         "type": "bar",
         "x": [
          "Like Nastya"
         ],
         "xaxis": "x",
         "y": [
          19453915543330628
         ],
         "yaxis": "y"
        },
        {
         "alignmentgroup": "True",
         "hovertemplate": "category=Film & Animation<br>Канал=%{x}<br>Показатель успешности=%{y}<br>Страна=%{text}<extra></extra>",
         "legendgroup": "Film & Animation",
         "marker": {
          "color": "#19d3f3",
          "pattern": {
           "shape": ""
          }
         },
         "name": "Film & Animation",
         "offsetgroup": "Film & Animation",
         "orientation": "v",
         "showlegend": true,
         "text": [
          "Brazil"
         ],
         "textposition": "outside",
         "type": "bar",
         "x": [
          "Galinha Pintadinha"
         ],
         "xaxis": "x",
         "y": [
          13967875993736362
         ],
         "yaxis": "y"
        },
        {
         "alignmentgroup": "True",
         "hovertemplate": "category=Comedy<br>Канал=%{x}<br>Показатель успешности=%{y}<br>Страна=%{text}<extra></extra>",
         "legendgroup": "Comedy",
         "marker": {
          "color": "#FF6692",
          "pattern": {
           "shape": ""
          }
         },
         "name": "Comedy",
         "offsetgroup": "Comedy",
         "orientation": "v",
         "showlegend": true,
         "text": [
          "India"
         ],
         "textposition": "outside",
         "type": "bar",
         "x": [
          "Jkk Entertainment"
         ],
         "xaxis": "x",
         "y": [
          2773440372147272.5
         ],
         "yaxis": "y"
        },
        {
         "alignmentgroup": "True",
         "hovertemplate": "category=Shows<br>Канал=%{x}<br>Показатель успешности=%{y}<br>Страна=%{text}<extra></extra>",
         "legendgroup": "Shows",
         "marker": {
          "color": "#B6E880",
          "pattern": {
           "shape": ""
          }
         },
         "name": "Shows",
         "offsetgroup": "Shows",
         "orientation": "v",
         "showlegend": true,
         "text": [
          "United States"
         ],
         "textposition": "outside",
         "type": "bar",
         "x": [
          "Masha and The Bear"
         ],
         "xaxis": "x",
         "y": [
          853535775608538.6
         ],
         "yaxis": "y"
        },
        {
         "alignmentgroup": "True",
         "hovertemplate": "category=Science & Technology<br>Канал=%{x}<br>Показатель успешности=%{y}<br>Страна=%{text}<extra></extra>",
         "legendgroup": "Science & Technology",
         "marker": {
          "color": "#FF97FF",
          "pattern": {
           "shape": ""
          }
         },
         "name": "Science & Technology",
         "offsetgroup": "Science & Technology",
         "orientation": "v",
         "showlegend": true,
         "text": [
          "United States"
         ],
         "textposition": "outside",
         "type": "bar",
         "x": [
          "Mark Rober"
         ],
         "xaxis": "x",
         "y": [
          747837396295000
         ],
         "yaxis": "y"
        },
        {
         "alignmentgroup": "True",
         "hovertemplate": "category=News & Politics<br>Канал=%{x}<br>Показатель успешности=%{y}<br>Страна=%{text}<extra></extra>",
         "legendgroup": "News & Politics",
         "marker": {
          "color": "#FECB52",
          "pattern": {
           "shape": ""
          }
         },
         "name": "News & Politics",
         "offsetgroup": "News & Politics",
         "orientation": "v",
         "showlegend": true,
         "text": [
          "Philippines"
         ],
         "textposition": "outside",
         "type": "bar",
         "x": [
          "Raffy Tulfo in Action"
         ],
         "xaxis": "x",
         "y": [
          39836606122280.984
         ],
         "yaxis": "y"
        }
       ],
       "layout": {
        "barmode": "relative",
        "legend": {
         "title": {
          "text": "category"
         },
         "tracegroupgap": 0
        },
        "template": {
         "data": {
          "bar": [
           {
            "error_x": {
             "color": "#f2f5fa"
            },
            "error_y": {
             "color": "#f2f5fa"
            },
            "marker": {
             "line": {
              "color": "rgb(17,17,17)",
              "width": 0.5
             },
             "pattern": {
              "fillmode": "overlay",
              "size": 10,
              "solidity": 0.2
             }
            },
            "type": "bar"
           }
          ],
          "barpolar": [
           {
            "marker": {
             "line": {
              "color": "rgb(17,17,17)",
              "width": 0.5
             },
             "pattern": {
              "fillmode": "overlay",
              "size": 10,
              "solidity": 0.2
             }
            },
            "type": "barpolar"
           }
          ],
          "carpet": [
           {
            "aaxis": {
             "endlinecolor": "#A2B1C6",
             "gridcolor": "#506784",
             "linecolor": "#506784",
             "minorgridcolor": "#506784",
             "startlinecolor": "#A2B1C6"
            },
            "baxis": {
             "endlinecolor": "#A2B1C6",
             "gridcolor": "#506784",
             "linecolor": "#506784",
             "minorgridcolor": "#506784",
             "startlinecolor": "#A2B1C6"
            },
            "type": "carpet"
           }
          ],
          "choropleth": [
           {
            "colorbar": {
             "outlinewidth": 0,
             "ticks": ""
            },
            "type": "choropleth"
           }
          ],
          "contour": [
           {
            "colorbar": {
             "outlinewidth": 0,
             "ticks": ""
            },
            "colorscale": [
             [
              0,
              "#0d0887"
             ],
             [
              0.1111111111111111,
              "#46039f"
             ],
             [
              0.2222222222222222,
              "#7201a8"
             ],
             [
              0.3333333333333333,
              "#9c179e"
             ],
             [
              0.4444444444444444,
              "#bd3786"
             ],
             [
              0.5555555555555556,
              "#d8576b"
             ],
             [
              0.6666666666666666,
              "#ed7953"
             ],
             [
              0.7777777777777778,
              "#fb9f3a"
             ],
             [
              0.8888888888888888,
              "#fdca26"
             ],
             [
              1,
              "#f0f921"
             ]
            ],
            "type": "contour"
           }
          ],
          "contourcarpet": [
           {
            "colorbar": {
             "outlinewidth": 0,
             "ticks": ""
            },
            "type": "contourcarpet"
           }
          ],
          "heatmap": [
           {
            "colorbar": {
             "outlinewidth": 0,
             "ticks": ""
            },
            "colorscale": [
             [
              0,
              "#0d0887"
             ],
             [
              0.1111111111111111,
              "#46039f"
             ],
             [
              0.2222222222222222,
              "#7201a8"
             ],
             [
              0.3333333333333333,
              "#9c179e"
             ],
             [
              0.4444444444444444,
              "#bd3786"
             ],
             [
              0.5555555555555556,
              "#d8576b"
             ],
             [
              0.6666666666666666,
              "#ed7953"
             ],
             [
              0.7777777777777778,
              "#fb9f3a"
             ],
             [
              0.8888888888888888,
              "#fdca26"
             ],
             [
              1,
              "#f0f921"
             ]
            ],
            "type": "heatmap"
           }
          ],
          "heatmapgl": [
           {
            "colorbar": {
             "outlinewidth": 0,
             "ticks": ""
            },
            "colorscale": [
             [
              0,
              "#0d0887"
             ],
             [
              0.1111111111111111,
              "#46039f"
             ],
             [
              0.2222222222222222,
              "#7201a8"
             ],
             [
              0.3333333333333333,
              "#9c179e"
             ],
             [
              0.4444444444444444,
              "#bd3786"
             ],
             [
              0.5555555555555556,
              "#d8576b"
             ],
             [
              0.6666666666666666,
              "#ed7953"
             ],
             [
              0.7777777777777778,
              "#fb9f3a"
             ],
             [
              0.8888888888888888,
              "#fdca26"
             ],
             [
              1,
              "#f0f921"
             ]
            ],
            "type": "heatmapgl"
           }
          ],
          "histogram": [
           {
            "marker": {
             "pattern": {
              "fillmode": "overlay",
              "size": 10,
              "solidity": 0.2
             }
            },
            "type": "histogram"
           }
          ],
          "histogram2d": [
           {
            "colorbar": {
             "outlinewidth": 0,
             "ticks": ""
            },
            "colorscale": [
             [
              0,
              "#0d0887"
             ],
             [
              0.1111111111111111,
              "#46039f"
             ],
             [
              0.2222222222222222,
              "#7201a8"
             ],
             [
              0.3333333333333333,
              "#9c179e"
             ],
             [
              0.4444444444444444,
              "#bd3786"
             ],
             [
              0.5555555555555556,
              "#d8576b"
             ],
             [
              0.6666666666666666,
              "#ed7953"
             ],
             [
              0.7777777777777778,
              "#fb9f3a"
             ],
             [
              0.8888888888888888,
              "#fdca26"
             ],
             [
              1,
              "#f0f921"
             ]
            ],
            "type": "histogram2d"
           }
          ],
          "histogram2dcontour": [
           {
            "colorbar": {
             "outlinewidth": 0,
             "ticks": ""
            },
            "colorscale": [
             [
              0,
              "#0d0887"
             ],
             [
              0.1111111111111111,
              "#46039f"
             ],
             [
              0.2222222222222222,
              "#7201a8"
             ],
             [
              0.3333333333333333,
              "#9c179e"
             ],
             [
              0.4444444444444444,
              "#bd3786"
             ],
             [
              0.5555555555555556,
              "#d8576b"
             ],
             [
              0.6666666666666666,
              "#ed7953"
             ],
             [
              0.7777777777777778,
              "#fb9f3a"
             ],
             [
              0.8888888888888888,
              "#fdca26"
             ],
             [
              1,
              "#f0f921"
             ]
            ],
            "type": "histogram2dcontour"
           }
          ],
          "mesh3d": [
           {
            "colorbar": {
             "outlinewidth": 0,
             "ticks": ""
            },
            "type": "mesh3d"
           }
          ],
          "parcoords": [
           {
            "line": {
             "colorbar": {
              "outlinewidth": 0,
              "ticks": ""
             }
            },
            "type": "parcoords"
           }
          ],
          "pie": [
           {
            "automargin": true,
            "type": "pie"
           }
          ],
          "scatter": [
           {
            "marker": {
             "line": {
              "color": "#283442"
             }
            },
            "type": "scatter"
           }
          ],
          "scatter3d": [
           {
            "line": {
             "colorbar": {
              "outlinewidth": 0,
              "ticks": ""
             }
            },
            "marker": {
             "colorbar": {
              "outlinewidth": 0,
              "ticks": ""
             }
            },
            "type": "scatter3d"
           }
          ],
          "scattercarpet": [
           {
            "marker": {
             "colorbar": {
              "outlinewidth": 0,
              "ticks": ""
             }
            },
            "type": "scattercarpet"
           }
          ],
          "scattergeo": [
           {
            "marker": {
             "colorbar": {
              "outlinewidth": 0,
              "ticks": ""
             }
            },
            "type": "scattergeo"
           }
          ],
          "scattergl": [
           {
            "marker": {
             "line": {
              "color": "#283442"
             }
            },
            "type": "scattergl"
           }
          ],
          "scattermapbox": [
           {
            "marker": {
             "colorbar": {
              "outlinewidth": 0,
              "ticks": ""
             }
            },
            "type": "scattermapbox"
           }
          ],
          "scatterpolar": [
           {
            "marker": {
             "colorbar": {
              "outlinewidth": 0,
              "ticks": ""
             }
            },
            "type": "scatterpolar"
           }
          ],
          "scatterpolargl": [
           {
            "marker": {
             "colorbar": {
              "outlinewidth": 0,
              "ticks": ""
             }
            },
            "type": "scatterpolargl"
           }
          ],
          "scatterternary": [
           {
            "marker": {
             "colorbar": {
              "outlinewidth": 0,
              "ticks": ""
             }
            },
            "type": "scatterternary"
           }
          ],
          "surface": [
           {
            "colorbar": {
             "outlinewidth": 0,
             "ticks": ""
            },
            "colorscale": [
             [
              0,
              "#0d0887"
             ],
             [
              0.1111111111111111,
              "#46039f"
             ],
             [
              0.2222222222222222,
              "#7201a8"
             ],
             [
              0.3333333333333333,
              "#9c179e"
             ],
             [
              0.4444444444444444,
              "#bd3786"
             ],
             [
              0.5555555555555556,
              "#d8576b"
             ],
             [
              0.6666666666666666,
              "#ed7953"
             ],
             [
              0.7777777777777778,
              "#fb9f3a"
             ],
             [
              0.8888888888888888,
              "#fdca26"
             ],
             [
              1,
              "#f0f921"
             ]
            ],
            "type": "surface"
           }
          ],
          "table": [
           {
            "cells": {
             "fill": {
              "color": "#506784"
             },
             "line": {
              "color": "rgb(17,17,17)"
             }
            },
            "header": {
             "fill": {
              "color": "#2a3f5f"
             },
             "line": {
              "color": "rgb(17,17,17)"
             }
            },
            "type": "table"
           }
          ]
         },
         "layout": {
          "annotationdefaults": {
           "arrowcolor": "#f2f5fa",
           "arrowhead": 0,
           "arrowwidth": 1
          },
          "autotypenumbers": "strict",
          "coloraxis": {
           "colorbar": {
            "outlinewidth": 0,
            "ticks": ""
           }
          },
          "colorscale": {
           "diverging": [
            [
             0,
             "#8e0152"
            ],
            [
             0.1,
             "#c51b7d"
            ],
            [
             0.2,
             "#de77ae"
            ],
            [
             0.3,
             "#f1b6da"
            ],
            [
             0.4,
             "#fde0ef"
            ],
            [
             0.5,
             "#f7f7f7"
            ],
            [
             0.6,
             "#e6f5d0"
            ],
            [
             0.7,
             "#b8e186"
            ],
            [
             0.8,
             "#7fbc41"
            ],
            [
             0.9,
             "#4d9221"
            ],
            [
             1,
             "#276419"
            ]
           ],
           "sequential": [
            [
             0,
             "#0d0887"
            ],
            [
             0.1111111111111111,
             "#46039f"
            ],
            [
             0.2222222222222222,
             "#7201a8"
            ],
            [
             0.3333333333333333,
             "#9c179e"
            ],
            [
             0.4444444444444444,
             "#bd3786"
            ],
            [
             0.5555555555555556,
             "#d8576b"
            ],
            [
             0.6666666666666666,
             "#ed7953"
            ],
            [
             0.7777777777777778,
             "#fb9f3a"
            ],
            [
             0.8888888888888888,
             "#fdca26"
            ],
            [
             1,
             "#f0f921"
            ]
           ],
           "sequentialminus": [
            [
             0,
             "#0d0887"
            ],
            [
             0.1111111111111111,
             "#46039f"
            ],
            [
             0.2222222222222222,
             "#7201a8"
            ],
            [
             0.3333333333333333,
             "#9c179e"
            ],
            [
             0.4444444444444444,
             "#bd3786"
            ],
            [
             0.5555555555555556,
             "#d8576b"
            ],
            [
             0.6666666666666666,
             "#ed7953"
            ],
            [
             0.7777777777777778,
             "#fb9f3a"
            ],
            [
             0.8888888888888888,
             "#fdca26"
            ],
            [
             1,
             "#f0f921"
            ]
           ]
          },
          "colorway": [
           "#636efa",
           "#EF553B",
           "#00cc96",
           "#ab63fa",
           "#FFA15A",
           "#19d3f3",
           "#FF6692",
           "#B6E880",
           "#FF97FF",
           "#FECB52"
          ],
          "font": {
           "color": "#f2f5fa"
          },
          "geo": {
           "bgcolor": "rgb(17,17,17)",
           "lakecolor": "rgb(17,17,17)",
           "landcolor": "rgb(17,17,17)",
           "showlakes": true,
           "showland": true,
           "subunitcolor": "#506784"
          },
          "hoverlabel": {
           "align": "left"
          },
          "hovermode": "closest",
          "mapbox": {
           "style": "dark"
          },
          "paper_bgcolor": "rgb(17,17,17)",
          "plot_bgcolor": "rgb(17,17,17)",
          "polar": {
           "angularaxis": {
            "gridcolor": "#506784",
            "linecolor": "#506784",
            "ticks": ""
           },
           "bgcolor": "rgb(17,17,17)",
           "radialaxis": {
            "gridcolor": "#506784",
            "linecolor": "#506784",
            "ticks": ""
           }
          },
          "scene": {
           "xaxis": {
            "backgroundcolor": "rgb(17,17,17)",
            "gridcolor": "#506784",
            "gridwidth": 2,
            "linecolor": "#506784",
            "showbackground": true,
            "ticks": "",
            "zerolinecolor": "#C8D4E3"
           },
           "yaxis": {
            "backgroundcolor": "rgb(17,17,17)",
            "gridcolor": "#506784",
            "gridwidth": 2,
            "linecolor": "#506784",
            "showbackground": true,
            "ticks": "",
            "zerolinecolor": "#C8D4E3"
           },
           "zaxis": {
            "backgroundcolor": "rgb(17,17,17)",
            "gridcolor": "#506784",
            "gridwidth": 2,
            "linecolor": "#506784",
            "showbackground": true,
            "ticks": "",
            "zerolinecolor": "#C8D4E3"
           }
          },
          "shapedefaults": {
           "line": {
            "color": "#f2f5fa"
           }
          },
          "sliderdefaults": {
           "bgcolor": "#C8D4E3",
           "bordercolor": "rgb(17,17,17)",
           "borderwidth": 1,
           "tickwidth": 0
          },
          "ternary": {
           "aaxis": {
            "gridcolor": "#506784",
            "linecolor": "#506784",
            "ticks": ""
           },
           "baxis": {
            "gridcolor": "#506784",
            "linecolor": "#506784",
            "ticks": ""
           },
           "bgcolor": "rgb(17,17,17)",
           "caxis": {
            "gridcolor": "#506784",
            "linecolor": "#506784",
            "ticks": ""
           }
          },
          "title": {
           "x": 0.05
          },
          "updatemenudefaults": {
           "bgcolor": "#506784",
           "borderwidth": 0
          },
          "xaxis": {
           "automargin": true,
           "gridcolor": "#283442",
           "linecolor": "#506784",
           "ticks": "",
           "title": {
            "standoff": 15
           },
           "zerolinecolor": "#283442",
           "zerolinewidth": 2
          },
          "yaxis": {
           "automargin": true,
           "gridcolor": "#283442",
           "linecolor": "#506784",
           "ticks": "",
           "title": {
            "standoff": 15
           },
           "zerolinecolor": "#283442",
           "zerolinewidth": 2
          }
         }
        },
        "title": {
         "text": "Наиболее успешный канал в каждой категории",
         "x": 0.5
        },
        "xaxis": {
         "anchor": "y",
         "domain": [
          0,
          1
         ],
         "title": {
          "text": "Канал"
         }
        },
        "yaxis": {
         "anchor": "x",
         "domain": [
          0,
          1
         ],
         "title": {
          "text": "Показатель успешности"
         }
        }
       }
      },
      "text/html": [
       "<div>                            <div id=\"faba7dc6-d200-4d4f-8da8-40d52f583898\" class=\"plotly-graph-div\" style=\"height:525px; width:100%;\"></div>            <script type=\"text/javascript\">                require([\"plotly\"], function(Plotly) {                    window.PLOTLYENV=window.PLOTLYENV || {};                                    if (document.getElementById(\"faba7dc6-d200-4d4f-8da8-40d52f583898\")) {                    Plotly.newPlot(                        \"faba7dc6-d200-4d4f-8da8-40d52f583898\",                        [{\"alignmentgroup\":\"True\",\"hovertemplate\":\"category=Gaming<br>\\u041a\\u0430\\u043d\\u0430\\u043b=%{x}<br>\\u041f\\u043e\\u043a\\u0430\\u0437\\u0430\\u0442\\u0435\\u043b\\u044c \\u0443\\u0441\\u043f\\u0435\\u0448\\u043d\\u043e\\u0441\\u0442\\u0438=%{y}<br>\\u0421\\u0442\\u0440\\u0430\\u043d\\u0430=%{text}<extra></extra>\",\"legendgroup\":\"Gaming\",\"marker\":{\"color\":\"#636efa\",\"pattern\":{\"shape\":\"\"}},\"name\":\"Gaming\",\"offsetgroup\":\"Gaming\",\"orientation\":\"v\",\"showlegend\":true,\"text\":[\"Belarus\"],\"textposition\":\"outside\",\"x\":[\"A4\"],\"xaxis\":\"x\",\"y\":[1.0619660066419e+18],\"yaxis\":\"y\",\"type\":\"bar\"},{\"alignmentgroup\":\"True\",\"hovertemplate\":\"category=Entertainment<br>\\u041a\\u0430\\u043d\\u0430\\u043b=%{x}<br>\\u041f\\u043e\\u043a\\u0430\\u0437\\u0430\\u0442\\u0435\\u043b\\u044c \\u0443\\u0441\\u043f\\u0435\\u0448\\u043d\\u043e\\u0441\\u0442\\u0438=%{y}<br>\\u0421\\u0442\\u0440\\u0430\\u043d\\u0430=%{text}<extra></extra>\",\"legendgroup\":\"Entertainment\",\"marker\":{\"color\":\"#EF553B\",\"pattern\":{\"shape\":\"\"}},\"name\":\"Entertainment\",\"offsetgroup\":\"Entertainment\",\"orientation\":\"v\",\"showlegend\":true,\"text\":[\"United States\"],\"textposition\":\"outside\",\"x\":[\"Marvel Entertainment\"],\"xaxis\":\"x\",\"y\":[1.132573759722e+17],\"yaxis\":\"y\",\"type\":\"bar\"},{\"alignmentgroup\":\"True\",\"hovertemplate\":\"category=Music<br>\\u041a\\u0430\\u043d\\u0430\\u043b=%{x}<br>\\u041f\\u043e\\u043a\\u0430\\u0437\\u0430\\u0442\\u0435\\u043b\\u044c \\u0443\\u0441\\u043f\\u0435\\u0448\\u043d\\u043e\\u0441\\u0442\\u0438=%{y}<br>\\u0421\\u0442\\u0440\\u0430\\u043d\\u0430=%{text}<extra></extra>\",\"legendgroup\":\"Music\",\"marker\":{\"color\":\"#00cc96\",\"pattern\":{\"shape\":\"\"}},\"name\":\"Music\",\"offsetgroup\":\"Music\",\"orientation\":\"v\",\"showlegend\":true,\"text\":[\"United States\"],\"textposition\":\"outside\",\"x\":[\"One Direction\"],\"xaxis\":\"x\",\"y\":[4.722528417490909e+16],\"yaxis\":\"y\",\"type\":\"bar\"},{\"alignmentgroup\":\"True\",\"hovertemplate\":\"category=Education<br>\\u041a\\u0430\\u043d\\u0430\\u043b=%{x}<br>\\u041f\\u043e\\u043a\\u0430\\u0437\\u0430\\u0442\\u0435\\u043b\\u044c \\u0443\\u0441\\u043f\\u0435\\u0448\\u043d\\u043e\\u0441\\u0442\\u0438=%{y}<br>\\u0421\\u0442\\u0440\\u0430\\u043d\\u0430=%{text}<extra></extra>\",\"legendgroup\":\"Education\",\"marker\":{\"color\":\"#ab63fa\",\"pattern\":{\"shape\":\"\"}},\"name\":\"Education\",\"offsetgroup\":\"Education\",\"orientation\":\"v\",\"showlegend\":true,\"text\":[\"United States\"],\"textposition\":\"outside\",\"x\":[\"Cocomelon - Nursery Rhymes\"],\"xaxis\":\"x\",\"y\":[2.750310559006211e+16],\"yaxis\":\"y\",\"type\":\"bar\"},{\"alignmentgroup\":\"True\",\"hovertemplate\":\"category=People & Blogs<br>\\u041a\\u0430\\u043d\\u0430\\u043b=%{x}<br>\\u041f\\u043e\\u043a\\u0430\\u0437\\u0430\\u0442\\u0435\\u043b\\u044c \\u0443\\u0441\\u043f\\u0435\\u0448\\u043d\\u043e\\u0441\\u0442\\u0438=%{y}<br>\\u0421\\u0442\\u0440\\u0430\\u043d\\u0430=%{text}<extra></extra>\",\"legendgroup\":\"People & Blogs\",\"marker\":{\"color\":\"#FFA15A\",\"pattern\":{\"shape\":\"\"}},\"name\":\"People & Blogs\",\"offsetgroup\":\"People & Blogs\",\"orientation\":\"v\",\"showlegend\":true,\"text\":[\"Russia\"],\"textposition\":\"outside\",\"x\":[\"Like Nastya\"],\"xaxis\":\"x\",\"y\":[1.9453915543330628e+16],\"yaxis\":\"y\",\"type\":\"bar\"},{\"alignmentgroup\":\"True\",\"hovertemplate\":\"category=Film & Animation<br>\\u041a\\u0430\\u043d\\u0430\\u043b=%{x}<br>\\u041f\\u043e\\u043a\\u0430\\u0437\\u0430\\u0442\\u0435\\u043b\\u044c \\u0443\\u0441\\u043f\\u0435\\u0448\\u043d\\u043e\\u0441\\u0442\\u0438=%{y}<br>\\u0421\\u0442\\u0440\\u0430\\u043d\\u0430=%{text}<extra></extra>\",\"legendgroup\":\"Film & Animation\",\"marker\":{\"color\":\"#19d3f3\",\"pattern\":{\"shape\":\"\"}},\"name\":\"Film & Animation\",\"offsetgroup\":\"Film & Animation\",\"orientation\":\"v\",\"showlegend\":true,\"text\":[\"Brazil\"],\"textposition\":\"outside\",\"x\":[\"Galinha Pintadinha\"],\"xaxis\":\"x\",\"y\":[1.3967875993736362e+16],\"yaxis\":\"y\",\"type\":\"bar\"},{\"alignmentgroup\":\"True\",\"hovertemplate\":\"category=Comedy<br>\\u041a\\u0430\\u043d\\u0430\\u043b=%{x}<br>\\u041f\\u043e\\u043a\\u0430\\u0437\\u0430\\u0442\\u0435\\u043b\\u044c \\u0443\\u0441\\u043f\\u0435\\u0448\\u043d\\u043e\\u0441\\u0442\\u0438=%{y}<br>\\u0421\\u0442\\u0440\\u0430\\u043d\\u0430=%{text}<extra></extra>\",\"legendgroup\":\"Comedy\",\"marker\":{\"color\":\"#FF6692\",\"pattern\":{\"shape\":\"\"}},\"name\":\"Comedy\",\"offsetgroup\":\"Comedy\",\"orientation\":\"v\",\"showlegend\":true,\"text\":[\"India\"],\"textposition\":\"outside\",\"x\":[\"Jkk Entertainment\"],\"xaxis\":\"x\",\"y\":[2773440372147272.5],\"yaxis\":\"y\",\"type\":\"bar\"},{\"alignmentgroup\":\"True\",\"hovertemplate\":\"category=Shows<br>\\u041a\\u0430\\u043d\\u0430\\u043b=%{x}<br>\\u041f\\u043e\\u043a\\u0430\\u0437\\u0430\\u0442\\u0435\\u043b\\u044c \\u0443\\u0441\\u043f\\u0435\\u0448\\u043d\\u043e\\u0441\\u0442\\u0438=%{y}<br>\\u0421\\u0442\\u0440\\u0430\\u043d\\u0430=%{text}<extra></extra>\",\"legendgroup\":\"Shows\",\"marker\":{\"color\":\"#B6E880\",\"pattern\":{\"shape\":\"\"}},\"name\":\"Shows\",\"offsetgroup\":\"Shows\",\"orientation\":\"v\",\"showlegend\":true,\"text\":[\"United States\"],\"textposition\":\"outside\",\"x\":[\"Masha and The Bear\"],\"xaxis\":\"x\",\"y\":[853535775608538.6],\"yaxis\":\"y\",\"type\":\"bar\"},{\"alignmentgroup\":\"True\",\"hovertemplate\":\"category=Science & Technology<br>\\u041a\\u0430\\u043d\\u0430\\u043b=%{x}<br>\\u041f\\u043e\\u043a\\u0430\\u0437\\u0430\\u0442\\u0435\\u043b\\u044c \\u0443\\u0441\\u043f\\u0435\\u0448\\u043d\\u043e\\u0441\\u0442\\u0438=%{y}<br>\\u0421\\u0442\\u0440\\u0430\\u043d\\u0430=%{text}<extra></extra>\",\"legendgroup\":\"Science & Technology\",\"marker\":{\"color\":\"#FF97FF\",\"pattern\":{\"shape\":\"\"}},\"name\":\"Science & Technology\",\"offsetgroup\":\"Science & Technology\",\"orientation\":\"v\",\"showlegend\":true,\"text\":[\"United States\"],\"textposition\":\"outside\",\"x\":[\"Mark Rober\"],\"xaxis\":\"x\",\"y\":[747837396295000.0],\"yaxis\":\"y\",\"type\":\"bar\"},{\"alignmentgroup\":\"True\",\"hovertemplate\":\"category=News & Politics<br>\\u041a\\u0430\\u043d\\u0430\\u043b=%{x}<br>\\u041f\\u043e\\u043a\\u0430\\u0437\\u0430\\u0442\\u0435\\u043b\\u044c \\u0443\\u0441\\u043f\\u0435\\u0448\\u043d\\u043e\\u0441\\u0442\\u0438=%{y}<br>\\u0421\\u0442\\u0440\\u0430\\u043d\\u0430=%{text}<extra></extra>\",\"legendgroup\":\"News & Politics\",\"marker\":{\"color\":\"#FECB52\",\"pattern\":{\"shape\":\"\"}},\"name\":\"News & Politics\",\"offsetgroup\":\"News & Politics\",\"orientation\":\"v\",\"showlegend\":true,\"text\":[\"Philippines\"],\"textposition\":\"outside\",\"x\":[\"Raffy Tulfo in Action\"],\"xaxis\":\"x\",\"y\":[39836606122280.984],\"yaxis\":\"y\",\"type\":\"bar\"}],                        {\"template\":{\"data\":{\"barpolar\":[{\"marker\":{\"line\":{\"color\":\"rgb(17,17,17)\",\"width\":0.5},\"pattern\":{\"fillmode\":\"overlay\",\"size\":10,\"solidity\":0.2}},\"type\":\"barpolar\"}],\"bar\":[{\"error_x\":{\"color\":\"#f2f5fa\"},\"error_y\":{\"color\":\"#f2f5fa\"},\"marker\":{\"line\":{\"color\":\"rgb(17,17,17)\",\"width\":0.5},\"pattern\":{\"fillmode\":\"overlay\",\"size\":10,\"solidity\":0.2}},\"type\":\"bar\"}],\"carpet\":[{\"aaxis\":{\"endlinecolor\":\"#A2B1C6\",\"gridcolor\":\"#506784\",\"linecolor\":\"#506784\",\"minorgridcolor\":\"#506784\",\"startlinecolor\":\"#A2B1C6\"},\"baxis\":{\"endlinecolor\":\"#A2B1C6\",\"gridcolor\":\"#506784\",\"linecolor\":\"#506784\",\"minorgridcolor\":\"#506784\",\"startlinecolor\":\"#A2B1C6\"},\"type\":\"carpet\"}],\"choropleth\":[{\"colorbar\":{\"outlinewidth\":0,\"ticks\":\"\"},\"type\":\"choropleth\"}],\"contourcarpet\":[{\"colorbar\":{\"outlinewidth\":0,\"ticks\":\"\"},\"type\":\"contourcarpet\"}],\"contour\":[{\"colorbar\":{\"outlinewidth\":0,\"ticks\":\"\"},\"colorscale\":[[0.0,\"#0d0887\"],[0.1111111111111111,\"#46039f\"],[0.2222222222222222,\"#7201a8\"],[0.3333333333333333,\"#9c179e\"],[0.4444444444444444,\"#bd3786\"],[0.5555555555555556,\"#d8576b\"],[0.6666666666666666,\"#ed7953\"],[0.7777777777777778,\"#fb9f3a\"],[0.8888888888888888,\"#fdca26\"],[1.0,\"#f0f921\"]],\"type\":\"contour\"}],\"heatmapgl\":[{\"colorbar\":{\"outlinewidth\":0,\"ticks\":\"\"},\"colorscale\":[[0.0,\"#0d0887\"],[0.1111111111111111,\"#46039f\"],[0.2222222222222222,\"#7201a8\"],[0.3333333333333333,\"#9c179e\"],[0.4444444444444444,\"#bd3786\"],[0.5555555555555556,\"#d8576b\"],[0.6666666666666666,\"#ed7953\"],[0.7777777777777778,\"#fb9f3a\"],[0.8888888888888888,\"#fdca26\"],[1.0,\"#f0f921\"]],\"type\":\"heatmapgl\"}],\"heatmap\":[{\"colorbar\":{\"outlinewidth\":0,\"ticks\":\"\"},\"colorscale\":[[0.0,\"#0d0887\"],[0.1111111111111111,\"#46039f\"],[0.2222222222222222,\"#7201a8\"],[0.3333333333333333,\"#9c179e\"],[0.4444444444444444,\"#bd3786\"],[0.5555555555555556,\"#d8576b\"],[0.6666666666666666,\"#ed7953\"],[0.7777777777777778,\"#fb9f3a\"],[0.8888888888888888,\"#fdca26\"],[1.0,\"#f0f921\"]],\"type\":\"heatmap\"}],\"histogram2dcontour\":[{\"colorbar\":{\"outlinewidth\":0,\"ticks\":\"\"},\"colorscale\":[[0.0,\"#0d0887\"],[0.1111111111111111,\"#46039f\"],[0.2222222222222222,\"#7201a8\"],[0.3333333333333333,\"#9c179e\"],[0.4444444444444444,\"#bd3786\"],[0.5555555555555556,\"#d8576b\"],[0.6666666666666666,\"#ed7953\"],[0.7777777777777778,\"#fb9f3a\"],[0.8888888888888888,\"#fdca26\"],[1.0,\"#f0f921\"]],\"type\":\"histogram2dcontour\"}],\"histogram2d\":[{\"colorbar\":{\"outlinewidth\":0,\"ticks\":\"\"},\"colorscale\":[[0.0,\"#0d0887\"],[0.1111111111111111,\"#46039f\"],[0.2222222222222222,\"#7201a8\"],[0.3333333333333333,\"#9c179e\"],[0.4444444444444444,\"#bd3786\"],[0.5555555555555556,\"#d8576b\"],[0.6666666666666666,\"#ed7953\"],[0.7777777777777778,\"#fb9f3a\"],[0.8888888888888888,\"#fdca26\"],[1.0,\"#f0f921\"]],\"type\":\"histogram2d\"}],\"histogram\":[{\"marker\":{\"pattern\":{\"fillmode\":\"overlay\",\"size\":10,\"solidity\":0.2}},\"type\":\"histogram\"}],\"mesh3d\":[{\"colorbar\":{\"outlinewidth\":0,\"ticks\":\"\"},\"type\":\"mesh3d\"}],\"parcoords\":[{\"line\":{\"colorbar\":{\"outlinewidth\":0,\"ticks\":\"\"}},\"type\":\"parcoords\"}],\"pie\":[{\"automargin\":true,\"type\":\"pie\"}],\"scatter3d\":[{\"line\":{\"colorbar\":{\"outlinewidth\":0,\"ticks\":\"\"}},\"marker\":{\"colorbar\":{\"outlinewidth\":0,\"ticks\":\"\"}},\"type\":\"scatter3d\"}],\"scattercarpet\":[{\"marker\":{\"colorbar\":{\"outlinewidth\":0,\"ticks\":\"\"}},\"type\":\"scattercarpet\"}],\"scattergeo\":[{\"marker\":{\"colorbar\":{\"outlinewidth\":0,\"ticks\":\"\"}},\"type\":\"scattergeo\"}],\"scattergl\":[{\"marker\":{\"line\":{\"color\":\"#283442\"}},\"type\":\"scattergl\"}],\"scattermapbox\":[{\"marker\":{\"colorbar\":{\"outlinewidth\":0,\"ticks\":\"\"}},\"type\":\"scattermapbox\"}],\"scatterpolargl\":[{\"marker\":{\"colorbar\":{\"outlinewidth\":0,\"ticks\":\"\"}},\"type\":\"scatterpolargl\"}],\"scatterpolar\":[{\"marker\":{\"colorbar\":{\"outlinewidth\":0,\"ticks\":\"\"}},\"type\":\"scatterpolar\"}],\"scatter\":[{\"marker\":{\"line\":{\"color\":\"#283442\"}},\"type\":\"scatter\"}],\"scatterternary\":[{\"marker\":{\"colorbar\":{\"outlinewidth\":0,\"ticks\":\"\"}},\"type\":\"scatterternary\"}],\"surface\":[{\"colorbar\":{\"outlinewidth\":0,\"ticks\":\"\"},\"colorscale\":[[0.0,\"#0d0887\"],[0.1111111111111111,\"#46039f\"],[0.2222222222222222,\"#7201a8\"],[0.3333333333333333,\"#9c179e\"],[0.4444444444444444,\"#bd3786\"],[0.5555555555555556,\"#d8576b\"],[0.6666666666666666,\"#ed7953\"],[0.7777777777777778,\"#fb9f3a\"],[0.8888888888888888,\"#fdca26\"],[1.0,\"#f0f921\"]],\"type\":\"surface\"}],\"table\":[{\"cells\":{\"fill\":{\"color\":\"#506784\"},\"line\":{\"color\":\"rgb(17,17,17)\"}},\"header\":{\"fill\":{\"color\":\"#2a3f5f\"},\"line\":{\"color\":\"rgb(17,17,17)\"}},\"type\":\"table\"}]},\"layout\":{\"annotationdefaults\":{\"arrowcolor\":\"#f2f5fa\",\"arrowhead\":0,\"arrowwidth\":1},\"autotypenumbers\":\"strict\",\"coloraxis\":{\"colorbar\":{\"outlinewidth\":0,\"ticks\":\"\"}},\"colorscale\":{\"diverging\":[[0,\"#8e0152\"],[0.1,\"#c51b7d\"],[0.2,\"#de77ae\"],[0.3,\"#f1b6da\"],[0.4,\"#fde0ef\"],[0.5,\"#f7f7f7\"],[0.6,\"#e6f5d0\"],[0.7,\"#b8e186\"],[0.8,\"#7fbc41\"],[0.9,\"#4d9221\"],[1,\"#276419\"]],\"sequential\":[[0.0,\"#0d0887\"],[0.1111111111111111,\"#46039f\"],[0.2222222222222222,\"#7201a8\"],[0.3333333333333333,\"#9c179e\"],[0.4444444444444444,\"#bd3786\"],[0.5555555555555556,\"#d8576b\"],[0.6666666666666666,\"#ed7953\"],[0.7777777777777778,\"#fb9f3a\"],[0.8888888888888888,\"#fdca26\"],[1.0,\"#f0f921\"]],\"sequentialminus\":[[0.0,\"#0d0887\"],[0.1111111111111111,\"#46039f\"],[0.2222222222222222,\"#7201a8\"],[0.3333333333333333,\"#9c179e\"],[0.4444444444444444,\"#bd3786\"],[0.5555555555555556,\"#d8576b\"],[0.6666666666666666,\"#ed7953\"],[0.7777777777777778,\"#fb9f3a\"],[0.8888888888888888,\"#fdca26\"],[1.0,\"#f0f921\"]]},\"colorway\":[\"#636efa\",\"#EF553B\",\"#00cc96\",\"#ab63fa\",\"#FFA15A\",\"#19d3f3\",\"#FF6692\",\"#B6E880\",\"#FF97FF\",\"#FECB52\"],\"font\":{\"color\":\"#f2f5fa\"},\"geo\":{\"bgcolor\":\"rgb(17,17,17)\",\"lakecolor\":\"rgb(17,17,17)\",\"landcolor\":\"rgb(17,17,17)\",\"showlakes\":true,\"showland\":true,\"subunitcolor\":\"#506784\"},\"hoverlabel\":{\"align\":\"left\"},\"hovermode\":\"closest\",\"mapbox\":{\"style\":\"dark\"},\"paper_bgcolor\":\"rgb(17,17,17)\",\"plot_bgcolor\":\"rgb(17,17,17)\",\"polar\":{\"angularaxis\":{\"gridcolor\":\"#506784\",\"linecolor\":\"#506784\",\"ticks\":\"\"},\"bgcolor\":\"rgb(17,17,17)\",\"radialaxis\":{\"gridcolor\":\"#506784\",\"linecolor\":\"#506784\",\"ticks\":\"\"}},\"scene\":{\"xaxis\":{\"backgroundcolor\":\"rgb(17,17,17)\",\"gridcolor\":\"#506784\",\"gridwidth\":2,\"linecolor\":\"#506784\",\"showbackground\":true,\"ticks\":\"\",\"zerolinecolor\":\"#C8D4E3\"},\"yaxis\":{\"backgroundcolor\":\"rgb(17,17,17)\",\"gridcolor\":\"#506784\",\"gridwidth\":2,\"linecolor\":\"#506784\",\"showbackground\":true,\"ticks\":\"\",\"zerolinecolor\":\"#C8D4E3\"},\"zaxis\":{\"backgroundcolor\":\"rgb(17,17,17)\",\"gridcolor\":\"#506784\",\"gridwidth\":2,\"linecolor\":\"#506784\",\"showbackground\":true,\"ticks\":\"\",\"zerolinecolor\":\"#C8D4E3\"}},\"shapedefaults\":{\"line\":{\"color\":\"#f2f5fa\"}},\"sliderdefaults\":{\"bgcolor\":\"#C8D4E3\",\"bordercolor\":\"rgb(17,17,17)\",\"borderwidth\":1,\"tickwidth\":0},\"ternary\":{\"aaxis\":{\"gridcolor\":\"#506784\",\"linecolor\":\"#506784\",\"ticks\":\"\"},\"baxis\":{\"gridcolor\":\"#506784\",\"linecolor\":\"#506784\",\"ticks\":\"\"},\"bgcolor\":\"rgb(17,17,17)\",\"caxis\":{\"gridcolor\":\"#506784\",\"linecolor\":\"#506784\",\"ticks\":\"\"}},\"title\":{\"x\":0.05},\"updatemenudefaults\":{\"bgcolor\":\"#506784\",\"borderwidth\":0},\"xaxis\":{\"automargin\":true,\"gridcolor\":\"#283442\",\"linecolor\":\"#506784\",\"ticks\":\"\",\"title\":{\"standoff\":15},\"zerolinecolor\":\"#283442\",\"zerolinewidth\":2},\"yaxis\":{\"automargin\":true,\"gridcolor\":\"#283442\",\"linecolor\":\"#506784\",\"ticks\":\"\",\"title\":{\"standoff\":15},\"zerolinecolor\":\"#283442\",\"zerolinewidth\":2}}},\"xaxis\":{\"anchor\":\"y\",\"domain\":[0.0,1.0],\"title\":{\"text\":\"\\u041a\\u0430\\u043d\\u0430\\u043b\"}},\"yaxis\":{\"anchor\":\"x\",\"domain\":[0.0,1.0],\"title\":{\"text\":\"\\u041f\\u043e\\u043a\\u0430\\u0437\\u0430\\u0442\\u0435\\u043b\\u044c \\u0443\\u0441\\u043f\\u0435\\u0448\\u043d\\u043e\\u0441\\u0442\\u0438\"}},\"legend\":{\"title\":{\"text\":\"category\"},\"tracegroupgap\":0},\"title\":{\"text\":\"\\u041d\\u0430\\u0438\\u0431\\u043e\\u043b\\u0435\\u0435 \\u0443\\u0441\\u043f\\u0435\\u0448\\u043d\\u044b\\u0439 \\u043a\\u0430\\u043d\\u0430\\u043b \\u0432 \\u043a\\u0430\\u0436\\u0434\\u043e\\u0439 \\u043a\\u0430\\u0442\\u0435\\u0433\\u043e\\u0440\\u0438\\u0438\",\"x\":0.5},\"barmode\":\"relative\"},                        {\"responsive\": true}                    ).then(function(){\n",
       "                            \n",
       "var gd = document.getElementById('faba7dc6-d200-4d4f-8da8-40d52f583898');\n",
       "var x = new MutationObserver(function (mutations, observer) {{\n",
       "        var display = window.getComputedStyle(gd).display;\n",
       "        if (!display || display === 'none') {{\n",
       "            console.log([gd, 'removed!']);\n",
       "            Plotly.purge(gd);\n",
       "            observer.disconnect();\n",
       "        }}\n",
       "}});\n",
       "\n",
       "// Listen for the removal of the full notebook cells\n",
       "var notebookContainer = gd.closest('#notebook-container');\n",
       "if (notebookContainer) {{\n",
       "    x.observe(notebookContainer, {childList: true});\n",
       "}}\n",
       "\n",
       "// Listen for the clearing of the current output cell\n",
       "var outputEl = gd.closest('.output');\n",
       "if (outputEl) {{\n",
       "    x.observe(outputEl, {childList: true});\n",
       "}}\n",
       "\n",
       "                        })                };                });            </script>        </div>"
      ]
     },
     "metadata": {},
     "output_type": "display_data"
    }
   ],
   "source": [
    "df.loc[df['Youtuber'] == 'A4', 'Country'] = 'Belarus'\n",
    "df.loc[df['Youtuber'] == 'A4', 'Abbreviation'] = 'BY'\n",
    "df['success_index'] = df['subscribers'] * df['video views'] / df['uploads']\n",
    "labels = grup['category'][0:10]\n",
    "\n",
    "filtered = df[df['category'].isin(labels)]\n",
    "\n",
    "top_c = filtered.groupby('category')['success_index'].max().reset_index()\n",
    "\n",
    "top_c = top_c.merge(df).sort_values(by = 'success_index',ascending = False)\n",
    "\n",
    "pl = px.bar(top_c, x='Youtuber', y='success_index',\n",
    "                             color='category',\n",
    "                             title='Наиболее успешный канал в каждой категории', text = 'Country',\n",
    "                             labels={'success_index': 'Показатель успешности', 'Youtuber': 'Канал','Country': 'Страна'},template = 'plotly_dark')\n",
    "\n",
    "pl.update_traces(textposition='outside')\n",
    "pl.update_layout(title_x = 0.5)\n",
    "pl.show()\n"
   ]
  },
  {
   "cell_type": "markdown",
   "id": "a9ece944",
   "metadata": {},
   "source": [
    "Этот график дает понять, с кем можно заколлабиться, чтобы продвинуть свой канал, а также у кого можно черпать идеи для своих видео"
   ]
  }
 ],
 "metadata": {
  "kernelspec": {
   "display_name": "Python 3 (ipykernel)",
   "language": "python",
   "name": "python3"
  },
  "language_info": {
   "codemirror_mode": {
    "name": "ipython",
    "version": 3
   },
   "file_extension": ".py",
   "mimetype": "text/x-python",
   "name": "python",
   "nbconvert_exporter": "python",
   "pygments_lexer": "ipython3",
   "version": "3.11.4"
  }
 },
 "nbformat": 4,
 "nbformat_minor": 5
}
